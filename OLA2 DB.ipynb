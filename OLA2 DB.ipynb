{
 "cells": [
  {
   "cell_type": "markdown",
   "id": "1bfbfc1d-8872-409c-8c9f-55a9dc194c90",
   "metadata": {},
   "source": [
    "Explore the Data from dataset 2016 - cities emissions reduction targets"
   ]
  },
  {
   "cell_type": "code",
   "execution_count": 8,
   "id": "07b70b13-7a10-48f3-9e86-a56bd01307e3",
   "metadata": {},
   "outputs": [
    {
     "name": "stdout",
     "output_type": "stream",
     "text": [
      "First few rows of the data:\n",
      "             Organisation  Account No  Country      City Short Name  C40  \\\n",
      "0           Odder Kommune       58796  Denmark        Odder Kommune  NaN   \n",
      "1        Comune di Napoli       36158    Italy               Napoli  NaN   \n",
      "2     Egedal Municipality       62855  Denmark  Egedal Municipality  NaN   \n",
      "3            Yilan County       61753   Taiwan               Yilan   NaN   \n",
      "4  City of Emeryville, CA       61790      USA       Emeryville, CA  NaN   \n",
      "\n",
      "   Reporting Year Sector              Target boundary Baseline year  \\\n",
      "0            2016  Total                          NaN          2010   \n",
      "1            2016  Total                          NaN          2005   \n",
      "2            2016  Total                          NaN          2009   \n",
      "3            2016  Total                          NaN          2009   \n",
      "4            2016  Total  Overall community emissions          2004   \n",
      "\n",
      "   Baseline emissions (metric tonnes CO2e)  Percentage reduction target  \\\n",
      "0                                   6136.0                          2.0   \n",
      "1                                2913434.0                         25.0   \n",
      "2                                 268000.0                          7.0   \n",
      "3                                3804493.0                         35.0   \n",
      "4                                 178832.0                         40.0   \n",
      "\n",
      "   Target date                                            Comment  \\\n",
      "0          NaN                                                NaN   \n",
      "1       2020.0                                                NaN   \n",
      "2       2020.0  The municipality are increasing in terms of ci...   \n",
      "3       2020.0                                                NaN   \n",
      "4       2030.0                                                NaN   \n",
      "\n",
      "              City Location        Country Location  \n",
      "0    (55.975718, 10.149958)    (56.26392, 9.501785)  \n",
      "1  (40.8419943, 14.2513831)    (41.87194, 12.56738)  \n",
      "2    (55.795045, 12.238733)    (56.26392, 9.501785)  \n",
      "3    (24.702107, 121.73775)  (23.69781, 120.960515)  \n",
      "4  (37.831316, -122.285247)  (37.09024, -95.712891)  \n",
      "\n",
      "Data types of each column:\n",
      "Organisation                                object\n",
      "Account No                                   int64\n",
      "Country                                     object\n",
      "City Short Name                             object\n",
      "C40                                         object\n",
      "Reporting Year                               int64\n",
      "Sector                                      object\n",
      "Target boundary                             object\n",
      "Baseline year                               object\n",
      "Baseline emissions (metric tonnes CO2e)    float64\n",
      "Percentage reduction target                float64\n",
      "Target date                                float64\n",
      "Comment                                     object\n",
      "City Location                               object\n",
      "Country Location                            object\n",
      "dtype: object\n",
      "\n",
      "Summary statistics for numeric columns:\n",
      "         Account No  Reporting Year  Baseline emissions (metric tonnes CO2e)  \\\n",
      "count    280.000000           280.0                             2.620000e+02   \n",
      "mean   40675.646429          2016.0                             3.069655e+07   \n",
      "std    15311.794249             0.0                             3.495393e+08   \n",
      "min     1093.000000          2016.0                             7.720000e+01   \n",
      "25%    31174.750000          2016.0                             5.298588e+05   \n",
      "50%    39348.000000          2016.0                             3.063483e+06   \n",
      "75%    54108.500000          2016.0                             9.823888e+06   \n",
      "max    62855.000000          2016.0                             5.648130e+09   \n",
      "\n",
      "       Percentage reduction target  Target date  \n",
      "count                   280.000000   270.000000  \n",
      "mean                     39.012464  2027.825926  \n",
      "std                      28.320480    11.988969  \n",
      "min                       0.000000  2012.000000  \n",
      "25%                      20.000000  2020.000000  \n",
      "50%                      28.500000  2020.000000  \n",
      "75%                      50.000000  2030.750000  \n",
      "max                     100.000000  2065.000000  \n",
      "\n",
      "Missing values in each column:\n",
      "Organisation                                 0\n",
      "Account No                                   0\n",
      "Country                                      0\n",
      "City Short Name                              0\n",
      "C40                                        197\n",
      "Reporting Year                               0\n",
      "Sector                                      12\n",
      "Target boundary                             58\n",
      "Baseline year                                5\n",
      "Baseline emissions (metric tonnes CO2e)     18\n",
      "Percentage reduction target                  0\n",
      "Target date                                 10\n",
      "Comment                                    142\n",
      "City Location                                0\n",
      "Country Location                             0\n",
      "dtype: int64\n"
     ]
    }
   ],
   "source": [
    "# Import libraries\n",
    "import pandas as pd\n",
    "\n",
    "# Load the CSV file\n",
    "data_path = '2016_-_Cities_Emissions_Reduction_Targets_20240207.csv'\n",
    "data = pd.read_csv(data_path)\n",
    "\n",
    "# Display the first few rows of the data\n",
    "print(\"First few rows of the data:\")\n",
    "print(data.head())\n",
    "\n",
    "# Print data types of each column\n",
    "print(\"\\nData types of each column:\")\n",
    "print(data.dtypes)\n",
    "\n",
    "# Summary statistics for numeric columns\n",
    "print(\"\\nSummary statistics for numeric columns:\")\n",
    "print(data.describe())\n",
    "\n",
    "# Check for missing values\n",
    "print(\"\\nMissing values in each column:\")\n",
    "print(data.isnull().sum())\n"
   ]
  },
  {
   "cell_type": "markdown",
   "id": "37a5ab02-b782-4759-90b1-42920544e405",
   "metadata": {},
   "source": []
  },
  {
   "cell_type": "markdown",
   "id": "2d271e5b-b153-4e27-8f52-13403c3320c9",
   "metadata": {},
   "source": [
    "Designing the MongoDB database structure - Oprette OLA2_DB og arbejder med collections indeni den. \"emissionTarget\" er \"2016_-_Cities_Emissions_Reduction_Targets_20240207\""
   ]
  },
  {
   "cell_type": "code",
   "execution_count": 5,
   "id": "16779d09-6a09-4657-ba00-31cadbe79ebf",
   "metadata": {},
   "outputs": [],
   "source": [
    "from pymongo import MongoClient\n",
    "\n",
    "# Connect to the local MongoDB instance\n",
    "client = MongoClient('mongodb://localhost:27017/')\n",
    "\n",
    "# Access the database 'OLA2_DB'\n",
    "db = client['OLA2_DB']\n",
    "\n",
    "# Example: Access the collection 'emissionTargets'\n",
    "emissionTargets = db['emissionTargets']\n"
   ]
  },
  {
   "cell_type": "markdown",
   "id": "b7dce608-338f-4dad-b50f-6acb11c58481",
   "metadata": {},
   "source": [
    "Complete Code for Insertion (Including MongoDB Connection and Collection Definition)"
   ]
  },
  {
   "cell_type": "code",
   "execution_count": 10,
   "id": "c8a4646c-7217-4769-872d-69b3eaa52e4d",
   "metadata": {},
   "outputs": [
    {
     "name": "stdout",
     "output_type": "stream",
     "text": [
      "Data inserted successfully.\n"
     ]
    }
   ],
   "source": [
    "from pymongo import MongoClient\n",
    "import pandas as pd\n",
    "\n",
    "# Load the dataset\n",
    "file_path = '2016_-_Cities_Emissions_Reduction_Targets_20240207.csv'\n",
    "data = pd.read_csv(file_path)\n",
    "\n",
    "# Preprocess the data\n",
    "data.columns = data.columns.str.lower().str.replace(' ', '_').str.replace('(', '').str.replace(')', '')\n",
    "data = data.where(pd.notnull(data), None)\n",
    "\n",
    "# Convert the DataFrame to a list of dictionaries for MongoDB insertion\n",
    "records = data.to_dict('records')\n",
    "\n",
    "# Establish a connection to the MongoDB server, define database and collection\n",
    "client = MongoClient('mongodb://localhost:27017/')\n",
    "db = client['OLA2_DB']\n",
    "collection = db['emissionTargets']\n",
    "\n",
    "# Insert the records into the collection\n",
    "collection.insert_many(records)\n",
    "\n",
    "data\n",
    "\n",
    "print(\"Data inserted successfully.\")\n"
   ]
  },
  {
   "cell_type": "markdown",
   "id": "6b2a56a0-a545-4b47-81ee-966cc7b4561c",
   "metadata": {},
   "source": [
    "Explore the Data from dataset 2016_-_Citywide_GHG_Emissions_20240207"
   ]
  },
  {
   "cell_type": "code",
   "execution_count": 11,
   "id": "17530a58-d1be-4da9-b736-5cf0febcb984",
   "metadata": {},
   "outputs": [
    {
     "name": "stdout",
     "output_type": "stream",
     "text": [
      "First few rows of the data:\n",
      "   Account Number            City Name         Country City Short Name  C40  \\\n",
      "0           35894    Ville de Montreal          Canada        Montreal  NaN   \n",
      "1           35898   Greater Manchester  United Kingdom      Manchester  NaN   \n",
      "2           54128         City of Reno             USA            Reno  NaN   \n",
      "3           35879  City of Minneapolis             USA     Minneapolis  NaN   \n",
      "4           50558   City of London, ON          Canada      London, ON  NaN   \n",
      "\n",
      "   Reporting Year        Measurement Year  \\\n",
      "0            2016  12/31/2009 12:00:00 AM   \n",
      "1            2016  12/31/2013 12:00:00 AM   \n",
      "2            2016  12/31/2014 12:00:00 AM   \n",
      "3            2016  12/31/2014 12:00:00 AM   \n",
      "4            2016  12/31/2014 12:00:00 AM   \n",
      "\n",
      "                                            Boundary  \\\n",
      "0  Other: The regional entity that constitutes th...   \n",
      "1                                A metropolitan area   \n",
      "2      Administrative boundary of a local government   \n",
      "3      Administrative boundary of a local government   \n",
      "4      Administrative boundary of a local government   \n",
      "\n",
      "                                 Primary Methodology  \\\n",
      "0  2006 IPCC Guidelines for National Greenhouse G...   \n",
      "1  Global Protocol for Community-Scale Greenhouse...   \n",
      "2  Global Protocol for Community-Scale Greenhouse...   \n",
      "3  U.S. Community Protocol for Accounting and Rep...   \n",
      "4  International Emissions Analysis Protocol (ICLEI)   \n",
      "\n",
      "                                 Methodology Details  ... Current Population  \\\n",
      "0  2006 IPCC Guidelines for National Greenhouse G...  ...          1886481.0   \n",
      "1  A GPC Compliant dataset has been established f...  ...          2762000.0   \n",
      "2  Also utilized the U.S. Community Protocol for ...  ...           236995.0   \n",
      "3  A note regarding how double counting is avoide...  ...           407207.0   \n",
      "4  as adapted by ICLEI Canada for use in the FCM'...  ...           375000.0   \n",
      "\n",
      "       City GDP             GDP Currency  Year of GDP  \\\n",
      "0  1.201180e+11  CAD     Canadian Dollar       2014.0   \n",
      "1  8.777300e+10                      NaN       2013.0   \n",
      "2  1.000000e+10        USD     US Dollar       2014.0   \n",
      "3  2.357000e+11        USD     US Dollar       2014.0   \n",
      "4  1.540000e+10  CAD     Canadian Dollar       2014.0   \n",
      "\n",
      "                                          GDP Source  \\\n",
      "0  Ville de Montréal, Montréal en statistiques, h...   \n",
      "1  UK ONS (using 1.56 USD/GBP) Figures provided i...   \n",
      "2                    Bureau of Economic Analysis10.4   \n",
      "3  http://www.bea.gov/iTable/iTable.cfm?reqid=70&...   \n",
      "4  Conference Board of Canada, London Census Metr...   \n",
      "\n",
      "  Average annual temperature (in Celsius)​  ​Land area (in square km)  \\\n",
      "0                                      6.8                      500.0   \n",
      "1                                      9.5                     1277.0   \n",
      "2                                     10.4                      288.0   \n",
      "3                                      7.9                      139.8   \n",
      "4                                      7.9                      421.0   \n",
      "\n",
      "   Average altitude (m)              City Location          Country Location  \n",
      "0                  17.0  (45.5086699, -73.5539925)  (56.130366, -106.346771)  \n",
      "1                 250.0   (53.4575955, -2.1578377)    (55.378051, -3.435973)  \n",
      "2                1373.0       (39.5296, -119.8138)    (37.09024, -95.712891)  \n",
      "3                 264.0     (44.983334, -93.26667)    (37.09024, -95.712891)  \n",
      "4                 251.0        (42.9837, -81.2497)  (56.130366, -106.346771)  \n",
      "\n",
      "[5 rows x 27 columns]\n",
      "\n",
      "Data types of each column:\n",
      "Account Number                                      int64\n",
      "City Name                                          object\n",
      "Country                                            object\n",
      "City Short Name                                    object\n",
      "C40                                                object\n",
      "Reporting Year                                      int64\n",
      "Measurement Year                                   object\n",
      "Boundary                                           object\n",
      "Primary Methodology                                object\n",
      "Methodology Details                                object\n",
      "Gases included                                     object\n",
      "Total City-wide Emissions (metric tonnes CO2e)    float64\n",
      "Total Scope 1 Emissions (metric tonnes CO2e)      float64\n",
      "Total Scope 2 Emissions (metric tonnes CO2e)      float64\n",
      "Increase/Decrease from last year                   object\n",
      "Reason for increase/decrease in emissions          object\n",
      "Current Population Year                             int64\n",
      "Current Population                                float64\n",
      "City GDP                                          float64\n",
      "GDP Currency                                       object\n",
      "Year of GDP                                       float64\n",
      "GDP Source                                         object\n",
      "Average annual temperature (in Celsius)​          float64\n",
      "​Land area (in square km)                         float64\n",
      "Average altitude (m)                              float64\n",
      "City Location                                      object\n",
      "Country Location                                   object\n",
      "dtype: object\n",
      "\n",
      "Summary statistics for numeric columns:\n",
      "       Account Number  Reporting Year  \\\n",
      "count      187.000000           187.0   \n",
      "mean     41219.775401          2016.0   \n",
      "std      14603.859713             0.0   \n",
      "min       1093.000000          2016.0   \n",
      "25%      31177.500000          2016.0   \n",
      "50%      42178.000000          2016.0   \n",
      "75%      54110.500000          2016.0   \n",
      "max      62864.000000          2016.0   \n",
      "\n",
      "       Total City-wide Emissions (metric tonnes CO2e)  \\\n",
      "count                                    1.870000e+02   \n",
      "mean                                     7.991799e+06   \n",
      "std                                      1.225471e+07   \n",
      "min                                      2.250000e+02   \n",
      "25%                                      6.970745e+05   \n",
      "50%                                      2.789724e+06   \n",
      "75%                                      1.029318e+07   \n",
      "max                                      7.012500e+07   \n",
      "\n",
      "       Total Scope 1 Emissions (metric tonnes CO2e)  \\\n",
      "count                                  1.340000e+02   \n",
      "mean                                   3.396055e+08   \n",
      "std                                    3.263989e+09   \n",
      "min                                    1.280000e+02   \n",
      "25%                                    4.254012e+05   \n",
      "50%                                    2.084881e+06   \n",
      "75%                                    7.138354e+06   \n",
      "max                                    3.704683e+10   \n",
      "\n",
      "       Total Scope 2 Emissions (metric tonnes CO2e)  Current Population Year  \\\n",
      "count                                  1.320000e+02               187.000000   \n",
      "mean                                   1.126221e+08              2013.844920   \n",
      "std                                    1.249056e+09                 1.799795   \n",
      "min                                    3.914000e+01              2008.000000   \n",
      "25%                                    2.322883e+05              2013.000000   \n",
      "50%                                    1.348054e+06              2014.000000   \n",
      "75%                                    5.345526e+06              2015.000000   \n",
      "max                                    1.435430e+10              2016.000000   \n",
      "\n",
      "       Current Population      City GDP  Year of GDP  \\\n",
      "count        1.850000e+02  1.300000e+02   137.000000   \n",
      "mean         1.466881e+06  6.749183e+12  2013.583942   \n",
      "std          2.634527e+06  3.478159e+13     1.326441   \n",
      "min          2.160000e+02  4.540000e+03  2010.000000   \n",
      "25%          1.443550e+05  1.195878e+09  2013.000000   \n",
      "50%          5.426260e+05  3.493300e+10  2014.000000   \n",
      "75%          1.560297e+06  1.804230e+11  2014.000000   \n",
      "max          2.100000e+07  3.276022e+14  2016.000000   \n",
      "\n",
      "       Average annual temperature (in Celsius)​  ​Land area (in square km)  \\\n",
      "count                                177.000000                 184.000000   \n",
      "mean                                  14.811864                8188.095652   \n",
      "std                                    5.701757               63152.607032   \n",
      "min                                    2.400000                   2.300000   \n",
      "25%                                   10.800000                  95.750000   \n",
      "50%                                   14.700000                 281.000000   \n",
      "75%                                   18.000000                 792.500000   \n",
      "max                                   32.100000              692819.000000   \n",
      "\n",
      "       Average altitude (m)  \n",
      "count            168.000000  \n",
      "mean             344.047619  \n",
      "std              604.778505  \n",
      "min               -5.000000  \n",
      "25%               26.000000  \n",
      "50%               96.500000  \n",
      "75%              269.750000  \n",
      "max             3200.000000  \n",
      "\n",
      "Missing values in each column:\n",
      "Account Number                                      0\n",
      "City Name                                           0\n",
      "Country                                             0\n",
      "City Short Name                                     0\n",
      "C40                                               133\n",
      "Reporting Year                                      0\n",
      "Measurement Year                                    0\n",
      "Boundary                                            0\n",
      "Primary Methodology                                 0\n",
      "Methodology Details                                54\n",
      "Gases included                                      6\n",
      "Total City-wide Emissions (metric tonnes CO2e)      0\n",
      "Total Scope 1 Emissions (metric tonnes CO2e)       53\n",
      "Total Scope 2 Emissions (metric tonnes CO2e)       55\n",
      "Increase/Decrease from last year                   21\n",
      "Reason for increase/decrease in emissions          43\n",
      "Current Population Year                             0\n",
      "Current Population                                  2\n",
      "City GDP                                           57\n",
      "GDP Currency                                       64\n",
      "Year of GDP                                        50\n",
      "GDP Source                                         57\n",
      "Average annual temperature (in Celsius)​           10\n",
      "​Land area (in square km)                           3\n",
      "Average altitude (m)                               19\n",
      "City Location                                       0\n",
      "Country Location                                    0\n",
      "dtype: int64\n"
     ]
    }
   ],
   "source": [
    "# Import necessary libraries\n",
    "import pandas as pd\n",
    "\n",
    "# Load the CSV file\n",
    "data_path = '2016_-_Citywide_GHG_Emissions_20240207.csv'\n",
    "data = pd.read_csv(data_path)\n",
    "\n",
    "# Display the first few rows of the data\n",
    "print(\"First few rows of the data:\")\n",
    "print(data.head())\n",
    "\n",
    "# Print data types of each column\n",
    "print(\"\\nData types of each column:\")\n",
    "print(data.dtypes)\n",
    "\n",
    "# Summary statistics for numeric columns\n",
    "print(\"\\nSummary statistics for numeric columns:\")\n",
    "print(data.describe())\n",
    "\n",
    "# Check for missing values\n",
    "print(\"\\nMissing values in each column:\")\n",
    "print(data.isnull().sum())\n"
   ]
  },
  {
   "cell_type": "markdown",
   "id": "983d668e-452d-4851-bf7d-e14932d03f34",
   "metadata": {},
   "source": [
    "Designing the MongoDB database structure - Oprette OLA2_DB og arbejder med collections indeni den. \"citywideGHGEmissions\" er 2016_-_Citywide_GHG_Emissions_20240207.csv"
   ]
  },
  {
   "cell_type": "code",
   "execution_count": 13,
   "id": "923bf634-3754-42ed-aa63-0dd1a2b545a6",
   "metadata": {},
   "outputs": [
    {
     "name": "stdout",
     "output_type": "stream",
     "text": [
      "Citywide GHG Emissions data inserted successfully.\n"
     ]
    }
   ],
   "source": [
    "from pymongo import MongoClient\n",
    "import pandas as pd\n",
    "\n",
    "# Load the new dataset\n",
    "file_path = '2016_-_Citywide_GHG_Emissions_20240207.csv'\n",
    "data = pd.read_csv(file_path)\n",
    "\n",
    "# Preprocess the data: Rename columns and handle missing values\n",
    "data.columns = data.columns.str.lower().str.replace(' ', '_').str.replace('(', '').str.replace(')', '')\n",
    "data = data.where(pd.notnull(data), None)\n",
    "\n",
    "# Convert the DataFrame to a list of dictionaries for MongoDB insertion\n",
    "records = data.to_dict('records')\n",
    "\n",
    "# Establish a connection to the MongoDB server, define database and collection\n",
    "client = MongoClient('mongodb://localhost:27017/')\n",
    "db = client['OLA2_DB']\n",
    "\n",
    "# Define a new collection for the Citywide GHG Emissions data\n",
    "collection = db['citywideGHGEmissions']\n",
    "\n",
    "# Insert the records into the collection\n",
    "collection.insert_many(records)\n",
    "\n",
    "print(\"Citywide GHG Emissions data inserted successfully.\")\n"
   ]
  },
  {
   "cell_type": "markdown",
   "id": "c6c67501-0285-4487-8139-970d3e9dd8ec",
   "metadata": {},
   "source": [
    "Explore the Data from dataset 2017_-_Cities_Community_Wide_Emissions"
   ]
  },
  {
   "cell_type": "code",
   "execution_count": 14,
   "id": "ac9d3e5c-238e-4939-9691-b5d9d2e28a25",
   "metadata": {},
   "outputs": [
    {
     "name": "stdout",
     "output_type": "stream",
     "text": [
      "First few rows of the data:\n",
      "   Account number                     Organization                 City  \\\n",
      "0           49363  Nelson Mandela Bay Municipality  Nelson Mandela Bay    \n",
      "1           31171           Ayuntamiento de Madrid               Madrid   \n",
      "2            3417                    New York City        New York City   \n",
      "3           59537               City of Denton, TX           Denton, TX   \n",
      "4           35894                Ville de Montreal             Montreal   \n",
      "\n",
      "        Country         Region  C40  Access  Reporting year  \\\n",
      "0  South Africa         Africa  NaN  Public            2017   \n",
      "1         Spain         Europe  C40  Public            2017   \n",
      "2           USA  North America  C40  Public            2017   \n",
      "3           USA  North America  NaN  Public            2017   \n",
      "4        Canada  North America  C40  Public            2017   \n",
      "\n",
      "           Accounting year                                       Boundary  \\\n",
      "0  2013-07-01 - 2014-06-30                            A metropolitan area   \n",
      "1  2014-01-01 - 2014-12-31  Administrative boundary of a local government   \n",
      "2  2015-01-01 - 2015-12-31  Administrative boundary of a local government   \n",
      "3  2015-01-01 - 2015-12-31  Administrative boundary of a local government   \n",
      "4  2013-01-01 - 2013-12-31                            A metropolitan area   \n",
      "\n",
      "   ... Population year           GDP                GDP Currency  GDP Year  \\\n",
      "0  ...            2011  5.214700e+04  ZAR     South African Rand    2010.0   \n",
      "1  ...            2016  1.293780e+11                EUR     Euro    2015.0   \n",
      "2  ...            2016  1.558520e+12           USD     US Dollar    2015.0   \n",
      "3  ...            2015           NaN                         NaN       NaN   \n",
      "4  ...            2013  1.154128e+08     CAD     Canadian Dollar    2013.0   \n",
      "\n",
      "                                          GDP Source  \\\n",
      "0           Built Environment Performance Plan(BEPP)   \n",
      "1  Contabilidad Municipal Trimestral. Ciudad de M...   \n",
      "2  http://www.brookings.edu/research/reports2/201...   \n",
      "3                                                NaN   \n",
      "4               Institut de la statistique du Québec   \n",
      "\n",
      "   Average annual temperature (in Celsius)​  ​Average altitude (m)  \\\n",
      "0                                      17.5                   69.0   \n",
      "1                                      15.0                  655.0   \n",
      "2                                      13.0                   10.0   \n",
      "3                                      18.2                  192.0   \n",
      "4                                       6.8                   17.0   \n",
      "\n",
      "  ​Land area (in square km)              City Location  \\\n",
      "0                    1950.0    (-33.745241, 25.568108)   \n",
      "1                     604.0   (40.1076253, -3.3875673)   \n",
      "2                     784.0  (40.7127837, -74.0059413)   \n",
      "3                     227.8    (33.214841, -97.133068)   \n",
      "4                     500.0  (45.5086699, -73.5539925)   \n",
      "\n",
      "           Country Location  \n",
      "0   (-30.559482, 22.937506)  \n",
      "1     (40.463667, -3.74922)  \n",
      "2    (37.09024, -95.712891)  \n",
      "3    (37.09024, -95.712891)  \n",
      "4  (56.130366, -106.346771)  \n",
      "\n",
      "[5 rows x 31 columns]\n",
      "\n",
      "Data types of each column:\n",
      "Account number                                    int64\n",
      "Organization                                     object\n",
      "City                                             object\n",
      "Country                                          object\n",
      "Region                                           object\n",
      "C40                                              object\n",
      "Access                                           object\n",
      "Reporting year                                    int64\n",
      "Accounting year                                  object\n",
      "Boundary                                         object\n",
      "Protocol                                         object\n",
      "Protocol column                                  object\n",
      "Gases included                                   object\n",
      "Total emissions (metric tonnes CO2e)            float64\n",
      "Scopes Included                                  object\n",
      "Total Scope 1 Emissions (metric tonnes CO2e)    float64\n",
      "Total Scope 2 Emissions (metric tonnes CO2e)    float64\n",
      "Comment                                          object\n",
      "Increase/Decrease from last year                 object\n",
      "Reason for increase/decrease in emissions        object\n",
      "Population                                        int64\n",
      "Population year                                   int64\n",
      "GDP                                             float64\n",
      "GDP Currency                                     object\n",
      "GDP Year                                        float64\n",
      "GDP Source                                       object\n",
      "Average annual temperature (in Celsius)​        float64\n",
      "​Average altitude (m)                           float64\n",
      "​Land area (in square km)                       float64\n",
      "City Location                                    object\n",
      "Country Location                                 object\n",
      "dtype: object\n",
      "\n",
      "Summary statistics for numeric columns:\n",
      "       Account number  Reporting year  Total emissions (metric tonnes CO2e)  \\\n",
      "count      229.000000           229.0                          2.170000e+02   \n",
      "mean     44455.912664          2017.0                          6.800934e+06   \n",
      "std      14555.427014             0.0                          1.088123e+07   \n",
      "min       1093.000000          2017.0                          1.547000e+01   \n",
      "25%      35393.000000          2017.0                          6.887060e+05   \n",
      "50%      50371.000000          2017.0                          2.016320e+06   \n",
      "75%      54521.000000          2017.0                          7.215407e+06   \n",
      "max      69967.000000          2017.0                          7.073340e+07   \n",
      "\n",
      "       Total Scope 1 Emissions (metric tonnes CO2e)  \\\n",
      "count                                  1.730000e+02   \n",
      "mean                                   5.889212e+06   \n",
      "std                                    1.039645e+07   \n",
      "min                                    2.127000e+01   \n",
      "25%                                    4.625860e+05   \n",
      "50%                                    1.775831e+06   \n",
      "75%                                    6.957473e+06   \n",
      "max                                    6.854560e+07   \n",
      "\n",
      "       Total Scope 2 Emissions (metric tonnes CO2e)    Population  \\\n",
      "count                                  1.720000e+02  2.290000e+02   \n",
      "mean                                   3.008905e+06  1.281772e+06   \n",
      "std                                    5.085762e+06  2.347647e+06   \n",
      "min                                    6.790000e+00  2.180000e+02   \n",
      "25%                                    1.833958e+05  1.067790e+05   \n",
      "50%                                    1.049165e+06  3.776350e+05   \n",
      "75%                                    3.672154e+06  1.235055e+06   \n",
      "max                                    4.360220e+07  1.480412e+07   \n",
      "\n",
      "       Population year           GDP     GDP Year  \\\n",
      "count       229.000000  1.810000e+02   185.000000   \n",
      "mean       2014.755459  3.147081e+12  2014.416216   \n",
      "std           1.906022  1.739237e+13     1.361248   \n",
      "min        2010.000000  2.000000e+00  2010.000000   \n",
      "25%        2014.000000  5.170000e+08  2014.000000   \n",
      "50%        2015.000000  1.740000e+10  2015.000000   \n",
      "75%        2016.000000  1.199490e+11  2015.000000   \n",
      "max        2017.000000  1.573000e+14  2017.000000   \n",
      "\n",
      "       Average annual temperature (in Celsius)​  ​Average altitude (m)  \\\n",
      "count                                223.000000             207.000000   \n",
      "mean                                  15.426906             340.777778   \n",
      "std                                    6.959859             564.141834   \n",
      "min                                    2.000000              -5.000000   \n",
      "25%                                   10.200000              20.000000   \n",
      "50%                                   14.700000             102.000000   \n",
      "75%                                   20.000000             306.500000   \n",
      "max                                   52.000000            2815.000000   \n",
      "\n",
      "       ​Land area (in square km)  \n",
      "count                 228.000000  \n",
      "mean                 1248.076754  \n",
      "std                  6655.237217  \n",
      "min                     4.300000  \n",
      "25%                    85.750000  \n",
      "50%                   236.500000  \n",
      "75%                   743.000000  \n",
      "max                 98194.000000  \n",
      "\n",
      "Missing values in each column:\n",
      "Account number                                    0\n",
      "Organization                                      0\n",
      "City                                              0\n",
      "Country                                           0\n",
      "Region                                            0\n",
      "C40                                             173\n",
      "Access                                            0\n",
      "Reporting year                                    0\n",
      "Accounting year                                   0\n",
      "Boundary                                          0\n",
      "Protocol                                          0\n",
      "Protocol column                                  78\n",
      "Gases included                                  118\n",
      "Total emissions (metric tonnes CO2e)             12\n",
      "Scopes Included                                   0\n",
      "Total Scope 1 Emissions (metric tonnes CO2e)     56\n",
      "Total Scope 2 Emissions (metric tonnes CO2e)     57\n",
      "Comment                                         150\n",
      "Increase/Decrease from last year                 20\n",
      "Reason for increase/decrease in emissions        51\n",
      "Population                                        0\n",
      "Population year                                   0\n",
      "GDP                                              48\n",
      "GDP Currency                                     45\n",
      "GDP Year                                         44\n",
      "GDP Source                                       51\n",
      "Average annual temperature (in Celsius)​          6\n",
      "​Average altitude (m)                            22\n",
      "​Land area (in square km)                         1\n",
      "City Location                                     0\n",
      "Country Location                                  0\n",
      "dtype: int64\n"
     ]
    }
   ],
   "source": [
    "# Import necessary libraries\n",
    "import pandas as pd\n",
    "\n",
    "# Load the CSV file\n",
    "data_path = '2017_-_Cities_Community_Wide_Emissions.csv'\n",
    "data = pd.read_csv(data_path)\n",
    "\n",
    "# Display the first few rows of the data\n",
    "print(\"First few rows of the data:\")\n",
    "print(data.head())\n",
    "\n",
    "# Print data types of each column\n",
    "print(\"\\nData types of each column:\")\n",
    "print(data.dtypes)\n",
    "\n",
    "# Summary statistics for numeric columns\n",
    "print(\"\\nSummary statistics for numeric columns:\")\n",
    "print(data.describe())\n",
    "\n",
    "# Check for missing values\n",
    "print(\"\\nMissing values in each column:\")\n",
    "print(data.isnull().sum())"
   ]
  },
  {
   "cell_type": "markdown",
   "id": "8ec8a094-17de-41c3-a40c-afd8f2ffe1f7",
   "metadata": {},
   "source": [
    "Designing the MongoDB database structure - Oprette OLA2_DB og arbejder med collections indeni den. \"citiesCommunityWideEmissions\" er 2017_-_Cities_Community_Wide_Emissions.csv"
   ]
  },
  {
   "cell_type": "code",
   "execution_count": 15,
   "id": "40f1d0ad-b2ad-4056-b996-8a07a53c9e45",
   "metadata": {},
   "outputs": [
    {
     "name": "stdout",
     "output_type": "stream",
     "text": [
      "Cities Community-Wide Emissions data inserted successfully.\n"
     ]
    }
   ],
   "source": [
    "from pymongo import MongoClient\n",
    "import pandas as pd\n",
    "\n",
    "# Step 1: Load the Dataset\n",
    "file_path = '2017_-_Cities_Community_Wide_Emissions.csv'\n",
    "data = pd.read_csv(file_path)\n",
    "\n",
    "# Step 2: Preprocess the Data\n",
    "# Renaming columns for MongoDB compatibility and handling missing values\n",
    "data.columns = data.columns.str.lower().str.replace(' ', '_').str.replace('(', '').str.replace(')', '')\n",
    "data = data.where(pd.notnull(data), None)\n",
    "\n",
    "# Convert the DataFrame to a list of dictionaries suitable for MongoDB\n",
    "records = data.to_dict('records')\n",
    "\n",
    "# Step 3: Connect to MongoDB and Select Database\n",
    "client = MongoClient('mongodb://localhost:27017/')\n",
    "db = client['OLA2_DB']\n",
    "\n",
    "# Define a new collection for this dataset\n",
    "collection = db['citiesCommunityWideEmissions']\n",
    "\n",
    "# Step 4: Insert Data into MongoDB\n",
    "collection.insert_many(records)\n",
    "\n",
    "print(\"Cities Community-Wide Emissions data inserted successfully.\")\n"
   ]
  },
  {
   "cell_type": "code",
   "execution_count": null,
   "id": "1e91229c-674b-4f9e-a253-9be7ac10191d",
   "metadata": {},
   "outputs": [],
   "source": [
    "Explore the Data from dataset 2017_-_Cities_Emissions_Reduction_Targets_20240207"
   ]
  },
  {
   "cell_type": "code",
   "execution_count": 16,
   "id": "42347666-6a3b-433c-aad2-2540b4c991ac",
   "metadata": {},
   "outputs": [
    {
     "name": "stdout",
     "output_type": "stream",
     "text": [
      "First few rows of the data:\n",
      "   Account No                   Organisation              City  \\\n",
      "0       54408                 Aarhus Kommune            Aarhus   \n",
      "1       63616  Abasan Al-Kabira Municipality  Abasan Al-Kabira   \n",
      "2       63616  Abasan Al-Kabira Municipality  Abasan Al-Kabira   \n",
      "3        1499        Ajuntament de Barcelona         Barcelona   \n",
      "4        1499        Ajuntament de Barcelona         Barcelona   \n",
      "\n",
      "              Country               Region  Access  C40  Reporting year  \\\n",
      "0             Denmark               Europe  Public  NaN            2017   \n",
      "1  State of Palestine  South and West Asia  Public  NaN            2017   \n",
      "2  State of Palestine  South and West Asia  Public  NaN            2017   \n",
      "3               Spain               Europe  Public  C40            2017   \n",
      "4               Spain               Europe  Public  C40            2017   \n",
      "\n",
      "    Type of target     Sector  ... Baseline emissions (metric tonnes CO2e)  \\\n",
      "0  Absolute target        NaN  ...                                     NaN   \n",
      "1  Absolute target  Buildings  ...                                 18320.0   \n",
      "2  Absolute target  Transport  ...                                  6893.0   \n",
      "3  Absolute target      Total  ...                                  4053.0   \n",
      "4  Absolute target  Buildings  ...                                  2164.0   \n",
      "\n",
      "   Percentage reduction target  Target date  \\\n",
      "0                        100.0         2030   \n",
      "1                         19.0         2020   \n",
      "2                          6.0         2020   \n",
      "3                         18.0         2020   \n",
      "4                          1.0         2020   \n",
      "\n",
      "  Estimated business as usual absolute emissions in target year (metric tonnes CO2e)  \\\n",
      "0                                                NaN                                   \n",
      "1                                                NaN                                   \n",
      "2                                                NaN                                   \n",
      "3                                                NaN                                   \n",
      "4                                                NaN                                   \n",
      "\n",
      "   ​Intensity unit (emissions per)                                 Comment  \\\n",
      "0                              NaN                                     NaN   \n",
      "1                              NaN                                     NaN   \n",
      "2                              NaN                                     NaN   \n",
      "3                              NaN                                     NaN   \n",
      "4                              NaN  Residential, Commercial and Industrial   \n",
      "\n",
      "  Population  Population Year           City Location       Country Location  \n",
      "0   336000.0           2017.0  (56.168393, 10.137373)   (56.26392, 9.501785)  \n",
      "1    30000.0           2015.0  (31.323126, 34.344025)     (31.9522, 35.2332)  \n",
      "2    30000.0           2015.0  (31.323126, 34.344025)     (31.9522, 35.2332)  \n",
      "3  1608746.0           2016.0   (41.382271, 2.177506)  (40.463667, -3.74922)  \n",
      "4  1608746.0           2016.0   (41.382271, 2.177506)  (40.463667, -3.74922)  \n",
      "\n",
      "[5 rows x 21 columns]\n",
      "\n",
      "Data types of each column:\n",
      "Account No                                                                              int64\n",
      "Organisation                                                                           object\n",
      "City                                                                                   object\n",
      "Country                                                                                object\n",
      "Region                                                                                 object\n",
      "Access                                                                                 object\n",
      "C40                                                                                    object\n",
      "Reporting year                                                                          int64\n",
      "Type of target                                                                         object\n",
      "Sector                                                                                 object\n",
      "Baseline year                                                                          object\n",
      "Baseline emissions (metric tonnes CO2e)                                               float64\n",
      "Percentage reduction target                                                           float64\n",
      "Target date                                                                            object\n",
      "Estimated business as usual absolute emissions in target year (metric tonnes CO2e)    float64\n",
      "​Intensity unit (emissions per)                                                        object\n",
      "Comment                                                                                object\n",
      "Population                                                                            float64\n",
      "Population Year                                                                       float64\n",
      "City Location                                                                          object\n",
      "Country Location                                                                       object\n",
      "dtype: object\n",
      "\n",
      "Summary statistics for numeric columns:\n",
      "         Account No  Reporting year  Baseline emissions (metric tonnes CO2e)  \\\n",
      "count    406.000000           406.0                             2.740000e+02   \n",
      "mean   44174.916256          2017.0                             5.922065e+06   \n",
      "std    15578.957791             0.0                             1.142793e+07   \n",
      "min     1093.000000          2017.0                             0.000000e+00   \n",
      "25%    35849.250000          2017.0                             2.307620e+05   \n",
      "50%    49338.000000          2017.0                             1.484767e+06   \n",
      "75%    57548.750000          2017.0                             5.338390e+06   \n",
      "max    73302.000000          2017.0                             6.732700e+07   \n",
      "\n",
      "       Percentage reduction target  \\\n",
      "count                   332.000000   \n",
      "mean                     42.203584   \n",
      "std                      29.122048   \n",
      "min                       0.000000   \n",
      "25%                      20.000000   \n",
      "50%                      30.000000   \n",
      "75%                      66.250000   \n",
      "max                     100.000000   \n",
      "\n",
      "       Estimated business as usual absolute emissions in target year (metric tonnes CO2e)  \\\n",
      "count                                       3.100000e+01                                    \n",
      "mean                                        6.634236e+06                                    \n",
      "std                                         1.300105e+07                                    \n",
      "min                                         0.000000e+00                                    \n",
      "25%                                         4.129655e+05                                    \n",
      "50%                                         1.348291e+06                                    \n",
      "75%                                         6.829508e+06                                    \n",
      "max                                         6.732700e+07                                    \n",
      "\n",
      "         Population  Population Year  \n",
      "count  4.040000e+02       404.000000  \n",
      "mean   1.173563e+06      2014.747525  \n",
      "std    2.138077e+06         2.050387  \n",
      "min    2.180000e+02      2010.000000  \n",
      "25%    1.075710e+05      2015.000000  \n",
      "50%    3.793175e+05      2015.000000  \n",
      "75%    1.143514e+06      2016.000000  \n",
      "max    1.500000e+07      2017.000000  \n",
      "\n",
      "Missing values in each column:\n",
      "Account No                                                                              0\n",
      "Organisation                                                                            0\n",
      "City                                                                                    2\n",
      "Country                                                                                 2\n",
      "Region                                                                                  2\n",
      "Access                                                                                  0\n",
      "C40                                                                                   312\n",
      "Reporting year                                                                          0\n",
      "Type of target                                                                          0\n",
      "Sector                                                                                108\n",
      "Baseline year                                                                          34\n",
      "Baseline emissions (metric tonnes CO2e)                                               132\n",
      "Percentage reduction target                                                            74\n",
      "Target date                                                                            56\n",
      "Estimated business as usual absolute emissions in target year (metric tonnes CO2e)    375\n",
      "​Intensity unit (emissions per)                                                       383\n",
      "Comment                                                                               266\n",
      "Population                                                                              2\n",
      "Population Year                                                                         2\n",
      "City Location                                                                           2\n",
      "Country Location                                                                        2\n",
      "dtype: int64\n"
     ]
    }
   ],
   "source": [
    "# Import necessary libraries\n",
    "import pandas as pd\n",
    "\n",
    "# Load the CSV file\n",
    "data_path = '2017_-_Cities_Emissions_Reduction_Targets_20240207.csv'\n",
    "data = pd.read_csv(data_path)\n",
    "\n",
    "# Display the first few rows of the data\n",
    "print(\"First few rows of the data:\")\n",
    "print(data.head())\n",
    "\n",
    "# Print data types of each column\n",
    "print(\"\\nData types of each column:\")\n",
    "print(data.dtypes)\n",
    "\n",
    "# Summary statistics for numeric columns\n",
    "print(\"\\nSummary statistics for numeric columns:\")\n",
    "print(data.describe())\n",
    "\n",
    "# Check for missing values\n",
    "print(\"\\nMissing values in each column:\")\n",
    "print(data.isnull().sum())"
   ]
  },
  {
   "cell_type": "markdown",
   "id": "37ef89cc-51cd-40d7-adf7-d0214aa6414f",
   "metadata": {},
   "source": [
    "Designing the MongoDB database structure - Oprette OLA2_DB og arbejder med collections indeni den. \"citiesEmissionsReductionTargets2017\" er 2017_-_Cities_Emissions_Reduction_Targets_20240207.csv"
   ]
  },
  {
   "cell_type": "code",
   "execution_count": 17,
   "id": "e53434a1-2d3b-41e0-9ed9-d37c1f168713",
   "metadata": {},
   "outputs": [
    {
     "name": "stdout",
     "output_type": "stream",
     "text": [
      "Cities Emissions Reduction Targets 2017 data inserted successfully.\n"
     ]
    }
   ],
   "source": [
    "from pymongo import MongoClient\n",
    "import pandas as pd\n",
    "\n",
    "# Step 1: Load the Dataset\n",
    "file_path = '2017_-_Cities_Emissions_Reduction_Targets_20240207.csv'\n",
    "data = pd.read_csv(file_path)\n",
    "\n",
    "# Step 2: Preprocess the Data\n",
    "# Renaming columns for MongoDB compatibility and handling missing values\n",
    "data.columns = data.columns.str.lower().str.replace(' ', '_').str.replace('(', '').str.replace(')', '')\n",
    "data = data.where(pd.notnull(data), None)\n",
    "\n",
    "# Convert the DataFrame to a list of dictionaries suitable for MongoDB\n",
    "records = data.to_dict('records')\n",
    "\n",
    "# Step 3: Connect to MongoDB and Select Database\n",
    "client = MongoClient('mongodb://localhost:27017/')\n",
    "db = client['OLA2_DB']\n",
    "\n",
    "# Define a new collection for this dataset\n",
    "collection = db['citiesEmissionsReductionTargets2017']\n",
    "\n",
    "# Step 4: Insert Data into MongoDB\n",
    "collection.insert_many(records)\n",
    "\n",
    "print(\"Cities Emissions Reduction Targets 2017 data inserted successfully.\")\n"
   ]
  },
  {
   "cell_type": "markdown",
   "id": "84d499e6-7ed2-473a-a649-1ecb60a4a365",
   "metadata": {},
   "source": [
    "Explore the Data from dataset 2023_Cities_Climate_Risk_and_Vulnerability_Assessments_20240207"
   ]
  },
  {
   "cell_type": "code",
   "execution_count": 18,
   "id": "432255fd-24c8-4a04-8959-3d5da006052b",
   "metadata": {},
   "outputs": [
    {
     "name": "stdout",
     "output_type": "stream",
     "text": [
      "First few rows of the data:\n",
      "  Questionnaire  Organization Number                Organization Name  \\\n",
      "0   Cities 2023               840926      Prefeitura de Serra Talhada   \n",
      "1   Cities 2023                51075                 City of Shenzhen   \n",
      "2   Cities 2023               863190                            Renca   \n",
      "3   Cities 2023               930366  Municipalidad Distrital de Yura   \n",
      "4   Cities 2023                60236          Trelleborg Municipality   \n",
      "\n",
      "         City Country/Area     CDP Region  C40 City  GCoM City  Access  \\\n",
      "0         NaN       Brazil  Latin America     False       True  public   \n",
      "1    Shenzhen        China      East Asia      True      False  public   \n",
      "2         NaN        Chile  Latin America     False      False  public   \n",
      "3         NaN         Peru  Latin America     False       True  public   \n",
      "4  Trelleborg       Sweden         Europe     False       True  public   \n",
      "\n",
      "            Assessment attachment and/or direct link  \\\n",
      "0  https://drive.google.com/file/d/19DMxxK532IQSL...   \n",
      "1                                                NaN   \n",
      "2                          PLCC_Renca (08 Abril).pdf   \n",
      "3  https://sigrid.cenepred.gob.pe/sigridv3/docume...   \n",
      "4  https://moten.trelleborg.se/welcome-sv/namnder...   \n",
      "\n",
      "                    Confirm attachment/link provided  \\\n",
      "0  The assessment can be accessed (unrestricted) ...   \n",
      "1  The assessment can be accessed (unrestricted) ...   \n",
      "2                   The assessment has been attached   \n",
      "3  The assessment can be accessed (unrestricted) ...   \n",
      "4  The assessment can be accessed (unrestricted) ...   \n",
      "\n",
      "  Boundary of assessment relative to jurisdiction boundary  \\\n",
      "0  Same - covers entire jurisdiction and nothing ...         \n",
      "1  Same - covers entire jurisdiction and nothing ...         \n",
      "2  Same - covers entire jurisdiction and nothing ...         \n",
      "3  Same - covers entire jurisdiction and nothing ...         \n",
      "4  Same - covers entire jurisdiction and nothing ...         \n",
      "\n",
      "   Year of publication or approval  \\\n",
      "0                           2022.0   \n",
      "1                           2022.0   \n",
      "2                           2019.0   \n",
      "3                           2022.0   \n",
      "4                           2018.0   \n",
      "\n",
      "                    Factors considered in assessment  \\\n",
      "0  Assessment considers vulnerable populations; A...   \n",
      "1  Assessment considers nature; Assessment consid...   \n",
      "2  A process has been established for prioritizin...   \n",
      "3  Identified hazards have been incorporated into...   \n",
      "4  A process has been established for prioritizin...   \n",
      "\n",
      "                     Primary author(s) of assessment  \\\n",
      "0  Dedicated team within jurisdiction; Relevant d...   \n",
      "1  Consultant; Dedicated team within jurisdiction...   \n",
      "2                            Question not applicable   \n",
      "3                 Dedicated team within jurisdiction   \n",
      "4                 Dedicated team within jurisdiction   \n",
      "\n",
      "  Does the city have adaptation goal(s) and/or an adaptation plan?  \\\n",
      "0             Adaptation goal(s) and adaptation plan                 \n",
      "1                                    Adaptation plan                 \n",
      "2             Adaptation goal(s) and adaptation plan                 \n",
      "3                                  Incomplete report                 \n",
      "4             Adaptation goal(s) and adaptation plan                 \n",
      "\n",
      "   Population  Population Year            City Location  \\\n",
      "0       92228           2023.0                      NaN   \n",
      "1    17662000           2022.0  POINT (113.813 22.9175)   \n",
      "2      162517           2022.0                      NaN   \n",
      "3       33346           2017.0                      NaN   \n",
      "4       46649           2022.0  POINT (13.1569 55.3751)   \n",
      "\n",
      "              Last update  \n",
      "0  02/07/2024 04:14:16 AM  \n",
      "1  02/07/2024 04:14:16 AM  \n",
      "2  02/07/2024 04:14:16 AM  \n",
      "3  02/07/2024 04:14:16 AM  \n",
      "4  02/07/2024 04:14:16 AM  \n",
      "\n",
      "Data types of each column:\n",
      "Questionnaire                                                        object\n",
      "Organization Number                                                   int64\n",
      "Organization Name                                                    object\n",
      "City                                                                 object\n",
      "Country/Area                                                         object\n",
      "CDP Region                                                           object\n",
      "C40 City                                                               bool\n",
      "GCoM City                                                              bool\n",
      "Access                                                               object\n",
      "Assessment attachment and/or direct link                             object\n",
      "Confirm attachment/link provided                                     object\n",
      "Boundary of assessment relative to jurisdiction boundary             object\n",
      "Year of publication or approval                                     float64\n",
      "Factors considered in assessment                                     object\n",
      "Primary author(s) of assessment                                      object\n",
      "Does the city have adaptation goal(s) and/or an adaptation plan?     object\n",
      "Population                                                            int64\n",
      "Population Year                                                     float64\n",
      "City Location                                                        object\n",
      "Last update                                                          object\n",
      "dtype: object\n",
      "\n",
      "Summary statistics for numeric columns:\n",
      "       Organization Number  Year of publication or approval    Population  \\\n",
      "count          1370.000000                      1344.000000  1.370000e+03   \n",
      "mean         248389.215328                      2019.046875  1.150805e+06   \n",
      "std          353995.489208                         3.588271  2.398421e+06   \n",
      "min            1093.000000                      1990.000000  0.000000e+00   \n",
      "25%           35897.000000                      2018.000000  1.130402e+05   \n",
      "50%           54513.000000                      2020.000000  3.195660e+05   \n",
      "75%           74672.750000                      2022.000000  9.138620e+05   \n",
      "max          931095.000000                      2023.000000  2.460000e+07   \n",
      "\n",
      "       Population Year  \n",
      "count      1362.000000  \n",
      "mean       2020.893539  \n",
      "std           2.152449  \n",
      "min        2010.000000  \n",
      "25%        2020.000000  \n",
      "50%        2021.000000  \n",
      "75%        2022.000000  \n",
      "max        2023.000000  \n",
      "\n",
      "Missing values in each column:\n",
      "Questionnaire                                                         0\n",
      "Organization Number                                                   0\n",
      "Organization Name                                                     0\n",
      "City                                                                439\n",
      "Country/Area                                                          0\n",
      "CDP Region                                                            0\n",
      "C40 City                                                              0\n",
      "GCoM City                                                             0\n",
      "Access                                                                0\n",
      "Assessment attachment and/or direct link                             37\n",
      "Confirm attachment/link provided                                      0\n",
      "Boundary of assessment relative to jurisdiction boundary             12\n",
      "Year of publication or approval                                      26\n",
      "Factors considered in assessment                                     51\n",
      "Primary author(s) of assessment                                      50\n",
      "Does the city have adaptation goal(s) and/or an adaptation plan?      0\n",
      "Population                                                            0\n",
      "Population Year                                                       8\n",
      "City Location                                                       570\n",
      "Last update                                                           0\n",
      "dtype: int64\n"
     ]
    }
   ],
   "source": [
    "# Import necessary libraries\n",
    "import pandas as pd\n",
    "\n",
    "# Load the CSV file\n",
    "data_path = '2023_Cities_Climate_Risk_and_Vulnerability_Assessments_20240207.csv'\n",
    "data = pd.read_csv(data_path)\n",
    "\n",
    "# Display the first few rows of the data\n",
    "print(\"First few rows of the data:\")\n",
    "print(data.head())\n",
    "\n",
    "# Print data types of each column\n",
    "print(\"\\nData types of each column:\")\n",
    "print(data.dtypes)\n",
    "\n",
    "# Summary statistics for numeric columns\n",
    "print(\"\\nSummary statistics for numeric columns:\")\n",
    "print(data.describe())\n",
    "\n",
    "# Check for missing values\n",
    "print(\"\\nMissing values in each column:\")\n",
    "print(data.isnull().sum())"
   ]
  },
  {
   "cell_type": "markdown",
   "id": "711b4c74-3add-4d92-9c71-c9529c99fe3a",
   "metadata": {},
   "source": [
    "Designing the MongoDB database structure - Oprette OLA2_DB og arbejder med collections indeni den. \"citiesClimateRiskAndVulnerabilityAssessments2023\" er 2023_Cities_Climate_Risk_and_Vulnerability_Assessments_20240207.csv"
   ]
  },
  {
   "cell_type": "code",
   "execution_count": 19,
   "id": "cb2d042e-06a1-4d7f-b84f-2997cf5e84a2",
   "metadata": {},
   "outputs": [
    {
     "name": "stdout",
     "output_type": "stream",
     "text": [
      "citiesClimateRiskAndVulnerabilityAssessments2023 data inserted successfully.\n"
     ]
    }
   ],
   "source": [
    "from pymongo import MongoClient\n",
    "import pandas as pd\n",
    "\n",
    "# Step 1: Load the Dataset\n",
    "file_path = '2023_Cities_Climate_Risk_and_Vulnerability_Assessments_20240207.csv'\n",
    "data = pd.read_csv(file_path)\n",
    "\n",
    "# Step 2: Preprocess the Data\n",
    "# Renaming columns for MongoDB compatibility and handling missing values\n",
    "data.columns = data.columns.str.lower().str.replace(' ', '_').str.replace('(', '').str.replace(')', '')\n",
    "data = data.where(pd.notnull(data), None)\n",
    "\n",
    "# Convert the DataFrame to a list of dictionaries suitable for MongoDB\n",
    "records = data.to_dict('records')\n",
    "\n",
    "# Step 3: Connect to MongoDB and Select Database\n",
    "client = MongoClient('mongodb://localhost:27017/')\n",
    "db = client['OLA2_DB']\n",
    "\n",
    "# Define a new collection for this dataset\n",
    "collection_name = 'citiesClimateRiskAndVulnerabilityAssessments2023'\n",
    "collection = db[collection_name]\n",
    "\n",
    "# Step 4: Insert Data into MongoDB\n",
    "collection.insert_many(records)\n",
    "\n",
    "print(f\"{collection_name} data inserted successfully.\")\n"
   ]
  },
  {
   "cell_type": "markdown",
   "id": "bce55a2e-935b-4c9e-b1b3-e152ea5e785e",
   "metadata": {},
   "source": [
    "Task 4: Maintenance Operations\n",
    "Maintenance operations in MongoDB could include regular backups, monitoring database performance, and cleaning up any unused indexes or collections. MongoDB provides utilities like mongodump for backup and mongostat for performance monitoring."
   ]
  },
  {
   "cell_type": "markdown",
   "id": "a1842e6a-aa8c-446b-b5cd-1628edb4c736",
   "metadata": {},
   "source": [
    "Backup with mongodump - To perform a backup of your MongoDB database from within a Jupyter Notebook,"
   ]
  },
  {
   "cell_type": "code",
   "execution_count": 20,
   "id": "65089e66-aece-448e-b3b6-0c16242e79fb",
   "metadata": {},
   "outputs": [
    {
     "name": "stdout",
     "output_type": "stream",
     "text": [
      "Backup completed.\n"
     ]
    }
   ],
   "source": [
    "import subprocess\n",
    "\n",
    "# Define the backup command\n",
    "backup_command = \"mongodump --host=localhost:27017 --db=OLA2_DB --out=/path/to/backup/folder\"\n",
    "\n",
    "# Execute the command\n",
    "process = subprocess.Popen(backup_command, shell=True, stdout=subprocess.PIPE)\n",
    "process.wait()  # Wait for the backup process to complete\n",
    "print(\"Backup completed.\")\n"
   ]
  },
  {
   "cell_type": "markdown",
   "id": "aca17ce3-6f35-4d8a-a4cd-870d5344e87b",
   "metadata": {},
   "source": [
    "Restore with mongorestore\n",
    "To restore a database from a backup:"
   ]
  },
  {
   "cell_type": "code",
   "execution_count": 21,
   "id": "d0dc166d-8505-4a70-a4da-a91f48e195a0",
   "metadata": {},
   "outputs": [
    {
     "name": "stdout",
     "output_type": "stream",
     "text": [
      "Restore completed.\n"
     ]
    }
   ],
   "source": [
    "# Define the restore command\n",
    "restore_command = \"mongorestore --db=OLA2_DB /path/to/backup/folder/OLA2_DB\"\n",
    "\n",
    "# Execute the command\n",
    "process = subprocess.Popen(restore_command, shell=True, stdout=subprocess.PIPE)\n",
    "process.wait()  # Wait for the restore process to complete\n",
    "print(\"Restore completed.\")\n"
   ]
  },
  {
   "cell_type": "markdown",
   "id": "381536ff-d340-44ea-9a48-752c64258121",
   "metadata": {},
   "source": [
    "Monitoring Database Performance with mongostat\r\n",
    "To run mongostat and capture its output for a brief period:"
   ]
  },
  {
   "cell_type": "code",
   "execution_count": 22,
   "id": "386add17-9b49-476b-a886-6f0b04d77784",
   "metadata": {},
   "outputs": [
    {
     "name": "stdout",
     "output_type": "stream",
     "text": [
      "\n"
     ]
    }
   ],
   "source": [
    "# Run mongostat for 5 seconds and capture the output\n",
    "monitoring_command = \"mongostat --host=localhost:27017 --rowcount=5\"\n",
    "\n",
    "process = subprocess.Popen(monitoring_command, shell=True, stdout=subprocess.PIPE)\n",
    "output, error = process.communicate()  # Wait for command to complete and capture output\n",
    "print(output.decode())\n"
   ]
  },
  {
   "cell_type": "markdown",
   "id": "bd3039e8-dabc-46b6-af68-dda917f05a5a",
   "metadata": {},
   "source": [
    "Dropping Unused Collections or Indexes\n",
    "To drop an unused collection or index from within your Jupyter Notebook, you can use pymongo directly:"
   ]
  },
  {
   "cell_type": "code",
   "execution_count": null,
   "id": "f9b103ca-688c-4c6e-877c-5ddb876f3f7c",
   "metadata": {},
   "outputs": [],
   "source": [
    "from pymongo import MongoClient\n",
    "\n",
    "# Connect to MongoDB\n",
    "client = MongoClient('mongodb://localhost:27017/')\n",
    "db = client['OLA2_DB']\n",
    "\n",
    "# Dropping an unused collection\n",
    "db.drop_collection('unusedCollectionName')\n",
    "print(\"Collection dropped successfully.\")\n",
    "\n",
    "# Dropping an unused index from a collection\n",
    "collection = db['yourCollectionName']\n",
    "collection.drop_index('indexName')\n",
    "print(\"Index dropped successfully.\")\n"
   ]
  },
  {
   "cell_type": "markdown",
   "id": "c960c2c1-bf45-437f-95ea-c2da75431e59",
   "metadata": {},
   "source": [
    "Note:\r\n",
    "Before running backup and restore operations, ensure the specified paths exist and you have sufficient permissions.\r\n",
    "The use of subprocess to execute MongoDB command-line tools within a Jupyter Notebook is a workaround and may not offer the same level of flexibility or error handling as running these commands directly in a terminal.\r\n",
    "Always test these operations in a safe, non-production environment to ensure they work as expected in your specific setup."
   ]
  },
  {
   "cell_type": "markdown",
   "id": "9f395dbd-2071-47e9-8cc9-4484baf3bb1a",
   "metadata": {},
   "source": [
    "Task 5: Formulate Questions and Implement Extraction\n",
    "Let's define a few example questions and how you might retrieve that information from MongoDB. These questions are based on the datasets you've uploaded.\n",
    "\n",
    "1) What are the total emissions reduction targets set by cities in 2017?\n",
    "2) Which cities have assessed their climate risk and vulnerability in 2023?\n",
    "3) List all emissions reduction targets set by cities in Denmark.\n",
    "4) What is the average emissions reduction target percentage across all cities?\n",
    "5) Identify cities with an emissions reduction target greater than 30%.\n",
    "6) How many cities have set their baseline year for emissions reduction before 2010?\n",
    "7) Extract all data related to cities' community-wide emissions for 2017.\n",
    "8) Find cities that have both emissions reduction targets and have assessed climate risk and vulnerability.\n",
    "9) List cities with emissions baseline years but no specific reduction targets.\n",
    "10) Which countries are most represented in the climate risk and vulnerability assessments?"
   ]
  },
  {
   "cell_type": "code",
   "execution_count": 23,
   "id": "5aa07cd0-faac-4120-8463-1ee4b85f2c09",
   "metadata": {},
   "outputs": [
    {
     "name": "stdout",
     "output_type": "stream",
     "text": [
      "[{'_id': None, 'totalReductionTarget': nan}]\n"
     ]
    }
   ],
   "source": [
    "# 1. Total Emissions Reduction Targets Set by Cities in 2017\n",
    "\n",
    "total_targets_2017 = db.citiesEmissionsReductionTargets2017.aggregate([\n",
    "    {\"$group\": {\"_id\": None, \"totalReductionTarget\": {\"$sum\": \"$percentage_reduction_target\"}}}\n",
    "])\n",
    "print(list(total_targets_2017))"
   ]
  },
  {
   "cell_type": "code",
   "execution_count": 24,
   "id": "3ab6d71b-7e6f-41c8-8eeb-49dc1c149055",
   "metadata": {},
   "outputs": [
    {
     "name": "stdout",
     "output_type": "stream",
     "text": [
      "[]\n"
     ]
    }
   ],
   "source": [
    "# 2. Cities That Have Assessed Their Climate Risk and Vulnerability in 2023\n",
    "\n",
    "climate_risk_2023 = db.citiesClimateRiskAndVulnerability.find({\"reporting_year\": 2023}, {\"_id\": 0, \"city\": 1})\n",
    "print(list(climate_risk_2023))"
   ]
  },
  {
   "cell_type": "code",
   "execution_count": 25,
   "id": "3c0672cd-b44a-41c3-9444-31a314013dea",
   "metadata": {},
   "outputs": [
    {
     "name": "stdout",
     "output_type": "stream",
     "text": [
      "[{'city': 'Aarhus', 'percentage_reduction_target': 100.0}, {'city': 'Ærøskøbing', 'percentage_reduction_target': 10.0}, {'city': 'Copenhagen', 'percentage_reduction_target': nan}, {'city': 'Egedal', 'percentage_reduction_target': 7.0}, {'city': 'Elsinore', 'percentage_reduction_target': 20.0}, {'city': 'Elsinore', 'percentage_reduction_target': 85.0}, {'city': 'Elsinore', 'percentage_reduction_target': 100.0}, {'city': 'Fredensborg', 'percentage_reduction_target': 25.0}, {'city': 'Fredensborg', 'percentage_reduction_target': 100.0}, {'city': 'Frederikshavn', 'percentage_reduction_target': 100.0}, {'city': 'Gladsaxe', 'percentage_reduction_target': 40.0}, {'city': 'Hoeje-Taastrup', 'percentage_reduction_target': 95.0}, {'city': 'Hørsholm', 'percentage_reduction_target': 20.0}, {'city': 'Lejre', 'percentage_reduction_target': 30.0}, {'city': 'Middelfart', 'percentage_reduction_target': nan}, {'city': 'Middelfart', 'percentage_reduction_target': nan}, {'city': 'Middelfart', 'percentage_reduction_target': 50.0}, {'city': 'Ringkøbing-Skjern', 'percentage_reduction_target': 100.0}, {'city': 'Sonderborg', 'percentage_reduction_target': 25.0}, {'city': 'Sonderborg', 'percentage_reduction_target': 50.0}, {'city': 'Sonderborg', 'percentage_reduction_target': 100.0}]\n"
     ]
    }
   ],
   "source": [
    "# 3. Emissions Reduction Targets Set by Cities in Denmark\n",
    "\n",
    "denmark_targets = db.citiesEmissionsReductionTargets2017.find({\"country\": \"Denmark\"}, {\"_id\": 0, \"city\": 1, \"percentage_reduction_target\": 1})\n",
    "print(list(denmark_targets))"
   ]
  },
  {
   "cell_type": "code",
   "execution_count": 26,
   "id": "13aa1ea1-1b74-43db-8916-d64a33db1b9b",
   "metadata": {},
   "outputs": [
    {
     "name": "stdout",
     "output_type": "stream",
     "text": [
      "[{'_id': None, 'averageReductionTarget': nan}]\n"
     ]
    }
   ],
   "source": [
    "# 4. Average Emissions Reduction Target Percentage Across All Cities\n",
    "\n",
    "average_target = db.citiesEmissionsReductionTargets2017.aggregate([\n",
    "    {\"$group\": {\"_id\": None, \"averageReductionTarget\": {\"$avg\": \"$percentage_reduction_target\"}}}\n",
    "])\n",
    "print(list(average_target))"
   ]
  },
  {
   "cell_type": "code",
   "execution_count": 27,
   "id": "aac15833-26bd-41ec-9139-c06fceff0277",
   "metadata": {},
   "outputs": [
    {
     "name": "stdout",
     "output_type": "stream",
     "text": [
      "[{'city': 'Aarhus'}, {'city': 'Barcelona'}, {'city': 'Auckland '}, {'city': 'Auckland '}, {'city': 'Madrid'}, {'city': 'Madrid'}, {'city': 'Bærum'}, {'city': 'Bogor '}, {'city': 'Bogotá '}, {'city': 'Byron Shire'}, {'city': 'Canberra'}, {'city': 'Canberra'}, {'city': 'Makati'}, {'city': 'Makati'}, {'city': 'Adelaide'}, {'city': 'Adelaide'}, {'city': 'Akureyri'}, {'city': 'Alba-Iulia'}, {'city': 'Alba-Iulia'}, {'city': 'Ann Arbor'}, {'city': 'Arlington, VA'}, {'city': 'Aspen and Pitkin County'}, {'city': 'Athens'}, {'city': 'Atlanta'}, {'city': 'Austin'}, {'city': 'Boston'}, {'city': 'Boulder'}, {'city': 'Brasília'}, {'city': 'Calgary'}, {'city': 'Calgary'}, {'city': 'Cambridge'}, {'city': 'Charlotte'}, {'city': 'Chicago'}, {'city': 'Cincinnati'}, {'city': 'Cincinnati'}, {'city': 'Cleveland'}, {'city': 'Cleveland'}, {'city': 'Cupertino'}, {'city': 'Cupertino'}, {'city': 'Davis, CA'}, {'city': 'Denver'}, {'city': 'Edmonton'}, {'city': 'Emeryville, CA'}, {'city': 'Emeryville, CA'}, {'city': 'Espoo'}, {'city': 'Espoo'}, {'city': 'Fayetteville, AR'}, {'city': 'Hamilton'}, {'city': 'Hamilton'}, {'city': 'Helsinki'}, {'city': 'Iowa '}, {'city': 'Kuala Lumpur'}, {'city': 'Lahti'}, {'city': 'Lakewood'}, {'city': 'Lancaster'}, {'city': 'Lancaster'}, {'city': 'Lancaster'}, {'city': 'Lisbon'}, {'city': 'Lisbon'}, {'city': 'Lisbon'}, {'city': 'London, ON'}, {'city': 'London, ON'}, {'city': 'Los Angeles'}, {'city': 'Los Angeles'}, {'city': 'Los Angeles'}, {'city': 'Los Angeles'}, {'city': 'Mannheim'}, {'city': 'Medford'}, {'city': 'Melbourne'}, {'city': 'Minneapolis'}, {'city': 'New Orleans'}, {'city': 'North Vancouver'}, {'city': 'Oakland'}, {'city': 'Oslo'}, {'city': 'Oslo'}, {'city': 'Oslo'}, {'city': 'Ottawa'}, {'city': 'Palo Alto'}, {'city': 'Paris'}, {'city': 'Paris'}, {'city': 'Park City, UT'}, {'city': 'Philadelphia'}, {'city': 'Pittsburgh'}, {'city': 'Pittsburgh'}, {'city': 'Pittsburgh'}, {'city': 'Portland, OR'}, {'city': 'Porto'}, {'city': 'Providence'}, {'city': 'Reykjavík'}, {'city': 'Reykjavík'}, {'city': 'Richmond, CA'}, {'city': 'Richmond, CA'}, {'city': 'Richmond, VA'}, {'city': 'Rochester'}, {'city': 'Sacramento'}, {'city': 'Sacramento'}, {'city': 'San Diego'}, {'city': 'San Francisco'}, {'city': 'San Francisco'}, {'city': 'Santa Cruz, CA'}, {'city': 'Santa Monica'}, {'city': 'Saskatoon'}, {'city': 'Seattle'}, {'city': 'Shenzhen'}, {'city': 'Somerville, MA'}, {'city': 'St Louis'}, {'city': 'Stockholm'}, {'city': 'Sydney'}, {'city': 'Takoma Park, MD'}, {'city': 'Toronto'}, {'city': 'Turku'}, {'city': 'Vancouver'}, {'city': 'West Palm Beach'}, {'city': 'Windsor'}, {'city': 'Yokohama'}, {'city': 'Firenze'}, {'city': 'Firenze'}, {'city': 'Firenze'}, {'city': 'Washington, DC'}, {'city': 'Elsinore'}, {'city': 'Elsinore'}, {'city': 'Fredensborg'}, {'city': 'Frederikshavn'}, {'city': 'Hamburg'}, {'city': 'Hamburg'}, {'city': 'Groningen'}, {'city': 'Gladsaxe'}, {'city': 'Hong Kong'}, {'city': 'Hong Kong'}, {'city': 'London '}, {'city': 'London '}, {'city': 'Manchester'}, {'city': 'Hoeje-Taastrup'}, {'city': 'Iskandar '}, {'city': 'Magdeburg'}, {'city': 'Magdeburg'}, {'city': 'Middelfart'}, {'city': 'Arendal'}, {'city': 'Cainta'}, {'city': 'New York City'}, {'city': 'New York City'}, {'city': 'Florianópolis'}, {'city': 'Durham'}, {'city': 'Riga'}, {'city': 'Ringkøbing-Skjern'}, {'city': 'Salt Lake City'}, {'city': 'Singapore '}, {'city': 'Sonderborg'}, {'city': 'Sonderborg'}, {'city': 'Heidelberg'}, {'city': 'Zürich'}, {'city': 'Zürich'}, {'city': 'Tainan '}, {'city': 'Taipei'}, {'city': 'Taoyuan'}, {'city': 'The Hague'}, {'city': 'Blacksburg'}, {'city': 'Nyon'}, {'city': 'Wellington'}, {'city': 'Wellington'}, {'city': 'Wellington'}, {'city': 'Wellington'}]\n"
     ]
    }
   ],
   "source": [
    "# 5. Cities with an Emissions Reduction Target Greater Than 30%\n",
    "\n",
    "cities_above_30 = db.citiesEmissionsReductionTargets2017.find({\"percentage_reduction_target\": {\"$gt\": 30}}, {\"_id\": 0, \"city\": 1})\n",
    "print(list(cities_above_30))"
   ]
  },
  {
   "cell_type": "code",
   "execution_count": 28,
   "id": "1508e9b5-1ec9-46b8-9172-1e575f297c97",
   "metadata": {},
   "outputs": [
    {
     "name": "stdout",
     "output_type": "stream",
     "text": [
      "0\n"
     ]
    }
   ],
   "source": [
    "# 6. Number of Cities with Baseline Year for Emissions Reduction Before 2010\n",
    "\n",
    "cities_before_2010 = db.citiesEmissionsReductionTargets2017.count_documents({\"baseline_year\": {\"$lt\": 2010}})\n",
    "print(cities_before_2010)"
   ]
  },
  {
   "cell_type": "code",
   "execution_count": 29,
   "id": "ca749ae3-d3fe-497d-9132-ce133af1ce6b",
   "metadata": {},
   "outputs": [
    {
     "name": "stdout",
     "output_type": "stream",
     "text": [
      "[{'_id': ObjectId('65fc951cecc75b1bd8d14df4'), 'account_number': 49363, 'organization': 'Nelson Mandela Bay Municipality', 'city': 'Nelson Mandela Bay ', 'country': 'South Africa', 'region': 'Africa', 'c40': None, 'access': 'Public', 'reporting_year': 2017, 'accounting_year': '2013-07-01 - 2014-06-30', 'boundary': 'A metropolitan area', 'protocol': 'Global Protocol for Community-Scale Greenhouse Gas Emissions Inventories (GPC), (WRI, C40 and ICLEI)', 'protocol_column': None, 'gases_included': None, 'total_emissions_metric_tonnes_co2e': 12232310.0, 'scopes_included_': 'Total Scope 1, Scope 2 and Waste Scope 3 (Total BASIC emissions)', 'total_scope_1_emissions_metric_tonnes_co2e': 2249502.0, 'total_scope_2_emissions_metric_tonnes_co2e': 9982808.0, 'comment': None, 'increase/decrease_from_last_year': 'Increased', 'reason_for_increase/decrease_in_emissions': 'We are gradually improving the accuracy of our data collection', 'population': 1152115, 'population_year': 2011, 'gdp': 52147.0, 'gdp_currency': 'ZAR     South African Rand', 'gdp_year': 2010.0, 'gdp_source': 'Built Environment Performance Plan(BEPP)', 'average_annual_temperature_in_celsius\\u200b': 17.5, '\\u200baverage_altitude_m': 69.0, '\\u200bland_area_in_square_km': 1950.0, 'city_location': '(-33.745241, 25.568108)', 'country_location': '(-30.559482, 22.937506)'}, {'_id': ObjectId('65fc951cecc75b1bd8d14df5'), 'account_number': 31171, 'organization': 'Ayuntamiento de Madrid', 'city': 'Madrid', 'country': 'Spain', 'region': 'Europe', 'c40': 'C40', 'access': 'Public', 'reporting_year': 2017, 'accounting_year': '2014-01-01 - 2014-12-31', 'boundary': 'Administrative boundary of a local government', 'protocol': 'Global Protocol for Community-Scale Greenhouse Gas Emissions Inventories (GPC), (WRI, C40 and ICLEI)', 'protocol_column': 'Adaptation from Madrid Air Quality Inventory elaborated under the frame of EMEP CORINAIR METHOLOGY', 'gases_included': None, 'total_emissions_metric_tonnes_co2e': 9236196.0, 'scopes_included_': 'Total Scope 1, Scope 2 and Waste Scope 3 (Total BASIC emissions)', 'total_scope_1_emissions_metric_tonnes_co2e': 7069783.0, 'total_scope_2_emissions_metric_tonnes_co2e': 3408424.0, 'comment': None, 'increase/decrease_from_last_year': 'Decreased', 'reason_for_increase/decrease_in_emissions': 'A decrease  of a 2,17 % in global emissions in 2014 in comparison to 2013, Although Scope 2 and 3 Emissions have been increased in a 4,86 %, Scope 1 emissions have been reduced in a 5,57 %', 'population': 3165883, 'population_year': 2016, 'gdp': 129378000000.0, 'gdp_currency': 'EUR     Euro', 'gdp_year': 2015.0, 'gdp_source': 'Contabilidad Municipal Trimestral. Ciudad de Madrid. Base 2010. Serie 2000-2015', 'average_annual_temperature_in_celsius\\u200b': 15.0, '\\u200baverage_altitude_m': 655.0, '\\u200bland_area_in_square_km': 604.0, 'city_location': '(40.1076253, -3.3875673)', 'country_location': '(40.463667, -3.74922)'}, {'_id': ObjectId('65fc951cecc75b1bd8d14df6'), 'account_number': 3417, 'organization': 'New York City', 'city': 'New York City', 'country': 'USA', 'region': 'North America', 'c40': 'C40', 'access': 'Public', 'reporting_year': 2017, 'accounting_year': '2015-01-01 - 2015-12-31', 'boundary': 'Administrative boundary of a local government', 'protocol': 'Global Protocol for Community-Scale Greenhouse Gas Emissions Inventories (GPC), (WRI, C40 and ICLEI)', 'protocol_column': 'ConEdison (ConEd) provided data on use of citywide electricityand steam, and natural gas in the Bronx, Manhattan, and parts ofQueens. National Grid reported natural gas use data for Brooklyn,parts of Queens, and Staten Island. The Long Island Power Author-ity (LIPA) reported electricity use data for the Rockaways area ofQueens. Fuel oil use was provided by private fuel oil suppliers, perLocal Law 43 of 2013, which requires fuel oil providers to reportfuel oil deliveries by fuel type to the City on an annual basis. TheNew York Metropolitan Transportation Council (NYMTC) providedon-road transportation vehicle-miles-traveled (VMT) data. Energyuse data for public transit were provided by the MetropolitanTransportation Authority (MTA) for New York City Transit (NYCT)subways and buses, Staten Island Railway (SIR), MTA Metro-NorthRail Road (MNR) and Long Island Railroad (LIRR) commuter rail,and MTA Bus Company buses; by the Port Authority of New Yorkand New Jersey (PANYNJ) for Trans-Hudson (PATH) commuter rail;and New Jersey Transit (NJT) for its commuter rail and buses.Data used to calculate fugitive and process CH4 and process N2Ofrom wastewater treatment were provided by DEP. CH4 emissionswere calculated based on the destruction of volatile material inanaerobic digesters. Based on the measured concentration andflow of volatile organic solids, it is estimated that 15 cubic feet ofdigester gas is produced for every pound of volatile organic solidsdestroyed. N2O emissions were calculated by applying the dailynitrogen load discharged by each of the City’s 14 wastewatertreatment plant to the formula in the LGOP.Fugitive CH4 from in-city landfills was calculated from landfill gascollection data provided by the New York City Department of Sani-tation (DSNY) and DEP per the LGOP. Fugitive CH4 from exportedsolid waste was calculated using waste disposal figures for resi-dential, commercial, and construction and demolition waste andapplying emissions factors from the USCP, which were taken fromEPA’s Waste Reduction Model (WARM). Fugitive CH4 from naturalgas distribution was calculated using data provided by NationalGrid and ConEd. Fugitive SF6 from electricity distribution was cal-culated using data provided by ConEd. .', 'gases_included': None, 'total_emissions_metric_tonnes_co2e': 52042186.0, 'scopes_included_': 'Total Scope 1, Scope 2 and Waste Scope 3 (Total BASIC emissions)', 'total_scope_1_emissions_metric_tonnes_co2e': 38962264.0, 'total_scope_2_emissions_metric_tonnes_co2e': 14343743.0, 'comment': None, 'increase/decrease_from_last_year': 'Decreased', 'reason_for_increase/decrease_in_emissions': 'The most significant driver was a milder winter in 2015 versus 2014.', 'population': 8537673, 'population_year': 2016, 'gdp': 1558520000000.0, 'gdp_currency': 'USD     US Dollar', 'gdp_year': 2015.0, 'gdp_source': 'http://www.brookings.edu/research/reports2/2015/01/22-global-metro-monitor', 'average_annual_temperature_in_celsius\\u200b': 13.0, '\\u200baverage_altitude_m': 10.0, '\\u200bland_area_in_square_km': 784.0, 'city_location': '(40.7127837, -74.0059413)', 'country_location': '(37.09024, -95.712891)'}, {'_id': ObjectId('65fc951cecc75b1bd8d14df7'), 'account_number': 59537, 'organization': 'City of Denton, TX', 'city': 'Denton, TX', 'country': 'USA', 'region': 'North America', 'c40': None, 'access': 'Public', 'reporting_year': 2017, 'accounting_year': '2015-01-01 - 2015-12-31', 'boundary': 'Administrative boundary of a local government', 'protocol': 'U.S. Community Protocol for Accounting and Reporting of Greenhouse Gas Emissions (ICLEI)', 'protocol_column': 'Since 2006, the City has utilized software developed and endorsed by ICLEI Local Governments for Sustainability (ICLEI) and partners including the National Association of Clean Air Agencies (NACAA) and the U.S. Environmental Protection Agency (USEPA).  The software has been updated over time to reflect current scientific understanding and to remain consistent with the latest inventory protocols. Since 2011, the City has used ICLEI’s web-based ClearPath software, which allows for efficient protocol updates, technical support, and improved forecasting and planning strategies. Data pertaining to energy use, fuel consumption, and waste is gathered from City departments, community agencies, and service providers and entered into the software to generate GHG inventories for both municipal operations and for the community as a whole. The software uses the latest methods and emissions factors to translate this data into equivalent CO2 emissions.', 'gases_included': 'CO2; CH4; N2O', 'total_emissions_metric_tonnes_co2e': 1604007.0, 'scopes_included_': 'Total Scope 1 and Scope 2', 'total_scope_1_emissions_metric_tonnes_co2e': 898681.0, 'total_scope_2_emissions_metric_tonnes_co2e': 759270.0, 'comment': 'The one sector of tracking and reporting accurate emissions that we lack some confidence is Transportation because the figures are based on estimations from a regional council of governments.', 'increase/decrease_from_last_year': 'Decreased', 'reason_for_increase/decrease_in_emissions': 'Overall Community GHGs have fallen 1% since 2002, with a 13% reduction since 2006. Generally we continue on a downward emissions trend, with a 1% reduction from 2011 to 2015. Community emissions per capita have also steadily dropped over time from 17.51 to 12.24 metric tons CO2e/person, a 30 % reduction, from 2002 to 2015. In addition, per capita emissions are 34% lower for Denton than for the U.S. average, in 2015 (World Bank). \\n\\nThe largest sources of community GHGs are from transportation (46%) and from residential (19%), commercial (10%), and industrial (18%) electricity consumption (together totaling 47% of Community GHGs). Emissions from the wastewater digester represent less than 1 % of total municipal GHG’s.\\n\\nAs with municipal operations, Community electricity related emissions have dropped by 26% from 2006, including a 3% drop from 2011 to 2015. This reduction is largely due to DME purchasing 40% wind electricity for all Denton customers beginning in 2009, and reducing purchases from coal produced electricity by 44% from 2011 to 2015.  It is important to note, that electricity related emissions from municipal operations dropped 11% from 2011 to 2015. In addition DME expanded it’s free residential and small commercial energy audit program in 2008, and launched the GreenSense Energy Efficiency Rebate program for residential and small commercial customers in 2009.  The City created a Conservation Program Coordinator position in 2014 to enhance the audit and rebate program, and to develop increased public education about energy and water conservation. In addition, the City created a Bike and Pedestrian Coordinator position in 2015, to implement the Bike Plan adopted in February 2012. The Coordinators responsibilities include promoting bicycle and pedestrian infrastructure, education, and community events.', 'population': 131044, 'population_year': 2015, 'gdp': nan, 'gdp_currency': None, 'gdp_year': nan, 'gdp_source': None, 'average_annual_temperature_in_celsius\\u200b': 18.2, '\\u200baverage_altitude_m': 192.0, '\\u200bland_area_in_square_km': 227.8, 'city_location': '(33.214841, -97.133068)', 'country_location': '(37.09024, -95.712891)'}, {'_id': ObjectId('65fc951cecc75b1bd8d14df8'), 'account_number': 35894, 'organization': 'Ville de Montreal', 'city': 'Montreal', 'country': 'Canada', 'region': 'North America', 'c40': 'C40', 'access': 'Public', 'reporting_year': 2017, 'accounting_year': '2013-01-01 - 2013-12-31', 'boundary': 'A metropolitan area', 'protocol': 'Global Protocol for Community-Scale Greenhouse Gas Emissions Inventories (GPC), (WRI, C40 and ICLEI)', 'protocol_column': None, 'gases_included': None, 'total_emissions_metric_tonnes_co2e': 10197555.0, 'scopes_included_': 'Total Scope 1, Scope 2 and Waste Scope 3 (Total BASIC emissions)', 'total_scope_1_emissions_metric_tonnes_co2e': 10729801.0, 'total_scope_2_emissions_metric_tonnes_co2e': 61912.0, 'comment': None, 'increase/decrease_from_last_year': 'Decreased', 'reason_for_increase/decrease_in_emissions': 'Agglomeration-wide GHG emissions were 25% lower in 2013 compared to 1990, the baseline year. This is due to a combination of factors including :\\n\\n- Decreased consumption of fuel oil of all sectors stationary energy\\n- Closure of one oil refinery.\\n- Increased efficiency of collecting biogas from landfills\\n\\n\\nAlso, GHG emissions were 21 % lower in 2013 compared to 2009, the previous inventory, without factoring in methodological changes applied in 2013.', 'population': 1959987, 'population_year': 2013, 'gdp': 115412801.0, 'gdp_currency': 'CAD     Canadian Dollar', 'gdp_year': 2013.0, 'gdp_source': 'Institut de la statistique du Québec', 'average_annual_temperature_in_celsius\\u200b': 6.8, '\\u200baverage_altitude_m': 17.0, '\\u200bland_area_in_square_km': 500.0, 'city_location': '(45.5086699, -73.5539925)', 'country_location': '(56.130366, -106.346771)'}, {'_id': ObjectId('65fc951cecc75b1bd8d14df9'), 'account_number': 2430, 'organization': 'City of Burlington', 'city': 'Burlington', 'country': 'USA', 'region': 'North America', 'c40': None, 'access': 'Public', 'reporting_year': 2017, 'accounting_year': '2010-01-01 - 2010-12-31', 'boundary': 'Administrative boundary of a local government', 'protocol': 'International Emissions Analysis Protocol (ICLEI)', 'protocol_column': 'The City of Burlington collects emissions data in an Excel-based GHG Inventory Modeling Workbook developed and populated with the help of an environmental consultant.  Electricity data comes from the Burlington Electric Department. Natural gas data is provided by Vermont Gas. To generate transportation data, staff input miles per functional class and average annual daily traffic into CACP Transport Assistant Tool to obtain vehicle miles traveled by functional class and total emissions. The calculation of the community solid waste adds the total CSWD municipal solid waste and construction and demolition debris, then multiplied it by the Burlington population over the CSWD population.', 'gases_included': 'CO2', 'total_emissions_metric_tonnes_co2e': 405385.0, 'scopes_included_': 'Total Scope 1 and Scope 2', 'total_scope_1_emissions_metric_tonnes_co2e': 405382.0, 'total_scope_2_emissions_metric_tonnes_co2e': 37305.0, 'comment': 'This number is the total amount of emissions provided in our GHG emissions inventory and modeling workbook.', 'increase/decrease_from_last_year': 'Decreased', 'reason_for_increase/decrease_in_emissions': 'Burlington continues to \"green\" its energy mix. With cleaner sources of energy supplying electricity to the grid, fewer emissions are being released.', 'population': 42284, 'population_year': 2015, 'gdp': 12700000.0, 'gdp_currency': 'USD     US Dollar', 'gdp_year': 2014.0, 'gdp_source': 'Bureau of Economic Analysis', 'average_annual_temperature_in_celsius\\u200b': 7.7, '\\u200baverage_altitude_m': 61.0, '\\u200bland_area_in_square_km': 40.1, 'city_location': '(44.4758825, -73.212072)', 'country_location': '(37.09024, -95.712891)'}, {'_id': ObjectId('65fc951cecc75b1bd8d14dfa'), 'account_number': 43937, 'organization': 'Wellington City Council', 'city': 'Wellington', 'country': 'New Zealand', 'region': 'South Asia and Oceania', 'c40': None, 'access': 'Public', 'reporting_year': 2017, 'accounting_year': '2014-07-01 - 2015-06-30', 'boundary': 'Administrative boundary of a local government', 'protocol': 'Global Protocol for Community-Scale Greenhouse Gas Emissions Inventories (GPC), (WRI, C40 and ICLEI)', 'protocol_column': None, 'gases_included': None, 'total_emissions_metric_tonnes_co2e': 773061.0, 'scopes_included_': 'Total Scope 1, Scope 2 and Waste Scope 3 (Total BASIC emissions)', 'total_scope_1_emissions_metric_tonnes_co2e': 621179.0, 'total_scope_2_emissions_metric_tonnes_co2e': 171780.0, 'comment': None, 'increase/decrease_from_last_year': 'Decreased', 'reason_for_increase/decrease_in_emissions': 'The decrease in emissions we have experienced is largely due to reductions in emissions from stationary energy. This decrease is primarily from a reduction in demand, but also from the increasing proportion of renewable energy generated in New Zealand.', 'population': 209102, 'population_year': 2017, 'gdp': 18452000000.0, 'gdp_currency': 'NZD     New Zealand Dollar', 'gdp_year': 2015.0, 'gdp_source': 'Infometrics', 'average_annual_temperature_in_celsius\\u200b': 12.7, '\\u200baverage_altitude_m': nan, '\\u200bland_area_in_square_km': 290.1, 'city_location': '(26.661763, -80.268357)', 'country_location': '(-40.900557, 174.885971)'}, {'_id': ObjectId('65fc951cecc75b1bd8d14dfb'), 'account_number': 16581, 'organization': 'City of Seattle', 'city': 'Seattle', 'country': 'USA', 'region': 'North America', 'c40': 'C40', 'access': 'Public', 'reporting_year': 2017, 'accounting_year': '2014-01-01 - 2014-12-31', 'boundary': 'Administrative boundary of a local government', 'protocol': 'U.S. Community Protocol for Accounting and Reporting of Greenhouse Gas Emissions (ICLEI)', 'protocol_column': 'Please see detailed source notes throughout the inventory document. The inventory also conforms to the GPC', 'gases_included': 'CO2; CH4; SF6', 'total_emissions_metric_tonnes_co2e': 3471000.0, 'scopes_included_': 'Total Scope 1 and Scope 2', 'total_scope_1_emissions_metric_tonnes_co2e': nan, 'total_scope_2_emissions_metric_tonnes_co2e': nan, 'comment': 'The level of uncertainty associated with the data is addressed in the source notes in each section. http://www.seattle.gov/Documents/Departments/OSE/ClimateDocs/2014GHG%20inventorySept2016.pdf', 'increase/decrease_from_last_year': 'Decreased', 'reason_for_increase/decrease_in_emissions': 'The total amount of GHGs emitted from the core emissions sources has declined 6% between 2008 and 2014, from 3.7 to 3.5 million metric tons of CO2-equivalent (CO2e).  However, Seattle’s population grew by 13% in the same period resulting in a per person decline in emissions of 17%.\\nRoad transportation has been the largest category of emissions since 1990. Total emissions in this sector increased between 1990 and 2008, however, they have been decreasing since 2008. Advances in vehicle technology, plus a trend towards fewer vehicle miles travelled per person, have led both to decreased absolute emissions from road transportation (down 2% since 2008) and decreased emissions per person (down 13% during this period).\\nBetween 2008 and 2014, building-related emissions declined as a result of lower overall building energy use, particularly for residential buildings, due to energy efficiency, more multi-family living, and especially by warmer weather that reduced winter heating needs.\\n\\nThis decline, though modest, is more impressive considering Seattle’s population and economy have grown considerably since 1990.  On a per resident basis, Seattle’s emissions declined  22% per since 1990 and 6% since 2008.\\n\\nA number of factors led to emissions decreases that counteracted the effect of population and economic growth, especially (as already noted) the decrease in carbon intensity of Seattle City Light’s electricity, more efficient cars and trucks, and building efficiency (including smaller dwellings) and fuel switching.  Increased efficiency of air travel also contributed to a decrease in GHG emissions.', 'population': 662400, 'population_year': 2015, 'gdp': 300827000000.0, 'gdp_currency': None, 'gdp_year': 2014.0, 'gdp_source': 'US Dept Commerce for Seattle-Tacoma-Bellevue region', 'average_annual_temperature_in_celsius\\u200b': 11.0, '\\u200baverage_altitude_m': 15.0, '\\u200bland_area_in_square_km': 3692.0, 'city_location': '(47.6062, -122.3321)', 'country_location': '(37.09024, -95.712891)'}, {'_id': ObjectId('65fc951cecc75b1bd8d14dfc'), 'account_number': 54386, 'organization': 'Tainan City Government', 'city': 'Tainan ', 'country': 'Taiwan', 'region': 'East Asia', 'c40': None, 'access': 'Public', 'reporting_year': 2017, 'accounting_year': '2014-01-01 - 2014-12-31', 'boundary': 'Administrative boundary of a local government', 'protocol': 'International Emissions Analysis Protocol (ICLEI)', 'protocol_column': 'In addition  to IEAP, we also use the GPC and \"Guide for GHG inventory\" to calculate the GHG emission.', 'gases_included': 'CO2; PFCs; CH4; SF6; N2O; NF3; HFCs', 'total_emissions_metric_tonnes_co2e': 21458525.0, 'scopes_included_': 'Total Scope 1 and Scope 2', 'total_scope_1_emissions_metric_tonnes_co2e': 8327944.05, 'total_scope_2_emissions_metric_tonnes_co2e': 13130580.47, 'comment': None, 'increase/decrease_from_last_year': 'Decreased', 'reason_for_increase/decrease_in_emissions': 'First, the amounts of LPG and heavy oil from industry were decreased and some replace LPG and heavy oil as LNG.', 'population': 1886033, 'population_year': 2016, 'gdp': 42492323490.0, 'gdp_currency': 'USD     US Dollar', 'gdp_year': 2016.0, 'gdp_source': 'National Statistics, ROC (Taiwan)', 'average_annual_temperature_in_celsius\\u200b': 24.0, '\\u200baverage_altitude_m': nan, '\\u200bland_area_in_square_km': 2192.0, 'city_location': '(22.9999, 120.2269)', 'country_location': '(23.69781, 120.960515)'}, {'_id': ObjectId('65fc951cecc75b1bd8d14dfd'), 'account_number': 49342, 'organization': 'City of Rochester', 'city': 'Rochester', 'country': 'USA', 'region': 'North America', 'c40': None, 'access': 'Public', 'reporting_year': 2017, 'accounting_year': '2014-01-01 - 2014-12-31', 'boundary': 'Administrative boundary of a local government', 'protocol': 'U.S. Community Protocol for Accounting and Reporting of Greenhouse Gas Emissions (ICLEI)', 'protocol_column': None, 'gases_included': 'CO2; CH4; N2O', 'total_emissions_metric_tonnes_co2e': 1800000.0, 'scopes_included_': 'Total Scope 1 and Scope 2', 'total_scope_1_emissions_metric_tonnes_co2e': nan, 'total_scope_2_emissions_metric_tonnes_co2e': nan, 'comment': 'This GHG inventory was conducted by the Brendle Group, a Colorado-based environmental consulting firm.', 'increase/decrease_from_last_year': None, 'reason_for_increase/decrease_in_emissions': None, 'population': 210563, 'population_year': 2010, 'gdp': 43202.0, 'gdp_currency': 'USD     US Dollar', 'gdp_year': 2013.0, 'gdp_source': 'Open Data Network', 'average_annual_temperature_in_celsius\\u200b': 9.0, '\\u200baverage_altitude_m': 154.0, '\\u200bland_area_in_square_km': 96.0, 'city_location': '(43.161, -77.6109)', 'country_location': '(37.09024, -95.712891)'}, {'_id': ObjectId('65fc951cecc75b1bd8d14dfe'), 'account_number': 54402, 'organization': 'City of Lahti', 'city': 'Lahti', 'country': 'Finland', 'region': 'Europe', 'c40': None, 'access': 'Public', 'reporting_year': 2017, 'accounting_year': '2015-01-01 - 2015-12-31', 'boundary': 'Administrative boundary of a local government', 'protocol': '2006 IPCC Guidelines for National Greenhouse Gas Inventories', 'protocol_column': 'With some national modifications. Emissions and energy use are calculated from year 2015, when Lahti had not yet united with neighbouring community Nastola. Lahti had 103914 inhabitants and its area was 518 sq-km.', 'gases_included': 'CO2; CH4; N2O', 'total_emissions_metric_tonnes_co2e': 717200.0, 'scopes_included_': 'Total Scope 1 and Scope 2', 'total_scope_1_emissions_metric_tonnes_co2e': 717200.0, 'total_scope_2_emissions_metric_tonnes_co2e': 157607.0, 'comment': 'Energy production CHP, process power, wastes and waste water calculations quite high level of confidence. Traffic calculation is based on national LIISA model, not actual emissions. Separate heating, industrial machinery, agriculture and its energy use are not so high level of confidence, because information harder to find .and emission calculatios are based on statistics. Calculations are made with national tool called KASVENER (2007), but with updated GWP factors.', 'increase/decrease_from_last_year': 'Decreased', 'reason_for_increase/decrease_in_emissions': 'Decreased from baseline year 1990. New waste gasification plant 2012 and collecting separate energy waste from citizens. Effective waste water treatment with collecting biogas before composting the sludge. Effective and energy-efficient waste and biowaste collection and treatment (new biogas plant 2014). Better energy effiency in buildings.', 'population': 119452, 'population_year': 2016, 'gdp': 6225000000.0, 'gdp_currency': 'EUR     Euro', 'gdp_year': 2014.0, 'gdp_source': 'http://www.tilastokeskus.fi/tup/suoluk/suoluk_vaesto.html#maakuntienpinta-ala,väestöjabruttokansantuote', 'average_annual_temperature_in_celsius\\u200b': 4.4, '\\u200baverage_altitude_m': 90.0, '\\u200bland_area_in_square_km': 459.4, 'city_location': '(60.9833, 25.65)', 'country_location': '(61.92411, 25.748151)'}, {'_id': ObjectId('65fc951cecc75b1bd8d14dff'), 'account_number': 50541, 'organization': 'City of Greensboro', 'city': 'Greensboro', 'country': 'USA', 'region': 'North America', 'c40': None, 'access': 'Public', 'reporting_year': 2017, 'accounting_year': '2013-01-01 - 2013-12-31', 'boundary': 'Administrative boundary of a local government', 'protocol': 'U.S. Community Protocol for Accounting and Reporting of Greenhouse Gas Emissions (ICLEI)', 'protocol_column': None, 'gases_included': 'CO2', 'total_emissions_metric_tonnes_co2e': 4467691.0, 'scopes_included_': 'Total Scope 1 and Scope 2', 'total_scope_1_emissions_metric_tonnes_co2e': nan, 'total_scope_2_emissions_metric_tonnes_co2e': nan, 'comment': None, 'increase/decrease_from_last_year': 'Decreased', 'reason_for_increase/decrease_in_emissions': \"The inventory prepared in 2015 (based on 2013 data) indicated a decrease in GHG emissions compared with the prior inventory prepared in 2010 (based on 2007 data).  The 2007 inventory found that a total of 5,365,412 tons of CO2e\\u200b were emitted in Greensboro.  The 2013 inventory showed a decrease of 897,721 tons to 4,467,691 tons of CO2e.\\n\\nAmong the factors found to be contributing to this reduction were:  1) greater energy efficiency and conservation in the residential and commercial sectors; 2) reduced number of industrial operations that are highly energy intensive; 3) conversion of Duke Energy's power generation plant fleet away from coal-fired units to natural gas fired units; and 4) reduced total motor vehicle miles traveled in Greensboro.\\n\\nAdditional factors that may have influenced this reduction include:  1) the national economic recession, during which many commercial and industrial sectors experienced significant contractions, many workers were unemployed, and many households downsized to smaller less energy consuming dwellings; and 2) the Better Buildings for Greensboro program, which received $4.7M through American Recovery and Reinvestment Act of 2009.  The program provided:  a) free compact fluorescent lightbulbs, b) low-flow showerheads, c) Kill-A-Watt energy usage meters, d) home energy efficiency audits e) low-interest financing for purchase of energy-efficient appliances, f) energy bill rebates for home energy-efficiency upgrades, and g) funding for energy-efficiency upgrades to business and government buildings.\", 'population': 287027, 'population_year': 2017, 'gdp': nan, 'gdp_currency': None, 'gdp_year': nan, 'gdp_source': None, 'average_annual_temperature_in_celsius\\u200b': 15.0, '\\u200baverage_altitude_m': 272.0, '\\u200bland_area_in_square_km': 346.5, 'city_location': '(36.072635, -79.791975)', 'country_location': '(37.09024, -95.712891)'}, {'_id': ObjectId('65fc951cecc75b1bd8d14e00'), 'account_number': 50154, 'organization': 'City of Turku', 'city': 'Turku', 'country': 'Finland', 'region': 'Europe', 'c40': None, 'access': 'Public', 'reporting_year': 2017, 'accounting_year': '2015-01-01 - 2015-12-31', 'boundary': 'Administrative boundary of a local government', 'protocol': '2006 IPCC Guidelines for National Greenhouse Gas Inventories', 'protocol_column': 'For a local authority level the IPCC guidelines have been applied according to: European Union/Covenant of Mayors, 2010. How to develop a Sustainable Energy Action Plan - Guidebook. Part II, Baseline emissions inventory. The sectors included are: heating, electricity consumption (including industry), fuels for industry and machinery, road traffic, other traffic, agriculture and waste management.', 'gases_included': 'CO2; CH4; N2O', 'total_emissions_metric_tonnes_co2e': 840800.0, 'scopes_included_': 'Total Scope 1 and Scope 2', 'total_scope_1_emissions_metric_tonnes_co2e': 368300.0, 'total_scope_2_emissions_metric_tonnes_co2e': 472400.0, 'comment': 'See answer to question C1.13a. Inventory report is available only in Finnish.', 'increase/decrease_from_last_year': 'Decreased', 'reason_for_increase/decrease_in_emissions': 'Due to weather conditions the demand for heat was low. In Finland the emission factor for electricity was low. Also other sectors decreased.', 'population': 187000, 'population_year': 2016, 'gdp': 8700000000.0, 'gdp_currency': 'USD     US Dollar', 'gdp_year': 2012.0, 'gdp_source': 'Statistics Finland', 'average_annual_temperature_in_celsius\\u200b': 5.5, '\\u200baverage_altitude_m': 10.0, '\\u200bland_area_in_square_km': 246.0, 'city_location': '(60.4518126, 22.2666303)', 'country_location': '(61.92411, 25.748151)'}, {'_id': ObjectId('65fc951cecc75b1bd8d14e01'), 'account_number': 54111, 'organization': 'City of Iowa City', 'city': 'Iowa ', 'country': 'USA', 'region': 'North America', 'c40': None, 'access': 'Public', 'reporting_year': 2017, 'accounting_year': '2015-01-01 - 2015-12-31', 'boundary': 'Administrative boundary of a local government', 'protocol': 'Global Protocol for Community-Scale Greenhouse Gas Emissions Inventories (GPC), (WRI, C40 and ICLEI)', 'protocol_column': 'This the first year Iowa City has used this protocol to report ghgs.', 'gases_included': None, 'total_emissions_metric_tonnes_co2e': 1045993.0, 'scopes_included_': 'Total Scope 1, Scope 2 and Waste Scope 3 (Total BASIC emissions)', 'total_scope_1_emissions_metric_tonnes_co2e': 612546.0, 'total_scope_2_emissions_metric_tonnes_co2e': 433447.0, 'comment': None, 'increase/decrease_from_last_year': 'Decreased', 'reason_for_increase/decrease_in_emissions': 'Our utility provider, MidAmerican Energy is moving towards 100% renewables for electricity. The University of Iowa has increased the use of biofuels in their power plant and the City has increased energy efficiency standards in the building code. The population of Iowa City has increased, but the per capita emissions have decreased since we have been tracking emissions.', 'population': 74220, 'population_year': 2015, 'gdp': 8564000000.0, 'gdp_currency': 'USD     US Dollar', 'gdp_year': 2013.0, 'gdp_source': 'BEA-for Metropolitan Statistical Area', 'average_annual_temperature_in_celsius\\u200b': 10.5, '\\u200baverage_altitude_m': 203.0, '\\u200bland_area_in_square_km': 65.5, 'city_location': '(41.6611, -91.5302)', 'country_location': '(37.09024, -95.712891)'}, {'_id': ObjectId('65fc951cecc75b1bd8d14e02'), 'account_number': 54085, 'organization': 'City of Savannah', 'city': 'Savannah', 'country': 'USA', 'region': 'North America', 'c40': None, 'access': 'Public', 'reporting_year': 2017, 'accounting_year': '2014-01-01 - 2014-12-31', 'boundary': 'Administrative boundary of a local government', 'protocol': 'International Emissions Analysis Protocol (ICLEI)', 'protocol_column': None, 'gases_included': 'CO2; CH4; N2O', 'total_emissions_metric_tonnes_co2e': 3609546.0, 'scopes_included_': 'Total Scope 1 and Scope 2', 'total_scope_1_emissions_metric_tonnes_co2e': 2381327.0, 'total_scope_2_emissions_metric_tonnes_co2e': 1228219.0, 'comment': 'Inventory contains information on in-boundary transportation (transit, passenger, freight), electricity generation (residential, commercial and industrial) and stationary fuel combustion (residential, commercial and industrial).  All water and waste related emissions are already included in the municipal inventory.', 'increase/decrease_from_last_year': 'This is our first year of calculation', 'reason_for_increase/decrease_in_emissions': None, 'population': 145674, 'population_year': 2015, 'gdp': 15905000000.0, 'gdp_currency': 'USD     US Dollar', 'gdp_year': 2014.0, 'gdp_source': 'Bureau of Economic Analysis:  http://www.bea.gov/iTable/iTable.cfm?reqid=70&step=1&isuri=1&acrdn=3#reqid=70&step=10&isuri=1&7003=200&7035=-1&7004=naics&7005=-1&7006=42340&7036=-1&7001=2200&7002=2&7090=70&7007=2014&7093=levels', 'average_annual_temperature_in_celsius\\u200b': 19.0, '\\u200baverage_altitude_m': 15.0, '\\u200bland_area_in_square_km': 175.0, 'city_location': '(32.0835, -81.0998)', 'country_location': '(37.09024, -95.712891)'}, {'_id': ObjectId('65fc951cecc75b1bd8d14e03'), 'account_number': 54046, 'organization': 'City of Brownsville', 'city': 'Brownsville', 'country': 'USA', 'region': 'North America', 'c40': None, 'access': 'Public', 'reporting_year': 2017, 'accounting_year': '2015-10-01 - 2016-09-30', 'boundary': 'Administrative boundary of a local government', 'protocol': 'Global Protocol for Community-Scale Greenhouse Gas Emissions Inventories (GPC), (WRI, C40 and ICLEI)', 'protocol_column': None, 'gases_included': None, 'total_emissions_metric_tonnes_co2e': 2165653.0, 'scopes_included_': 'Total Scope 1, Scope 2 and Waste Scope 3 (Total BASIC emissions)', 'total_scope_1_emissions_metric_tonnes_co2e': 1448514.0, 'total_scope_2_emissions_metric_tonnes_co2e': 717139.0, 'comment': None, 'increase/decrease_from_last_year': 'Other: Change in boundary', 'reason_for_increase/decrease_in_emissions': \"This year's emissions inventory includes new sources and improved methodology. At this time the appropriate base line adjustments have not been made so the cause of the decreased emissions is unknown. The base line adjustments will be made this year to determine the reason for the change.\", 'population': 183887, 'population_year': 2015, 'gdp': 8631000000.0, 'gdp_currency': 'USD     US Dollar', 'gdp_year': 2013.0, 'gdp_source': 'U.S. Bureau of Economic Analysis', 'average_annual_temperature_in_celsius\\u200b': 23.6, '\\u200baverage_altitude_m': 11.0, '\\u200bland_area_in_square_km': 378.1, 'city_location': '(25.9017, -97.4975)', 'country_location': '(37.09024, -95.712891)'}, {'_id': ObjectId('65fc951cecc75b1bd8d14e04'), 'account_number': 42120, 'organization': 'City of Salvador', 'city': 'Salvador', 'country': 'Brazil', 'region': 'Latin America', 'c40': 'C40', 'access': 'Public', 'reporting_year': 2017, 'accounting_year': '2013-01-01 - 2013-12-31', 'boundary': 'Administrative boundary of a local government', 'protocol': 'Global Protocol for Community-Scale Greenhouse Gas Emissions Inventories (GPC), (WRI, C40 and ICLEI)', 'protocol_column': None, 'gases_included': None, 'total_emissions_metric_tonnes_co2e': 3661647.0, 'scopes_included_': 'Total Scope 1, Scope 2 and Waste Scope 3 (Total BASIC emissions)', 'total_scope_1_emissions_metric_tonnes_co2e': 3242166.0, 'total_scope_2_emissions_metric_tonnes_co2e': 366395.0, 'comment': None, 'increase/decrease_from_last_year': None, 'reason_for_increase/decrease_in_emissions': None, 'population': 2902927, 'population_year': 2014, 'gdp': 4745.0, 'gdp_currency': None, 'gdp_year': 2012.0, 'gdp_source': 'IBGE', 'average_annual_temperature_in_celsius\\u200b': 26.0, '\\u200baverage_altitude_m': 8.0, '\\u200bland_area_in_square_km': 692.0, 'city_location': '(-12.97304, -38.502304)', 'country_location': '(-14.235004, -51.92528)'}, {'_id': ObjectId('65fc951cecc75b1bd8d14e05'), 'account_number': 31108, 'organization': 'City of Houston', 'city': 'Houston', 'country': 'USA', 'region': 'North America', 'c40': 'C40', 'access': 'Public', 'reporting_year': 2017, 'accounting_year': '2014-01-01 - 2014-12-31', 'boundary': 'Administrative boundary of a local government', 'protocol': 'U.S. Community Protocol for Accounting and Reporting of Greenhouse Gas Emissions (ICLEI)', 'protocol_column': None, 'gases_included': 'CO2; CH4; N2O', 'total_emissions_metric_tonnes_co2e': 33428301.0, 'scopes_included_': 'Total Scope 1 and Scope 2', 'total_scope_1_emissions_metric_tonnes_co2e': 18917039.0, 'total_scope_2_emissions_metric_tonnes_co2e': 14511262.0, 'comment': 'Medium Confidence', 'increase/decrease_from_last_year': 'Stayed the same', 'reason_for_increase/decrease_in_emissions': 'We are using the same inventory we submitted last year, and that was our first year conducting a community-wide GHG inventory using the ICLEI Community Protocol.', 'population': 2296224, 'population_year': 2015, 'gdp': 503300000000.0, 'gdp_currency': 'USD     US Dollar', 'gdp_year': 2015.0, 'gdp_source': 'http://www.houston.org/assets/pdf/economy/EmploymentForecast-2017-web.pdf', 'average_annual_temperature_in_celsius\\u200b': 19.0, '\\u200baverage_altitude_m': 15.0, '\\u200bland_area_in_square_km': 1625.0, 'city_location': '(29.7601927, -95.3693896)', 'country_location': '(37.09024, -95.712891)'}, {'_id': ObjectId('65fc951cecc75b1bd8d14e06'), 'account_number': 59996, 'organization': 'Batangas City', 'city': 'Batangas', 'country': 'Philippines', 'region': 'South Asia and Oceania', 'c40': None, 'access': 'Public', 'reporting_year': 2017, 'accounting_year': '2015-01-01 - 2015-12-31', 'boundary': 'Administrative boundary of a local government', 'protocol': 'Other: IPCC', 'protocol_column': None, 'gases_included': 'CO2; CH4; N2O', 'total_emissions_metric_tonnes_co2e': 657636.0, 'scopes_included_': 'Total Scope 1 and Scope 2', 'total_scope_1_emissions_metric_tonnes_co2e': 524577.0, 'total_scope_2_emissions_metric_tonnes_co2e': 133059.0, 'comment': None, 'increase/decrease_from_last_year': 'Increased', 'reason_for_increase/decrease_in_emissions': 'A 25% increase in the GHG emissions from 2010 were identified. Increase in economic activities and population was the main reason of emissions change.', 'population': 354170, 'population_year': 2016, 'gdp': nan, 'gdp_currency': None, 'gdp_year': nan, 'gdp_source': None, 'average_annual_temperature_in_celsius\\u200b': 26.0, '\\u200baverage_altitude_m': 10.0, '\\u200bland_area_in_square_km': 285.0, 'city_location': '(13.7565, 121.0583)', 'country_location': '(12.879721, 121.774017)'}, {'_id': ObjectId('65fc951cecc75b1bd8d14e07'), 'account_number': 50579, 'organization': 'City of Winnipeg', 'city': 'Winnipeg', 'country': 'Canada', 'region': 'North America', 'c40': None, 'access': 'Public', 'reporting_year': 2017, 'accounting_year': '2011-01-01 - 2011-12-31', 'boundary': 'Administrative boundary of a local government', 'protocol': 'U.S. Community Protocol for Accounting and Reporting of Greenhouse Gas Emissions (ICLEI)', 'protocol_column': 'U.S. Community Protocol for Accounting and Reporting of Greenhouse Gas emissions version 1.0ICLEI - Local Government for Sustainability USA 2012', 'gases_included': 'CO2; CH4; N2O', 'total_emissions_metric_tonnes_co2e': 5379024.0, 'scopes_included_': 'Total Scope 1 and Scope 2', 'total_scope_1_emissions_metric_tonnes_co2e': 5360740.0, 'total_scope_2_emissions_metric_tonnes_co2e': 18284.0, 'comment': 'Emission inventory was conducted and verified by an external third-party consultant', 'increase/decrease_from_last_year': 'Increased', 'reason_for_increase/decrease_in_emissions': 'Since our last GHG inventory in 1998, total GHG emissions have risen 2.31%, which can be largely attributed to increases in vehicle & transit sectors, as well as waste collection, water & wastewater sectors. Conversely, building electricity and natural gas usage demonstrates dramatic decreases since 1998.', 'population': 735600, 'population_year': 2016, 'gdp': 36000000000.0, 'gdp_currency': 'CAD     Canadian Dollar', 'gdp_year': 2015.0, 'gdp_source': 'Economic Development Winnipeg', 'average_annual_temperature_in_celsius\\u200b': 2.4, '\\u200baverage_altitude_m': 230.0, '\\u200bland_area_in_square_km': 464.0, 'city_location': '(49.8997541, -97.1374937)', 'country_location': '(56.130366, -106.346771)'}, {'_id': ObjectId('65fc951cecc75b1bd8d14e08'), 'account_number': 60656, 'organization': 'City of Piedmont, CA', 'city': 'Piedmont, CA', 'country': 'USA', 'region': 'North America', 'c40': None, 'access': 'Public', 'reporting_year': 2017, 'accounting_year': '2010-01-01 - 2011-01-01', 'boundary': 'Other', 'protocol': 'Global Protocol for Community-Scale Greenhouse Gas Emissions Inventories (GPC), (WRI, C40 and ICLEI)', 'protocol_column': None, 'gases_included': None, 'total_emissions_metric_tonnes_co2e': nan, 'scopes_included_': 'Total Scope 1, Scope 2 and Waste Scope 3 (Total BASIC emissions)', 'total_scope_1_emissions_metric_tonnes_co2e': 17876.0, 'total_scope_2_emissions_metric_tonnes_co2e': 25566.0, 'comment': None, 'increase/decrease_from_last_year': 'Decreased', 'reason_for_increase/decrease_in_emissions': 'They have decreased due to a decrease in electricity and gas usage usage in the residential sector as well an increased renewable-generated portfolio of electricity sources, specifically hydropower.', 'population': 11082, 'population_year': 2013, 'gdp': 360400000000.0, 'gdp_currency': 'USD     US Dollar', 'gdp_year': 2013.0, 'gdp_source': 'San Francisco/Oakland/Hayward Metropolitan Area GDP: http://www.usmayors.org/metroeconomies/2013/201311-charts.pdf', 'average_annual_temperature_in_celsius\\u200b': 15.0, '\\u200baverage_altitude_m': 101.0, '\\u200bland_area_in_square_km': 4.3, 'city_location': '(37.8244, -122.2316)', 'country_location': '(37.09024, -95.712891)'}, {'_id': ObjectId('65fc951cecc75b1bd8d14e09'), 'account_number': 54337, 'organization': 'Greater Amman Municipality', 'city': 'Amman ', 'country': 'Jordan', 'region': 'South and West Asia', 'c40': 'C40', 'access': 'Public', 'reporting_year': 2017, 'accounting_year': '2014-01-01 - 2014-12-31', 'boundary': 'A metropolitan area', 'protocol': '2006 IPCC Guidelines for National Greenhouse Gas Inventories', 'protocol_column': None, 'gases_included': 'CO2; CH4; N2O', 'total_emissions_metric_tonnes_co2e': 7215407.0, 'scopes_included_': 'Total Scope 1 and Scope 2', 'total_scope_1_emissions_metric_tonnes_co2e': 3322603.0, 'total_scope_2_emissions_metric_tonnes_co2e': 3892804.0, 'comment': 'Much of the data is not collected by the city, but is based on national figures. Transport data is estimated using VISUM traffic model.', 'increase/decrease_from_last_year': 'This is our first year of calculation', 'reason_for_increase/decrease_in_emissions': 'GHG Inventory will be updated by July 2017', 'population': 3705490, 'population_year': 2016, 'gdp': 11202000000.0, 'gdp_currency': 'JOD     Jordanian Dinar', 'gdp_year': 2015.0, 'gdp_source': 'Ministry of Energy and Mineral Resources', 'average_annual_temperature_in_celsius\\u200b': 17.0, '\\u200baverage_altitude_m': 900.0, '\\u200bland_area_in_square_km': 800.0, 'city_location': '(31.945367, 35.928372)', 'country_location': '(30.585164, 36.238414)'}, {'_id': ObjectId('65fc951cecc75b1bd8d14e0a'), 'account_number': 43907, 'organization': 'City of Indianapolis', 'city': 'Indianapolis', 'country': 'USA', 'region': 'North America', 'c40': None, 'access': 'Public', 'reporting_year': 2017, 'accounting_year': '2013-01-01 - 2013-12-31', 'boundary': 'Administrative boundary of a local government', 'protocol': 'Other: Hestia Project', 'protocol_column': 'The data was collected through the Hestia Project by researchers at Purdue University and collaborators. It is based on direct measurements (with monitors and aircraft) and extensive modelling (hestia.project.asu.edu/). Note that this analysis does not does not compare directly to other protocols and does not necessarily include all scope 2 emissions. Indianapolis is working on a GPC inventory as well. http://hestia.project.asu.edu/uploads/Gurney.ES&T.2012.final.proof.pdf', 'gases_included': 'CO2', 'total_emissions_metric_tonnes_co2e': 2160365.0, 'scopes_included_': 'Total Scope 1 and Scope 2', 'total_scope_1_emissions_metric_tonnes_co2e': 726155.11, 'total_scope_2_emissions_metric_tonnes_co2e': 1434209.86, 'comment': 'The data was collected through the Hestia Project by researchers at Purdue University and collaborators. It is based on direct measurements (with monitors and aircraft) and extensive modeling (hestia.project.asu.edu/). Note that this analysis does not does not compare directly to other protocols and does not necessarily include all scope 2 emissions. Indianapolis is working on a GPC inventory as well. Though the reported number has been tested and reported through peer-reviewed journals, there is limited confidence in the comparability to other cities. Published in Environmental Science and Technology by Kevin R. Gurney, Igor Razlivanov, Yang Song, Yuyu Zhou, Bedrich Benes,and Michel Abdul-Massihhttp://hestia.project.asu.edu/uploads/Gurney.ES&T.2012.final.proof.pdf', 'increase/decrease_from_last_year': 'This is our first year of calculation', 'reason_for_increase/decrease_in_emissions': None, 'population': 853000, 'population_year': 2015, 'gdp': 125000000000.0, 'gdp_currency': 'USD     US Dollar', 'gdp_year': 2014.0, 'gdp_source': 'Note this is Metro-area based: http://bea.gov/newsreleases/regional/gdp_metro/2014/pdf/gdp_metro0914.pdf', 'average_annual_temperature_in_celsius\\u200b': 11.7, '\\u200baverage_altitude_m': 230.0, '\\u200bland_area_in_square_km': 953.0, 'city_location': '(39.767625, -86.178469)', 'country_location': '(37.09024, -95.712891)'}, {'_id': ObjectId('65fc951cecc75b1bd8d14e0b'), 'account_number': 35853, 'organization': 'City of Baltimore', 'city': 'Baltimore', 'country': 'USA', 'region': 'North America', 'c40': None, 'access': 'Public', 'reporting_year': 2017, 'accounting_year': '2014-01-01 - 2014-12-31', 'boundary': 'Administrative boundary of a local government', 'protocol': 'U.S. Community Protocol for Accounting and Reporting of Greenhouse Gas Emissions (ICLEI)', 'protocol_column': 'U.S. Community Protocol for Accounting and Reporting of Greenhouse Gas Emissions (ICLEI); with support from Global Protocol for Community-Scale Greenhouse Gas Emissions Inventories (GPC), (WRI, C40 and ICLEI) Once completed, these inventories provide the basis for an emission forecast, and allow for the quantification of emission reductions associated with proposed measures.Baltimore City’s Greenhouse Gas Emissions Inventory consists of two essentially distinct inventories: one for the Baltimore City community as a whole, defined by geographic borders, and one highlighting emissions resulting from the City of Baltimore’s Government operations and buildings owned. The Government Inventory is a subset of the Community Inventory (emissions from the municipal operations are embedded in the community inventory). Distinguishing the City Governmental emissions in this way allows the City, which formally committed to reducing emissions, to lead by example in tracking its own facilities and vehicles while evaluating the effectiveness of its emission reduction efforts.Compiling Baltimore City’s emissions inventory required the collection of information from a variety of sources. The data represents 2010 energy usage, except where notes indicate data gaps that necessitated use of older records.For our scope, all emissions associated with energy consumed in Baltimore City are included, regardless of the location of the original energy source. This means that, even though the electricity used by Baltimore residents is produced in a plant outside of Baltimore City’s geographical borders, this energy and the emissions associated with it appear in Baltimore City’s inventory. The decision to capture emissions in this way reflects the general philosophy that a community should take full responsibility for the impacts associated with its energy consumption, regardless of where the energy generation occurs.', 'gases_included': 'CO2; CH4; N2O', 'total_emissions_metric_tonnes_co2e': 7230859.0, 'scopes_included_': 'Total Scope 1 and Scope 2', 'total_scope_1_emissions_metric_tonnes_co2e': 12032078.0, 'total_scope_2_emissions_metric_tonnes_co2e': 3211447.0, 'comment': 'medium/high. High confidence in stationary energy combustion and transportation emissions. Medium confidence in solid waste emissions (landfill waste emissions) due to proxy for landfill waste characterization, assumptions made for landfill gas capture system efficiency. High confidence about incineration activities in the City due to directly monitored emissions data received from EPA', 'increase/decrease_from_last_year': 'Increased', 'reason_for_increase/decrease_in_emissions': 'Natural gas consumption decreased in residential sector but increased in commercial and industrial sectors. Electricity consumption increased across the board. Even though electricity emissions factors decreased in 2014, the increase in electricity consumption offset improvements in emissions factors. On-road and rail activity increased. Solid waste generation decreased slightly due to increased diversion of waste from the landfill but waste water generation increased.', 'population': 614664, 'population_year': 2016, 'gdp': 43700000000000.0, 'gdp_currency': 'USD     US Dollar', 'gdp_year': 2016.0, 'gdp_source': 'National Association of Counties/U.S. Bureau of Economic Analysis', 'average_annual_temperature_in_celsius\\u200b': 14.7, '\\u200baverage_altitude_m': 240.0, '\\u200bland_area_in_square_km': 210.0, 'city_location': '(39.2903848, -76.6121893)', 'country_location': '(37.09024, -95.712891)'}, {'_id': ObjectId('65fc951cecc75b1bd8d14e0c'), 'account_number': 3429, 'organization': 'City of Stockholm', 'city': 'Stockholm', 'country': 'Sweden', 'region': 'Europe', 'c40': 'C40', 'access': 'Public', 'reporting_year': 2017, 'accounting_year': '2015-01-01 - 2015-12-31', 'boundary': 'Administrative boundary of a local government', 'protocol': 'Global Protocol for Community-Scale Greenhouse Gas Emissions Inventories (GPC), (WRI, C40 and ICLEI)', 'protocol_column': 'Latest available data is from 2015.The total emissions for the community include:Scope 1 & 3 emissions from district heating & cooling system and other in-boundary fuel combustion for heatingScope 2 & 3 emissions of the district heating and house-hold electricity consumption within the community boundaryScope 1 & 3 emissions of use of gas e.g. cookingScope 2 & 3 emissions for electricity use in the transportation system (metro, commuter, train) within the communityScope 1 & 3 emissions for the fuel consumption from road traffic, non-road vehicles and shipping, & scope 1 emissions from aviation (within the landing & take-off cycle, i.e. up to 915m).This means that scope 3 emissions from transport of inhabitants outside the community boundary is not included (but transport of non-inhabitants within the community boundary is). Emission from household waste incineration is embedded in the district heating emissions, since household waste is a source of energy used in district heating. Energy use for waste-water handling is included in the total community energy use.Emission factors are collected from a report published by Swedish Environmental Research Institute Ltd. (IVL) in 2001 and Thermal Engineering Research Institute (Värmeforsk) in 2011. The reports are widely used and acknowledged. The global warming potentials are GWP100 from IPCC 2013, as recommended by the Swedish Environmental Protection Agency (SEPA).Energy statistics are collected from different sources: district heating & gas statistics are collected from the companies; electricity statistics is compiled and collected from Statistics Sweden; emissions from road transport is modeled using an extensive emission model combined with a road model over Stockholm (includes a variety vehicles, speeds, road types etc) and non-road emissions are taken from Statistics Sweden; marine emissions within the community boundary are based on emissions & energy use presented in environmental reports from shipping companies and Ports of Stockholm.', 'gases_included': None, 'total_emissions_metric_tonnes_co2e': 1796590.0, 'scopes_included_': 'Total Scope 1, Scope 2 and Waste Scope 3 (Total BASIC emissions)', 'total_scope_1_emissions_metric_tonnes_co2e': 1834343.0, 'total_scope_2_emissions_metric_tonnes_co2e': 859099.0, 'comment': None, 'increase/decrease_from_last_year': 'Decreased', 'reason_for_increase/decrease_in_emissions': 'Total emissions from the categories in Stockholm estimates at system boundaries have been reduced significantly over the past 10 years. Meanwhile, the population has grown by about 200 000 inhabitants. In Stockholm, it can be said that the reduction in per capita emissions by half will depend on the actual response, half of the population growth.\\nThe greenhouse gas emissions in Stockholm is calculated to 2.5 tonnes per capita in 2015, which can be compared to 2.6 tonnes per capita in 2014. Energy use for heating has decreased, which is due to energy efficiency measures and conversions (from oil to heat pumps). Stockholm has a clear reduction of the energy supply per capita for heating sector. Electricity use is however quite constant. The car traffic is constant in the last years even though the population has increased. However, there has been an increase in truck traffic. The overall greenhouse gas emissions from transportation is constant over the last years.', 'population': 923516, 'population_year': 2015, 'gdp': 416797.0, 'gdp_currency': None, 'gdp_year': 2013.0, 'gdp_source': 'GDP is in (ppp)(mllion) source: Statistics Sweden', 'average_annual_temperature_in_celsius\\u200b': 7.0, '\\u200baverage_altitude_m': 50.0, '\\u200bland_area_in_square_km': 216.0, 'city_location': '(59.3293235, 18.0685808)', 'country_location': '(60.128161, 18.643501)'}, {'_id': ObjectId('65fc951cecc75b1bd8d14e0d'), 'account_number': 31175, 'organization': 'City of Paris', 'city': 'Paris', 'country': 'France', 'region': 'Europe', 'c40': 'C40', 'access': 'Public', 'reporting_year': 2017, 'accounting_year': '2014-01-01 - 2014-12-31', 'boundary': 'Administrative boundary of a local government', 'protocol': 'Global Protocol for Community-Scale Greenhouse Gas Emissions Inventories (GPC), (WRI, C40 and ICLEI)', 'protocol_column': 'Since 2014, Paris translate its emission inventory in GPC protocol.', 'gases_included': None, 'total_emissions_metric_tonnes_co2e': 5489249.0, 'scopes_included_': 'Total Scope 1, Scope 2 and Waste Scope 3 (Total BASIC emissions)', 'total_scope_1_emissions_metric_tonnes_co2e': 3359242.0, 'total_scope_2_emissions_metric_tonnes_co2e': 1836421.0, 'comment': None, 'increase/decrease_from_last_year': 'Decreased', 'reason_for_increase/decrease_in_emissions': \"Thanks to Paris' climate change policy especially on sustainable mobility, social housing retrofitting, etc...\", 'population': 2265886, 'population_year': 2015, 'gdp': 256000000000.0, 'gdp_currency': 'EUR     Euro', 'gdp_year': 2015.0, 'gdp_source': 'national governement', 'average_annual_temperature_in_celsius\\u200b': 13.5, '\\u200baverage_altitude_m': 26.0, '\\u200bland_area_in_square_km': 105.0, 'city_location': '(48.856614, 2.3522219)', 'country_location': '(46.227638, 2.213749)'}, {'_id': ObjectId('65fc951cecc75b1bd8d14e0e'), 'account_number': 31164, 'organization': 'Ho Chi Minh City', 'city': 'Ho Chi Minh', 'country': 'Vietnam', 'region': 'South Asia and Oceania', 'c40': 'C40', 'access': 'Public', 'reporting_year': 2017, 'accounting_year': '2013-01-01 - 2013-12-31', 'boundary': 'Administrative boundary of a local government', 'protocol': '2006 IPCC Guidelines for National Greenhouse Gas Inventories', 'protocol_column': 'Due to the specific condition of Ho Chi Minh City where data sources are not synchronized and adequate, additional calculation methods and formula besides IPCC guidelines have been exploited to calculate GHG emissions for more detailed sectors and sub-sectors, especially in those which are not guided in IPCC guidelines.', 'gases_included': 'CO2; PFCs; CH4; SF6; N2O; HFCs', 'total_emissions_metric_tonnes_co2e': 30012000.0, 'scopes_included_': 'Total Scope 1 and Scope 2', 'total_scope_1_emissions_metric_tonnes_co2e': nan, 'total_scope_2_emissions_metric_tonnes_co2e': nan, 'comment': 'This inventory is mere a preliminary calculation and still lacks reliable data of some sectors, especially industrial processes and fuel consumption. Therefore, it has not been officially published yet.', 'increase/decrease_from_last_year': 'This is our first year of calculation', 'reason_for_increase/decrease_in_emissions': 'Ho Chi Minh City has not conducted any other inventory yet.  We are conducting for 2014 and 2015 GHGs inventory but the results will be available in the end of 2017', 'population': 8244400, 'population_year': 2015, 'gdp': nan, 'gdp_currency': 'VND     Vietnamese đồng', 'gdp_year': 2016.0, 'gdp_source': \"HCMC People's Committee\", 'average_annual_temperature_in_celsius\\u200b': 27.0, '\\u200baverage_altitude_m': 6.0, '\\u200bland_area_in_square_km': 2095.0, 'city_location': '(10.762622, 106.660172)', 'country_location': '(14.058324, 108.277199)'}, {'_id': ObjectId('65fc951cecc75b1bd8d14e0f'), 'account_number': 59180, 'organization': 'Middelfart Kommune', 'city': 'Middelfart', 'country': 'Denmark', 'region': 'Europe', 'c40': None, 'access': 'Public', 'reporting_year': 2017, 'accounting_year': '2015-01-01 - 2015-12-31', 'boundary': 'Administrative boundary of a local government', 'protocol': 'Global Protocol for Community-Scale Greenhouse Gas Emissions Inventories (GPC), (WRI, C40 and ICLEI)', 'protocol_column': None, 'gases_included': None, 'total_emissions_metric_tonnes_co2e': nan, 'scopes_included_': 'Total Scope 1, Scope 2 and Waste Scope 3 (Total BASIC emissions)', 'total_scope_1_emissions_metric_tonnes_co2e': nan, 'total_scope_2_emissions_metric_tonnes_co2e': nan, 'comment': None, 'increase/decrease_from_last_year': None, 'reason_for_increase/decrease_in_emissions': None, 'population': 38093, 'population_year': 2017, 'gdp': 2190900000.0, 'gdp_currency': 'DKK     Danish Krone', 'gdp_year': 2016.0, 'gdp_source': None, 'average_annual_temperature_in_celsius\\u200b': 8.0, '\\u200baverage_altitude_m': 21.0, '\\u200bland_area_in_square_km': 299.5, 'city_location': '(55.470958, 9.872643)', 'country_location': '(56.26392, 9.501785)'}, {'_id': ObjectId('65fc951cecc75b1bd8d14e10'), 'account_number': 58531, 'organization': 'City of Somerville, MA', 'city': 'Somerville, MA', 'country': 'USA', 'region': 'North America', 'c40': None, 'access': 'Public', 'reporting_year': 2017, 'accounting_year': '2014-01-01 - 2014-12-31', 'boundary': 'Administrative boundary of a local government', 'protocol': 'Global Protocol for Community-Scale Greenhouse Gas Emissions Inventories (GPC), (WRI, C40 and ICLEI)', 'protocol_column': None, 'gases_included': None, 'total_emissions_metric_tonnes_co2e': 598143.0, 'scopes_included_': 'Total Scope 1, Scope 2 and Waste Scope 3 (Total BASIC emissions)', 'total_scope_1_emissions_metric_tonnes_co2e': 461798.0, 'total_scope_2_emissions_metric_tonnes_co2e': 124510.0, 'comment': None, 'increase/decrease_from_last_year': 'This is our first year of calculation', 'reason_for_increase/decrease_in_emissions': None, 'population': 78900, 'population_year': 2014, 'gdp': nan, 'gdp_currency': None, 'gdp_year': nan, 'gdp_source': None, 'average_annual_temperature_in_celsius\\u200b': 11.0, '\\u200baverage_altitude_m': 4.0, '\\u200bland_area_in_square_km': 10.3, 'city_location': '(42.393449, -71.082647)', 'country_location': '(37.09024, -95.712891)'}, {'_id': ObjectId('65fc951cecc75b1bd8d14e11'), 'account_number': 54066, 'organization': 'City of Fort Collins', 'city': 'Fort Collins', 'country': 'USA', 'region': 'North America', 'c40': None, 'access': 'Public', 'reporting_year': 2017, 'accounting_year': '2016-01-01 - 2016-12-31', 'boundary': 'Administrative boundary of a local government', 'protocol': 'Global Protocol for Community-Scale Greenhouse Gas Emissions Inventories (GPC), (WRI, C40 and ICLEI)', 'protocol_column': '2016 is the first year that the City of Fort Collins has used the GPC protocol.', 'gases_included': None, 'total_emissions_metric_tonnes_co2e': 2042310.0, 'scopes_included_': 'Total Scope 1, Scope 2 and Waste Scope 3 (Total BASIC emissions)', 'total_scope_1_emissions_metric_tonnes_co2e': 927177.0, 'total_scope_2_emissions_metric_tonnes_co2e': 1019659.0, 'comment': None, 'increase/decrease_from_last_year': 'This is our first year of calculation', 'reason_for_increase/decrease_in_emissions': 'This is the first year that the City of Fort Collins is reporting to GPC-compliant emissions to CDP and as such, no previous years can be referenced here. While still using the ICLEI Community Protocol, the City found that its emissions had decreased 1% point below 2015 and 12% below 2005 baseline levels.', 'population': 161000, 'population_year': 2016, 'gdp': 14057000000.0, 'gdp_currency': 'USD     US Dollar', 'gdp_year': 2015.0, 'gdp_source': 'Bureau of Economic Analysis', 'average_annual_temperature_in_celsius\\u200b': 10.0, '\\u200baverage_altitude_m': 1525.0, '\\u200bland_area_in_square_km': 147.0, 'city_location': '(40.5853, 105.0844)', 'country_location': '(37.09024, -95.712891)'}, {'_id': ObjectId('65fc951cecc75b1bd8d14e12'), 'account_number': 35274, 'organization': 'City of Portland, ME', 'city': 'Portland, ME', 'country': 'USA', 'region': 'North America', 'c40': None, 'access': 'Public', 'reporting_year': 2017, 'accounting_year': '2010-01-01 - 2010-12-31', 'boundary': 'Administrative boundary of a local government', 'protocol': 'Other', 'protocol_column': 'Climate Registry General Reporting Protocol', 'gases_included': 'CO2; CH4; N2O', 'total_emissions_metric_tonnes_co2e': 1142797.0, 'scopes_included_': 'Total Scope 1 and Scope 2', 'total_scope_1_emissions_metric_tonnes_co2e': 1145519.0, 'total_scope_2_emissions_metric_tonnes_co2e': 307336.0, 'comment': 'This is a dated document', 'increase/decrease_from_last_year': None, 'reason_for_increase/decrease_in_emissions': None, 'population': 66666, 'population_year': 2014, 'gdp': nan, 'gdp_currency': None, 'gdp_year': nan, 'gdp_source': None, 'average_annual_temperature_in_celsius\\u200b': 13.0, '\\u200baverage_altitude_m': 6.0, '\\u200bland_area_in_square_km': 55.0, 'city_location': '(43.6615, -70.2553)', 'country_location': '(37.09024, -95.712891)'}, {'_id': ObjectId('65fc951cecc75b1bd8d14e13'), 'account_number': 50578, 'organization': 'City of Windsor', 'city': 'Windsor', 'country': 'Canada', 'region': 'North America', 'c40': None, 'access': 'Public', 'reporting_year': 2017, 'accounting_year': '2014-01-01 - 2014-12-31', 'boundary': 'Administrative boundary of a local government', 'protocol': 'Global Protocol for Community-Scale Greenhouse Gas Emissions Inventories (GPC), (WRI, C40 and ICLEI)', 'protocol_column': None, 'gases_included': None, 'total_emissions_metric_tonnes_co2e': 1898713.0, 'scopes_included_': 'Total Scope 1, Scope 2 and Waste Scope 3 (Total BASIC emissions)', 'total_scope_1_emissions_metric_tonnes_co2e': 1775831.0, 'total_scope_2_emissions_metric_tonnes_co2e': 109527.0, 'comment': None, 'increase/decrease_from_last_year': 'Decreased', 'reason_for_increase/decrease_in_emissions': \"Community emissions have decreased between 2011 and 2014.  The largest sources of declines were in Industrial, Commercial, Institutional emissions and can likely be credited in no small part to efficiency improvements and the Province's closing of coal fired electricity generation.  The Province of Ontario made a commitment in 2002 to close all coal fired-electricity plants by 2015.  In 2014, the last coal fired electricity generation plant was closed in Ontario.\", 'population': 217188, 'population_year': 2016, 'gdp': 12800000000.0, 'gdp_currency': 'CAD     Canadian Dollar', 'gdp_year': 2016.0, 'gdp_source': 'City Economic Development Planning', 'average_annual_temperature_in_celsius\\u200b': 10.7, '\\u200baverage_altitude_m': 190.0, '\\u200bland_area_in_square_km': 146.3, 'city_location': '(42.314937, -83.036363)', 'country_location': '(56.130366, -106.346771)'}, {'_id': ObjectId('65fc951cecc75b1bd8d14e14'), 'account_number': 50375, 'organization': 'Ayuntamiento de  Chihuahua', 'city': 'Chihuahua', 'country': 'Mexico', 'region': 'Latin America', 'c40': None, 'access': 'Public', 'reporting_year': 2017, 'accounting_year': '2010-01-01 - 2010-12-31', 'boundary': 'Administrative boundary of a local government', 'protocol': '2006 IPCC Guidelines for National Greenhouse Gas Inventories', 'protocol_column': 'El factor de emisión es el coeficiente que permite que una actividad se pueda expresar en GEI, es decir para cada actividad (ganadería, industria, energía, transporte, etc.) existe un coeficiente que al aplicarlo, dará su equivalencia en términos de gases. Los factores de emisión empleados para este cálculo son los establecidos por el IPCC.? Garantía de la calidad: Las actividades de garantía de la calidad (GC)', 'gases_included': 'CO2; CH4; N2O', 'total_emissions_metric_tonnes_co2e': 14330261.0, 'scopes_included_': 'Total Scope 1 and Scope 2', 'total_scope_1_emissions_metric_tonnes_co2e': nan, 'total_scope_2_emissions_metric_tonnes_co2e': nan, 'comment': 'Datos obtenidos de estadísticas de INEGI y en algunos casos no existe registros historicos.', 'increase/decrease_from_last_year': 'This is our first year of calculation', 'reason_for_increase/decrease_in_emissions': None, 'population': 841490, 'population_year': 2015, 'gdp': 2.0, 'gdp_currency': 'MXN     Mexican Peso', 'gdp_year': 2014.0, 'gdp_source': 'INEGI', 'average_annual_temperature_in_celsius\\u200b': 17.0, '\\u200baverage_altitude_m': 1437.0, '\\u200bland_area_in_square_km': 8384.0, 'city_location': '(28.636857, -106.076272)', 'country_location': '(23.634501, -102.552784)'}, {'_id': ObjectId('65fc951cecc75b1bd8d14e15'), 'account_number': 35874, 'organization': 'City of Phoenix', 'city': 'Phoenix', 'country': 'USA', 'region': 'North America', 'c40': None, 'access': 'Public', 'reporting_year': 2017, 'accounting_year': '2012-01-01 - 2012-12-31', 'boundary': 'Administrative boundary of a local government', 'protocol': 'Global Protocol for Community-Scale Greenhouse Gas Emissions Inventories (GPC), (WRI, C40 and ICLEI)', 'protocol_column': 'The community inventory was GPC Basic limited to City of Phoenix boundary including the following emissions:- stationary energy- transportation in boundary; included rail and aviation using Federal Aviation Administration (FAA) Landing/Take Off (LTO) data- waste, both solid and wastewater.', 'gases_included': None, 'total_emissions_metric_tonnes_co2e': 15895005.0, 'scopes_included_': 'Total Scope 1, Scope 2 and Waste Scope 3 (Total BASIC emissions)', 'total_scope_1_emissions_metric_tonnes_co2e': 11471148.0, 'total_scope_2_emissions_metric_tonnes_co2e': 5193851.0, 'comment': None, 'increase/decrease_from_last_year': 'This is our first year of calculation', 'reason_for_increase/decrease_in_emissions': \"For Item C1.9b the Spreadsheet is still draft and will be available to meet Covenant of Mayor's 2017 deadline in July.\", 'population': 1537058, 'population_year': 2015, 'gdp': 197193000000.0, 'gdp_currency': 'USD     US Dollar', 'gdp_year': 2015.0, 'gdp_source': 'US Bureau of Economic Analysis', 'average_annual_temperature_in_celsius\\u200b': 22.0, '\\u200baverage_altitude_m': 340.0, '\\u200bland_area_in_square_km': 1355.0, 'city_location': '(33.4484, -112.074)', 'country_location': '(37.09024, -95.712891)'}, {'_id': ObjectId('65fc951cecc75b1bd8d14e16'), 'account_number': 58513, 'organization': 'City of Medford', 'city': 'Medford', 'country': 'USA', 'region': 'North America', 'c40': None, 'access': 'Public', 'reporting_year': 2017, 'accounting_year': '2015-01-01 - 2015-12-31', 'boundary': 'Administrative boundary of a local government', 'protocol': 'Global Protocol for Community-Scale Greenhouse Gas Emissions Inventories (GPC), (WRI, C40 and ICLEI)', 'protocol_column': None, 'gases_included': None, 'total_emissions_metric_tonnes_co2e': 410305.0, 'scopes_included_': 'Total Scope 1, Scope 2 and Waste Scope 3 (Total BASIC emissions)', 'total_scope_1_emissions_metric_tonnes_co2e': 274592.0, 'total_scope_2_emissions_metric_tonnes_co2e': 120637.0, 'comment': None, 'increase/decrease_from_last_year': 'This is our first year of calculation', 'reason_for_increase/decrease_in_emissions': None, 'population': 57437, 'population_year': 2014, 'gdp': nan, 'gdp_currency': None, 'gdp_year': nan, 'gdp_source': None, 'average_annual_temperature_in_celsius\\u200b': 9.6, '\\u200baverage_altitude_m': 4.0, '\\u200bland_area_in_square_km': 22.4, 'city_location': '(42.3265, -122.8756)', 'country_location': '(37.09024, -95.712891)'}, {'_id': ObjectId('65fc951cecc75b1bd8d14e17'), 'account_number': 53254, 'organization': 'Hobart City Council', 'city': 'Hobart', 'country': 'Australia', 'region': 'South Asia and Oceania', 'c40': None, 'access': 'Public', 'reporting_year': 2017, 'accounting_year': '2014-07-01 - 2015-06-30', 'boundary': 'Administrative boundary of a local government', 'protocol': 'Other', 'protocol_column': 'Developed own methodology in-house based on ICLEI CCP reporting, uses Australian Energy Statistics on a per capita basis and applies emissions factors from the Australian National Greenhouse Accounts Factors. Uses meter data for gas electricity where available - i.e. from local energy network providers', 'gases_included': 'CO2', 'total_emissions_metric_tonnes_co2e': 338925.0, 'scopes_included_': 'Total Scope 1 and Scope 2', 'total_scope_1_emissions_metric_tonnes_co2e': 189535.0, 'total_scope_2_emissions_metric_tonnes_co2e': 149390.0, 'comment': 'Medium to High - the results align with previous CCP ICLEI reporting. The methodology is being piloted by the City of Hobart and is being tested with a range of different councils energy use profiles', 'increase/decrease_from_last_year': 'Decreased', 'reason_for_increase/decrease_in_emissions': '•\\tOver the last five years energy use has declined by 8%. This is consistent with other studies which find that the Tasmanian economy becoming less energy intensive over time .\\n•\\tThere has been less electricity use per residential household in recent years. Commonwealth energy efficiency programs (such as appliance labelling), energy price increases and increased consumer awareness have helped to keep electricity use down.\\n•\\tCommercial energy use has decreased by 5%, mainly due reduced electricity use per business \\n•\\tAs a result, greenhouse gas emissions have reduced by 8% since 2010-11.', 'population': 50655, 'population_year': 2016, 'gdp': nan, 'gdp_currency': 'AUD     Australian Dollar', 'gdp_year': nan, 'gdp_source': None, 'average_annual_temperature_in_celsius\\u200b': 12.0, '\\u200baverage_altitude_m': 9.0, '\\u200bland_area_in_square_km': 7791.0, 'city_location': '(-42.890054, 147.281446)', 'country_location': '(-25.274398, 133.775136)'}, {'_id': ObjectId('65fc951cecc75b1bd8d14e18'), 'account_number': 58489, 'organization': 'Hoeje-Taastrup Kommune', 'city': 'Hoeje-Taastrup', 'country': 'Denmark', 'region': 'Europe', 'c40': None, 'access': 'Public', 'reporting_year': 2017, 'accounting_year': '2016-01-01 - 2016-12-31', 'boundary': 'Administrative boundary of a local government', 'protocol': 'Global Protocol for Community-Scale Greenhouse Gas Emissions Inventories (GPC), (WRI, C40 and ICLEI)', 'protocol_column': 'National standard for municipalities in Denmark', 'gases_included': None, 'total_emissions_metric_tonnes_co2e': 275461.0, 'scopes_included_': 'Total Scope 1, Scope 2 and Waste Scope 3 (Total BASIC emissions)', 'total_scope_1_emissions_metric_tonnes_co2e': 161334.0, 'total_scope_2_emissions_metric_tonnes_co2e': 114127.0, 'comment': None, 'increase/decrease_from_last_year': 'Decreased', 'reason_for_increase/decrease_in_emissions': 'From 390.000 ton CO2 in 2009. Energy conservation activities, conversion from oil and electricity heating to district heating, less fossil fuel in the combined heat and power production as well as in the district heating', 'population': 49960, 'population_year': 2016, 'gdp': 25636374480.0, 'gdp_currency': 'DKK     Danish Krone', 'gdp_year': 2012.0, 'gdp_source': 'Danmarks Statistik', 'average_annual_temperature_in_celsius\\u200b': 8.1, '\\u200baverage_altitude_m': 27.0, '\\u200bland_area_in_square_km': 78.0, 'city_location': '(55.656328, 12.2898)', 'country_location': '(56.26392, 9.501785)'}, {'_id': ObjectId('65fc951cecc75b1bd8d14e19'), 'account_number': 54110, 'organization': 'City of Santa Monica', 'city': 'Santa Monica', 'country': 'USA', 'region': 'North America', 'c40': None, 'access': 'Public', 'reporting_year': 2017, 'accounting_year': '2015-01-01 - 2015-12-31', 'boundary': 'Administrative boundary of a local government', 'protocol': 'Global Protocol for Community-Scale Greenhouse Gas Emissions Inventories (GPC), (WRI, C40 and ICLEI)', 'protocol_column': None, 'gases_included': None, 'total_emissions_metric_tonnes_co2e': 1110480.0, 'scopes_included_': 'Total Scope 1, Scope 2 and Waste Scope 3 (Total BASIC emissions)', 'total_scope_1_emissions_metric_tonnes_co2e': 119026.0, 'total_scope_2_emissions_metric_tonnes_co2e': 215565.0, 'comment': None, 'increase/decrease_from_last_year': 'Decreased', 'reason_for_increase/decrease_in_emissions': 'State renewable portfolio standard, low carbon fuel standard, electric vehicles, 15 x 15 Action Plan', 'population': 92000, 'population_year': 2014, 'gdp': nan, 'gdp_currency': None, 'gdp_year': nan, 'gdp_source': None, 'average_annual_temperature_in_celsius\\u200b': 20.0, '\\u200baverage_altitude_m': 320.0, '\\u200bland_area_in_square_km': 20.0, 'city_location': '(34.0219, -118.4814)', 'country_location': '(37.09024, -95.712891)'}, {'_id': ObjectId('65fc951cecc75b1bd8d14e1a'), 'account_number': 35857, 'organization': 'City of Cincinnati', 'city': 'Cincinnati', 'country': 'USA', 'region': 'North America', 'c40': None, 'access': 'Public', 'reporting_year': 2017, 'accounting_year': '2015-01-01 - 2015-12-31', 'boundary': 'Administrative boundary of a local government', 'protocol': 'U.S. Community Protocol for Accounting and Reporting of Greenhouse Gas Emissions (ICLEI)', 'protocol_column': 'The 2015 greenhouse gas inventory was conducted using ClearPath, an emissions management software suite from the International Council for Local Environmental Initiatives (ICLEI).', 'gases_included': 'CO2; CH4; N2O', 'total_emissions_metric_tonnes_co2e': 7318055.0, 'scopes_included_': 'Total Scope 1 and Scope 2', 'total_scope_1_emissions_metric_tonnes_co2e': 7318055.0, 'total_scope_2_emissions_metric_tonnes_co2e': 3055900.0, 'comment': 'We are confident in our results, but they have not been third party verified.', 'increase/decrease_from_last_year': 'Decreased', 'reason_for_increase/decrease_in_emissions': 'Emissions over all have gone down as a whole but emissions have gone up in Transportation & Mobile Sources and Industrial Energy. The reduction can be attributed to: Incentives for commercial energy upgrades offered by Duke, grid decarbonization, 100% Renewable energy offered to residents and businesses through the City’s Energy Aggregation Program, population loss from 2006 to 2015 (approximately 10%), and improved waste diversion.', 'population': 298550, 'population_year': 2015, 'gdp': 127057000000.0, 'gdp_currency': 'USD     US Dollar', 'gdp_year': 2015.0, 'gdp_source': 'Bureau of Economic Analysis U.S. Department of Commerce', 'average_annual_temperature_in_celsius\\u200b': 13.0, '\\u200baverage_altitude_m': 168.0, '\\u200bland_area_in_square_km': 124.0, 'city_location': '(39.1031, -84.512)', 'country_location': '(37.09024, -95.712891)'}, {'_id': ObjectId('65fc951cecc75b1bd8d14e1b'), 'account_number': 50558, 'organization': 'City of London, ON', 'city': 'London, ON', 'country': 'Canada', 'region': 'North America', 'c40': None, 'access': 'Public', 'reporting_year': 2017, 'accounting_year': '2014-01-01 - 2014-12-31', 'boundary': 'Administrative boundary of a local government', 'protocol': 'International Emissions Analysis Protocol (ICLEI)', 'protocol_column': \"as adapted by ICLEI Canada for use in the FCM's Partners for Climate Protection Program\", 'gases_included': None, 'total_emissions_metric_tonnes_co2e': 3160000.0, 'scopes_included_': 'Total Scope 1 and Scope 2', 'total_scope_1_emissions_metric_tonnes_co2e': 2974000.0, 'total_scope_2_emissions_metric_tonnes_co2e': 186000.0, 'comment': 'Emissions related to electricity and natural gas are based on utility data by customer class. Emissions related to gasoline and diesel use by households are primarily based on retail sales of fuel data, whereas fuel used by freight transportation and local corporate fleets are prorated from provincial data by population.', 'increase/decrease_from_last_year': 'Decreased', 'reason_for_increase/decrease_in_emissions': \"Total greenhouse gas emissions from London have decreased compared to the peak in 2007. In 2015, greenhouse gas emissions were 18 percent lower than 2007. In fact, London's emissions in 2015 were eight percent lower than the 1990 level used to benchmark Ontario's emission reduction efforts.\\n\\nGreenhouse gas emissions associated with electricity are significantly lower in 2014 (about 80 percent) than their peak in 2003. In 2014, Ontario's coal-fired power plants were shut down. In 2015, 90 percent of Ontario's electricity demand was met with emissions-free generation: 60 percent nuclear, 24 percent hydroelectric, 6 percent wind and other renewables.\\n\\nConservation and peak demand reduction programs also contribute to lower emissions from power generation. Unfortunately, lower demand from the impact of the Recession on the local manufacturing sector also contributes to lower emissions.\", 'population': 381000, 'population_year': 2015, 'gdp': 16000000000.0, 'gdp_currency': 'CAD     Canadian Dollar', 'gdp_year': 2015.0, 'gdp_source': 'Conference Board of Canada, London Census Metropolitan Area data prorated by population and adjusted to 2007', 'average_annual_temperature_in_celsius\\u200b': 7.9, '\\u200baverage_altitude_m': 251.0, '\\u200bland_area_in_square_km': 421.0, 'city_location': '(42.9837, -81.2497)', 'country_location': '(56.130366, -106.346771)'}, {'_id': ObjectId('65fc951cecc75b1bd8d14e1c'), 'account_number': 31154, 'organization': 'Bogotá Distrito Capital', 'city': 'Bogotá ', 'country': 'Colombia', 'region': 'Latin America', 'c40': 'C40', 'access': 'Public', 'reporting_year': 2017, 'accounting_year': '2017-01-01 - 2017-12-31', 'boundary': 'A metropolitan area', 'protocol': '2006 IPCC Guidelines for National Greenhouse Gas Inventories', 'protocol_column': 'The IPCC guidelines in 2006 for GHG inventories, specifically for modules: energy, industrial processes and products use, waste and forestry module and land uses.', 'gases_included': 'CO2; PFCs; CH4; SF6; N2O; HFCs', 'total_emissions_metric_tonnes_co2e': 17672009.0, 'scopes_included_': 'Total Scope 1 and Scope 2', 'total_scope_1_emissions_metric_tonnes_co2e': 11726267.83, 'total_scope_2_emissions_metric_tonnes_co2e': 1126225.29, 'comment': 'The related calculations refer to the 2008 and 2012 inventory projections.', 'increase/decrease_from_last_year': 'Increased', 'reason_for_increase/decrease_in_emissions': 'The reported emissions increase because the information is based on the projection of the 2008 and 2012 GHG Inventories, taking into account the growth of the evaluated variables, which have an upward trend according to the behavior of the last years.', 'population': 7980001, 'population_year': 2016, 'gdp': 35600000000000.0, 'gdp_currency': 'COP     Colombian Peso', 'gdp_year': 2016.0, 'gdp_source': 'NATIONAL STATISTICS DEPARTMENT (DANE in Spanish)', 'average_annual_temperature_in_celsius\\u200b': 14.0, '\\u200baverage_altitude_m': 2641.0, '\\u200bland_area_in_square_km': 1587.0, 'city_location': '(4.711, -74.0721)', 'country_location': '(4.570868, -74.297333)'}, {'_id': ObjectId('65fc951cecc75b1bd8d14e1d'), 'account_number': 31146, 'organization': 'Addis Ababa City Administration', 'city': 'Addis Ababa', 'country': 'Ethiopia', 'region': 'Africa', 'c40': 'C40', 'access': 'Public', 'reporting_year': 2017, 'accounting_year': '2012-01-01 - 2012-12-31', 'boundary': 'Administrative boundary of a local government', 'protocol': 'Global Protocol for Community-Scale Greenhouse Gas Emissions Inventories (GPC), (WRI, C40 and ICLEI)', 'protocol_column': 'Reported according to the BASIC+ requirement', 'gases_included': None, 'total_emissions_metric_tonnes_co2e': 5043860.0, 'scopes_included_': 'Total Scope 1, Scope 2 and Waste Scope 3 (Total BASIC emissions)', 'total_scope_1_emissions_metric_tonnes_co2e': 3708292.0, 'total_scope_2_emissions_metric_tonnes_co2e': nan, 'comment': None, 'increase/decrease_from_last_year': 'This is our first year of calculation', 'reason_for_increase/decrease_in_emissions': 'lack of capacity', 'population': 3800000, 'population_year': 2013, 'gdp': nan, 'gdp_currency': 'ETB     Ethiopian Birr', 'gdp_year': nan, 'gdp_source': None, 'average_annual_temperature_in_celsius\\u200b': nan, '\\u200baverage_altitude_m': 2650.0, '\\u200bland_area_in_square_km': 540.0, 'city_location': '(9.028874, 38.754366)', 'country_location': '(9.145, 40.489673)'}, {'_id': ObjectId('65fc951cecc75b1bd8d14e1e'), 'account_number': 54389, 'organization': 'Taichung City Government', 'city': 'Taichung', 'country': 'Taiwan', 'region': 'East Asia', 'c40': None, 'access': 'Public', 'reporting_year': 2017, 'accounting_year': '2015-01-01 - 2015-12-31', 'boundary': 'Administrative boundary of a local government', 'protocol': 'Global Protocol for Community-Scale Greenhouse Gas Emissions Inventories (GPC), (WRI, C40 and ICLEI)', 'protocol_column': 'GHG Protocol is working to give cities the standards and tools they need to measure their emissions, build more effective emissions reduction strategies, set measurable and more ambitious emission reduction goals, and to track their progress more accurately and comprehensively.', 'gases_included': None, 'total_emissions_metric_tonnes_co2e': 13668164.44, 'scopes_included_': 'Total Scope 1, Scope 2 and Waste Scope 3 (Total BASIC emissions)', 'total_scope_1_emissions_metric_tonnes_co2e': 18701564.74, 'total_scope_2_emissions_metric_tonnes_co2e': 13668164.44, 'comment': None, 'increase/decrease_from_last_year': 'Increased', 'reason_for_increase/decrease_in_emissions': 'The city is growing in population, industry and transportation.', 'population': 2750000, 'population_year': 2016, 'gdp': 22635.0, 'gdp_currency': 'USD     US Dollar', 'gdp_year': 2016.0, 'gdp_source': 'Financial Bureau', 'average_annual_temperature_in_celsius\\u200b': 23.0, '\\u200baverage_altitude_m': nan, '\\u200bland_area_in_square_km': 2215.0, 'city_location': '(24.161859, 120.646967)', 'country_location': '(23.6978, 120.9605)'}, {'_id': ObjectId('65fc951cecc75b1bd8d14e1f'), 'account_number': 36285, 'organization': 'Comune di Firenze', 'city': 'Firenze', 'country': 'Italy', 'region': 'Europe', 'c40': None, 'access': 'Public', 'reporting_year': 2017, 'accounting_year': '2014-01-01 - 2014-12-31', 'boundary': 'Administrative boundary of a local government', 'protocol': '2006 IPCC Guidelines for National Greenhouse Gas Inventories', 'protocol_column': 'Florence followed the IPCC approach as suggested in the CoM guidelines for SEAP development', 'gases_included': 'CO2', 'total_emissions_metric_tonnes_co2e': 1630308.0, 'scopes_included_': 'Total Scope 1 and Scope 2', 'total_scope_1_emissions_metric_tonnes_co2e': 1067681.0, 'total_scope_2_emissions_metric_tonnes_co2e': 562627.0, 'comment': 'A complete data collection following a bottom-up approach has been used to calculate the fuel consumption in the city; standard IPCC emission factors and local factor for electricity production supported the calculation of the consequent emissions inventory', 'increase/decrease_from_last_year': 'Decreased', 'reason_for_increase/decrease_in_emissions': 'Becouse of the implementation of the SEAP action', 'population': 377635, 'population_year': 2017, 'gdp': 31769.0, 'gdp_currency': 'EUR     Euro', 'gdp_year': 2015.0, 'gdp_source': 'per capita data from Unioncamere - ISTAT', 'average_annual_temperature_in_celsius\\u200b': 15.2, '\\u200baverage_altitude_m': 50.0, '\\u200bland_area_in_square_km': 102.4, 'city_location': '(43.7696, 11.2558)', 'country_location': '(41.87194, 12.56738)'}, {'_id': ObjectId('65fc951cecc75b1bd8d14e20'), 'account_number': 58621, 'organization': 'Town of Blacksburg', 'city': 'Blacksburg', 'country': 'USA', 'region': 'North America', 'c40': None, 'access': 'Public', 'reporting_year': 2017, 'accounting_year': '2015-01-01 - 2015-12-31', 'boundary': 'Administrative boundary of a local government', 'protocol': 'U.S. Community Protocol for Accounting and Reporting of Greenhouse Gas Emissions (ICLEI)', 'protocol_column': '2015 Town of Blacksburg community green house gas inventory according to the ICLEI US community protocol.', 'gases_included': 'CO2; CH4; N2O', 'total_emissions_metric_tonnes_co2e': 347483.0, 'scopes_included_': 'Total Scope 1 and Scope 2', 'total_scope_1_emissions_metric_tonnes_co2e': 124461.79, 'total_scope_2_emissions_metric_tonnes_co2e': 223021.63, 'comment': \"Electricity and Natural Gas consumption are measured values however transportation figures are based on Virginia DOT's Vehicle Miles Traveled studies and estimates which may not be entirely accurate.\", 'increase/decrease_from_last_year': 'Decreased', 'reason_for_increase/decrease_in_emissions': \"The last GHG inventory performed for the Town of Blacksburg was in 2012. Over those three years decreased emissions from electric utility provider's fuel mix has resulted in decreased emissions in the residential, commercial, industrial and public sectors. Considering the population increase it is likely that the culture of electricity use may have also lead to decreased consumption. Transportation emissions have increased by 1.39% which is likely due to the 3.29% increase in population. Wastewater emissions are significantly lower because of errors made in the previous emission calculations. Emissions from solid waste have also decreased roughly 4.4%.\", 'population': 44215, 'population_year': 2015, 'gdp': nan, 'gdp_currency': 'USD     US Dollar', 'gdp_year': nan, 'gdp_source': 'this information is not available at this geographic scale', 'average_annual_temperature_in_celsius\\u200b': 10.8, '\\u200baverage_altitude_m': 633.0, '\\u200bland_area_in_square_km': 51.5, 'city_location': '(37.2296, -80.4139)', 'country_location': '(37.09024, -95.712891)'}, {'_id': ObjectId('65fc951cecc75b1bd8d14e21'), 'account_number': 54521, 'organization': 'City of Bournemouth', 'city': 'Bournemouth', 'country': 'United Kingdom', 'region': 'Europe', 'c40': None, 'access': 'Public', 'reporting_year': 2017, 'accounting_year': '2013-01-01 - 2013-12-31', 'boundary': 'Administrative boundary of a local government', 'protocol': 'Global Protocol for Community-Scale Greenhouse Gas Emissions Inventories (GPC), (WRI, C40 and ICLEI)', 'protocol_column': None, 'gases_included': None, 'total_emissions_metric_tonnes_co2e': 731230.0, 'scopes_included_': 'Total Scope 1, Scope 2 and Waste Scope 3 (Total BASIC emissions)', 'total_scope_1_emissions_metric_tonnes_co2e': nan, 'total_scope_2_emissions_metric_tonnes_co2e': nan, 'comment': None, 'increase/decrease_from_last_year': 'This is our first year of calculation', 'reason_for_increase/decrease_in_emissions': None, 'population': 191400, 'population_year': 2015, 'gdp': nan, 'gdp_currency': None, 'gdp_year': nan, 'gdp_source': None, 'average_annual_temperature_in_celsius\\u200b': 14.0, '\\u200baverage_altitude_m': 22.0, '\\u200bland_area_in_square_km': 108.0, 'city_location': '(50.719164, -1.880769)', 'country_location': '(55.378051, -3.435973)'}, {'_id': ObjectId('65fc951cecc75b1bd8d14e22'), 'account_number': 58310, 'organization': 'City of Roanoke', 'city': 'Roanoke', 'country': 'USA', 'region': 'North America', 'c40': None, 'access': 'Public', 'reporting_year': 2017, 'accounting_year': '2015-01-01 - 2015-12-31', 'boundary': 'Administrative boundary of a local government', 'protocol': 'Other', 'protocol_column': 'ICLEI Clean Air and Climate Protection Software', 'gases_included': 'CO2; CH4; N2O', 'total_emissions_metric_tonnes_co2e': 1971679.0, 'scopes_included_': 'Total Scope 1 and Scope 2', 'total_scope_1_emissions_metric_tonnes_co2e': nan, 'total_scope_2_emissions_metric_tonnes_co2e': nan, 'comment': 'The City of Roanoke hires local citizen Dr. Sean McGinnis, Director of Green Engineering from Virginia Tech to calculate and report on the GHG Emissions data.', 'increase/decrease_from_last_year': 'Decreased', 'reason_for_increase/decrease_in_emissions': 'The city uses a 2005 baseline and the community emissions have decreased 13.5%. In 2014 emissions are down 4% from 2013. The primary driver of this loss is the reduction of coal in the electric fuel mix.', 'population': 98465, 'population_year': 2013, 'gdp': 13900000000.0, 'gdp_currency': 'USD     US Dollar', 'gdp_year': 2013.0, 'gdp_source': 'www.roanokeva.gov', 'average_annual_temperature_in_celsius\\u200b': 14.0, '\\u200baverage_altitude_m': 400.0, '\\u200bland_area_in_square_km': 111.0, 'city_location': '(37.271, -79.9414)', 'country_location': '(37.09024, -95.712891)'}, {'_id': ObjectId('65fc951cecc75b1bd8d14e23'), 'account_number': 59595, 'organization': 'City of Brisbane, CA', 'city': 'Brisbane, CA', 'country': 'USA', 'region': 'North America', 'c40': None, 'access': 'Public', 'reporting_year': 2017, 'accounting_year': '2015-05-01 - 2016-05-01', 'boundary': 'A metropolitan area', 'protocol': 'International Emissions Analysis Protocol (ICLEI)', 'protocol_column': None, 'gases_included': 'CO2; CH4; N2O', 'total_emissions_metric_tonnes_co2e': 148025.0, 'scopes_included_': 'Total Scope 1 and Scope 2', 'total_scope_1_emissions_metric_tonnes_co2e': nan, 'total_scope_2_emissions_metric_tonnes_co2e': nan, 'comment': 'Our inventory is completed by consultants contracted by the County, DVN GL.', 'increase/decrease_from_last_year': 'Decreased', 'reason_for_increase/decrease_in_emissions': 'There was a 10% reduction between 2005 and 2010', 'population': 4603, 'population_year': 2015, 'gdp': nan, 'gdp_currency': None, 'gdp_year': nan, 'gdp_source': None, 'average_annual_temperature_in_celsius\\u200b': 15.0, '\\u200baverage_altitude_m': nan, '\\u200bland_area_in_square_km': 7.5, 'city_location': '(37.6808, -122.4)', 'country_location': '(37.09024, -95.712891)'}, {'_id': ObjectId('65fc951cecc75b1bd8d14e24'), 'account_number': 54128, 'organization': 'City of Reno', 'city': 'Reno', 'country': 'USA', 'region': 'North America', 'c40': None, 'access': 'Public', 'reporting_year': 2017, 'accounting_year': '2014-01-01 - 2014-12-31', 'boundary': 'Administrative boundary of a local government', 'protocol': 'Global Protocol for Community-Scale Greenhouse Gas Emissions Inventories (GPC), (WRI, C40 and ICLEI)', 'protocol_column': None, 'gases_included': None, 'total_emissions_metric_tonnes_co2e': 2730235.35, 'scopes_included_': 'Total Scope 1, Scope 2 and Waste Scope 3 (Total BASIC emissions)', 'total_scope_1_emissions_metric_tonnes_co2e': 1371400.0, 'total_scope_2_emissions_metric_tonnes_co2e': 1180239.0, 'comment': None, 'increase/decrease_from_last_year': 'This is our first year of calculation', 'reason_for_increase/decrease_in_emissions': None, 'population': 236995, 'population_year': 2014, 'gdp': 22043000000.0, 'gdp_currency': 'USD     US Dollar', 'gdp_year': 2015.0, 'gdp_source': 'Reno, NV MSA; Bureau of Economic Analysis10.4', 'average_annual_temperature_in_celsius\\u200b': 10.4, '\\u200baverage_altitude_m': 1373.0, '\\u200bland_area_in_square_km': 288.0, 'city_location': '(39.5296, -119.8138)', 'country_location': '(37.09024, -95.712891)'}, {'_id': ObjectId('65fc951cecc75b1bd8d14e25'), 'account_number': 31177, 'organization': 'Salt Lake City', 'city': 'Salt Lake City', 'country': 'USA', 'region': 'North America', 'c40': None, 'access': 'Public', 'reporting_year': 2017, 'accounting_year': '2015-01-01 - 2015-12-31', 'boundary': 'Administrative boundary of a local government', 'protocol': 'U.S. Community Protocol for Accounting and Reporting of Greenhouse Gas Emissions (ICLEI)', 'protocol_column': None, 'gases_included': 'CO2; CH4; N2O', 'total_emissions_metric_tonnes_co2e': 4752386.0, 'scopes_included_': 'Total Scope 1 and Scope 2', 'total_scope_1_emissions_metric_tonnes_co2e': nan, 'total_scope_2_emissions_metric_tonnes_co2e': nan, 'comment': None, 'increase/decrease_from_last_year': 'Decreased', 'reason_for_increase/decrease_in_emissions': 'Reduction in natural gas consumption due to warmer local winter temperatures.', 'population': 192672, 'population_year': 2015, 'gdp': 78950000.0, 'gdp_currency': 'USD     US Dollar', 'gdp_year': 2015.0, 'gdp_source': 'U.S. Department of Commerce, Bureau of Economic Analysis, GDP Regional Index by Metropolitan Area, published Sept 23, 2015', 'average_annual_temperature_in_celsius\\u200b': 12.7, '\\u200baverage_altitude_m': 1319.0, '\\u200bland_area_in_square_km': 287.0, 'city_location': '(40.7608, -111.891)', 'country_location': '(37.09024, -95.712891)'}, {'_id': ObjectId('65fc951cecc75b1bd8d14e26'), 'account_number': 54395, 'organization': 'Taoyuan City Government', 'city': 'Taoyuan', 'country': 'Taiwan', 'region': 'East Asia', 'c40': None, 'access': 'Public', 'reporting_year': 2017, 'accounting_year': '2014-01-01 - 2014-12-31', 'boundary': 'Administrative boundary of a local government', 'protocol': '2006 IPCC Guidelines for National Greenhouse Gas Inventories', 'protocol_column': None, 'gases_included': 'CO2; PFCs; CH4; SF6; N2O; NF3; HFCs', 'total_emissions_metric_tonnes_co2e': 35764526.0, 'scopes_included_': 'Total Scope 1 and Scope 2', 'total_scope_1_emissions_metric_tonnes_co2e': 21143194.6, 'total_scope_2_emissions_metric_tonnes_co2e': 14621331.42, 'comment': 'For level of confidence, we multiply the accuracy level of collected activity data by the accuracy level of emission coefficients used.Accuracy level classification for activity data:?H?Regional statistics data :1?M?Cities statistics data:2?L?Central statistics data:3Accuracy level classification for emission coefficients:?H?Regional emission coefficients: 1 ?M?National emission coefficients: 2?L?International emission coefficients: 3The overall result is 5.13, the score falls within range 4-7, which was classified as medium level of confidence', 'increase/decrease_from_last_year': 'Increased', 'reason_for_increase/decrease_in_emissions': 'Our industry is growing continuously, so our total emission is slowly increasing. The sectors with increasing emissions are: industrial energy (fuel) by 14.2%; industrial processes and product use by 12.1%; buildings and AFOLU by 3.7%. The sectors with emission reductions are: agriculture by 0.4%; industrial energy (electricity) by 0.04%.', 'population': 2153521, 'population_year': 2017, 'gdp': 17111263000000.0, 'gdp_currency': 'TWD     New Taiwan Dollar', 'gdp_year': 2016.0, 'gdp_source': 'DGBAS, Executive Yuan, Taiwan', 'average_annual_temperature_in_celsius\\u200b': 23.0, '\\u200baverage_altitude_m': nan, '\\u200bland_area_in_square_km': 1220.9, 'city_location': '(24.993113, 121.301028)', 'country_location': '(23.6978, 120.9605)'}, {'_id': ObjectId('65fc951cecc75b1bd8d14e27'), 'account_number': 31172, 'organization': 'Mexico City', 'city': 'Mexico City', 'country': 'Mexico', 'region': 'Latin America', 'c40': 'C40', 'access': 'Public', 'reporting_year': 2017, 'accounting_year': '2014-01-01 - 2014-12-31', 'boundary': 'Other: the inhabitants, commercial establishments, services and industries located in the territory of Mexico City area', 'protocol': 'Global Protocol for Community-Scale Greenhouse Gas Emissions Inventories (GPC), (WRI, C40 and ICLEI)', 'protocol_column': 'Quality Assurance/Quality Control activities include: revision of calculations, data management, verification of procedures and uncertainty calculation.', 'gases_included': None, 'total_emissions_metric_tonnes_co2e': 30870170.39, 'scopes_included_': 'Total Scope 1, Scope 2 and Waste Scope 3 (Total BASIC emissions)', 'total_scope_1_emissions_metric_tonnes_co2e': 19535381.25, 'total_scope_2_emissions_metric_tonnes_co2e': 6812617.51, 'comment': None, 'increase/decrease_from_last_year': 'Increased', 'reason_for_increase/decrease_in_emissions': \"•\\tStationary Energy,  SCOPE 1 :Emission factors of commerce & services, were reassigned according to the combustion equipment characteristics, SCOPE 3: the percentage of T&D losses from energy imported were actualized to 2014.\\n•\\tTransportation sector, On road transport : we change the estimating model for vehicle emissions from Mobile6-Mexico to MOVES-México.\\n•\\tIPPU and Other SCOPE 3, the consumption of HFC's for automobile air conditioning were actualized.\", 'population': 8874724, 'population_year': 2014, 'gdp': 2255223000000.0, 'gdp_currency': 'MXN     Mexican Peso', 'gdp_year': 2014.0, 'gdp_source': 'INEGI', 'average_annual_temperature_in_celsius\\u200b': 16.0, '\\u200baverage_altitude_m': 2240.0, '\\u200bland_area_in_square_km': 1485.0, 'city_location': '(19.4326077, -99.133208)', 'country_location': '(23.634501, -102.552784)'}, {'_id': ObjectId('65fc951cecc75b1bd8d14e28'), 'account_number': 50568, 'organization': 'City of Saskatoon', 'city': 'Saskatoon', 'country': 'Canada', 'region': 'North America', 'c40': None, 'access': 'Public', 'reporting_year': 2017, 'accounting_year': '2014-01-01 - 2014-12-31', 'boundary': 'Administrative boundary of a local government', 'protocol': 'Global Protocol for Community-Scale Greenhouse Gas Emissions Inventories (GPC), (WRI, C40 and ICLEI)', 'protocol_column': None, 'gases_included': None, 'total_emissions_metric_tonnes_co2e': 3493456.0, 'scopes_included_': 'Total Scope 1, Scope 2 and Waste Scope 3 (Total BASIC emissions)', 'total_scope_1_emissions_metric_tonnes_co2e': 2336425.0, 'total_scope_2_emissions_metric_tonnes_co2e': 1225862.0, 'comment': None, 'increase/decrease_from_last_year': 'Increased', 'reason_for_increase/decrease_in_emissions': 'Emissions have increased due to the lack of a coordinated approach to reduce GHG emissions. The City continues to improve methodology, and report emissions from additional sectors such as Agriculture emissions and estimate from IPPU. Methodology for the next inventory is expected to also include urban forestry and land use.  The city continues to experienced steady growth, which has pushed absolute emissions higher.', 'population': 265300, 'population_year': 2016, 'gdp': 17400000000.0, 'gdp_currency': 'CAD     Canadian Dollar', 'gdp_year': 2016.0, 'gdp_source': 'Saskatoon Regional Economic Authority', 'average_annual_temperature_in_celsius\\u200b': 2.0, '\\u200baverage_altitude_m': 482.0, '\\u200bland_area_in_square_km': 233.0, 'city_location': '(52.133214, -106.670046)', 'country_location': '(56.130366, -106.346771)'}, {'_id': ObjectId('65fc951cecc75b1bd8d14e29'), 'account_number': 57509, 'organization': 'Prefeitura Niterói', 'city': 'Niterói', 'country': 'Brazil', 'region': 'Latin America', 'c40': None, 'access': 'Public', 'reporting_year': 2017, 'accounting_year': '2015-01-01 - 2015-12-31', 'boundary': 'Administrative boundary of a local government', 'protocol': 'Global Protocol for Community-Scale Greenhouse Gas Emissions Inventories (GPC), (WRI, C40 and ICLEI)', 'protocol_column': 'Foi realizado inventário de emissão de gases por meio do Software ClearPath, referente às atividades do ano de 2015. Juntamente com esta atividade, foi feito o reporte de ações de adaptação e mitigação - tanto que já estão em execução quanto as previstas pelo município - através da plataforma Carbonn.', 'gases_included': None, 'total_emissions_metric_tonnes_co2e': 1729602.0, 'scopes_included_': 'Total Scope 1, Scope 2 and Waste Scope 3 (Total BASIC emissions)', 'total_scope_1_emissions_metric_tonnes_co2e': 1134407.8, 'total_scope_2_emissions_metric_tonnes_co2e': 164574.2, 'comment': None, 'increase/decrease_from_last_year': 'Other:', 'reason_for_increase/decrease_in_emissions': 'O reporte do primeiro ano inventariado (2015) teve início no segundo semestre de 2016 e ainda encontra-se no estágio revisão. Por tal motivo, a prefeitura ainda irá estruturar na sequência o mapeamento de vulnerabilidades, bem como o plano de redução de emissões, adaptação e mitigação.', 'population': 497883, 'population_year': 2016, 'gdp': 19908.0, 'gdp_currency': 'BRL     Brazilian Real', 'gdp_year': 2013.0, 'gdp_source': 'Ministério da Saúde - DATASUS', 'average_annual_temperature_in_celsius\\u200b': 23.0, '\\u200baverage_altitude_m': 5.0, '\\u200bland_area_in_square_km': 133.1, 'city_location': '(-22.892857, -43.118381)', 'country_location': '(-14.235004, -51.92528)'}, {'_id': ObjectId('65fc951cecc75b1bd8d14e2a'), 'account_number': 31182, 'organization': 'City of San Francisco', 'city': 'San Francisco', 'country': 'USA', 'region': 'North America', 'c40': 'C40', 'access': 'Public', 'reporting_year': 2017, 'accounting_year': '2015-01-01 - 2015-12-31', 'boundary': 'Other: Geopolitical Boundary - physical areas over which local government has jurisdictional control', 'protocol': 'Global Protocol for Community-Scale Greenhouse Gas Emissions Inventories (GPC), (WRI, C40 and ICLEI)', 'protocol_column': \"Used ICLEI U.S. Community Protocol to verify calendar year 2012 emissions.  During November 2015, the city reshaped and scoped calendar year 2012 emissions according to the new GPC BASIC framework to Compact of Mayor's requirements.  The GPC expanded the scope of the verified 2012 inventory to report sources such as from natural gas leakage from the distribution system, district electricity, transmission, and distribution electric losses, wastewater, agriculture/farming, ships and boats (non-ferry), off-road equipment and stationary sources.  This resulted in a higher emission number than originally verified by a third party.  The GPC was used for the 2015 community-wide inventory (not-verified) yet assured by C40 that emissions were in fact correct.\", 'gases_included': None, 'total_emissions_metric_tonnes_co2e': 4981652.0, 'scopes_included_': 'Total Scope 1, Scope 2 and Waste Scope 3 (Total BASIC emissions)', 'total_scope_1_emissions_metric_tonnes_co2e': 3765407.0, 'total_scope_2_emissions_metric_tonnes_co2e': 1076061.0, 'comment': None, 'increase/decrease_from_last_year': 'Other: Methodology Change', 'reason_for_increase/decrease_in_emissions': 'Residential, Commercial/Industrial, Transportation (private, commercial, public/mass transit), Waste as well as Municipal emissions continues to decrease due to the City of San Francisco\\'s progressive climate policies and commitment to implementing effective emission reduction strategies.  \\n\\nA total reduction of approximately 6% in community-wide emissions was observed compared to the last verified inventory carried out during CY2012.  \\n\\nThe Stationary Energy sector emissions decreased ~11% because natural gas and electricity consumption decreased across all sub-sectors.  \\n\\nThe Transportation sector emissions decreased by ~3% predominately affected by significant decreases in the Waterborne Navigation and On-road Transporation subsectors.  This occurred despite an emissions increase in the Railways sub-sector emissions which was affected by a methodology change in the way Bay Area Rapid Transit (BART) began collecting more specific power data and their use of a more conservative or higher emissions factor starting CY2013.\\n\\nRegarding the Waste sector, first, wastewater fugitive data collection was improved with better activity data.  This resulted in a more accurate picture of the contribution of fugitive wastewater emissions; thus, cutting by nearly half what was originally reporting in 2012. Consequently, when we compare the Waste sector since last inventoried,  emissions actually increased 18% influenced by not only an increase in total wastewater treatment and discharge emissions, but also because of an 18% increase in solid waste disposed emissions.  The updated CY2013 waste characterization study was more detailed which allowed a closer look at organic waste.  As a result, the category \"Other Organic Waste\" is now included as organic; previously categorized as inorganic.  Recategorization alone resulted in a 9% emissions increase.   The remaining 9% was a result of an increase in Wood+Textiles as well as Paper landfilled and thus emissions at ~5% and 4%, respectively.\\n\\nThe Agriculture sector emissions increased nearly three-fold because the data source seems to have reported significant increases in CH4 animal waste while not allocating any biogenic emissions; nonetheless, agriculture still remains a fraction of this urban city\\'s overall activity.', 'population': 864816, 'population_year': 2016, 'gdp': 117467440139.0, 'gdp_currency': 'USD     US Dollar', 'gdp_year': 2015.0, 'gdp_source': \"City Controller's Office\", 'average_annual_temperature_in_celsius\\u200b': 14.1, '\\u200baverage_altitude_m': 142.0, '\\u200bland_area_in_square_km': 121.0, 'city_location': '(37.7749295, -122.4194155)', 'country_location': '(37.09024, -95.712891)'}, {'_id': ObjectId('65fc951cecc75b1bd8d14e2b'), 'account_number': 57616, 'organization': 'City of Lake Forest, IL', 'city': 'Lake Forest, IL', 'country': 'USA', 'region': 'North America', 'c40': None, 'access': 'Public', 'reporting_year': 2017, 'accounting_year': '2007-01-01 - 2007-12-31', 'boundary': 'A metropolitan area', 'protocol': 'U.S. Community Protocol for Accounting and Reporting of Greenhouse Gas Emissions (ICLEI)', 'protocol_column': None, 'gases_included': 'CO2; CH4; N2O', 'total_emissions_metric_tonnes_co2e': 402364.0, 'scopes_included_': 'Total Scope 1 and Scope 2', 'total_scope_1_emissions_metric_tonnes_co2e': nan, 'total_scope_2_emissions_metric_tonnes_co2e': nan, 'comment': None, 'increase/decrease_from_last_year': 'This is our first year of calculation', 'reason_for_increase/decrease_in_emissions': None, 'population': 19375, 'population_year': 2010, 'gdp': nan, 'gdp_currency': None, 'gdp_year': nan, 'gdp_source': None, 'average_annual_temperature_in_celsius\\u200b': 8.8, '\\u200baverage_altitude_m': 205.0, '\\u200bland_area_in_square_km': 45.0, 'city_location': '(42.258634, -87.840625)', 'country_location': '(37.09024, -95.712891)'}, {'_id': ObjectId('65fc951cecc75b1bd8d14e2c'), 'account_number': 31180, 'organization': 'Región Metropolitana de Santiago', 'city': 'Santiago', 'country': 'Chile', 'region': 'Latin America', 'c40': 'C40', 'access': 'Public', 'reporting_year': 2017, 'accounting_year': '2013-01-01 - 2013-12-31', 'boundary': 'Administrative boundary of a local government', 'protocol': '2006 IPCC Guidelines for National Greenhouse Gas Inventories', 'protocol_column': 'GPC was used for re-organizing information, while for the estimation of emissions (equations and emission factors) the IPCC guidelines was used.', 'gases_included': 'CO2; PFCs; CH4; SF6; N2O; HFCs', 'total_emissions_metric_tonnes_co2e': 28406420.0, 'scopes_included_': 'Total Scope 1 and Scope 2', 'total_scope_1_emissions_metric_tonnes_co2e': 18030830.0, 'total_scope_2_emissions_metric_tonnes_co2e': 10375589.0, 'comment': 'Although a high level of accuracy has been reached in scope 1, scope 2 uses the national electricity consumption disaggregated according to the regional consumption of the year 2014.', 'increase/decrease_from_last_year': 'Decreased', 'reason_for_increase/decrease_in_emissions': 'The emissions has decreased 1% respect year 2012. \\nThere was a significant decrease in the energy industry emissions, however it was counteracted by an increase in the transport sector.', 'population': 6527903, 'population_year': 2012, 'gdp': 71856593000000.0, 'gdp_currency': 'CLP     Chilean Peso', 'gdp_year': 2015.0, 'gdp_source': 'Central Bank of Chile', 'average_annual_temperature_in_celsius\\u200b': 14.0, '\\u200baverage_altitude_m': 520.0, '\\u200bland_area_in_square_km': 15403.0, 'city_location': '(-33.44889, -70.669265)', 'country_location': '(-35.675147, -71.542969)'}, {'_id': ObjectId('65fc951cecc75b1bd8d14e2d'), 'account_number': 31090, 'organization': 'District of Columbia', 'city': 'Washington, DC', 'country': 'USA', 'region': 'North America', 'c40': 'C40', 'access': 'Public', 'reporting_year': 2017, 'accounting_year': '2015-01-01 - 2015-12-31', 'boundary': 'Administrative boundary of a local government', 'protocol': 'Global Protocol for Community-Scale Greenhouse Gas Emissions Inventories (GPC), (WRI, C40 and ICLEI)', 'protocol_column': None, 'gases_included': None, 'total_emissions_metric_tonnes_co2e': 8026730.0, 'scopes_included_': 'Total Scope 1, Scope 2 and Waste Scope 3 (Total BASIC emissions)', 'total_scope_1_emissions_metric_tonnes_co2e': 3635054.0, 'total_scope_2_emissions_metric_tonnes_co2e': 4175896.0, 'comment': None, 'increase/decrease_from_last_year': 'Decreased', 'reason_for_increase/decrease_in_emissions': 'The regional shift in electricity generation from coal to natural gas is responsible for the largest share of emissions reductions Additionally, the District has experienced a decline in energy consumption, which can be attributed to improvements in building energy efficiency resulting from building codes, incentive programs, and other green building and energy programs.', 'population': 681170, 'population_year': 2016, 'gdp': 122146000000.0, 'gdp_currency': 'USD     US Dollar', 'gdp_year': 2015.0, 'gdp_source': 'U.S. Bureau of Economic Analysis', 'average_annual_temperature_in_celsius\\u200b': 14.7, '\\u200baverage_altitude_m': nan, '\\u200bland_area_in_square_km': 158.0, 'city_location': '(38.9071923, -77.0368707)', 'country_location': '(37.09024, -95.712891)'}, {'_id': ObjectId('65fc951cecc75b1bd8d14e2e'), 'account_number': 14874, 'organization': 'City of Portland, OR', 'city': 'Portland, OR', 'country': 'USA', 'region': 'North America', 'c40': 'C40', 'access': 'Public', 'reporting_year': 2017, 'accounting_year': '2014-01-01 - 2014-12-31', 'boundary': 'Administrative boundary of a local government', 'protocol': 'U.S. Community Protocol for Accounting and Reporting of Greenhouse Gas Emissions (ICLEI)', 'protocol_column': None, 'gases_included': 'CO2; CH4; N2O', 'total_emissions_metric_tonnes_co2e': 6974544.0, 'scopes_included_': 'Total Scope 1 and Scope 2', 'total_scope_1_emissions_metric_tonnes_co2e': 4610317.0, 'total_scope_2_emissions_metric_tonnes_co2e': 2364227.0, 'comment': None, 'increase/decrease_from_last_year': 'Decreased', 'reason_for_increase/decrease_in_emissions': None, 'population': 619360, 'population_year': 2014, 'gdp': 163692000000.0, 'gdp_currency': 'USD     US Dollar', 'gdp_year': 2013.0, 'gdp_source': '2013 GDP & personal income. U.S. Department of Commerce Bureau of Economic Analysis', 'average_annual_temperature_in_celsius\\u200b': 12.5, '\\u200baverage_altitude_m': 77.0, '\\u200bland_area_in_square_km': 376.0, 'city_location': '(45.52, -122.6819)', 'country_location': '(37.09024, -95.712891)'}, {'_id': ObjectId('65fc951cecc75b1bd8d14e2f'), 'account_number': 69967, 'organization': 'Alcaldia de Tulua', 'city': 'Tulua', 'country': 'Colombia', 'region': 'Latin America', 'c40': None, 'access': 'Public', 'reporting_year': 2017, 'accounting_year': '2010-01-01 - 2010-12-31', 'boundary': 'Administrative boundary of a local government', 'protocol': '2006 IPCC Guidelines for National Greenhouse Gas Inventories', 'protocol_column': None, 'gases_included': 'CO2; CH4; N2O', 'total_emissions_metric_tonnes_co2e': 208681.0, 'scopes_included_': 'Total Scope 1 and Scope 2', 'total_scope_1_emissions_metric_tonnes_co2e': nan, 'total_scope_2_emissions_metric_tonnes_co2e': nan, 'comment': 'Vale aclarar que estos datos pueden tener una incertidumbre de media a alta dado la naturaleza de los datos de actividad y los factores de emisión fueron seleccionados por defecto del IPCC.', 'increase/decrease_from_last_year': None, 'reason_for_increase/decrease_in_emissions': None, 'population': 209086, 'population_year': 2017, 'gdp': nan, 'gdp_currency': 'COP     Colombian Peso', 'gdp_year': nan, 'gdp_source': None, 'average_annual_temperature_in_celsius\\u200b': 27.0, '\\u200baverage_altitude_m': 980.0, '\\u200bland_area_in_square_km': 910.0, 'city_location': '(4.08618, -76.19793)', 'country_location': '(4.5709, -74.2973)'}, {'_id': ObjectId('65fc951cecc75b1bd8d14e30'), 'account_number': 31179, 'organization': 'Gemeente Rotterdam', 'city': 'Rotterdam', 'country': 'Netherlands', 'region': 'Europe', 'c40': 'C40', 'access': 'Public', 'reporting_year': 2017, 'accounting_year': '2016-01-01 - 2016-12-31', 'boundary': 'Other: Geopolitical Boundary - physical areas over which local government has jurisdictional control.', 'protocol': 'Other: We compute scope 1 emissions for city and port and also scope 2 for the built environment', 'protocol_column': 'For the city of Rotterdam, the GHG protocol is used and the governmental boundaries apply, hence including the port, we compute all scope 1 emissions. Industrial activities in the port area encompasses several energy production plants, therefore scope 2 emissions from the industry are not computed. We only monitor scope 2 emissions for the built environment. This number is filled in in C1.5 but is not used for the monitoring of the RCI target.  An inventory was made on the emissions in 2009 and 2011 of other green house gases, but these numbers have limited accuracy. Therefore, these numbers are not included in C1.5. The most recent data that are now (April, 2017) available refer to the situation in 2015.', 'gases_included': 'CO2', 'total_emissions_metric_tonnes_co2e': 34190633.0, 'scopes_included_': 'Total Scope 1 and Scope 2', 'total_scope_1_emissions_metric_tonnes_co2e': 32619756.0, 'total_scope_2_emissions_metric_tonnes_co2e': 1570877.0, 'comment': None, 'increase/decrease_from_last_year': 'Increased', 'reason_for_increase/decrease_in_emissions': 'The total amount of CO2-emission in Rotterdam in 2015 has increased compared to the 2014-emissions. 34190633 tonnens in 2015 compared to 31512000 tonnes in 2014. It is the second relevant increase in a row, due to two new coal fire plants that started their operations. For that cause, we expect a further increase in 2016 and a decrease in 2017 when an old coal fire plant wil be closed.', 'population': 624000, 'population_year': 2014, 'gdp': 53457000.0, 'gdp_currency': 'EUR     Euro', 'gdp_year': 2013.0, 'gdp_source': 'www.rotterdam.nl', 'average_annual_temperature_in_celsius\\u200b': 11.0, '\\u200baverage_altitude_m': -5.0, '\\u200bland_area_in_square_km': 208.0, 'city_location': '(51.9163716, 4.4509382)', 'country_location': '(52.132633, 5.291266)'}, {'_id': ObjectId('65fc951cecc75b1bd8d14e31'), 'account_number': 50384, 'organization': 'Prefeitura de Florianópolis', 'city': 'Florianópolis', 'country': 'Brazil', 'region': 'Latin America', 'c40': None, 'access': 'Public', 'reporting_year': 2017, 'accounting_year': '2013-01-01 - 2013-12-31', 'boundary': 'A metropolitan area', 'protocol': 'Global Protocol for Community-Scale Greenhouse Gas Emissions Inventories (GPC), (WRI, C40 and ICLEI)', 'protocol_column': 'IDOM / COBRAPE / BID /PMF (2014)', 'gases_included': None, 'total_emissions_metric_tonnes_co2e': 740635.0, 'scopes_included_': 'Total Scope 1, Scope 2 and Waste Scope 3 (Total BASIC emissions)', 'total_scope_1_emissions_metric_tonnes_co2e': 1305206.0, 'total_scope_2_emissions_metric_tonnes_co2e': 145259.0, 'comment': None, 'increase/decrease_from_last_year': 'Increased', 'reason_for_increase/decrease_in_emissions': 'A diferença de emissões entre os anos é de 601.421 tCO2e, ou seja, houve um acréscimo de 42% em 2013 se comparado à 2010. Os setores de maior contribuição foram AFOLU, que deixou de sequestrar 6% e Transportes que passou a emitir 3% a mais.', 'population': 550000, 'population_year': 2010, 'gdp': 8787850000.0, 'gdp_currency': 'USD     US Dollar', 'gdp_year': 2013.0, 'gdp_source': 'IBGE', 'average_annual_temperature_in_celsius\\u200b': 20.0, '\\u200baverage_altitude_m': 3.0, '\\u200bland_area_in_square_km': 438.0, 'city_location': '(-27.5949884, -48.5481743)', 'country_location': '(-14.235004, -51.92528)'}, {'_id': ObjectId('65fc951cecc75b1bd8d14e32'), 'account_number': 54075, 'organization': 'City of Lakewood', 'city': 'Lakewood', 'country': 'USA', 'region': 'North America', 'c40': None, 'access': 'Public', 'reporting_year': 2017, 'accounting_year': '2015-01-01 - 2015-12-31', 'boundary': 'Administrative boundary of a local government', 'protocol': 'Global Protocol for Community-Scale Greenhouse Gas Emissions Inventories (GPC), (WRI, C40 and ICLEI)', 'protocol_column': None, 'gases_included': None, 'total_emissions_metric_tonnes_co2e': 1652223.0, 'scopes_included_': 'Total Scope 1, Scope 2 and Waste Scope 3 (Total BASIC emissions)', 'total_scope_1_emissions_metric_tonnes_co2e': 856008.0, 'total_scope_2_emissions_metric_tonnes_co2e': 774167.0, 'comment': None, 'increase/decrease_from_last_year': 'Decreased', 'reason_for_increase/decrease_in_emissions': \"The last inventory represented 2007 emissions, and the 2015 GPC BASIC inventory shows that emissions have decreased by approximately 8.5% since then. Significant decreases in GPC BASIC emissions occurred in residential buildings, on-road transportation, and wastewater treatment.\\n\\nColorado state law requires Lakewood's electric utility to increase the efficiency of their operations and source increasing amounts of energy from low- to zero-carbon sources (i.e. renewable energy, recycled energy, etc.). As a result, the mix of energy sources that supply the electric grid changes every year and the resulting electricity emission factor decreases every year. Based on data from Lakewood electric utility provider, Xcel Energy, electricity emission factors decreased nearly 16% from 2007 to 2015. This trend was the primary cause of decreased emissions.\", 'population': 152589, 'population_year': 2015, 'gdp': nan, 'gdp_currency': None, 'gdp_year': nan, 'gdp_source': None, 'average_annual_temperature_in_celsius\\u200b': 8.4, '\\u200baverage_altitude_m': 1638.0, '\\u200bland_area_in_square_km': 114.5, 'city_location': '(39.7047, -105.0814)', 'country_location': '(37.09024, -95.712891)'}, {'_id': ObjectId('65fc951cecc75b1bd8d14e33'), 'account_number': 35848, 'organization': 'Municipality of Belo Horizonte', 'city': 'Belo Horizonte', 'country': 'Brazil', 'region': 'Latin America', 'c40': None, 'access': 'Public', 'reporting_year': 2017, 'accounting_year': '2015-01-01 - 2015-12-31', 'boundary': 'Administrative boundary of a local government', 'protocol': 'Global Protocol for Community-Scale Greenhouse Gas Emissions Inventories (GPC), (WRI, C40 and ICLEI)', 'protocol_column': 'GHG emissions by fuel consumption -Different concentrations of biofuels (ethanol and biodiesel) were established by the national authority for the distribution of Automotive Gasoline and Diesel. These concentrations were considered in the calculations and applied to the total of each fuel checked for the municipality, according to regulatory developments in the industry. GHG emissions for electricity consumption - The indirect CO2 emissions per electricity consumption were calculated taking into account the average emission factor of the National Interconnected System in each year of the period considered. GHG emissions per treatment and release of liquid effluents - Belo Horizonte has 4 sewage treatment plants (STP) in operation, which are emitting methane and nitrous oxide.There are a fifth STP that employs physicolchemical processes that do not emit greenhouse gases. A fraction of sewage collected in Belo Horizonte is not forwarded to any treatment plant, being deposited directly into the water body; another fraction of wastewater, which is not collected, it is presumably treated in septic systems (septic tanks), followed by infiltration. GHG emissions by treating municipal solid waste - Landfill - The solids waste generated in Belo Horizonte are taken for disposal in landfill (CTR Macaúbas), where there is no biogas recovery system. It was assumed that 100% of the biogas generated in massive municipal solid waste is released into the atmosphere. A fraction of the waste collected in the city is still willing to massive treatment center CTR-BR-040 in Belo Horizonte, in a separate area where, from 2010, began a system of thermoelectric generation from biogas generated at the landfill. Thus, biogas derived from the ancient massive waste should not be considered in the GHG inventory from 2010. Is it considered only the fraction derived from the provisions in recent separate area and not covered by biogas recovery system. It is worth mentioning that according to this model first-order decay, For purposes of this inventory, we adopted a period of 10 (ten) years as horizon degradation of waste within the massif. Composting - BH also conducts composting for organic waste. These activities take place in the CTRS Rod BR-040 and may incur nitrous oxide and methane.', 'gases_included': None, 'total_emissions_metric_tonnes_co2e': 4494883.0, 'scopes_included_': 'Total Scope 1, Scope 2 and Waste Scope 3 (Total BASIC emissions)', 'total_scope_1_emissions_metric_tonnes_co2e': 2393341.15, 'total_scope_2_emissions_metric_tonnes_co2e': 542481.74, 'comment': None, 'increase/decrease_from_last_year': 'Increased', 'reason_for_increase/decrease_in_emissions': None, 'population': 2513451, 'population_year': 2016, 'gdp': 87656760000.0, 'gdp_currency': 'BRL     Brazilian Real', 'gdp_year': 2014.0, 'gdp_source': 'IBGE', 'average_annual_temperature_in_celsius\\u200b': 21.0, '\\u200baverage_altitude_m': 900.0, '\\u200bland_area_in_square_km': 331.0, 'city_location': '(-19.916681, -43.934493)', 'country_location': '(-14.235004, -51.92528)'}, {'_id': ObjectId('65fc951cecc75b1bd8d14e34'), 'account_number': 31163, 'organization': 'Istanbul Metropolitan Municipality', 'city': 'Istanbul ', 'country': 'Turkey', 'region': 'Europe', 'c40': 'C40', 'access': 'Public', 'reporting_year': 2017, 'accounting_year': '2015-01-01 - 2015-12-31', 'boundary': 'A metropolitan area', 'protocol': 'Global Protocol for Community-Scale Greenhouse Gas Emissions Inventories (GPC), (WRI, C40 and ICLEI)', 'protocol_column': 'GPC Version 2.0 (2014) was used to calculate GHG emissions.', 'gases_included': None, 'total_emissions_metric_tonnes_co2e': 47862539.0, 'scopes_included_': 'Total Scope 1, Scope 2 and Waste Scope 3 (Total BASIC emissions)', 'total_scope_1_emissions_metric_tonnes_co2e': 30915232.0, 'total_scope_2_emissions_metric_tonnes_co2e': 18065288.0, 'comment': None, 'increase/decrease_from_last_year': 'Increased', 'reason_for_increase/decrease_in_emissions': 'Compared to the last emissions inventory developed in 2010, it is seen that the highest increase is from stationary units. The increase in greenhouse gases emitted from the stationary units is due to the increase in electricity and natural gas consumption.Despite the reduction in consumption of LPG, gasoline and fuel in public transport vehicles, an increase of more than 50% in diesel consumption has led to an increase in on-road tranportation emissions.Along with the increase in the number of vehicles, it is considered that the amount of fuel consumed during the construction of the large infrastructural investments which have recently increased is also effective in this increase.Unlike the 2010 inventory, emissions from aviation and water-borne navigation are included in the inventory in 2015.', 'population': 14804116, 'population_year': 2016, 'gdp': 622762000000.0, 'gdp_currency': 'TRY     New Turkish Lira', 'gdp_year': 2014.0, 'gdp_source': 'Turkish Statistical Institute', 'average_annual_temperature_in_celsius\\u200b': 13.7, '\\u200baverage_altitude_m': 100.0, '\\u200bland_area_in_square_km': 5343.0, 'city_location': '(41.0082, 28.9784)', 'country_location': '(38.963745, 35.243322)'}, {'_id': ObjectId('65fc951cecc75b1bd8d14e35'), 'account_number': 59552, 'organization': 'City of Davis, CA', 'city': 'Davis, CA', 'country': 'USA', 'region': 'North America', 'c40': None, 'access': 'Public', 'reporting_year': 2017, 'accounting_year': '2009-01-01 - 2010-01-01', 'boundary': 'Administrative boundary of a local government', 'protocol': 'U.S. Community Protocol for Accounting and Reporting of Greenhouse Gas Emissions (ICLEI)', 'protocol_column': 'The City updated the inventory in 2012 using the latest available data from 2010.', 'gases_included': 'CO2; CH4; N2O; HFCs', 'total_emissions_metric_tonnes_co2e': 348347.0, 'scopes_included_': 'Total Scope 1 and Scope 2', 'total_scope_1_emissions_metric_tonnes_co2e': 348437.0, 'total_scope_2_emissions_metric_tonnes_co2e': nan, 'comment': None, 'increase/decrease_from_last_year': 'Decreased', 'reason_for_increase/decrease_in_emissions': 'Lower carbon emission electricity energy mix (grid).', 'population': 65600, 'population_year': 2010, 'gdp': nan, 'gdp_currency': 'USD     US Dollar', 'gdp_year': 2016.0, 'gdp_source': None, 'average_annual_temperature_in_celsius\\u200b': 23.0, '\\u200baverage_altitude_m': 15.0, '\\u200bland_area_in_square_km': 25.0, 'city_location': '(38.544907, -121.740517)', 'country_location': '(37.09024, -95.712891)'}, {'_id': ObjectId('65fc951cecc75b1bd8d14e36'), 'account_number': 36037, 'organization': 'Santiago de Cali', 'city': 'Santiago de Cali', 'country': 'Colombia', 'region': 'Latin America', 'c40': None, 'access': 'Public', 'reporting_year': 2017, 'accounting_year': '2010-01-01 - 2010-12-31', 'boundary': 'Combination of administrative divisions', 'protocol': '2006 IPCC Guidelines for National Greenhouse Gas Inventories', 'protocol_column': None, 'gases_included': 'CO2; CH4; N2O', 'total_emissions_metric_tonnes_co2e': 4174608.0, 'scopes_included_': 'Total Scope 1 and Scope 2', 'total_scope_1_emissions_metric_tonnes_co2e': nan, 'total_scope_2_emissions_metric_tonnes_co2e': nan, 'comment': None, 'increase/decrease_from_last_year': None, 'reason_for_increase/decrease_in_emissions': None, 'population': 2369829, 'population_year': 2015, 'gdp': 4540.0, 'gdp_currency': None, 'gdp_year': 2012.0, 'gdp_source': 'DAPM', 'average_annual_temperature_in_celsius\\u200b': 24.7, '\\u200baverage_altitude_m': 995.0, '\\u200bland_area_in_square_km': 566.0, 'city_location': '(3.451647, -76.531985)', 'country_location': '(4.570868, -74.297333)'}, {'_id': ObjectId('65fc951cecc75b1bd8d14e37'), 'account_number': 49360, 'organization': 'Pretoria - Tshwane', 'city': 'Pretoria - Tshwane', 'country': 'South Africa', 'region': 'Africa', 'c40': 'C40', 'access': 'Public', 'reporting_year': 2017, 'accounting_year': '2014-07-01 - 2015-06-30', 'boundary': 'Administrative boundary of a local government', 'protocol': 'International Emissions Analysis Protocol (ICLEI)', 'protocol_column': 'The methodology as defined in the International Local Government GHG Emissions Analysis Protocol V1.0 and the Local Government Operations Protocol for the Quantification and Reporting of GHG Inventories V1.1 where used where applicable and viable.', 'gases_included': 'CO2; CH4; N2O', 'total_emissions_metric_tonnes_co2e': 15236693.0, 'scopes_included_': 'Total Scope 1 and Scope 2', 'total_scope_1_emissions_metric_tonnes_co2e': 4648959.0, 'total_scope_2_emissions_metric_tonnes_co2e': 10589996.0, 'comment': 'The 2014/2015 GHG calculation was the third carbon footprint in three consecutive years and there has been a similar trends in the City.', 'increase/decrease_from_last_year': 'Increased', 'reason_for_increase/decrease_in_emissions': 'The exclusion of the Eskom and Pre-paid energy usage in the baseline figures. The two subsequent years the afore-mentioned usage was included.', 'population': 3300000, 'population_year': 2017, 'gdp': 2739000000.0, 'gdp_currency': 'ZAR     South African Rand', 'gdp_year': 2016.0, 'gdp_source': 'STATSSA', 'average_annual_temperature_in_celsius\\u200b': 17.0, '\\u200baverage_altitude_m': 1339.0, '\\u200bland_area_in_square_km': 6298.0, 'city_location': '(-25.746111, 28.188056)', 'country_location': '(-30.559482, 22.937506)'}, {'_id': ObjectId('65fc951cecc75b1bd8d14e38'), 'account_number': 50680, 'organization': 'Cascais', 'city': 'Cascais', 'country': 'Portugal', 'region': 'Europe', 'c40': None, 'access': 'Public', 'reporting_year': 2017, 'accounting_year': '2010-01-01 - 2010-12-31', 'boundary': 'Administrative boundary of a local government', 'protocol': '2006 IPCC Guidelines for National Greenhouse Gas Inventories', 'protocol_column': 'this was made with calculous platforms from international organizations such as UN (IPCC, and ICLEI) as well as EU comission', 'gases_included': 'CO2', 'total_emissions_metric_tonnes_co2e': 565382.0, 'scopes_included_': 'Total Scope 1 and Scope 2', 'total_scope_1_emissions_metric_tonnes_co2e': 565382.0, 'total_scope_2_emissions_metric_tonnes_co2e': 266221.0, 'comment': 'http://www.cm-cascais.pt/projeto/matriz-energetica-de-cascais', 'increase/decrease_from_last_year': 'Decreased', 'reason_for_increase/decrease_in_emissions': 'We have verified a decrease in fuel consumption between the mentioned time period.', 'population': 208122, 'population_year': 2014, 'gdp': nan, 'gdp_currency': None, 'gdp_year': 2014.0, 'gdp_source': None, 'average_annual_temperature_in_celsius\\u200b': 17.0, '\\u200baverage_altitude_m': nan, '\\u200bland_area_in_square_km': 97.0, 'city_location': '(38.6970565, -9.4222945)', 'country_location': '(39.399872, -8.224454)'}, {'_id': ObjectId('65fc951cecc75b1bd8d14e39'), 'account_number': 31009, 'organization': 'City of Copenhagen', 'city': 'Copenhagen', 'country': 'Denmark', 'region': 'Europe', 'c40': 'C40', 'access': 'Public', 'reporting_year': 2017, 'accounting_year': '2015-01-01 - 2015-12-31', 'boundary': 'Administrative boundary of a local government', 'protocol': 'Other', 'protocol_column': \"The methodology used provides an inventory of greenhouse gases at the municipality level, divided into sectors. The sectors are similar to those used for the official Danish emission inventory (IPCC sectors), and include; collective power and heating, Indivitual heating, Mobile sources, Tranportation and machinery, Industrial processes, Solvents, Agriculture, Land use, and waste depositing and wastewater.Simplified generalizations of the equations used for emission calculations are used. These are based on the assumption that emissions of a given activity can be estimated using data descriptive for the size of the activity multiplied by an emission factor pr unit or activity. That is, the inventory is primarily based on scope-2 data on heat and power consumption and scope-1 data on road traffic.The method includes CO2-, CH4- and N2O-emission in the inventory.As for the national inventories the calculation is built into several levels (Tiers) with increased requirements for municipalities regarding data quality. Each municipality may use different tiers for different sectors depending on the data available.Tier 1 is mainly based on the Danish national greenhouse gas inventory data using appropriate distribution keys, in most cases the municipality's share of total population, for a given activity into municipality level.Tier 2 is more detailed and includes emission factors used in the Danish national greenhouse gas inventories, while municipalities use their own activity data.At Tier 3, which is the most detailed level; municipalities use municipality specific emission factors and activity data.\", 'gases_included': 'CO2; CH4; N2O', 'total_emissions_metric_tonnes_co2e': 1450358.0, 'scopes_included_': 'Total Scope 1 and Scope 2', 'total_scope_1_emissions_metric_tonnes_co2e': nan, 'total_scope_2_emissions_metric_tonnes_co2e': nan, 'comment': None, 'increase/decrease_from_last_year': 'Decreased', 'reason_for_increase/decrease_in_emissions': 'The CO2-emissions from the City of Copenhagen in 2015 was 11% lower than the emissions in 2014. The reduction in the emissions is primarily caused by more wind power i the power production in Copenhagen and in Denmark in general.\\n\\n\\nFor Denmark as a whole, one kilowatt-hour of electricity emitted an average of almost 29% less CO2 in 2015 than in 2014. This drop is partly attributable to higher wind production as well as more use of biomass in combined heat and power production.', 'population': 602504, 'population_year': 2016, 'gdp': 323182960000.0, 'gdp_currency': 'DKK     Danish Krone', 'gdp_year': 2015.0, 'gdp_source': 'Danmarks Statistik, Statistics Denmark', 'average_annual_temperature_in_celsius\\u200b': 8.0, '\\u200baverage_altitude_m': 9.0, '\\u200bland_area_in_square_km': 86.0, 'city_location': '(55.6760968, 12.5683371)', 'country_location': '(56.26392, 9.501785)'}, {'_id': ObjectId('65fc951cecc75b1bd8d14e3a'), 'account_number': 31052, 'organization': 'City of Cardiff', 'city': 'Cardiff', 'country': 'United Kingdom', 'region': 'Europe', 'c40': None, 'access': 'Public', 'reporting_year': 2017, 'accounting_year': '2014-01-01 - 2014-12-31', 'boundary': 'Administrative boundary of a local government', 'protocol': 'Other', 'protocol_column': 'Department of Energy and Climate Change (DECC) local authority CO2 emissions data', 'gases_included': 'CO2', 'total_emissions_metric_tonnes_co2e': 1959900.0, 'scopes_included_': 'Total Scope 1 and Scope 2', 'total_scope_1_emissions_metric_tonnes_co2e': nan, 'total_scope_2_emissions_metric_tonnes_co2e': nan, 'comment': 'Central government data (DECC). This is the only data available at the city scale but progress is rigorous and consistent.', 'increase/decrease_from_last_year': 'Decreased', 'reason_for_increase/decrease_in_emissions': 'Main reduction in industry / commercial emissions but also some decrease in domestic emissions', 'population': 354300, 'population_year': 2014, 'gdp': 11000000000.0, 'gdp_currency': 'GBP     Pound Sterling', 'gdp_year': 2015.0, 'gdp_source': 'gvairereferencetables', 'average_annual_temperature_in_celsius\\u200b': 9.7, '\\u200baverage_altitude_m': 65.0, '\\u200bland_area_in_square_km': 140.0, 'city_location': '(51.481581, -3.17909)', 'country_location': '(55.378051, -3.435973)'}, {'_id': ObjectId('65fc951cecc75b1bd8d14e3b'), 'account_number': 50359, 'organization': 'Gobierno Municipal de León de los Aldamas', 'city': 'León de los Aldamas', 'country': 'Mexico', 'region': 'Latin America', 'c40': None, 'access': 'Public', 'reporting_year': 2017, 'accounting_year': '2013-01-01 - 2013-12-31', 'boundary': 'Administrative boundary of a local government', 'protocol': '2006 IPCC Guidelines for National Greenhouse Gas Inventories', 'protocol_column': 'En el municipio de León, los sectores emisores identificados y evaluados, aplicando la metodología del IPCC 2006 y Factores de Emisión (FE), presentan adecuaciones puntuales en respuesta a las características específicas de las actividades productivas en León; por ejemplo, se incluyó la producción artesanal de tabique,  con apego a las disposiciones estipuladas en el Programa Especial de Cambio Climático.El cálculo de GEI y el inventario aquí presentado, es el primer paso para el emprendimiento de una serie de estrategias que atiendan la problemática del cambio climático en el municipio, con base en el registro de la cantidad total de GEI, su distribución en cada sector y las tendencias de generación de estos contaminantes por parte de los distintos sectores. \\tAsimismo, se añade la estimación de Carbono Negro (CN) para la realización del inventario municipal, por lo que fue necesario recurrir a diferentes fuentes de información oficial, con la finalidad de tener una base sólida y verídica de los datos a emplear para los cálculos de este capítulo. Igualmente se analizó información presentada en diferentes diagnósticos y estudios de áreas específicas dentro del municipio de León, como lo fueron los estudios realizados por el IMPLAN en las zonas del Valladito y el Refugio por loa producción de ladrillos que se realiza en ambas zonas.', 'gases_included': 'CO2; PFCs; CH4; SF6; N2O; HFCs', 'total_emissions_metric_tonnes_co2e': 5012133.0, 'scopes_included_': 'Total Scope 1 and Scope 2', 'total_scope_1_emissions_metric_tonnes_co2e': 4045605.0, 'total_scope_2_emissions_metric_tonnes_co2e': 4276173.0, 'comment': 'La elaboración del presente inventario contó con  asistencia técnica del Centro Mario Molina (utilizando la ya mencionada metodología del IPCC 2006 y los factores de emisión para las diferentes categorías analizadas) quienes posteriormente verificaron y validaron dicho inventario.', 'increase/decrease_from_last_year': None, 'reason_for_increase/decrease_in_emissions': None, 'population': 1578626, 'population_year': 2015, 'gdp': 218.0, 'gdp_currency': 'MXN Mexican Peso', 'gdp_year': 2015.0, 'gdp_source': 'Gobierno Municipal de León', 'average_annual_temperature_in_celsius\\u200b': 19.3, '\\u200baverage_altitude_m': 1800.0, '\\u200bland_area_in_square_km': 1283.0, 'city_location': '(21.122062, -101.683659)', 'country_location': '(23.634501, -102.552784)'}, {'_id': ObjectId('65fc951cecc75b1bd8d14e3c'), 'account_number': 58590, 'organization': 'City of Easton, PA', 'city': 'Easton, PA', 'country': 'USA', 'region': 'North America', 'c40': None, 'access': 'Public', 'reporting_year': 2017, 'accounting_year': '2016-01-01 - 2016-12-31', 'boundary': 'Administrative boundary of a local government', 'protocol': 'Global Protocol for Community-Scale Greenhouse Gas Emissions Inventories (GPC), (WRI, C40 and ICLEI)', 'protocol_column': 'Our inventory addresses stationary energy and inboundary travel with consideration of CO2, CH4, and N2O, as required by the Global Covenant of Mayors in Year 1 of participation.', 'gases_included': None, 'total_emissions_metric_tonnes_co2e': 350900.0, 'scopes_included_': 'Total Scope 1, Scope 2 and Waste Scope 3 (Total BASIC emissions)', 'total_scope_1_emissions_metric_tonnes_co2e': 203727.0, 'total_scope_2_emissions_metric_tonnes_co2e': 147172.0, 'comment': None, 'increase/decrease_from_last_year': 'This is our first year of calculation', 'reason_for_increase/decrease_in_emissions': 'This year is the first of Easton’s community GHG inventory', 'population': 26915, 'population_year': 2015, 'gdp': 1146500000.0, 'gdp_currency': None, 'gdp_year': nan, 'gdp_source': 'Lehigh Valley source. Scaled to population size', 'average_annual_temperature_in_celsius\\u200b': 10.0, '\\u200baverage_altitude_m': 64.0, '\\u200bland_area_in_square_km': 12.0, 'city_location': '(40.6884, -75.2207)', 'country_location': '(37.09024, -95.712891)'}, {'_id': ObjectId('65fc951cecc75b1bd8d14e3d'), 'account_number': 53959, 'organization': 'City of Fayetteville, AR', 'city': 'Fayetteville, AR', 'country': 'USA', 'region': 'North America', 'c40': None, 'access': 'Public', 'reporting_year': 2017, 'accounting_year': '2016-01-01 - 2016-12-31', 'boundary': 'A metropolitan area', 'protocol': 'U.S. Community Protocol for Accounting and Reporting of Greenhouse Gas Emissions (ICLEI)', 'protocol_column': None, 'gases_included': 'CO2; CH4; N2O; HFCs', 'total_emissions_metric_tonnes_co2e': 1454781.0, 'scopes_included_': 'Total Scope 1 and Scope 2', 'total_scope_1_emissions_metric_tonnes_co2e': nan, 'total_scope_2_emissions_metric_tonnes_co2e': nan, 'comment': 'Data retrieved came directly from utility companies and ICLEI resources were used to ensure proper methodology was used but we are only able to include the 5 minimum sources: Electric, Gas, waste, water movement, and VMT. We also had to use certain defaults (such as the Default vehicle mix and the default municipal solid waste Emissions Factor) as we do not have specific data in those areas.', 'increase/decrease_from_last_year': 'This is our first year of calculation', 'reason_for_increase/decrease_in_emissions': None, 'population': 82830, 'population_year': 2016, 'gdp': nan, 'gdp_currency': None, 'gdp_year': nan, 'gdp_source': None, 'average_annual_temperature_in_celsius\\u200b': 14.5, '\\u200baverage_altitude_m': 1270.0, '\\u200bland_area_in_square_km': 139.5, 'city_location': '(36.082156, -94.171854)', 'country_location': '(37.09024, -95.712891)'}, {'_id': ObjectId('65fc951cecc75b1bd8d14e3e'), 'account_number': 60318, 'organization': 'Prefeitura de Porto Velho', 'city': 'Porto Velho', 'country': 'Brazil', 'region': 'Latin America', 'c40': None, 'access': 'Public', 'reporting_year': 2017, 'accounting_year': '2013-01-01 - 2013-12-31', 'boundary': 'Combination of administrative divisions', 'protocol': 'Global Protocol for Community-Scale Greenhouse Gas Emissions Inventories (GPC), (WRI, C40 and ICLEI)', 'protocol_column': 'O inventario de Porto Velho, na verdade pode ser  chamado de diagnostico,  uma vez que a maior parte dos dados foram obtidos de fontes secundária e extrapolados.', 'gases_included': None, 'total_emissions_metric_tonnes_co2e': nan, 'scopes_included_': 'Total Scope 1, Scope 2 and Waste Scope 3 (Total BASIC emissions)', 'total_scope_1_emissions_metric_tonnes_co2e': nan, 'total_scope_2_emissions_metric_tonnes_co2e': nan, 'comment': None, 'increase/decrease_from_last_year': None, 'reason_for_increase/decrease_in_emissions': None, 'population': 494013, 'population_year': 2013, 'gdp': 2363878.0, 'gdp_currency': None, 'gdp_year': 2013.0, 'gdp_source': 'ibge', 'average_annual_temperature_in_celsius\\u200b': nan, '\\u200baverage_altitude_m': nan, '\\u200bland_area_in_square_km': nan, 'city_location': '(-20.333764, -40.377582)', 'country_location': '(-14.235004, -51.92528)'}, {'_id': ObjectId('65fc951cecc75b1bd8d14e3f'), 'account_number': 58543, 'organization': 'Byron Shire Council', 'city': 'Byron Shire', 'country': 'Australia', 'region': 'South Asia and Oceania', 'c40': None, 'access': 'Public', 'reporting_year': 2017, 'accounting_year': '2015-07-01 - 2016-06-30', 'boundary': 'Administrative boundary of a local government', 'protocol': 'Other', 'protocol_column': 'Methodology developed by researchers at Beyond Zero Emissions', 'gases_included': 'CO2; CH4', 'total_emissions_metric_tonnes_co2e': 263199.0, 'scopes_included_': 'Total Scope 1 and Scope 2', 'total_scope_1_emissions_metric_tonnes_co2e': nan, 'total_scope_2_emissions_metric_tonnes_co2e': nan, 'comment': None, 'increase/decrease_from_last_year': 'This is our first year of calculation', 'reason_for_increase/decrease_in_emissions': None, 'population': 29209, 'population_year': 2011, 'gdp': 1460000000.0, 'gdp_currency': 'AUD     Australian Dollar', 'gdp_year': 2015.0, 'gdp_source': 'NIEIR', 'average_annual_temperature_in_celsius\\u200b': 23.7, '\\u200baverage_altitude_m': nan, '\\u200bland_area_in_square_km': 556.0, 'city_location': '(-28.6534, 153.5334)', 'country_location': '(-25.274398, 133.775136)'}, {'_id': ObjectId('65fc951cecc75b1bd8d14e40'), 'account_number': 50572, 'organization': 'City of Saint Paul, MN', 'city': 'Saint Paul, MN', 'country': 'USA', 'region': 'North America', 'c40': None, 'access': 'Public', 'reporting_year': 2017, 'accounting_year': '2015-01-01 - 2015-12-31', 'boundary': 'Administrative boundary of a local government', 'protocol': 'Global Protocol for Community-Scale Greenhouse Gas Emissions Inventories (GPC), (WRI, C40 and ICLEI)', 'protocol_column': None, 'gases_included': None, 'total_emissions_metric_tonnes_co2e': nan, 'scopes_included_': 'Total Scope 1, Scope 2 and Waste Scope 3 (Total BASIC emissions)', 'total_scope_1_emissions_metric_tonnes_co2e': 2878153.0, 'total_scope_2_emissions_metric_tonnes_co2e': 1179791.0, 'comment': None, 'increase/decrease_from_last_year': 'This is our first year of calculation', 'reason_for_increase/decrease_in_emissions': 'This is our first year completing a GPC compliant inventory.', 'population': 300353, 'population_year': 2015, 'gdp': 21200000000.0, 'gdp_currency': 'USD     US Dollar', 'gdp_year': 2015.0, 'gdp_source': None, 'average_annual_temperature_in_celsius\\u200b': nan, '\\u200baverage_altitude_m': nan, '\\u200bland_area_in_square_km': 145.0, 'city_location': '(44.953703, -93.089958)', 'country_location': '(37.09024, -95.712891)'}, {'_id': ObjectId('65fc951cecc75b1bd8d14e41'), 'account_number': 43912, 'organization': 'City of Edmonton', 'city': 'Edmonton', 'country': 'Canada', 'region': 'North America', 'c40': None, 'access': 'Public', 'reporting_year': 2017, 'accounting_year': '2015-01-01 - 2015-12-31', 'boundary': 'Administrative boundary of a local government', 'protocol': 'Global Protocol for Community-Scale Greenhouse Gas Emissions Inventories (GPC), (WRI, C40 and ICLEI)', 'protocol_column': 'The City recently switched to the GPC Basic Plus reporting protocol from previously using IEAP supported by ICLEI. The process around data collection has become more complex as a result. In summary completing the inventory involves manually collecting empirical utility use information from the utilities for natural gas and electricity used within the geographic border of the City of Edmonton. This information is provided to us in various reporting categories such as residential, commercial and industrial. We are now receiving this information at the finest level of granularity that can be provided from the utilities. Propane fuel use for transportation is taken from Statistics Canada as recorded for the Province of Alberta, which is then prorated according to the population of Edmonton compared to the population of Alberta. The diesel and gasoline use in litres is done in a similar fashion, but the information in this case is provided to us from the Alberta provincial government. This information is further adjusted by provincial fleet data and mileage statistics available for vehicle type. The natural gas consumption in vehicles is received directly from the natural gas distributor. The conversion factors are derived from various sources: electricity grid intensity comes from Statistics Canada - this factor, is always two years behind the calendar year; natural gas and liquid fuel combustion factors are from US Environmental protection Agency, and Natural Resources Canada references, and the local utilities. The data are input manually each year into an excel spreadsheet model, and the conversion factors are checked for updates each year. Reports on the results are sent out on an as needed, customized basis.', 'gases_included': None, 'total_emissions_metric_tonnes_co2e': 13357063.0, 'scopes_included_': 'Total Scope 1, Scope 2 and Waste Scope 3 (Total BASIC emissions)', 'total_scope_1_emissions_metric_tonnes_co2e': 10215142.0, 'total_scope_2_emissions_metric_tonnes_co2e': 6361560.0, 'comment': None, 'increase/decrease_from_last_year': 'Increased', 'reason_for_increase/decrease_in_emissions': 'The increase in the Community 2015 inventory from 2014 is roughly 2% (400,000 TCO2e greater in 2015 than realized in 2014 which had a total of 16,576,702 TCO2e). Comparing the numbers however is a bit unfair as the 2015 total was derived using the GPC reporting protocol and the 2014 used IEAP. New categories added to the inventory in 2015 include scope 3 emissions for the residential commercial and industrial sectors, as well as sectors of: Energy Industries, Energy generation to grid, Fugitive natural gas emissions, railway, aviation and off road, biological waste water, solid waste outside the city, biological waste outside the city, waste water outside the city, land and aggregate sources on land. The emissions from residential, commercial and industrial buildings all declined in 2015, more than likely due to the warmer weather throughout the year.', 'population': 893000, 'population_year': 2015, 'gdp': 45228000000.0, 'gdp_currency': 'CAD     Canadian Dollar', 'gdp_year': 2015.0, 'gdp_source': 'Edmonton Chief Economist - John Rose - Real GDP at Market Prices in 2007 dollars', 'average_annual_temperature_in_celsius\\u200b': 3.6, '\\u200baverage_altitude_m': 671.0, '\\u200bland_area_in_square_km': 684.0, 'city_location': '(53.544389, -113.4909267)', 'country_location': '(56.130366, -106.346771)'}, {'_id': ObjectId('65fc951cecc75b1bd8d14e42'), 'account_number': 55616, 'organization': 'Los Altos Hills', 'city': 'Los Altos Hills', 'country': 'USA', 'region': 'North America', 'c40': None, 'access': 'Public', 'reporting_year': 2017, 'accounting_year': '2015-01-01 - 2015-12-31', 'boundary': 'Administrative boundary of a local government', 'protocol': 'U.S. Community Protocol for Accounting and Reporting of Greenhouse Gas Emissions (ICLEI)', 'protocol_column': 'We also participated in the GPC community inventory pilot in 2015. We were the only city from the US in their initial pilot.', 'gases_included': 'CO2', 'total_emissions_metric_tonnes_co2e': 57243.0, 'scopes_included_': 'Total Scope 1 and Scope 2', 'total_scope_1_emissions_metric_tonnes_co2e': 47552.0, 'total_scope_2_emissions_metric_tonnes_co2e': 9691.0, 'comment': None, 'increase/decrease_from_last_year': 'Decreased', 'reason_for_increase/decrease_in_emissions': 'From 2014 to 2015 our emissions decreased from 78,678 MT to 77,583 MT. This was primarily due to decreased VMT (data obtained from state agencies) and reductions in Heating Fuel use due to a milder winter.', 'population': 7992, 'population_year': 2016, 'gdp': 9900000.0, 'gdp_currency': 'USD     US Dollar', 'gdp_year': 2016.0, 'gdp_source': 'Property taxes, permit and license fees, charges for services', 'average_annual_temperature_in_celsius\\u200b': 14.3, '\\u200baverage_altitude_m': 89.0, '\\u200bland_area_in_square_km': 21.8, 'city_location': '(37.3797, -122.1375)', 'country_location': '(37.09024, -95.712891)'}, {'_id': ObjectId('65fc951cecc75b1bd8d14e43'), 'account_number': 54409, 'organization': 'City of Espoo', 'city': 'Espoo', 'country': 'Finland', 'region': 'Europe', 'c40': None, 'access': 'Public', 'reporting_year': 2017, 'accounting_year': '2015-01-01 - 2015-12-31', 'boundary': 'Administrative boundary of a local government', 'protocol': 'Other', 'protocol_column': 'Regionally developed methodology equivalent to GPC (and IPCC guidelines)', 'gases_included': 'CO2; CH4; N2O', 'total_emissions_metric_tonnes_co2e': 1233581.0, 'scopes_included_': 'Total Scope 1 and Scope 2', 'total_scope_1_emissions_metric_tonnes_co2e': 914868.0, 'total_scope_2_emissions_metric_tonnes_co2e': 318713.0, 'comment': 'Regionally developed methodology equivalent to GPC (and IPCC guidelines). There has been no external verification or audition. Cities of the Helsinki metropolitan area have jointly approved the current calculations methodology. The person responsible for calculating emissions is mr. johannes.lounasheimo@hsy.fi', 'increase/decrease_from_last_year': 'Decreased', 'reason_for_increase/decrease_in_emissions': 'The energy company Fortum is producing even more of the district heat with renewables. More of the the electricity used is low emission energy, for excample norwegian hydropower.\\n\\nThe total emissions are decreasing slower because Espoo is a very fast growing city,', 'population': 274522, 'population_year': 2016, 'gdp': nan, 'gdp_currency': None, 'gdp_year': nan, 'gdp_source': None, 'average_annual_temperature_in_celsius\\u200b': 7.3, '\\u200baverage_altitude_m': 26.0, '\\u200bland_area_in_square_km': 312.0, 'city_location': '(60.205491, 24.6559)', 'country_location': '(61.9241, 25.7482)'}, {'_id': ObjectId('65fc951cecc75b1bd8d14e44'), 'account_number': 54388, 'organization': 'Iskandar Regional Development Authority', 'city': 'Iskandar ', 'country': 'Malaysia', 'region': 'South Asia and Oceania', 'c40': None, 'access': 'Public', 'reporting_year': 2017, 'accounting_year': '2015-01-01 - 2015-12-31', 'boundary': 'A metropolitan area', 'protocol': 'Global Protocol for Community-Scale Greenhouse Gas Emissions Inventories (GPC), (WRI, C40 and ICLEI)', 'protocol_column': None, 'gases_included': None, 'total_emissions_metric_tonnes_co2e': 15.47, 'scopes_included_': 'Total Scope 1, Scope 2 and Waste Scope 3 (Total BASIC emissions)', 'total_scope_1_emissions_metric_tonnes_co2e': 21.27, 'total_scope_2_emissions_metric_tonnes_co2e': 6.79, 'comment': None, 'increase/decrease_from_last_year': 'This is our first year of calculation', 'reason_for_increase/decrease_in_emissions': None, 'population': 1945000, 'population_year': 2016, 'gdp': 27025.0, 'gdp_currency': None, 'gdp_year': 2012.0, 'gdp_source': 'Iskandar Malaysia Comprehensive Development Plan, 2014-2025 (CDPii), March 2015 (GDP year: 2006)', 'average_annual_temperature_in_celsius\\u200b': 30.0, '\\u200baverage_altitude_m': 547.0, '\\u200bland_area_in_square_km': 2217.0, 'city_location': '(5.714476, 100.992084)', 'country_location': '(4.210484, 101.975766)'}, {'_id': ObjectId('65fc951cecc75b1bd8d14e45'), 'account_number': 42123, 'organization': 'City of Goiânia', 'city': 'Goiânia', 'country': 'Brazil', 'region': 'Latin America', 'c40': None, 'access': 'Public', 'reporting_year': 2017, 'accounting_year': '2017-01-01 - 2017-12-31', 'boundary': 'Administrative boundary of a local government', 'protocol': '2006 IPCC Guidelines for National Greenhouse Gas Inventories', 'protocol_column': 'The Protocol for Global Community - Scale GHG Emissions (GPC 2012) was used as standard for the categorization and allocation of emissions and aggregation of results.The GPC consists of a compilation of guidelines for the preparation of municipal inventories of GHG emissions. The GPC 2012 shares the terminology of various international programs reporting of emissions, including the C40 Cities Climate Leadership Group, the International Local Government GHG Emissions Analysis Protocol (IEAP-ICLEI) and the GHG Protocol Corporate Accounting and Reporting Standard. Moreover, GPC 2012 converses directly with the IPCC 2006 Guidelines for National GHG Inventories.Aiming at a broad identification of emission sources and the establishment of a flow of information necessary for the completion of this study, four teams were created themes, being: stationary units, mobile units, and waste, industrial processes and product uses. The teams were grouped in four thematic workshops held between 26 and 27 June 2012 at the Administrative Center of the city of Goiania. During the implementation of these workshops were identified institutions and those responsible for sending the information necessary for calculations of emissions of greenhouse gases in the municipality.For calculations of GHG emissions used the IPCC Inventory Software (IIS) version 2.0, a software developed and provided by the Intergovernmental Panel on Climate Change (IPCC).The data were placed on the software as a correspondence between GPC and IPCC categories, except in the case of the activities of electricity consumption (scope 2 emissions, the GPC category that has no corresponding IPCC - these emissions have been included in Section 5 - other).Another category that deserves observation refers to the disposal of solid waste in landfills. For this category we used the GPC, which allocates all expected emissions inventory in the year in which the waste is landfilled, IIS was not used for the calculation of this emission source.', 'gases_included': None, 'total_emissions_metric_tonnes_co2e': 2016320.0, 'scopes_included_': 'Total Scope 1 and Scope 2', 'total_scope_1_emissions_metric_tonnes_co2e': nan, 'total_scope_2_emissions_metric_tonnes_co2e': nan, 'comment': None, 'increase/decrease_from_last_year': None, 'reason_for_increase/decrease_in_emissions': None, 'population': 1301892, 'population_year': 2010, 'gdp': 30131330.0, 'gdp_currency': 'BRL     Brazilian Real', 'gdp_year': 2010.0, 'gdp_source': 'IBGE - Brazilian Institute of Geography and Statistical', 'average_annual_temperature_in_celsius\\u200b': 23.2, '\\u200baverage_altitude_m': 749.0, '\\u200bland_area_in_square_km': 739.0, 'city_location': '(-16.6868912, -49.2647943)', 'country_location': '(-14.235004, -51.92528)'}, {'_id': ObjectId('65fc951cecc75b1bd8d14e46'), 'account_number': 35475, 'organization': 'City of Calgary', 'city': 'Calgary', 'country': 'Canada', 'region': 'North America', 'c40': None, 'access': 'Public', 'reporting_year': 2017, 'accounting_year': '2016-01-01 - 2016-12-31', 'boundary': 'Administrative boundary of a local government', 'protocol': 'Global Protocol for Community-Scale Greenhouse Gas Emissions Inventories (GPC), (WRI, C40 and ICLEI)', 'protocol_column': 'This is the second year using this protocol. The inventory was completed to a BASIC level.', 'gases_included': None, 'total_emissions_metric_tonnes_co2e': 17679137.0, 'scopes_included_': 'Total Scope 1, Scope 2 and Waste Scope 3 (Total BASIC emissions)', 'total_scope_1_emissions_metric_tonnes_co2e': 10178353.0, 'total_scope_2_emissions_metric_tonnes_co2e': 7502924.0, 'comment': None, 'increase/decrease_from_last_year': 'Decreased', 'reason_for_increase/decrease_in_emissions': 'The 2016 community wide GHG inventory shows a 3.1% decrease in emissions from 2015.  This is associated with a decrease in the burning of fossil fuels in the city boundaries.  The population has increased by 31,140 citizens from 2015 to 2016, which has driven an increase (+2.6%) in solid waste and emissions from wastewater treatment.  There was a 2.3% decrease in stationary energy (SE) use Scope 1 emissions, which may be due to a warmer than average winter, and 2.2% decrease in SE Scope 2 emissions relating to electricity, which may be due to more efficient use of electricity and more renewable energy on the Provincial grid.  The sector which saw the greatest decrease (-4.9%) in emissions was from Transportation.  This is likely a result of the economic downturn that Calgary has experienced since 2014.  A high unemployment rate means that less workers are commuting, and perhaps trips for leisure have also been curtailed.', 'population': 1235055, 'population_year': 2016, 'gdp': 113400000000.0, 'gdp_currency': 'CAD     Canadian Dollar', 'gdp_year': 2016.0, 'gdp_source': 'http://www.calgaryeconomicdevelopment.com/dmsdocument/22', 'average_annual_temperature_in_celsius\\u200b': 4.1, '\\u200baverage_altitude_m': 1084.0, '\\u200bland_area_in_square_km': 848.0, 'city_location': '(51.048615, -114.070846)', 'country_location': '(56.130366, -106.346771)'}, {'_id': ObjectId('65fc951cecc75b1bd8d14e47'), 'account_number': 31111, 'organization': 'Tokyo Metropolitan Government', 'city': 'Tokyo', 'country': 'Japan', 'region': 'East Asia', 'c40': 'C40', 'access': 'Public', 'reporting_year': 2017, 'accounting_year': '2013-04-01 - 2014-03-31', 'boundary': 'Administrative boundary of a local government', 'protocol': 'Global Protocol for Community-Scale Greenhouse Gas Emissions Inventories (GPC), (WRI, C40 and ICLEI)', 'protocol_column': None, 'gases_included': None, 'total_emissions_metric_tonnes_co2e': 70733403.0, 'scopes_included_': 'Total Scope 1, Scope 2 and Waste Scope 3 (Total BASIC emissions)', 'total_scope_1_emissions_metric_tonnes_co2e': 33363185.0, 'total_scope_2_emissions_metric_tonnes_co2e': 43602201.0, 'comment': None, 'increase/decrease_from_last_year': 'This is our first year of calculation', 'reason_for_increase/decrease_in_emissions': None, 'population': 13646764, 'population_year': 2017, 'gdp': 94400000000000.0, 'gdp_currency': 'JPY     Japanese yen', 'gdp_year': 2016.0, 'gdp_source': None, 'average_annual_temperature_in_celsius\\u200b': nan, '\\u200baverage_altitude_m': nan, '\\u200bland_area_in_square_km': 2191.0, 'city_location': '(35.6896342, 139.6921007)', 'country_location': '(36.204824, 138.252924)'}, {'_id': ObjectId('65fc951cecc75b1bd8d14e48'), 'account_number': 54113, 'organization': 'City of Flagstaff', 'city': 'Flagstaff', 'country': 'USA', 'region': 'North America', 'c40': None, 'access': 'Public', 'reporting_year': 2017, 'accounting_year': '2016-01-01 - 2016-12-31', 'boundary': 'Administrative boundary of a local government', 'protocol': 'Other: Excel', 'protocol_column': \"Formulas taken from The Climate Registry: Pacificorp Data ('07 Generation)\", 'gases_included': 'CO2', 'total_emissions_metric_tonnes_co2e': 1424563.0, 'scopes_included_': 'Total Scope 1 and Scope 2', 'total_scope_1_emissions_metric_tonnes_co2e': 949707.2, 'total_scope_2_emissions_metric_tonnes_co2e': 474855.76, 'comment': 'Our emissions inventory is based on the best data available. We have gaps in our methodology we hope to address in future years.', 'increase/decrease_from_last_year': 'Increased', 'reason_for_increase/decrease_in_emissions': 'Emissions resulting from transportation (specifically, the amount of gasoline and diesel) have increased since our last reported emissions inventory (2015 data). Additionally, we have improved some emissions data collection methods, which may have resulted in more accurate, but higher, emissions being recorded. We have also included natural gas used for transportation, which was not included in the previous inventory.', 'population': 68667, 'population_year': 2013, 'gdp': 4903000000.0, 'gdp_currency': 'USD     US Dollar', 'gdp_year': 2015.0, 'gdp_source': 'University of Arizona: Real GDP, Millions of Chained 2009 Dollars, Bureau of Economic Analysis https://ebr.eller.arizona.edu/current-indicators/browse-topic/gross-domestic-product', 'average_annual_temperature_in_celsius\\u200b': 6.5, '\\u200baverage_altitude_m': 2134.0, '\\u200bland_area_in_square_km': 165.0, 'city_location': '(35.1992, -111.6311)', 'country_location': '(37.09024, -95.712891)'}, {'_id': ObjectId('65fc951cecc75b1bd8d14e49'), 'account_number': 49335, 'organization': 'Metropolitan Government of Nashville and Davidson County', 'city': 'Nashville and Davidson ', 'country': 'USA', 'region': 'North America', 'c40': None, 'access': 'Public', 'reporting_year': 2017, 'accounting_year': '2014-01-01 - 2014-12-31', 'boundary': 'Administrative boundary of a local government', 'protocol': 'Global Protocol for Community-Scale Greenhouse Gas Emissions Inventories (GPC), (WRI, C40 and ICLEI)', 'protocol_column': 'The Compact of Mayors requires Community Inventories to adhere to the Global Protocol for Community-Scale Greenhouse Gas Emissions (GPC).  The Team met to map the GPC standards for the two required sectors, Stationary Energy and Inboundary Travel, to the International Council for Local Environmental Initiatives (ICLEI) software that is utilized for entering community inventories.', 'gases_included': None, 'total_emissions_metric_tonnes_co2e': 13461292.0, 'scopes_included_': 'Total Scope 1, Scope 2 and Waste Scope 3 (Total BASIC emissions)', 'total_scope_1_emissions_metric_tonnes_co2e': 6680194.0, 'total_scope_2_emissions_metric_tonnes_co2e': 5801169.0, 'comment': None, 'increase/decrease_from_last_year': 'Increased', 'reason_for_increase/decrease_in_emissions': 'There was a small increase since the 2011 inventory, which was an incomplete inventory due to limited availability of data. Because of limited documentation of the 2011 inventory, it is difficult to compare the two inventories. There has been a decrease in emissions since the 2005 inventory, even with a growing population. Contributing to decreases in reported community emissions are lower emissions from Nashville’s electric power source, TVA (their emissions per unit energy output declined by about 15% from 2005 to 2014), and more efficient vehicles (vehicle CO2e emissions per mile have decreased from about 450 to 350 grams/mile between 2005 and 2014). Meanwhile (although specific data is unavailable to demonstrate the quantity), building energy efficiency has been improving through both new and retrofit projects during this time frame. LEED certification and Energy Star are examples of growing programs that help improve building energy efficiency.', 'population': 678889, 'population_year': 2015, 'gdp': 106695000000.0, 'gdp_currency': 'USD     US Dollar', 'gdp_year': 2014.0, 'gdp_source': \"MSA Data (not county only) from US DOC's BEA http://bea.gov/iTable/iTable.cfm?reqid=70&step=10&isuri=1&7003=200&7035=-1&7004=naics&7005=-1&7006=34980&7036=-1&7001=2200&7002=2&7090=70&7007=2014&7093=levels#reqid=70&step=10&isuri=1&7003=200&7004=naics&7035=-1&7005=-1&7006=34980&7001=2200&7036=-1&7002=2&7090=70&7007=2014&7093=levels\", 'average_annual_temperature_in_celsius\\u200b': 15.1, '\\u200baverage_altitude_m': 182.0, '\\u200bland_area_in_square_km': 1367.0, 'city_location': '(36.1627, -86.7816)', 'country_location': '(37.09024, -95.712891)'}, {'_id': ObjectId('65fc951cecc75b1bd8d14e4a'), 'account_number': 54048, 'organization': 'City of Knoxville', 'city': 'Knoxville', 'country': 'USA', 'region': 'North America', 'c40': None, 'access': 'Public', 'reporting_year': 2017, 'accounting_year': '2015-01-01 - 2015-12-31', 'boundary': 'Administrative boundary of a local government', 'protocol': 'Global Protocol for Community-Scale Greenhouse Gas Emissions Inventories (GPC), (WRI, C40 and ICLEI)', 'protocol_column': 'ClearPath', 'gases_included': None, 'total_emissions_metric_tonnes_co2e': 4383703.0, 'scopes_included_': 'Total Scope 1, Scope 2 and Waste Scope 3 (Total BASIC emissions)', 'total_scope_1_emissions_metric_tonnes_co2e': 2653938.0, 'total_scope_2_emissions_metric_tonnes_co2e': 1647503.0, 'comment': None, 'increase/decrease_from_last_year': 'This is our first year of calculation', 'reason_for_increase/decrease_in_emissions': \"This is our first year of using the GPC methodology.  Comparing sectors we've tracked in the past, community emissions are down by about 8% relative to our 2005 baseline.  We have seen an increase in community traffic and business in the City which has prevented continued gains on emissions strategies.\", 'population': 185291, 'population_year': 2016, 'gdp': 39155000000.0, 'gdp_currency': 'USD     US Dollar', 'gdp_year': 2015.0, 'gdp_source': 'US Department of Commerce Bureau of Economic Analysis; http://www.bea.gov/iTable/iTable.cfm?reqid=70&step=1&isuri=1&acrdn=3#reqid=70&step=10&isuri=1&7003=200&7035=-1&7004=naics&7005=-1&7006=28940&7036=-1&7001=2200&7002=2&7090=70&7007=2014&7093=levels', 'average_annual_temperature_in_celsius\\u200b': 15.3, '\\u200baverage_altitude_m': 269.0, '\\u200bland_area_in_square_km': 255.2, 'city_location': '(35.9606, -83.9207)', 'country_location': '(37.09024, -95.712891)'}, {'_id': ObjectId('65fc951cecc75b1bd8d14e4b'), 'account_number': 31109, 'organization': 'City of Melbourne', 'city': 'Melbourne', 'country': 'Australia', 'region': 'South Asia and Oceania', 'c40': 'C40', 'access': 'Public', 'reporting_year': 2017, 'accounting_year': '2014-07-01 - 2015-06-30', 'boundary': 'Administrative boundary of a local government', 'protocol': 'Global Protocol for Community-Scale Greenhouse Gas Emissions Inventories (GPC), (WRI, C40 and ICLEI)', 'protocol_column': 'City of Melbourne includes the emissions sources categorised in the GPC. Emissions sources are converted to CO2e using the emissions factors listed in the Australian National Greenhouse Accounts. * Electricity, gas and water data was provided directly by the utility companies. * Emissions from private vehicle use were estimated using a transport model built by Council which incorporates data from twice yearly traffic surveys and data on vehicle use collected by the Australian Bureau of Statistics. *The amount of waste produced within the municipality was estimated from a waste survey commissioned by Council and conducted in 2012. *Water-borne emissions were included from a private study commissioned by the Port Authority in 2012.', 'gases_included': None, 'total_emissions_metric_tonnes_co2e': 5319010.0, 'scopes_included_': 'Total Scope 1, Scope 2 and Waste Scope 3 (Total BASIC emissions)', 'total_scope_1_emissions_metric_tonnes_co2e': 785326.0, 'total_scope_2_emissions_metric_tonnes_co2e': 3632431.0, 'comment': None, 'increase/decrease_from_last_year': 'Increased', 'reason_for_increase/decrease_in_emissions': '2013/14 BASIC (including Scope 3 emissions) totals 5268025 tCO2e compared to 2014/15 BASIC (including Scope 3 emissions) 5319030 tCO2e. This represents a total change of +0.97%. Despite electricity consumption decreasing in the municipality leading to lower scope 2 emissions, scope 1 and 3 emissions have increased. Over this time, the population has increased by 4.96%.', 'population': 136336, 'population_year': 2015, 'gdp': 90600000.0, 'gdp_currency': 'AUD     Australian Dollar', 'gdp_year': 2015.0, 'gdp_source': 'http://melbourne.geografia.com.au/', 'average_annual_temperature_in_celsius\\u200b': 16.2, '\\u200baverage_altitude_m': 31.0, '\\u200bland_area_in_square_km': 38.0, 'city_location': '(-37.814107, 144.96328)', 'country_location': '(-25.274398, 133.775136)'}, {'_id': ObjectId('65fc951cecc75b1bd8d14e4c'), 'account_number': 61790, 'organization': 'City of Emeryville, CA', 'city': 'Emeryville, CA', 'country': 'USA', 'region': 'North America', 'c40': None, 'access': 'Public', 'reporting_year': 2017, 'accounting_year': '2014-01-01 - 2014-12-31', 'boundary': 'Administrative boundary of a local government', 'protocol': 'Global Protocol for Community-Scale Greenhouse Gas Emissions Inventories (GPC), (WRI, C40 and ICLEI)', 'protocol_column': None, 'gases_included': None, 'total_emissions_metric_tonnes_co2e': 171413.0, 'scopes_included_': 'Total Scope 1, Scope 2 and Waste Scope 3 (Total BASIC emissions)', 'total_scope_1_emissions_metric_tonnes_co2e': 127138.0, 'total_scope_2_emissions_metric_tonnes_co2e': 40590.0, 'comment': None, 'increase/decrease_from_last_year': 'Decreased', 'reason_for_increase/decrease_in_emissions': None, 'population': 10570, 'population_year': 2014, 'gdp': nan, 'gdp_currency': 'USD     US Dollar', 'gdp_year': nan, 'gdp_source': None, 'average_annual_temperature_in_celsius\\u200b': 15.1, '\\u200baverage_altitude_m': 7.0, '\\u200bland_area_in_square_km': 5.2, 'city_location': '(37.831316, -122.285247)', 'country_location': '(37.09024, -95.712891)'}, {'_id': ObjectId('65fc951cecc75b1bd8d14e4d'), 'account_number': 8242, 'organization': 'City of Helsinki', 'city': 'Helsinki', 'country': 'Finland', 'region': 'Europe', 'c40': None, 'access': 'Public', 'reporting_year': 2017, 'accounting_year': '2016-01-01 - 2016-12-31', 'boundary': 'Administrative boundary of a local government', 'protocol': 'Other', 'protocol_column': 'Regionally developed methodology equivalent to GPC (and IPCC guidelines)', 'gases_included': 'CO2; CH4; N2O', 'total_emissions_metric_tonnes_co2e': 2789724.0, 'scopes_included_': 'Total Scope 1 and Scope 2', 'total_scope_1_emissions_metric_tonnes_co2e': 2055000.0, 'total_scope_2_emissions_metric_tonnes_co2e': 2651000.0, 'comment': 'https://www.hsy.fi/en/experts/climatechange/mitigation/Pages/Greenhouse-Gas-Emissions.aspx', 'increase/decrease_from_last_year': 'Decreased', 'reason_for_increase/decrease_in_emissions': 'Energy efficiency has improved in buildings and vehicles. National grid electricity produces less CO2 emissions than before. Traffic fuel mix includes more CO2-neutral fuels.\\nLong term: Less coal in district heating, waste management has improved, industry has decreased.', 'population': 636000, 'population_year': 2016, 'gdp': 72067440000.0, 'gdp_currency': 'EUR     Euro', 'gdp_year': 2014.0, 'gdp_source': 'Notice: GDP for whole Helsinki region http://www.helsinginseutu.fi/www/HS/en/city-information/', 'average_annual_temperature_in_celsius\\u200b': 5.9, '\\u200baverage_altitude_m': nan, '\\u200bland_area_in_square_km': 216.5, 'city_location': '(60.1733244, 24.9410248)', 'country_location': '(61.92411, 25.748151)'}, {'_id': ObjectId('65fc951cecc75b1bd8d14e4e'), 'account_number': 46473, 'organization': 'City of Zaragoza', 'city': 'Zaragoza', 'country': 'Spain', 'region': 'Europe', 'c40': None, 'access': 'Public', 'reporting_year': 2017, 'accounting_year': '2014-01-01 - 2014-12-31', 'boundary': 'Administrative boundary of a local government', 'protocol': 'Other: Inventario de emisiones simplificado 2014', 'protocol_column': 'Metodología propia basada en los factores oficiales del Ministerio de Agricultura y Medioambiente para las emisiones directas y en los de la Comisión Nacional de la Energía para las debidas al uso de la electricidad', 'gases_included': 'CO2', 'total_emissions_metric_tonnes_co2e': 1785604.0, 'scopes_included_': 'Total Scope 1 and Scope 2', 'total_scope_1_emissions_metric_tonnes_co2e': 1175162.74, 'total_scope_2_emissions_metric_tonnes_co2e': 613341.01, 'comment': None, 'increase/decrease_from_last_year': 'Decreased', 'reason_for_increase/decrease_in_emissions': 'Fundamentalmente, las medidas adoptadas en las estrategias anteriormente citadas han conseguido una importante reducción de las emisiones en los sectores contemplados en el Pacto de Alcaldes: residencial y movilidad. Y ello tanto en el último año como desde 2015.\\nPor su parte, el sector industrial ha reducido sus emisiones en el último año aunque, desde 2005 estas han aumentado, Aparte de la influencia de determinadas actuaciones del Ayuntamiento (Plan de Acuerdos voluntarios) la crisis económica ha frenado en parte el incremento de las emisiones en este sector.', 'population': 702564, 'population_year': 2016, 'gdp': 33793459000.0, 'gdp_currency': 'EUR     Euro', 'gdp_year': 2015.0, 'gdp_source': 'provisional', 'average_annual_temperature_in_celsius\\u200b': 16.3, '\\u200baverage_altitude_m': 208.0, '\\u200bland_area_in_square_km': 978.0, 'city_location': '(41.608629, -0.887012)', 'country_location': '(40.463667, -3.74922)'}, {'_id': ObjectId('65fc951cecc75b1bd8d14e4f'), 'account_number': 31446, 'organization': 'Taipei City Government', 'city': 'Taipei', 'country': 'Taiwan', 'region': 'East Asia', 'c40': None, 'access': 'Public', 'reporting_year': 2017, 'accounting_year': '2015-01-01 - 2015-12-31', 'boundary': 'Administrative boundary of a local government', 'protocol': 'Global Protocol for Community-Scale Greenhouse Gas Emissions Inventories (GPC), (WRI, C40 and ICLEI)', 'protocol_column': 'Taipei city have been using GPC methodology to make City GHG inventory since 2014.', 'gases_included': None, 'total_emissions_metric_tonnes_co2e': 12114538.0, 'scopes_included_': 'Total Scope 1, Scope 2 and Waste Scope 3 (Total BASIC emissions)', 'total_scope_1_emissions_metric_tonnes_co2e': 3576815.0, 'total_scope_2_emissions_metric_tonnes_co2e': 8540561.0, 'comment': None, 'increase/decrease_from_last_year': 'Increased', 'reason_for_increase/decrease_in_emissions': 'The GHG emissions of Taipei City have been verified by third party, BSI Taiwan (British Standards Institution Taiwan), from 2005 to 2015 in 2016. The greenhouse gas emissions of Taipei City in 2015 were 12,117,400 metric tons. The greenhouse gas emissions of the City present a rising tendency in 2005-2008. The increasing tendency slowed down and began to decline since the 2008. \\nThere is no power plant in Taipei City jurisdiction; electricity usage is all dependent on the electricity grid from outside county. Although Taipei city’s electricity consumption in 2015 was lower 70 million KWh than that in 2014, the GHG emissions increased slightly in 2015 cause of the country’s electricity emission factor increased about 1.34%.', 'population': 2695704, 'population_year': 2016, 'gdp': 529676000000.0, 'gdp_currency': 'USD     US Dollar', 'gdp_year': 2016.0, 'gdp_source': 'Gross Domestic Product by Expenditures, National Statistics, R.O.C (Taiwan) (2016) There is no relation data of Taipei GDP.', 'average_annual_temperature_in_celsius\\u200b': 23.0, '\\u200baverage_altitude_m': 60.0, '\\u200bland_area_in_square_km': 272.0, 'city_location': '(25.037525, 121.563782)', 'country_location': '(23.69781, 120.960515)'}, {'_id': ObjectId('65fc951cecc75b1bd8d14e50'), 'account_number': 35755, 'organization': 'Village of Kadiovacik', 'city': 'Kadiovacik', 'country': 'Turkey', 'region': 'Europe', 'c40': None, 'access': 'Public', 'reporting_year': 2017, 'accounting_year': '2016-01-01 - 2016-12-31', 'boundary': 'Administrative boundary of a local government', 'protocol': 'Other: GHG Protocols', 'protocol_column': None, 'gases_included': 'CO2', 'total_emissions_metric_tonnes_co2e': 413.0, 'scopes_included_': 'Total Scope 1 and Scope 2', 'total_scope_1_emissions_metric_tonnes_co2e': 366.0, 'total_scope_2_emissions_metric_tonnes_co2e': 447.0, 'comment': None, 'increase/decrease_from_last_year': 'Decreased', 'reason_for_increase/decrease_in_emissions': None, 'population': 218, 'population_year': 2017, 'gdp': 10000.0, 'gdp_currency': 'TRY     New Turkish Lira', 'gdp_year': 2017.0, 'gdp_source': 'Governmental', 'average_annual_temperature_in_celsius\\u200b': 19.0, '\\u200baverage_altitude_m': 327.0, '\\u200bland_area_in_square_km': 5947.0, 'city_location': '(38.3434574, 26.553613)', 'country_location': '(38.963745, 35.243322)'}, {'_id': ObjectId('65fc951cecc75b1bd8d14e51'), 'account_number': 35885, 'organization': 'Tel Aviv-Yafo Municipality', 'city': 'Tel Aviv-Yafo ', 'country': 'Israel', 'region': 'South and West Asia', 'c40': None, 'access': 'Public', 'reporting_year': 2017, 'accounting_year': '2012-01-01 - 2012-12-31', 'boundary': 'Administrative boundary of a local government', 'protocol': 'International Emissions Analysis Protocol (ICLEI)', 'protocol_column': 'Adapted to Israel', 'gases_included': 'CO2; CH4; N2O', 'total_emissions_metric_tonnes_co2e': 4654482.0, 'scopes_included_': 'Total Scope 1 and Scope 2', 'total_scope_1_emissions_metric_tonnes_co2e': 1624158.0, 'total_scope_2_emissions_metric_tonnes_co2e': 3303323.0, 'comment': 'Data was based mostly on estimates and the Inventory is in Hebrew', 'increase/decrease_from_last_year': 'Increased', 'reason_for_increase/decrease_in_emissions': 'Mainly due to increase in electricity consumption, however increase is less than population growth so per capita there is a decrease in emissions, especially in energy in the industrial sector.  Also emissions from waste have increased only slightly and per capita have decreased, this is in line with Municipal policies to reduce landfill waste disposal.', 'population': 432900, 'population_year': 2014, 'gdp': nan, 'gdp_currency': None, 'gdp_year': nan, 'gdp_source': None, 'average_annual_temperature_in_celsius\\u200b': 20.0, '\\u200baverage_altitude_m': 40.0, '\\u200bland_area_in_square_km': 52.0, 'city_location': '(32.081604, 34.782285)', 'country_location': '(31.046051, 34.851612)'}, {'_id': ObjectId('65fc951cecc75b1bd8d14e52'), 'account_number': 35858, 'organization': 'City of Cape Town', 'city': 'Cape Town', 'country': 'South Africa', 'region': 'Africa', 'c40': 'C40', 'access': 'Public', 'reporting_year': 2017, 'accounting_year': '2015-01-01 - 2015-12-31', 'boundary': 'Administrative boundary of a local government', 'protocol': 'Global Protocol for Community-Scale Greenhouse Gas Emissions Inventories (GPC), (WRI, C40 and ICLEI)', 'protocol_column': \"During 2014 the City updated its energy profile and released a State of Energy Report in 2015 (based on 2012 data year). The City does a full energy profile update every 5 years. The process includes a baseline data collection which was collected from the following 5 sectors: Residential Sector, Commercial Sector, Sector, Local Government, Transport Sector. For the 2017 CDP submission, the City undertook a process to update its GPC data by updating the two major energy sources with actual available data, i.e. Electricity and liquid fuel sections. For the remaining energy sources (coal and solid waste), a scaling factor was used calculate the 2015 data. Therefore all the data reported for the 2017 CDP is based on 2015 base year. The City's GHG account/inventory is based on the Global Protocol for Community-Scale Greenhouse Gas Emissions Reporting Draft v2 (GPC). Emissions factors draw on those of the IPCC (web based and regularly updated) for South Africa, as well as Eskom for local electricity emissions factors.  In the 2017 Cape Town GPC summary table provided (base year 2015), Scope 1 includes all emissions that physically take place within the Cape Town area. This includes liquid fuels consumed and coal. Even if that liquid fuel is moved out of the area, it is still accounted for as per point of sale. This scope includes the emissions from Ankerlig and Acacia power stations (Energy supplied to the grid - territorial); but these are removed in the final balance for Cape Town as per protocol (this is accounted for within national electricity production accounts of Eskom). Scope 2 includes emissions from electricity produced elsewhere in the country, but consumed in Cape Town. This column accounts for the majority of these emissions, but a small portion are recorded in Scope 3, reflecting that component of the emissions factor that relates to Transmission and distribution (i.e. from power station to municipal boundary; and amounting to 0.04 of the 1.03 emissions factor). Also included within the category energy industries is the municipal distribution losses.\", 'gases_included': None, 'total_emissions_metric_tonnes_co2e': 21233880.0, 'scopes_included_': 'Total Scope 1, Scope 2 and Waste Scope 3 (Total BASIC emissions)', 'total_scope_1_emissions_metric_tonnes_co2e': 11140682.0, 'total_scope_2_emissions_metric_tonnes_co2e': 12240934.0, 'comment': None, 'increase/decrease_from_last_year': 'Decreased', 'reason_for_increase/decrease_in_emissions': \"The City of Cape Town undertook a process to update the GHG inventory by updating the two main energy sources with 2015 available data,i.e. electricity and liquid fuel. \\nThe electricity consumption has decreased 5% in comparison to the 2012 data – over the last few years there has been a decoupling of electricity consumption in comparison to the GDP. \\nThe liquid fuel consumption has increased by 10% in comparison to the 2012 data. \\nUnfortunately the minor energy source data was not available for this GHG update, however it is assumed that it would not have too much influence on the inventory. \\nOverall the GHG emissions have increased for the CCT due to the liquid fuel consumption increases by the above mentioned margin. \\ndoes not update its emissions inventory annually, but rather in a process linked to the update of its entire energy profile, which takes place every 4-5 years. In comparison to its last full inventory data (2007), Cape Town's emissions have decreased due to an increase in electricity efficiency between the reporting years  (2007 and 2012).\", 'population': 4012441, 'population_year': 2016, 'gdp': 388000000000.0, 'gdp_currency': 'ZAR     South African Rand', 'gdp_year': 2015.0, 'gdp_source': 'Economic Performance Indicators for Cape Town series. GDP constant figure also available: R301 billion.', 'average_annual_temperature_in_celsius\\u200b': 16.6, '\\u200baverage_altitude_m': nan, '\\u200bland_area_in_square_km': 2444.0, 'city_location': '(-33.9253, 18.4239)', 'country_location': '(-30.559482, 22.937506)'}, {'_id': ObjectId('65fc951cecc75b1bd8d14e53'), 'account_number': 31169, 'organization': 'Government of Hong Kong Special Administrative Region', 'city': 'Hong Kong', 'country': 'Hong Kong', 'region': 'East Asia', 'c40': 'C40', 'access': 'Public', 'reporting_year': 2017, 'accounting_year': '2014-01-01 - 2014-12-31', 'boundary': 'Administrative boundary of a local government', 'protocol': '2006 IPCC Guidelines for National Greenhouse Gas Inventories', 'protocol_column': 'We made reference to the \"2006 IPCC Guidelines for National Greenhouse Gas Inventories\".', 'gases_included': 'CO2; PFCs; CH4; SF6; N2O; HFCs', 'total_emissions_metric_tonnes_co2e': 44900000.0, 'scopes_included_': 'Total Scope 1 and Scope 2', 'total_scope_1_emissions_metric_tonnes_co2e': 44876460.0, 'total_scope_2_emissions_metric_tonnes_co2e': nan, 'comment': '95% level of confidence', 'increase/decrease_from_last_year': 'Increased', 'reason_for_increase/decrease_in_emissions': \"Hong Kong's GHG emission recorded a small increase of 1.31% from 44.3 million tones CO2e in 2013 to 44.9 million tonnes CO2e in 2014, mainly due to (i) the increase in electricity generation to cope with GDP and population growth; (ii) more use of coal for electricity generation to make up the shortfall in natural gas supply.\", 'population': 7336600, 'population_year': 2016, 'gdp': 320679000000.0, 'gdp_currency': 'USD     US Dollar', 'gdp_year': 2016.0, 'gdp_source': 'Census and Statistics Department', 'average_annual_temperature_in_celsius\\u200b': 23.3, '\\u200baverage_altitude_m': 129.0, '\\u200bland_area_in_square_km': 1105.0, 'city_location': '(22.2880809, 114.1398015)', 'country_location': '(22.396428, 114.109497)'}, {'_id': ObjectId('65fc951cecc75b1bd8d14e54'), 'account_number': 31174, 'organization': 'Moscow Government', 'city': 'Moscow ', 'country': 'Russia', 'region': 'Europe', 'c40': 'C40', 'access': 'Public', 'reporting_year': 2017, 'accounting_year': '2016-01-01 - 2016-12-31', 'boundary': 'Combination of administrative divisions', 'protocol': 'Global Protocol for Community-Scale Greenhouse Gas Emissions Inventories (GPC), (WRI, C40 and ICLEI)', 'protocol_column': 'There were also used: Protocol on inventory of greenhouse gases from the activities of local authorities (Local Government Operations Protocol Version 1.1 (LGO Protocol)) and the Guidelines for national greenhouse gas inventories of the intergovernmental group of experts on climate change (IPCC) (2006 IPCC Guidelines for National Greenhouse Gas Inventories), as well as manuals C40 and CDP.', 'gases_included': None, 'total_emissions_metric_tonnes_co2e': 25680678.0, 'scopes_included_': 'Total Scope 1, Scope 2 and Waste Scope 3 (Total BASIC emissions)', 'total_scope_1_emissions_metric_tonnes_co2e': 59059034.0, 'total_scope_2_emissions_metric_tonnes_co2e': 3609079.0, 'comment': None, 'increase/decrease_from_last_year': None, 'reason_for_increase/decrease_in_emissions': None, 'population': 12330126, 'population_year': 2016, 'gdp': nan, 'gdp_currency': None, 'gdp_year': nan, 'gdp_source': None, 'average_annual_temperature_in_celsius\\u200b': 6.7, '\\u200baverage_altitude_m': 156.0, '\\u200bland_area_in_square_km': 2511.0, 'city_location': '(55.755826, 37.6173)', 'country_location': '(61.52401, 105.318756)'}, {'_id': ObjectId('65fc951cecc75b1bd8d14e55'), 'account_number': 35868, 'organization': 'Free and Hanseatic City of Hamburg', 'city': 'Hamburg', 'country': 'Germany', 'region': 'Europe', 'c40': None, 'access': 'Public', 'reporting_year': 2017, 'accounting_year': '2014-01-01 - 2014-12-31', 'boundary': 'Administrative boundary of a local government', 'protocol': 'Other', 'protocol_column': 'The emissions figures in fields C1.4 solely state Hamburg’s CO2 emissions (sum of Scope 1 and Scope 2 emissions) – they do not include any CH4, N2O etc. emissions. This is due to the statistical principles used in Germany for the \"Energiebilanzen der Bundesländer\" (energy balances of the German federal states) and the \"CO2-Bilanzen der Bundesländer\" (CO2 balances of the German federal states), which are based on the energy consumption within the respective statistical area. Nevertheless, these figures do reflect Hamburg’s CO2e emissions quite accurately, because CH4, N2O etc. emissions only cause less than 4% of Hamburg’s overall CO2e emissions.', 'gases_included': 'CO2', 'total_emissions_metric_tonnes_co2e': 17465.0, 'scopes_included_': 'Total Scope 1 and Scope 2', 'total_scope_1_emissions_metric_tonnes_co2e': nan, 'total_scope_2_emissions_metric_tonnes_co2e': nan, 'comment': 'Official data from Statistikamt Nord.', 'increase/decrease_from_last_year': 'Decreased', 'reason_for_increase/decrease_in_emissions': 'In contrast to last year, the main sector responsible for the reduction of CO2 emissions was households/businesses, trade, services. This is mainly due to a lower consumption of heating energy, in particular natural gas, caused by significantly warmer weather. The second factor is a significant decline in electricity consumption.', 'population': 1787408, 'population_year': 2015, 'gdp': 102500000000.0, 'gdp_currency': 'EUR     Euro', 'gdp_year': 2014.0, 'gdp_source': 'Statistikamt Nord', 'average_annual_temperature_in_celsius\\u200b': 8.8, '\\u200baverage_altitude_m': 6.0, '\\u200bland_area_in_square_km': 755.0, 'city_location': '(53.5510846, 9.9936818)', 'country_location': '(51.165691, 10.451526)'}, {'_id': ObjectId('65fc951cecc75b1bd8d14e56'), 'account_number': 50382, 'organization': 'Municipio de Mérida', 'city': 'Mérida', 'country': 'Mexico', 'region': 'Latin America', 'c40': None, 'access': 'Public', 'reporting_year': 2017, 'accounting_year': '2014-01-01 - 2014-12-31', 'boundary': 'Administrative boundary of a local government', 'protocol': 'Global Protocol for Community-Scale Greenhouse Gas Emissions Inventories (GPC), (WRI, C40 and ICLEI)', 'protocol_column': None, 'gases_included': None, 'total_emissions_metric_tonnes_co2e': nan, 'scopes_included_': 'Total Scope 1, Scope 2 and Waste Scope 3 (Total BASIC emissions)', 'total_scope_1_emissions_metric_tonnes_co2e': nan, 'total_scope_2_emissions_metric_tonnes_co2e': nan, 'comment': None, 'increase/decrease_from_last_year': None, 'reason_for_increase/decrease_in_emissions': 'Esta es la primera vez que se realiza el inventario.', 'population': 830732, 'population_year': 2010, 'gdp': 7111125.0, 'gdp_currency': 'MXN     Mexican Peso', 'gdp_year': 2015.0, 'gdp_source': 'INEGI 2012', 'average_annual_temperature_in_celsius\\u200b': 25.9, '\\u200baverage_altitude_m': 8.0, '\\u200bland_area_in_square_km': 858.0, 'city_location': '(20.96737, -89.592586)', 'country_location': '(23.634501, -102.552784)'}, {'_id': ObjectId('65fc951cecc75b1bd8d14e57'), 'account_number': 43920, 'organization': 'City of Ljubljana', 'city': 'Ljubljana', 'country': 'Slovenia', 'region': 'Europe', 'c40': None, 'access': 'Public', 'reporting_year': 2017, 'accounting_year': '2014-01-01 - 2014-12-31', 'boundary': 'Administrative boundary of a local government', 'protocol': 'Global Protocol for Community-Scale Greenhouse Gas Emissions Inventories (GPC), (WRI, C40 and ICLEI)', 'protocol_column': 'The difference that occurs in emissions (between C1.4 and C1.5) is a result of different emissions counting from electricity consumption as required by the COM. Check the XLS REPORT: Table B. Summary - I.4.4 Energy supplied to the grid is informal only - not summed in the total emissions (Scope 1), like in your caclulation C1.5 row 3 - CITY INDUCED FRAMEWORK ONLY', 'gases_included': None, 'total_emissions_metric_tonnes_co2e': 2060963.0, 'scopes_included_': 'Total Scope 1, Scope 2 and Waste Scope 3 (Total BASIC emissions)', 'total_scope_1_emissions_metric_tonnes_co2e': 1829808.0, 'total_scope_2_emissions_metric_tonnes_co2e': 904042.0, 'comment': None, 'increase/decrease_from_last_year': 'Decreased', 'reason_for_increase/decrease_in_emissions': 'due to the actions taken. city centre closed for traffic, ordering of electricity (100 % RES), refurbishment of building (public and private through subsidies from public companies and state Eco-fund), iintroduction of CNG and electric buses in public transport, installation on electric cars charging stations, ...', 'population': 288307, 'population_year': 2016, 'gdp': 25329.0, 'gdp_currency': 'EUR     Euro', 'gdp_year': 2014.0, 'gdp_source': 'Region Central Slovenia(2014: 25329€/capita, source: stat.si), no special data for Ljubljana ( €/capita), $:€: 1,13', 'average_annual_temperature_in_celsius\\u200b': 10.3, '\\u200baverage_altitude_m': nan, '\\u200bland_area_in_square_km': 275.0, 'city_location': '(46.056947, 14.505751)', 'country_location': '(46.151241, 14.995463)'}, {'_id': ObjectId('65fc951cecc75b1bd8d14e58'), 'account_number': 49327, 'organization': 'City of Providence', 'city': 'Providence', 'country': 'USA', 'region': 'North America', 'c40': None, 'access': 'Public', 'reporting_year': 2017, 'accounting_year': '2015-01-01 - 2015-12-31', 'boundary': 'Administrative boundary of a local government', 'protocol': 'Global Protocol for Community-Scale Greenhouse Gas Emissions Inventories (GPC), (WRI, C40 and ICLEI)', 'protocol_column': None, 'gases_included': None, 'total_emissions_metric_tonnes_co2e': 1685403.0, 'scopes_included_': 'Total Scope 1, Scope 2 and Waste Scope 3 (Total BASIC emissions)', 'total_scope_1_emissions_metric_tonnes_co2e': 2183429.0, 'total_scope_2_emissions_metric_tonnes_co2e': 384000.0, 'comment': None, 'increase/decrease_from_last_year': 'This is our first year of calculation', 'reason_for_increase/decrease_in_emissions': None, 'population': 178562, 'population_year': 2014, 'gdp': 30300000000.0, 'gdp_currency': 'USD     US Dollar', 'gdp_year': 2012.0, 'gdp_source': 'City of Providence Task Force on Economic Development Final Report, April 2014, http://council.providenceri.com/efile/212', 'average_annual_temperature_in_celsius\\u200b': 10.0, '\\u200baverage_altitude_m': 17.0, '\\u200bland_area_in_square_km': 48.0, 'city_location': '(41.824, -71.4128)', 'country_location': '(37.09024, -95.712891)'}, {'_id': ObjectId('65fc951cecc75b1bd8d14e59'), 'account_number': 63616, 'organization': 'Abasan Al-Kabira Municipality', 'city': 'Abasan Al-Kabira', 'country': 'State of Palestine', 'region': 'South and West Asia', 'c40': None, 'access': 'Public', 'reporting_year': 2017, 'accounting_year': '2010-12-31 - 2011-12-31', 'boundary': 'Administrative boundary of a local government', 'protocol': 'Global Protocol for Community-Scale Greenhouse Gas Emissions Inventories (GPC), (WRI, C40 and ICLEI)', 'protocol_column': None, 'gases_included': None, 'total_emissions_metric_tonnes_co2e': 32221.0, 'scopes_included_': 'Total Scope 1, Scope 2 and Waste Scope 3 (Total BASIC emissions)', 'total_scope_1_emissions_metric_tonnes_co2e': nan, 'total_scope_2_emissions_metric_tonnes_co2e': nan, 'comment': None, 'increase/decrease_from_last_year': None, 'reason_for_increase/decrease_in_emissions': None, 'population': 30000, 'population_year': 2015, 'gdp': 86024000.0, 'gdp_currency': 'USD     US Dollar', 'gdp_year': 2015.0, 'gdp_source': 'World Bank site', 'average_annual_temperature_in_celsius\\u200b': 25.0, '\\u200baverage_altitude_m': 78.0, '\\u200bland_area_in_square_km': 19.0, 'city_location': '(31.323126, 34.344025)', 'country_location': '(31.9522, 35.2332)'}, {'_id': ObjectId('65fc951cecc75b1bd8d14e5a'), 'account_number': 58461, 'organization': 'Stara Zagora', 'city': 'Stara Zagora', 'country': 'Bulgaria', 'region': 'Europe', 'c40': None, 'access': 'Public', 'reporting_year': 2017, 'accounting_year': '2014-01-01 - 2015-01-01', 'boundary': 'Combination of administrative divisions', 'protocol': 'Global Protocol for Community-Scale Greenhouse Gas Emissions Inventories (GPC), (WRI, C40 and ICLEI)', 'protocol_column': None, 'gases_included': None, 'total_emissions_metric_tonnes_co2e': 1104.0, 'scopes_included_': 'Total Scope 1, Scope 2 and Waste Scope 3 (Total BASIC emissions)', 'total_scope_1_emissions_metric_tonnes_co2e': nan, 'total_scope_2_emissions_metric_tonnes_co2e': nan, 'comment': None, 'increase/decrease_from_last_year': None, 'reason_for_increase/decrease_in_emissions': None, 'population': 325963, 'population_year': 2011, 'gdp': 2244657.0, 'gdp_currency': 'USD     US Dollar', 'gdp_year': 2013.0, 'gdp_source': None, 'average_annual_temperature_in_celsius\\u200b': 12.9, '\\u200baverage_altitude_m': 196.0, '\\u200bland_area_in_square_km': 5151.1, 'city_location': '(42.425777, 25.634464)', 'country_location': '(42.697708, 23.321868)'}, {'_id': ObjectId('65fc951cecc75b1bd8d14e5b'), 'account_number': 54102, 'organization': 'City of Albany', 'city': 'Albany', 'country': 'USA', 'region': 'North America', 'c40': None, 'access': 'Public', 'reporting_year': 2017, 'accounting_year': '2010-01-01 - 2010-12-31', 'boundary': 'Administrative boundary of a local government', 'protocol': 'Other: New York Community and Regional GHG Inventory Guidance', 'protocol_column': 'Created by New York GHG Working Group', 'gases_included': 'CO2; PFCs; CH4; SF6; N2O; HFCs', 'total_emissions_metric_tonnes_co2e': 1217091.0, 'scopes_included_': 'Total Scope 1 and Scope 2', 'total_scope_1_emissions_metric_tonnes_co2e': 663997.0, 'total_scope_2_emissions_metric_tonnes_co2e': 553094.0, 'comment': 'http://cdrpc.org/programs/sustainability/climate-smart-communities-csc/ghg-inventory/', 'increase/decrease_from_last_year': 'Other: The City of Albany has not conducted a community GHG inventory update since the baseline year.', 'reason_for_increase/decrease_in_emissions': 'Technically the City has a community inventory data for baseline year 2009, an update for 2010, and an updated for 2013. However the results are not directly comparable as the 2009 was conducted specifically for Albany and 2010 was scaled down from a regional inventory and Energy Plan was conducted separately. We need to do a more robust update to ensure apples to apples comparison.', 'population': 97856, 'population_year': 2010, 'gdp': 49621.0, 'gdp_currency': 'USD     US Dollar', 'gdp_year': 2013.0, 'gdp_source': 'U.S. Bureau of Economic Analysis', 'average_annual_temperature_in_celsius\\u200b': 9.0, '\\u200baverage_altitude_m': 9.0, '\\u200bland_area_in_square_km': 55.0, 'city_location': '(42.6526, -73.7562)', 'country_location': '(37.09024, -95.712891)'}, {'_id': ObjectId('65fc951cecc75b1bd8d14e5c'), 'account_number': 59165, 'organization': 'Gladsaxe Kommune', 'city': 'Gladsaxe', 'country': 'Denmark', 'region': 'Europe', 'c40': None, 'access': 'Public', 'reporting_year': 2017, 'accounting_year': '2015-01-01 - 2015-12-31', 'boundary': 'A metropolitan area', 'protocol': 'Global Protocol for Community-Scale Greenhouse Gas Emissions Inventories (GPC), (WRI, C40 and ICLEI)', 'protocol_column': None, 'gases_included': None, 'total_emissions_metric_tonnes_co2e': 331282.0, 'scopes_included_': 'Total Scope 1, Scope 2 and Waste Scope 3 (Total BASIC emissions)', 'total_scope_1_emissions_metric_tonnes_co2e': 247599.0, 'total_scope_2_emissions_metric_tonnes_co2e': 83684.0, 'comment': None, 'increase/decrease_from_last_year': 'Decreased', 'reason_for_increase/decrease_in_emissions': 'Energy saving plans, projects and goals. Expansion of district heating which provide Citizens and Companies with eco-friendly heating.', 'population': 67347, 'population_year': 2015, 'gdp': 35900000000.0, 'gdp_currency': 'DKK     Danish Krone', 'gdp_year': 2015.0, 'gdp_source': 'Statistic Denmark', 'average_annual_temperature_in_celsius\\u200b': 9.4, '\\u200baverage_altitude_m': 31.0, '\\u200bland_area_in_square_km': 24.9, 'city_location': '(55.733461, 12.488686)', 'country_location': '(56.26392, 9.501785)'}, {'_id': ObjectId('65fc951cecc75b1bd8d14e5d'), 'account_number': 43932, 'organization': 'Auckland Council', 'city': 'Auckland ', 'country': 'New Zealand', 'region': 'South Asia and Oceania', 'c40': 'C40', 'access': 'Public', 'reporting_year': 2017, 'accounting_year': '2014-01-01 - 2014-12-31', 'boundary': 'Administrative boundary of a local government', 'protocol': 'Global Protocol for Community-Scale Greenhouse Gas Emissions Inventories (GPC), (WRI, C40 and ICLEI)', 'protocol_column': 'Version 1 (published in 2014)', 'gases_included': None, 'total_emissions_metric_tonnes_co2e': 8388416.0, 'scopes_included_': 'Total Scope 1, Scope 2 and Waste Scope 3 (Total BASIC emissions)', 'total_scope_1_emissions_metric_tonnes_co2e': 9488399.0, 'total_scope_2_emissions_metric_tonnes_co2e': 1260758.0, 'comment': None, 'increase/decrease_from_last_year': 'Stayed the same', 'reason_for_increase/decrease_in_emissions': 'Between 2013 and 2014, Auckland’s GHG emissions have remained relatively stable, with an increase of 43 kt CO2e or 0.4 per cent for gross emissions and a decrease of 78 kt CO2e or 0.7 per cent for net emissions. The emissions were higher from transport and IPPU sectors in 2014 than in 2013, by 83 kt CO2e and 27 kt CO2e respectively. The emissions were lower from stationary energy, waste and AFOLU sectors in 2014 than in 2013, by 7 kt CO2e, 41 kt CO2e and 140 kt CO2e, respectively. There were additional 122 kt CO2e sequestrated from forestry in 2014 than in 2013.', 'population': 1614400, 'population_year': 2016, 'gdp': 88295000.0, 'gdp_currency': 'NZD     New Zealand Dollar', 'gdp_year': 2015.0, 'gdp_source': 'Statistics New Zealand', 'average_annual_temperature_in_celsius\\u200b': 15.3, '\\u200baverage_altitude_m': 79.0, '\\u200bland_area_in_square_km': 4894.0, 'city_location': '(-36.815328, 174.741788)', 'country_location': '(-40.900557, 174.885971)'}, {'_id': ObjectId('65fc951cecc75b1bd8d14e5e'), 'account_number': 31176, 'organization': 'Prefeitura do Rio de Janeiro', 'city': 'Rio de Janeiro', 'country': 'Brazil', 'region': 'Latin America', 'c40': 'C40', 'access': 'Public', 'reporting_year': 2017, 'accounting_year': '2012-01-01 - 2012-12-31', 'boundary': 'Administrative boundary of a local government', 'protocol': 'Global Protocol for Community-Scale Greenhouse Gas Emissions Inventories (GPC), (WRI, C40 and ICLEI)', 'protocol_column': 'Rio de Janeiro was one of the pilot cities to use the GPC first version. We updated the last inventory (2005) and calculated the new one (2012). We used IPCC 2006 with some adaptations to the local context, following the GPC requirements and procedures.', 'gases_included': None, 'total_emissions_metric_tonnes_co2e': 17006642.0, 'scopes_included_': 'Total Scope 1, Scope 2 and Waste Scope 3 (Total BASIC emissions)', 'total_scope_1_emissions_metric_tonnes_co2e': 17326232.0, 'total_scope_2_emissions_metric_tonnes_co2e': 4096511.0, 'comment': None, 'increase/decrease_from_last_year': 'Increased', 'reason_for_increase/decrease_in_emissions': 'The numbers presented here are from the same inventory reported to CDP last year. However, since it was submitted to external verification and the numbers were reviewed according to the recommendations of the verifier there was just a slight increase due to this review.\\nIn comparison to the last Inventory made for the city, which has 2005 as the base year, there was a significant increase in emissions (around 75%) mainly due to the start of operations in 2010 of a new steel mill plant inside the city border, TKCSA.', 'population': 6498837, 'population_year': 2016, 'gdp': 299849795374.0, 'gdp_currency': 'BRL     Brazilian Real', 'gdp_year': 2014.0, 'gdp_source': 'IBGE', 'average_annual_temperature_in_celsius\\u200b': 23.7, '\\u200baverage_altitude_m': 5.0, '\\u200bland_area_in_square_km': 1224.6, 'city_location': '(-22.9054389, -43.5614471)', 'country_location': '(-14.235004, -51.92528)'}, {'_id': ObjectId('65fc951cecc75b1bd8d14e5f'), 'account_number': 49787, 'organization': 'City of Benicia', 'city': 'Benicia', 'country': 'USA', 'region': 'North America', 'c40': None, 'access': 'Public', 'reporting_year': 2017, 'accounting_year': '2010-01-01 - 2010-12-31', 'boundary': 'Administrative boundary of a local government', 'protocol': 'International Emissions Analysis Protocol (ICLEI)', 'protocol_column': None, 'gases_included': 'CO2; PFCs; CH4; SF6; N2O; HFCs', 'total_emissions_metric_tonnes_co2e': 688706.0, 'scopes_included_': 'Total Scope 1 and Scope 2', 'total_scope_1_emissions_metric_tonnes_co2e': nan, 'total_scope_2_emissions_metric_tonnes_co2e': nan, 'comment': 'A third party data anomaly in the 2010 inventory may result in significant revisions that show improved progress toward goals.', 'increase/decrease_from_last_year': 'Increased', 'reason_for_increase/decrease_in_emissions': \"In 2010, community-wide emissions with large industrial emitters had increased from 2005 by 24% while community-wide emissions without large industrial emitters increased by 41%.  There was a 5.6% increase in emissions (2000-2005, with large emitters).   When the baseline inventory was completed, the team predicted that by 2010, emissions (w/ large industrial emitters) would increase 9% from 2005 to 4.6 million metric tons.  If large emitters were still included, then the increase between 2005 and 2010 was only a 24% increase, 15% more than what was originally predicted.  However, for 2010, it was decided to exclude large emitters.  This means that increases in all other sectors have a greater impact on total emissions, i.e. the increase in transportation emissions has a much greater impact on overall emissions levels.   The roughly 35% increase between 2005 and 2010 could be due to a number of things including changes in reporting protocols, e.g. permitting requirements changed or the non-recession years outweighed the recession years.  It could also be that Benicia was not as hard hit by the recession as other communities and therefore, emissions didn't decrease. Again, educated guesses have been made as to what caused the increase.    Please note that vehicle miles travelled (VMT) grew between 2000 and 2010 by 62%, while emissions increased 95%.  The % of total emissions from transportation is within the Bay Area average. The Metropolitan Transportation Commission (MTC) calculates VMT using a proprietary software model. MTC inputs traffic counts, vehicle speeds, vehicle make and model, and fuel data into its software. In 2010, per the change in the modeling software, Benicia is now responsible for 50% of the trips that start elsewhere but end in Benicia and trips that start in Benicia but end elsewhere. This is calculated based on the number of people that exit or enter the highway in Benicia. Pass through VMT is not attributed to Benicia. Then, emissions are calculated by inputting VMT into the CACP software, which generates a GHG equivalent (MTCO2e). The increase in off road emissions is due to construction permit projections for buildings, which may have never been built. However, estimating off road emissions using construction permit data is the recommended calculation method per ICLEI’s protocol and guidance.\", 'population': 27450, 'population_year': 2014, 'gdp': 23000000.0, 'gdp_currency': 'USD     US Dollar', 'gdp_year': 2014.0, 'gdp_source': 'Solano EDC http://www.solanocounty.com/depts/bos/working_to_create_jobs/economic_studies.asp', 'average_annual_temperature_in_celsius\\u200b': 21.0, '\\u200baverage_altitude_m': 26.0, '\\u200bland_area_in_square_km': 13.0, 'city_location': '(38.049365, -122.1585777)', 'country_location': '(37.09024, -95.712891)'}, {'_id': ObjectId('65fc951cecc75b1bd8d14e60'), 'account_number': 54070, 'organization': 'City of Eugene', 'city': 'Eugene', 'country': 'USA', 'region': 'North America', 'c40': None, 'access': 'Public', 'reporting_year': 2017, 'accounting_year': '2015-01-01 - 2015-12-31', 'boundary': 'Administrative boundary of a local government', 'protocol': 'Global Protocol for Community-Scale Greenhouse Gas Emissions Inventories (GPC), (WRI, C40 and ICLEI)', 'protocol_column': \"This inventory also considers guidance provided by Greenhouse Gas Protocol’s Scope 2 Guidance and ICLEI's U.S. Community Protocol.\", 'gases_included': None, 'total_emissions_metric_tonnes_co2e': nan, 'scopes_included_': 'Total Scope 1, Scope 2 and Waste Scope 3 (Total BASIC emissions)', 'total_scope_1_emissions_metric_tonnes_co2e': 812688.0, 'total_scope_2_emissions_metric_tonnes_co2e': 955102.0, 'comment': None, 'increase/decrease_from_last_year': 'Increased', 'reason_for_increase/decrease_in_emissions': \"The primary reason for the increase compared to 2005 reporting is a change in accounting methodology for electricity in the Eugene Community Inventory. In 2005, electricity emissions were calculated using a utility-specific factor, while 2015, per GPC Guidance, Eugene is reporting electricity emissions using the location-based method for electricity. \\n\\nOther items to note on year-over-year change include the following: Scope 1 emissions have decreased by about -20% compared to 2005. This is attributed Oregon's adoption of a Renewable Fuel Standard which sets minimums of 10% ethanol in gasoline and 5% biodiesel in diesel fuels sold in the state, as well the effect of energy efficiency adoption in the RCI sectors for natural gas as well as warmer winders in 2014 and 2015. Since 2010 transportation emissions have decreased by -7% and natural gas emissions have gone down by --7% in the residential sector and -1% in the commercial / industrial sectors.\", 'population': 165885, 'population_year': 2016, 'gdp': 14322000000.0, 'gdp_currency': 'USD     US Dollar', 'gdp_year': 2015.0, 'gdp_source': 'U.S. Dept. of Commerce, Bureau of Economic Analysis, Regional Data, Eugene, OR (Metropolitan Statistical Area), All Industry Total', 'average_annual_temperature_in_celsius\\u200b': 11.2, '\\u200baverage_altitude_m': 130.0, '\\u200bland_area_in_square_km': 113.0, 'city_location': '(44.0519, -123.0867)', 'country_location': '(37.09024, -95.712891)'}, {'_id': ObjectId('65fc951cecc75b1bd8d14e61'), 'account_number': 58357, 'organization': 'City of West Hollywood', 'city': 'West Hollywood', 'country': 'USA', 'region': 'North America', 'c40': None, 'access': 'Public', 'reporting_year': 2017, 'accounting_year': '2008-01-01 - 2008-12-31', 'boundary': 'Administrative boundary of a local government', 'protocol': 'U.S. Community Protocol for Accounting and Reporting of Greenhouse Gas Emissions (ICLEI)', 'protocol_column': None, 'gases_included': 'CO2', 'total_emissions_metric_tonnes_co2e': 583213.0, 'scopes_included_': 'Total Scope 1 and Scope 2', 'total_scope_1_emissions_metric_tonnes_co2e': nan, 'total_scope_2_emissions_metric_tonnes_co2e': nan, 'comment': None, 'increase/decrease_from_last_year': 'Stayed the same', 'reason_for_increase/decrease_in_emissions': 'We have not conducted a GHG inventory since 2008 but the City received a Strategic Growth Council grant to create a GHG inventory tool this year 2017. We plan to conduct another inventory as soon as possible.', 'population': 34399, 'population_year': 2010, 'gdp': 930817000.0, 'gdp_currency': 'USD     US Dollar', 'gdp_year': 2015.0, 'gdp_source': 'US Dept. of Commerce BEA – Los Angeles Metro Area https://www.bea.gov/itable/iTable.cfm?ReqID=70&step=1#reqid=70&step=1&isuri=1', 'average_annual_temperature_in_celsius\\u200b': 19.0, '\\u200baverage_altitude_m': 90.0, '\\u200bland_area_in_square_km': 5.0, 'city_location': '(34.09, -118.3617)', 'country_location': '(37.09024, -95.712891)'}, {'_id': ObjectId('65fc951cecc75b1bd8d14e62'), 'account_number': 54329, 'organization': 'Bogor City Government', 'city': 'Bogor ', 'country': 'Indonesia', 'region': 'South Asia and Oceania', 'c40': None, 'access': 'Public', 'reporting_year': 2017, 'accounting_year': '2014-01-01 - 2014-12-31', 'boundary': 'Administrative boundary of a local government', 'protocol': '2006 IPCC Guidelines for National Greenhouse Gas Inventories', 'protocol_column': 'Following the protocol used at the national level', 'gases_included': 'CO2; CH4; N2O', 'total_emissions_metric_tonnes_co2e': 2193642.0, 'scopes_included_': 'Total Scope 1 and Scope 2', 'total_scope_1_emissions_metric_tonnes_co2e': nan, 'total_scope_2_emissions_metric_tonnes_co2e': 1239622.0, 'comment': 'Finished', 'increase/decrease_from_last_year': 'Increased', 'reason_for_increase/decrease_in_emissions': 'due to population growth, transportation and economic activity', 'population': 1047922, 'population_year': 2015, 'gdp': 117412136000000.0, 'gdp_currency': 'IDR     Rupiah', 'gdp_year': 2014.0, 'gdp_source': 'Central Statistic Bureau', 'average_annual_temperature_in_celsius\\u200b': 32.1, '\\u200baverage_altitude_m': 260.0, '\\u200bland_area_in_square_km': 118.5, 'city_location': '(-6.5971, 106.806)', 'country_location': '(-6.121435, 106.774124)'}, {'_id': ObjectId('65fc951cecc75b1bd8d14e63'), 'account_number': 32480, 'organization': 'City of Adelaide', 'city': 'Adelaide', 'country': 'Australia', 'region': 'South Asia and Oceania', 'c40': None, 'access': 'Public', 'reporting_year': 2017, 'accounting_year': '2015-07-01 - 2016-06-30', 'boundary': 'Administrative boundary of a local government', 'protocol': 'Global Protocol for Community-Scale Greenhouse Gas Emissions Inventories (GPC), (WRI, C40 and ICLEI)', 'protocol_column': None, 'gases_included': None, 'total_emissions_metric_tonnes_co2e': 573347.0, 'scopes_included_': 'Total Scope 1, Scope 2 and Waste Scope 3 (Total BASIC emissions)', 'total_scope_1_emissions_metric_tonnes_co2e': 204705.0, 'total_scope_2_emissions_metric_tonnes_co2e': 416528.0, 'comment': None, 'increase/decrease_from_last_year': 'Other: Emission inventories not consecutive years and new emission sources added to latest GHG inventory', 'reason_for_increase/decrease_in_emissions': 'In the previous CDP Cities 2016 Submission, the GHG emissions from FY2012/13 were reported. We have since calculated a more recent GHG inventory for FY2015/16 and included new emission sources. As such, the current GHG emissions inventory and the previously reported GHG inventory are not directly comparable. We are in the process of compiling historical GHG inventories. Going forward we will be able to show an accurate year on year change based on consistently calculated GHG emissions inventories.', 'population': 23615, 'population_year': 2016, 'gdp': 18124000000.0, 'gdp_currency': 'AUD     Australian Dollar', 'gdp_year': 2015.0, 'gdp_source': 'http://economy.id.com.au/adelaide/gross-product', 'average_annual_temperature_in_celsius\\u200b': 18.0, '\\u200baverage_altitude_m': 38.0, '\\u200bland_area_in_square_km': 16.0, 'city_location': '(-34.928499, 138.600746)', 'country_location': '(-25.274398, 133.775136)'}, {'_id': ObjectId('65fc951cecc75b1bd8d14e64'), 'account_number': 50679, 'organization': 'Barreiro', 'city': 'Barreiro', 'country': 'Portugal', 'region': 'Europe', 'c40': None, 'access': 'Public', 'reporting_year': 2017, 'accounting_year': '2016-01-01 - 2016-12-31', 'boundary': 'Administrative boundary of a local government', 'protocol': 'Global Protocol for Community-Scale Greenhouse Gas Emissions Inventories (GPC), (WRI, C40 and ICLEI)', 'protocol_column': 'The data of energy consumption were collected from the Directorate General for Energy and Geology (DGEG).', 'gases_included': None, 'total_emissions_metric_tonnes_co2e': 286477.0, 'scopes_included_': 'Total Scope 1, Scope 2 and Waste Scope 3 (Total BASIC emissions)', 'total_scope_1_emissions_metric_tonnes_co2e': 201705.0, 'total_scope_2_emissions_metric_tonnes_co2e': 84745.0, 'comment': None, 'increase/decrease_from_last_year': 'Increased', 'reason_for_increase/decrease_in_emissions': 'A residual increase of 2%.', 'population': 78764, 'population_year': 2011, 'gdp': nan, 'gdp_currency': None, 'gdp_year': nan, 'gdp_source': None, 'average_annual_temperature_in_celsius\\u200b': 16.0, '\\u200baverage_altitude_m': 20.0, '\\u200bland_area_in_square_km': 33.0, 'city_location': '(38.660815, -9.079072)', 'country_location': '(39.399872, -8.224454)'}, {'_id': ObjectId('65fc951cecc75b1bd8d14e65'), 'account_number': 54354, 'organization': 'City Government of Makati', 'city': 'Makati', 'country': 'Philippines', 'region': 'South Asia and Oceania', 'c40': None, 'access': 'Public', 'reporting_year': 2017, 'accounting_year': '2011-01-01 - 2011-12-31', 'boundary': 'Administrative boundary of a local government', 'protocol': 'Global Protocol for Community-Scale Greenhouse Gas Emissions Inventories (GPC), (WRI, C40 and ICLEI)', 'protocol_column': \"Guidance from the following sources was also used: GHG Management in Local Governments: A Guide developed by the Greenhouse Gas Management Institute (GHGMI) with funding support from USAID, International Local Government Greenhouse Gas Emissions Analysis Protocol (IEAP) developed by ICLEI, and the newly published Global Protocol for Community-Scale Greenhouse Gas Emissions* from WRI, ICLEI and the C40 Climate Leadership Gourp were also used to supplement the GHG Protocol.*GPC Pilot version 1.0 (May 2012) was re;eased as draft and opened for comments while the GHG inventory was taking place in Makati. The approach taken to complete the inventory is mostly similar to the one recommended in the Protocol, but there are some differences in content and terminology (e.f. defining inventory boundaries in terms of 'geographic' and 'geographic+' instead of 'basic' and 'basic+'.\", 'gases_included': None, 'total_emissions_metric_tonnes_co2e': 462586.0, 'scopes_included_': 'Total Scope 1, Scope 2 and Waste Scope 3 (Total BASIC emissions)', 'total_scope_1_emissions_metric_tonnes_co2e': 462586.0, 'total_scope_2_emissions_metric_tonnes_co2e': 1197784.0, 'comment': None, 'increase/decrease_from_last_year': 'Increased', 'reason_for_increase/decrease_in_emissions': \"Scope 1 (Stationary Energy and Transport) and Scope 3 (Solid Waste) increased due to the following reasons:\\na. During daytime, the City's population increases to more than 4 million as people from the Metropolitan Manila and other provinces go to the city to work, shop, do business, or simply dine and be entertained.\\nb. With the increasing population, waste generation also increases.\\nc. Increased construction and development projects are also observed leading to increased in the demand for energy.\\nd. More than 800,000 vehicles traverses the City each day as the City host of three (3) Metro Rail Transit (MRT) and Philippine National Railways (PNR) stations and gateway of four (4) major roads.\", 'population': 529039, 'population_year': 2010, 'gdp': 6.0, 'gdp_currency': 'PHP     Philippine Peso', 'gdp_year': 2015.0, 'gdp_source': 'Budget of Expenditures and Sources of Financing NEDA', 'average_annual_temperature_in_celsius\\u200b': 28.4, '\\u200baverage_altitude_m': 15.0, '\\u200bland_area_in_square_km': 27.4, 'city_location': '(14.554729, 121.024445)', 'country_location': '(12.879721, 121.774017)'}, {'_id': ObjectId('65fc951cecc75b1bd8d14e66'), 'account_number': 1499, 'organization': 'Ajuntament de Barcelona', 'city': 'Barcelona', 'country': 'Spain', 'region': 'Europe', 'c40': 'C40', 'access': 'Public', 'reporting_year': 2017, 'accounting_year': '2014-01-01 - 2014-01-31', 'boundary': 'Administrative boundary of a local government', 'protocol': 'Other', 'protocol_column': \"Barcelona's local Government uses it's own protocol, which takes into account IPCC 2016 and which has been parcialy adapted to the GPC Protocol\", 'gases_included': 'CO2; CH4; N2O', 'total_emissions_metric_tonnes_co2e': 3329110.0, 'scopes_included_': 'Total Scope 1 and Scope 2', 'total_scope_1_emissions_metric_tonnes_co2e': 2772810.0, 'total_scope_2_emissions_metric_tonnes_co2e': 556290.0, 'comment': 'Includes  municipal GHG emissions, residential, terciary and industrial sector, mobility GHG emissions, waste tratment and port and airpot emissions.', 'increase/decrease_from_last_year': 'Decreased', 'reason_for_increase/decrease_in_emissions': 'Due to the increasing renewable energy production and the decreasing of consumption of natural gas.', 'population': 1608746, 'population_year': 2016, 'gdp': 64567300000.0, 'gdp_currency': 'EUR     Euro', 'gdp_year': 2014.0, 'gdp_source': 'Statistical Institute of Catalonia (Idescat)', 'average_annual_temperature_in_celsius\\u200b': 18.0, '\\u200baverage_altitude_m': 13.0, '\\u200bland_area_in_square_km': 101.0, 'city_location': '(41.382271, 2.177506)', 'country_location': '(40.463667, -3.74922)'}, {'_id': ObjectId('65fc951cecc75b1bd8d14e67'), 'account_number': 36254, 'organization': 'Comune di Venezia', 'city': 'Venezia', 'country': 'Italy', 'region': 'Europe', 'c40': 'C40', 'access': 'Public', 'reporting_year': 2017, 'accounting_year': '2015-01-01 - 2015-12-31', 'boundary': 'Administrative boundary of a local government', 'protocol': 'Other', 'protocol_column': 'Our MEI (Baseline Emission Inventory) has been made according to the Covenant of Mayors Guide Lines (see also LG - Methodology).', 'gases_included': 'CO2', 'total_emissions_metric_tonnes_co2e': 1418344.0, 'scopes_included_': 'Total Scope 1 and Scope 2', 'total_scope_1_emissions_metric_tonnes_co2e': 776246.0, 'total_scope_2_emissions_metric_tonnes_co2e': 498717.0, 'comment': None, 'increase/decrease_from_last_year': 'Decreased', 'reason_for_increase/decrease_in_emissions': 'Emissions have decreased around 10% in 10 years. However, the most important share of this reduction is due to Transport Emissions data, which were only estimated using the Regional Agency for the Protection of Environment of Veneto Region (ARPAV) data referred on 2013.', 'population': 261905, 'population_year': 2016, 'gdp': 10245550000.0, 'gdp_currency': 'EUR     Euro', 'gdp_year': 2014.0, 'gdp_source': 'Data from Unioncamere - Tagliacarne Foundation for Venice Municipality', 'average_annual_temperature_in_celsius\\u200b': 12.0, '\\u200baverage_altitude_m': 3.0, '\\u200bland_area_in_square_km': 414.0, 'city_location': '(45.4332515, 12.3210704)', 'country_location': '(41.87194, 12.56738)'}, {'_id': ObjectId('65fc951cecc75b1bd8d14e68'), 'account_number': 59163, 'organization': 'City of Tirana', 'city': 'Tirana', 'country': 'Albania', 'region': 'Europe', 'c40': None, 'access': 'Public', 'reporting_year': 2017, 'accounting_year': '2011-01-01 - 2011-12-31', 'boundary': 'Administrative boundary of a local government', 'protocol': 'Other: COPERT IV computer programme within the EMEP/CORINAR methodology', 'protocol_column': 'COPERT IV computer programme, developed by the EEA (European Environmental Agency) within the EMEP/CORINAR methodology was used for calculation from fuel burning and evaporation from the transport sector.', 'gases_included': 'CO2', 'total_emissions_metric_tonnes_co2e': 610773.0, 'scopes_included_': 'Total Scope 1 and Scope 2', 'total_scope_1_emissions_metric_tonnes_co2e': nan, 'total_scope_2_emissions_metric_tonnes_co2e': 457173.0, 'comment': 'The inventory is also found on the Sustainable Energy Action Plan of the City of Tirana (SEAP). The total emission figure is generated on the data listed below:1. The total registered number of private and commercial vehicles in the city of Tirana in 2011, divided by type of fuel consumption2. The total area of residential and commercial buildings, in 20113. The electricity consumption data for both residential and commercial buildings in 2011, data obtained from CEZ Albania', 'increase/decrease_from_last_year': None, 'reason_for_increase/decrease_in_emissions': None, 'population': 780531, 'population_year': 2016, 'gdp': nan, 'gdp_currency': None, 'gdp_year': nan, 'gdp_source': None, 'average_annual_temperature_in_celsius\\u200b': 15.0, '\\u200baverage_altitude_m': 110.0, '\\u200bland_area_in_square_km': 1110.0, 'city_location': '(41.327546, 19.818698)', 'country_location': '(41.153332, 20.168331)'}, {'_id': ObjectId('65fc951cecc75b1bd8d14e69'), 'account_number': 55324, 'organization': 'Município de Guimarães', 'city': 'Guimarães', 'country': 'Portugal', 'region': 'Europe', 'c40': None, 'access': 'Public', 'reporting_year': 2017, 'accounting_year': '2014-01-01 - 2014-12-31', 'boundary': 'Administrative boundary of a local government', 'protocol': '2006 IPCC Guidelines for National Greenhouse Gas Inventories', 'protocol_column': 'Determination of CO2 emissions methodology is based on IPCC principles. Presented data is determined by applying emission factors to the data resulting from energy baseline emissions.The energy baseline emissions is calculated using a mathematical model that is based on local energy consumption and macroeconomic and demographic variables.', 'gases_included': 'CO2', 'total_emissions_metric_tonnes_co2e': 401323.0, 'scopes_included_': 'Total Scope 1 and Scope 2', 'total_scope_1_emissions_metric_tonnes_co2e': 277921.0, 'total_scope_2_emissions_metric_tonnes_co2e': 123402.0, 'comment': 'The methodology used to calculate GHG emissions of Guimarães municipality is based in the guidelines of Joint Research Centre of the European Commission for SEAP development and the calculations were are based on relevant socio-economic and energetic information provided by official statistics at municipal level.This results were already approved by Covenant of Mayors initiative.', 'increase/decrease_from_last_year': 'Decreased', 'reason_for_increase/decrease_in_emissions': 'The municipality of Guimarães has been implementing its SEAP achieving very positive results, namely achieving reductions of energy consumptions in municipal and residential buildings as well as industry, transports and agricultural sectors. Changes in the electricity mix also contributed to the community emissions reduction, allowing to the achievement in 2014 of the commitments for 2020.', 'population': 154920, 'population_year': 2015, 'gdp': 1802000000.0, 'gdp_currency': 'EUR     Euro', 'gdp_year': 2015.0, 'gdp_source': 'Energy baseline emissions. This value was estimated. Official statistics of GDP at the municipal level are not available. The estimation was based on relevant economic and financial information provided by official statistics at municipal and regional level.', 'average_annual_temperature_in_celsius\\u200b': 15.0, '\\u200baverage_altitude_m': 348.0, '\\u200bland_area_in_square_km': 241.0, 'city_location': '(41.444266, -8.292241)', 'country_location': '(39.399872, -8.224454)'}, {'_id': ObjectId('65fc951cecc75b1bd8d14e6a'), 'account_number': 55800, 'organization': 'City of Cambridge', 'city': 'Cambridge', 'country': 'USA', 'region': 'North America', 'c40': None, 'access': 'Public', 'reporting_year': 2017, 'accounting_year': '2012-01-01 - 2012-12-31', 'boundary': 'A metropolitan area', 'protocol': 'Global Protocol for Community-Scale Greenhouse Gas Emissions Inventories (GPC), (WRI, C40 and ICLEI)', 'protocol_column': None, 'gases_included': None, 'total_emissions_metric_tonnes_co2e': 1462236.0, 'scopes_included_': 'Total Scope 1, Scope 2 and Waste Scope 3 (Total BASIC emissions)', 'total_scope_1_emissions_metric_tonnes_co2e': 1518024.0, 'total_scope_2_emissions_metric_tonnes_co2e': 455838.0, 'comment': None, 'increase/decrease_from_last_year': 'This is our first year of calculation', 'reason_for_increase/decrease_in_emissions': None, 'population': 109694, 'population_year': 2014, 'gdp': 15796000000.0, 'gdp_currency': 'USD     US Dollar', 'gdp_year': 2012.0, 'gdp_source': 'Data represents Gross Regional Product from IMPLAN', 'average_annual_temperature_in_celsius\\u200b': 52.0, '\\u200baverage_altitude_m': 12.0, '\\u200bland_area_in_square_km': 16.2, 'city_location': '(45.601, -93.327333)', 'country_location': '(37.09024, -95.712891)'}, {'_id': ObjectId('65fc951cecc75b1bd8d14e6b'), 'account_number': 36518, 'organization': 'Comune di Udine', 'city': 'Udine', 'country': 'Italy', 'region': 'Europe', 'c40': None, 'access': 'Public', 'reporting_year': 2017, 'accounting_year': '2013-01-01 - 2013-12-31', 'boundary': 'Administrative boundary of a local government', 'protocol': 'Global Protocol for Community-Scale Greenhouse Gas Emissions Inventories (GPC), (WRI, C40 and ICLEI)', 'protocol_column': None, 'gases_included': None, 'total_emissions_metric_tonnes_co2e': nan, 'scopes_included_': 'Total Scope 1, Scope 2 and Waste Scope 3 (Total BASIC emissions)', 'total_scope_1_emissions_metric_tonnes_co2e': 438005.0, 'total_scope_2_emissions_metric_tonnes_co2e': 175583.0, 'comment': None, 'increase/decrease_from_last_year': 'Stayed the same', 'reason_for_increase/decrease_in_emissions': 'respect to the baseline of 2006 the GHG emissions decreased of 4% in 2013', 'population': 99528, 'population_year': 2013, 'gdp': nan, 'gdp_currency': None, 'gdp_year': nan, 'gdp_source': None, 'average_annual_temperature_in_celsius\\u200b': 13.0, '\\u200baverage_altitude_m': 113.0, '\\u200bland_area_in_square_km': 56.0, 'city_location': '(46.0667, 13.2333)', 'country_location': '(41.87194, 12.56738)'}, {'_id': ObjectId('65fc951cecc75b1bd8d14e6c'), 'account_number': 60392, 'organization': 'Municipalidad de San Isidro (Lima)', 'city': 'San Isidro (Lima)', 'country': 'Peru', 'region': 'Latin America', 'c40': None, 'access': 'Public', 'reporting_year': 2017, 'accounting_year': '2015-01-01 - 2015-12-31', 'boundary': 'Other: DISTRITAL', 'protocol': 'Global Protocol for Community-Scale Greenhouse Gas Emissions Inventories (GPC), (WRI, C40 and ICLEI)', 'protocol_column': 'Para la medición de la HC a nivel distrital de San Isidro, se aplica el protocolo internacional GPC Protocol, elaborado por el World Resources Institute (WRI), el C40 Cites Climate Leadership Group e ICLEI - Local Governments for Sustainability.', 'gases_included': None, 'total_emissions_metric_tonnes_co2e': 318191.27, 'scopes_included_': 'Total Scope 1, Scope 2 and Waste Scope 3 (Total BASIC emissions)', 'total_scope_1_emissions_metric_tonnes_co2e': 158673.55, 'total_scope_2_emissions_metric_tonnes_co2e': 215622.45, 'comment': None, 'increase/decrease_from_last_year': 'This is our first year of calculation', 'reason_for_increase/decrease_in_emissions': None, 'population': 54206, 'population_year': 2015, 'gdp': 89771259.0, 'gdp_currency': 'PEN     Nuevo Sol', 'gdp_year': 2017.0, 'gdp_source': 'www.msi.gob.pe', 'average_annual_temperature_in_celsius\\u200b': 18.0, '\\u200baverage_altitude_m': 109.0, '\\u200bland_area_in_square_km': 9.8, 'city_location': '(-12.09772, -77.027336)', 'country_location': '(-9.19, -75.0152)'}, {'_id': ObjectId('65fc951cecc75b1bd8d14e6d'), 'account_number': 31156, 'organization': 'Municipality of Curitiba', 'city': 'Curitiba', 'country': 'Brazil', 'region': 'Latin America', 'c40': 'C40', 'access': 'Public', 'reporting_year': 2017, 'accounting_year': '2013-01-01 - 2013-12-31', 'boundary': 'Administrative boundary of a local government', 'protocol': 'Global Protocol for Community-Scale Greenhouse Gas Emissions Inventories (GPC), (WRI, C40 and ICLEI)', 'protocol_column': 'Developed in partnership with ICLEI/URBAN LEDS Project, with ONU/HABITAT and financed b y União Europeia', 'gases_included': None, 'total_emissions_metric_tonnes_co2e': 4125853.0, 'scopes_included_': 'Total Scope 1, Scope 2 and Waste Scope 3 (Total BASIC emissions)', 'total_scope_1_emissions_metric_tonnes_co2e': 2686488.0, 'total_scope_2_emissions_metric_tonnes_co2e': 349791.0, 'comment': None, 'increase/decrease_from_last_year': 'Increased', 'reason_for_increase/decrease_in_emissions': 'The main difference on the increase of  GEE emissions is on the energy sector not by an increase of consumption but because of an increse on emission factors due to the use o thermoelectric plants. In 2012 the annual national average emission factor was 0,0653 T/CO 2e by MWh produced, while in 2013 the factor increased by 30% to 0,0963 T/CO2e by MWh produced .', 'population': 1751907, 'population_year': 2010, 'gdp': 79400000000.0, 'gdp_currency': 'BRL     Brazilian Real', 'gdp_year': 2013.0, 'gdp_source': 'http://www.agencia.curitiba.pr.gov.br/publico/conteudo.aspx?codigo=39', 'average_annual_temperature_in_celsius\\u200b': 18.0, '\\u200baverage_altitude_m': 935.0, '\\u200bland_area_in_square_km': 434.0, 'city_location': '(-25.431063, -49.264693)', 'country_location': '(-14.235004, -51.92528)'}, {'_id': ObjectId('65fc951cecc75b1bd8d14e6e'), 'account_number': 35995, 'organization': 'City of Brasília', 'city': 'Brasília', 'country': 'Brazil', 'region': 'Latin America', 'c40': None, 'access': 'Public', 'reporting_year': 2017, 'accounting_year': '2005-01-01 - 2012-12-31', 'boundary': 'A metropolitan area', 'protocol': '2006 IPCC Guidelines for National Greenhouse Gas Inventories', 'protocol_column': 'Inventário de Emissões e Remoções Antrópicas de GEE do DF (WayCarbon, 2014)PERÍODO DE REFERÊNCIA• Geral: 2005 a 2012, ano a ano.• Mudança do uso da terra (AFOLU): Transição 1990 / 2005 / 2012ANO DE REFERÊNCIA2012', 'gases_included': 'CO2; PFCs; CH4; SF6; N2O; HFCs', 'total_emissions_metric_tonnes_co2e': 7739830.0, 'scopes_included_': 'Total Scope 1 and Scope 2', 'total_scope_1_emissions_metric_tonnes_co2e': nan, 'total_scope_2_emissions_metric_tonnes_co2e': nan, 'comment': None, 'increase/decrease_from_last_year': 'Increased', 'reason_for_increase/decrease_in_emissions': 'Considerando-se as Emissões de GEE por setor para o DF (emissões totais) no período de 2005-2012, as emissões têm aumentado em todos os setores avaliados. De acordo com a análise, os setores Energia e Resíduos apresentaram variação crescente ao\\nlongo de todos os períodos de análise. Para o setor IPPU, apenas a comparação 2005-2008 apresentou resultados menores do que o período anterior (2005-2007), com nova tendência de aumento nos demais intervalos subsequentes (devido à redução da produção de cimento em 2008 e retomada da produção nos anos seguintes).\\nJá AFOLU apresentou intervalos irregulares de variação positiva e negativa ao longo do período, com valores negativos para os intervalos 2005-2006, 2005-2008, 2005-2009 e 2005-2010. No ano de variação positiva (2005-2007) as categorias mais representativas em emissões no setor AFOLU (Calagem e Emissões da queima de biomassa) também tiveram variação positiva nesse mesmo período.', 'population': 1409671, 'population_year': 2015, 'gdp': 171235.0, 'gdp_currency': 'BRL     Brazilian Real', 'gdp_year': 2012.0, 'gdp_source': 'Produto Interno Bruto do Distrito Federal. CODEPLAN', 'average_annual_temperature_in_celsius\\u200b': 21.0, '\\u200baverage_altitude_m': 1172.0, '\\u200bland_area_in_square_km': 5780.0, 'city_location': '(-15.794229, -47.882166)', 'country_location': '(-14.235004, -51.92528)'}, {'_id': ObjectId('65fc951cecc75b1bd8d14e6f'), 'account_number': 36036, 'organization': 'City of Ibadan', 'city': 'Ibadan', 'country': 'Nigeria', 'region': 'Africa', 'c40': None, 'access': 'Public', 'reporting_year': 2017, 'accounting_year': '2017-05-04 - 2017-05-04', 'boundary': 'A metropolitan area', 'protocol': 'Other', 'protocol_column': 'not yet implemented', 'gases_included': 'CO2; PFCs; CH4; SF6; N2O; NF3; HFCs', 'total_emissions_metric_tonnes_co2e': 10000.0, 'scopes_included_': 'Total Scope 1 and Scope 2', 'total_scope_1_emissions_metric_tonnes_co2e': nan, 'total_scope_2_emissions_metric_tonnes_co2e': nan, 'comment': None, 'increase/decrease_from_last_year': None, 'reason_for_increase/decrease_in_emissions': None, 'population': 5591589, 'population_year': 2011, 'gdp': 16121000000.0, 'gdp_currency': 'USD     US Dollar', 'gdp_year': 2014.0, 'gdp_source': 'WIKIPEDIA FREE ENCYCLOPEDIA', 'average_annual_temperature_in_celsius\\u200b': 31.0, '\\u200baverage_altitude_m': 230.0, '\\u200bland_area_in_square_km': 3080.0, 'city_location': '(7.377535, 3.94704)', 'country_location': '(9.081999, 8.675277)'}, {'_id': ObjectId('65fc951cecc75b1bd8d14e70'), 'account_number': 20113, 'organization': 'City of Vancouver', 'city': 'Vancouver', 'country': 'Canada', 'region': 'North America', 'c40': 'C40', 'access': 'Public', 'reporting_year': 2017, 'accounting_year': '2015-01-01 - 2015-12-31', 'boundary': 'Administrative boundary of a local government', 'protocol': 'Global Protocol for Community-Scale Greenhouse Gas Emissions Inventories (GPC), (WRI, C40 and ICLEI)', 'protocol_column': 'The City has compiled a GPC-compliant inventory for 2015 as a Compact of Mayors signatory.', 'gases_included': None, 'total_emissions_metric_tonnes_co2e': 2499107.0, 'scopes_included_': 'Total Scope 1, Scope 2 and Waste Scope 3 (Total BASIC emissions)', 'total_scope_1_emissions_metric_tonnes_co2e': 2347304.0, 'total_scope_2_emissions_metric_tonnes_co2e': 52123.0, 'comment': None, 'increase/decrease_from_last_year': 'Decreased', 'reason_for_increase/decrease_in_emissions': 'Community LDV emissions have decreased with continued increase in landfill gas capture efficiency. Also a decrease in overall stationary energy use: green building policies and improved energy efficiency contribute to this, but also a warmer winter season in 2015. Transportation Scope 1 emissions increased: fuel sales within region increased. Economic growth is one factor, but also USD-CAD exchange rate. Due to our proximity to US border (where fuel can be considerably less expensive), cross-border fuel-ups are significant. Unfavourable exchange rates correlate to decline in cross-border fuel purchasing behaviour.', 'population': 631486, 'population_year': 2016, 'gdp': 51303000000.0, 'gdp_currency': 'CAD     Canadian Dollar', 'gdp_year': 2016.0, 'gdp_source': 'Conference Board of Canada (forecast); Vancouver Economic Commission', 'average_annual_temperature_in_celsius\\u200b': 11.0, '\\u200baverage_altitude_m': 45.0, '\\u200bland_area_in_square_km': 115.0, 'city_location': '(49.261226, -123.1139268)', 'country_location': '(56.130366, -106.346771)'}, {'_id': ObjectId('65fc951cecc75b1bd8d14e71'), 'account_number': 31165, 'organization': 'Stadt Heidelberg', 'city': 'Heidelberg', 'country': 'Germany', 'region': 'Europe', 'c40': 'C40', 'access': 'Public', 'reporting_year': 2017, 'accounting_year': '2015-01-01 - 2015-12-31', 'boundary': 'Administrative boundary of a local government', 'protocol': 'Other: IFEU', 'protocol_column': 'Institut für Energie- und Umweltforschung Heidelberg GmbH', 'gases_included': 'CO2', 'total_emissions_metric_tonnes_co2e': 806000.0, 'scopes_included_': 'Total Scope 1 and Scope 2', 'total_scope_1_emissions_metric_tonnes_co2e': nan, 'total_scope_2_emissions_metric_tonnes_co2e': nan, 'comment': 'Since many years the IFEU institute developes CO2 balances for municipalities and consults the administrations with its expertise. Ifeu submitted a detailed inventory to the city of Heidelberg, Short comment on C1.3: All climate relevant gases (N2O, CH4 etc.) are included, but converted to CO2-equivalents.', 'increase/decrease_from_last_year': 'Decreased', 'reason_for_increase/decrease_in_emissions': 'Emissions decreased from 1987 until 2009\\nEmissions increased from 2009 until 2011\\nEmissions decreased from 2011 to 2015. \\n\\nThe decrease may be due to big urban development projects (for example zero-emission living for 5.000 inhabitants in Heidelberg-Bahnstadt) and an continously decreasing energy demand for municipal buildings.', 'population': 146333, 'population_year': 2015, 'gdp': 7727035000.0, 'gdp_currency': 'EUR     Euro', 'gdp_year': 2013.0, 'gdp_source': 'http://www.heidelberg.de/hd,Lde/HD/Arbeiten+in+Heidelberg/Wirtschaftsdaten.html#erwerbsttige', 'average_annual_temperature_in_celsius\\u200b': 13.2, '\\u200baverage_altitude_m': 114.0, '\\u200bland_area_in_square_km': 109.0, 'city_location': '(49.398752, 8.672434)', 'country_location': '(51.165691, 10.451526)'}, {'_id': ObjectId('65fc951cecc75b1bd8d14e72'), 'account_number': 36262, 'organization': 'Comune di Genova', 'city': 'Genova', 'country': 'Italy', 'region': 'Europe', 'c40': None, 'access': 'Public', 'reporting_year': 2017, 'accounting_year': '2005-01-01 - 2011-12-31', 'boundary': 'Administrative boundary of a local government', 'protocol': 'Other', 'protocol_column': 'The data that have been monitored by MEI 2011 and reported on SEAP', 'gases_included': 'CO2', 'total_emissions_metric_tonnes_co2e': 1810370.0, 'scopes_included_': 'Total Scope 1 and Scope 2', 'total_scope_1_emissions_metric_tonnes_co2e': nan, 'total_scope_2_emissions_metric_tonnes_co2e': nan, 'comment': None, 'increase/decrease_from_last_year': 'Other:', 'reason_for_increase/decrease_in_emissions': 'Is not possible a comparison because the categories are quantified differently', 'population': 583601, 'population_year': 2016, 'gdp': 25977591566.0, 'gdp_currency': 'EUR     Euro', 'gdp_year': 2015.0, 'gdp_source': 'www.ilsole24h.com', 'average_annual_temperature_in_celsius\\u200b': 15.0, '\\u200baverage_altitude_m': 19.0, '\\u200bland_area_in_square_km': 240.0, 'city_location': '(44.347961, 9.318415)', 'country_location': '(41.87194, 12.56738)'}, {'_id': ObjectId('65fc951cecc75b1bd8d14e73'), 'account_number': 31114, 'organization': 'City of Sydney', 'city': 'Sydney', 'country': 'Australia', 'region': 'South Asia and Oceania', 'c40': 'C40', 'access': 'Public', 'reporting_year': 2017, 'accounting_year': '2015-07-01 - 2016-06-30', 'boundary': 'Administrative boundary of a local government', 'protocol': 'Global Protocol for Community-Scale Greenhouse Gas Emissions Inventories (GPC), (WRI, C40 and ICLEI)', 'protocol_column': 'For the previous CDP C40 Report (2014/15), the City produced its community inventory using GPC BASIC methodology. The community inventory for 2015/16 is based on GPC BASIC+ S3 methodology, hence there is an increase in greenhouse gas emissions as compared to last year. As part of its continous improvement process the City of Sydney endeavours to improve its community inventory and include more data sets when available, on an ongoing basis.', 'gases_included': None, 'total_emissions_metric_tonnes_co2e': 3783982.0, 'scopes_included_': 'Total Scope 1, Scope 2 and Waste Scope 3 (Total BASIC emissions)', 'total_scope_1_emissions_metric_tonnes_co2e': 322689.0, 'total_scope_2_emissions_metric_tonnes_co2e': 3070197.0, 'comment': None, 'increase/decrease_from_last_year': 'Decreased', 'reason_for_increase/decrease_in_emissions': 'City of Sydney emissions have decreased due to cleaning of the grid, increased network costs leading to greater awareness and behaviour change (indicating there is some price elasticity in electricity consumption), improved energy efficiency, uptake of solar PV installations and weather influences.', 'population': 210931, 'population_year': 2016, 'gdp': 118000000000.0, 'gdp_currency': 'AUD     Australian Dollar', 'gdp_year': 2016.0, 'gdp_source': 'City Strategic Research Unit', 'average_annual_temperature_in_celsius\\u200b': 20.0, '\\u200baverage_altitude_m': 39.0, '\\u200bland_area_in_square_km': 26.0, 'city_location': '(-33.8674869, 151.2069902)', 'country_location': '(-25.274398, 133.775136)'}, {'_id': ObjectId('65fc951cecc75b1bd8d14e74'), 'account_number': 59633, 'organization': 'City of Santa Cruz, CA', 'city': 'Santa Cruz, CA', 'country': 'USA', 'region': 'North America', 'c40': None, 'access': 'Public', 'reporting_year': 2017, 'accounting_year': '2015-01-01 - 2015-12-31', 'boundary': 'Administrative boundary of a local government', 'protocol': 'Global Protocol for Community-Scale Greenhouse Gas Emissions Inventories (GPC), (WRI, C40 and ICLEI)', 'protocol_column': None, 'gases_included': None, 'total_emissions_metric_tonnes_co2e': nan, 'scopes_included_': 'Total Scope 1, Scope 2 and Waste Scope 3 (Total BASIC emissions)', 'total_scope_1_emissions_metric_tonnes_co2e': 63994.0, 'total_scope_2_emissions_metric_tonnes_co2e': 48080.0, 'comment': None, 'increase/decrease_from_last_year': 'Decreased', 'reason_for_increase/decrease_in_emissions': 'cleaner energy and fuel economies; energy efficiency and renewable energy adoption', 'population': 64220, 'population_year': 2015, 'gdp': 11908000000.0, 'gdp_currency': 'USD     US Dollar', 'gdp_year': 2015.0, 'gdp_source': 'US Bureau of Economic Analysis', 'average_annual_temperature_in_celsius\\u200b': 14.9, '\\u200baverage_altitude_m': 11.0, '\\u200bland_area_in_square_km': 41.0, 'city_location': '(36.974117, -122.030796)', 'country_location': '(37.09024, -95.712891)'}, {'_id': ObjectId('65fc951cecc75b1bd8d14e75'), 'account_number': 50559, 'organization': 'City of St Catharines, ON', 'city': 'St Catharines, ON', 'country': 'Canada', 'region': 'North America', 'c40': None, 'access': 'Public', 'reporting_year': 2017, 'accounting_year': '2014-01-01 - 2014-12-31', 'boundary': 'Administrative boundary of a local government', 'protocol': 'Global Protocol for Community-Scale Greenhouse Gas Emissions Inventories (GPC), (WRI, C40 and ICLEI)', 'protocol_column': 'The fuel sales data for St. Catharines was retrieved from local utility suppliers and Provincial suppliers. This data was supplemented by Provincial and National data that was scaled down to the local level using St. Catharines population size. The city-induced activity and fuel sales approach were the two methodologies used for determining the level of activity within city boundaries. The methodology used correspondes to each activity as follows:                                                                                                      City-Induced method - On-road and corporate transportation, railway, off-road transportation, fugitive oil and natural gas and propane                                      Fuel sales approach - waterborne navigation, electricity, community and corporate natural gas', 'gases_included': None, 'total_emissions_metric_tonnes_co2e': 954541.0, 'scopes_included_': 'Total Scope 1, Scope 2 and Waste Scope 3 (Total BASIC emissions)', 'total_scope_1_emissions_metric_tonnes_co2e': 913052.0, 'total_scope_2_emissions_metric_tonnes_co2e': 41488.0, 'comment': None, 'increase/decrease_from_last_year': 'This is our first year of calculation', 'reason_for_increase/decrease_in_emissions': None, 'population': 131400, 'population_year': 2014, 'gdp': 5562586779.0, 'gdp_currency': 'USD     US Dollar', 'gdp_year': 2015.0, 'gdp_source': 'Gross Domestic Product - Statistics Canada', 'average_annual_temperature_in_celsius\\u200b': 9.0, '\\u200baverage_altitude_m': 102.0, '\\u200bland_area_in_square_km': 98.0, 'city_location': '(43.1594, -79.2469)', 'country_location': '(56.130366, -106.346771)'}, {'_id': ObjectId('65fc951cecc75b1bd8d14e76'), 'account_number': 59160, 'organization': 'Ville de Nyon', 'city': 'Nyon', 'country': 'Switzerland', 'region': 'Europe', 'c40': None, 'access': 'Public', 'reporting_year': 2017, 'accounting_year': '2015-01-01 - 2015-12-31', 'boundary': 'Administrative boundary of a local government', 'protocol': 'Global Protocol for Community-Scale Greenhouse Gas Emissions Inventories (GPC), (WRI, C40 and ICLEI)', 'protocol_column': None, 'gases_included': None, 'total_emissions_metric_tonnes_co2e': 103807.0, 'scopes_included_': 'Total Scope 1, Scope 2 and Waste Scope 3 (Total BASIC emissions)', 'total_scope_1_emissions_metric_tonnes_co2e': 91450.0, 'total_scope_2_emissions_metric_tonnes_co2e': 12287.0, 'comment': None, 'increase/decrease_from_last_year': 'This is our first year of calculation', 'reason_for_increase/decrease_in_emissions': None, 'population': 20675, 'population_year': 2016, 'gdp': 1922000000.0, 'gdp_currency': 'CHF     Swiss Franc', 'gdp_year': 2015.0, 'gdp_source': 'Based on our own calculation. Estimation made on the basis of the real GDP of Canton Waadt (federated state), itself based on the Swiss real GDP', 'average_annual_temperature_in_celsius\\u200b': nan, '\\u200baverage_altitude_m': 425.0, '\\u200bland_area_in_square_km': 6.8, 'city_location': '(46.383268, 6.234785)', 'country_location': '(46.818188, 8.227512)'}, {'_id': ObjectId('65fc951cecc75b1bd8d14e77'), 'account_number': 43905, 'organization': 'City of San Antonio', 'city': 'San Antonio', 'country': 'USA', 'region': 'North America', 'c40': None, 'access': 'Public', 'reporting_year': 2017, 'accounting_year': '2013-10-01 - 2014-09-30', 'boundary': 'Administrative boundary of a local government', 'protocol': 'U.S. Community Protocol for Accounting and Reporting of Greenhouse Gas Emissions (ICLEI)', 'protocol_column': 'GPC Protocols for community sector and Solid Waste.', 'gases_included': 'CO2; CH4; SF6; N2O', 'total_emissions_metric_tonnes_co2e': 16498864.0, 'scopes_included_': 'Total Scope 1 and Scope 2', 'total_scope_1_emissions_metric_tonnes_co2e': 9801806.0, 'total_scope_2_emissions_metric_tonnes_co2e': 6627058.0, 'comment': 'Data has not been audited by a 3rd party.', 'increase/decrease_from_last_year': 'This is our first year of calculation', 'reason_for_increase/decrease_in_emissions': None, 'population': 1469845, 'population_year': 2015, 'gdp': 93198982910.0, 'gdp_currency': 'USD     US Dollar', 'gdp_year': 2012.0, 'gdp_source': None, 'average_annual_temperature_in_celsius\\u200b': 27.0, '\\u200baverage_altitude_m': 787.0, '\\u200bland_area_in_square_km': 465.0, 'city_location': '(29.4241, -98.4936)', 'country_location': '(37.09024, -95.712891)'}, {'_id': ObjectId('65fc951cecc75b1bd8d14e78'), 'account_number': 58485, 'organization': 'Abington Township', 'city': 'Abington ', 'country': 'USA', 'region': 'North America', 'c40': None, 'access': 'Public', 'reporting_year': 2017, 'accounting_year': '2010-01-01 - 2010-12-31', 'boundary': 'Other: Municipal boundary', 'protocol': 'Other: Delaware Valley Regional Planning Commission', 'protocol_column': 'The Delaware Valley Regional Planning Commission (DVRPC) is the designated Metropolitan Planning Organization (MPO) for the Greater Philadelphia Region. DVRPC works to promote regional cooperationin a 9-county, bi-state region. The region includes Bucks, Chester, Delaware, Montgomery (the county where Abington Township is located and the third largest Pennsylvania county), andPhiladelphia counties in Pennsylvania; and Burlington, Camden, Gloucester, and Mercer counties in New Jersey. DVRPC facilitates city, county and state representatives of this region to address key concernssuch as transportation, land use, environmental protection and economic development. DVRPC conducts a regional Energy Use and Greenhouse Gas Emissions Inventory on a 5-year interval, with the most recent inventory reflecting year 2010 conditions as summarized below:1. DVRPC conducted a baseline inventory in 2005 which may be found at http://www.dvrpc.org/reports/09038A.pdf (Abington\\'s results may be found on line 1 of page 66 or A-13 of this document under the Table \"Montgomery County, PA – 2005 Greenhouse Gas Emissions Allocated to Municipality (MTCO2E)\"; 2. A 2010 inventory for which Abington Townships results may be found at http://www.dvrpc.org/webmaps/MunicipalEnergy/mcdDetail.aspx?mcdcode=4209100156 under \"GHG Emissions by Sector\" which is further broken down at the end under \"Non-Energy Greenhouse Gas Emissions.\"  The 2010 results are what is being reported for this questionnaire.', 'gases_included': 'CO2; PFCs; CH4; SF6; N2O; HFCs', 'total_emissions_metric_tonnes_co2e': 615224.0, 'scopes_included_': 'Total Scope 1 and Scope 2', 'total_scope_1_emissions_metric_tonnes_co2e': 193345.0, 'total_scope_2_emissions_metric_tonnes_co2e': 421879.0, 'comment': \"Although not a registered protocol, the DVRPC GHG Inventory is a thorough tool and was accepted during Abington's Township's STAR Communities™ verification for a Greenhouse Gas Emissions Inventory.\", 'increase/decrease_from_last_year': 'Decreased', 'reason_for_increase/decrease_in_emissions': 'Energy efficiency by residents, businesses, industries, municipal government, and institutions such as hospitals and four public schools with geothermal HVAC, and a cleaner electricity generation mix contributed to this decrease.', 'population': 55310, 'population_year': 2010, 'gdp': nan, 'gdp_currency': None, 'gdp_year': nan, 'gdp_source': None, 'average_annual_temperature_in_celsius\\u200b': 13.6, '\\u200baverage_altitude_m': 86.0, '\\u200bland_area_in_square_km': 40.1, 'city_location': '(40.12408, -75.119511)', 'country_location': '(37.09024, -95.712891)'}, {'_id': ObjectId('65fc951cecc75b1bd8d14e79'), 'account_number': 35268, 'organization': 'City of Boston', 'city': 'Boston', 'country': 'USA', 'region': 'North America', 'c40': 'C40', 'access': 'Public', 'reporting_year': 2017, 'accounting_year': '2015-01-01 - 2015-12-31', 'boundary': 'Administrative boundary of a local government', 'protocol': 'Global Protocol for Community-Scale Greenhouse Gas Emissions Inventories (GPC), (WRI, C40 and ICLEI)', 'protocol_column': 'For its inventory, the City of Boston relies on a mix of actual measurements and modeled calculations. Actual measurements are available for electricity, natural gas, and steam (obtained directly from energy utilities), and all sources related to mass transit, the airport, and water and sewer (obtained from the regional authorities). Regional transportation models are used to calculate vehicle-miles-traveled in Boston, which are then split into diesel and gasoline based on the State diesel and gas consumption split. Then each fuel type is divided into the average fleet mix categories (ICLEI 2009) and the EPA emissions factor for each vehicle type are applied to calculate the GHG. A 10% ethanol content for gasoline is also accounted for.  Fuel oil consumption is estimated based on sampling, U.S. Census data, and some state consumption figures.', 'gases_included': None, 'total_emissions_metric_tonnes_co2e': 6462495.0, 'scopes_included_': 'Total Scope 1, Scope 2 and Waste Scope 3 (Total BASIC emissions)', 'total_scope_1_emissions_metric_tonnes_co2e': 4071657.0, 'total_scope_2_emissions_metric_tonnes_co2e': 2463589.0, 'comment': None, 'increase/decrease_from_last_year': 'Increased', 'reason_for_increase/decrease_in_emissions': 'GHGs increased by about 84,000 metric tonnes, or 1.3%. There were increases in both electricity and natural gas usage, which could be because of an extremely snowy and cold winter. Another factor is that the electricity emissions factor increased, by about 2%, with the closing of a major nuclear plant in Vermont and increased natural gas fired generation. The was a population increase of about 2% as well.', 'population': 669469, 'population_year': 2015, 'gdp': 109500000000.0, 'gdp_currency': 'USD     US Dollar', 'gdp_year': 2015.0, 'gdp_source': 'Boston Planning and Development Agency analysis using data from the Bureau of Economic Analysis and the National Bureau of Economic Research', 'average_annual_temperature_in_celsius\\u200b': 10.0, '\\u200baverage_altitude_m': 2.0, '\\u200bland_area_in_square_km': 124.0, 'city_location': '(42.3584308, -71.0597732)', 'country_location': '(37.09024, -95.712891)'}, {'_id': ObjectId('65fc951cecc75b1bd8d14e7a'), 'account_number': 55801, 'organization': 'City of West Palm Beach', 'city': 'West Palm Beach', 'country': 'USA', 'region': 'North America', 'c40': None, 'access': 'Public', 'reporting_year': 2017, 'accounting_year': '2013-01-01 - 2013-12-31', 'boundary': 'Administrative boundary of a local government', 'protocol': 'Global Protocol for Community-Scale Greenhouse Gas Emissions Inventories (GPC), (WRI, C40 and ICLEI)', 'protocol_column': None, 'gases_included': None, 'total_emissions_metric_tonnes_co2e': 1484767.0, 'scopes_included_': 'Total Scope 1, Scope 2 and Waste Scope 3 (Total BASIC emissions)', 'total_scope_1_emissions_metric_tonnes_co2e': nan, 'total_scope_2_emissions_metric_tonnes_co2e': 789568.0, 'comment': None, 'increase/decrease_from_last_year': 'Other:', 'reason_for_increase/decrease_in_emissions': 'The reported emissions have decreased since 2008 but this is largely due to changes and improvements in methodology.', 'population': 106779, 'population_year': 2016, 'gdp': 4855510958.0, 'gdp_currency': 'USD     US Dollar', 'gdp_year': 2017.0, 'gdp_source': 'https://www.bea.gov/newsreleases/regional/gdp_metro/2014/pdf/gdp_metro0914.pdf', 'average_annual_temperature_in_celsius\\u200b': 24.1, '\\u200baverage_altitude_m': nan, '\\u200bland_area_in_square_km': 58.2, 'city_location': '(26.715342, -80.053375)', 'country_location': '(37.09024, -95.712891)'}, {'_id': ObjectId('65fc951cecc75b1bd8d14e7b'), 'account_number': 60680, 'organization': 'Ville de Salaberry-de-Valleyfield', 'city': 'Salaberry-de-Valleyfield', 'country': 'Canada', 'region': 'North America', 'c40': None, 'access': 'Public', 'reporting_year': 2017, 'accounting_year': '2016-01-01 - 2016-12-31', 'boundary': 'Administrative boundary of a local government', 'protocol': 'Global Protocol for Community-Scale Greenhouse Gas Emissions Inventories (GPC), (WRI, C40 and ICLEI)', 'protocol_column': None, 'gases_included': None, 'total_emissions_metric_tonnes_co2e': 435594.0, 'scopes_included_': 'Total Scope 1, Scope 2 and Waste Scope 3 (Total BASIC emissions)', 'total_scope_1_emissions_metric_tonnes_co2e': 423244.0, 'total_scope_2_emissions_metric_tonnes_co2e': 3003.0, 'comment': None, 'increase/decrease_from_last_year': 'Other: New inventory with new sources', 'reason_for_increase/decrease_in_emissions': None, 'population': 40905, 'population_year': 2017, 'gdp': nan, 'gdp_currency': 'CAD     Canadian Dollar', 'gdp_year': nan, 'gdp_source': None, 'average_annual_temperature_in_celsius\\u200b': 6.3, '\\u200baverage_altitude_m': 48.0, '\\u200bland_area_in_square_km': 125.5, 'city_location': '(45.250091, -74.133086)', 'country_location': '(56.130366, -106.346771)'}, {'_id': ObjectId('65fc951cecc75b1bd8d14e7c'), 'account_number': 54408, 'organization': 'Aarhus Kommune', 'city': 'Aarhus', 'country': 'Denmark', 'region': 'Europe', 'c40': None, 'access': 'Public', 'reporting_year': 2017, 'accounting_year': '2008-01-01 - 2016-01-01', 'boundary': 'Administrative boundary of a local government', 'protocol': 'Other', 'protocol_column': None, 'gases_included': 'CO2', 'total_emissions_metric_tonnes_co2e': 1600000.0, 'scopes_included_': 'Total Scope 1 and Scope 2', 'total_scope_1_emissions_metric_tonnes_co2e': nan, 'total_scope_2_emissions_metric_tonnes_co2e': nan, 'comment': None, 'increase/decrease_from_last_year': 'Decreased', 'reason_for_increase/decrease_in_emissions': 'Increasing share of renewable electricity at national level and continued energy savings', 'population': 336000, 'population_year': 2017, 'gdp': nan, 'gdp_currency': None, 'gdp_year': nan, 'gdp_source': None, 'average_annual_temperature_in_celsius\\u200b': nan, '\\u200baverage_altitude_m': nan, '\\u200bland_area_in_square_km': 468.0, 'city_location': '(56.168393, 10.137373)', 'country_location': '(56.26392, 9.501785)'}, {'_id': ObjectId('65fc951cecc75b1bd8d14e7d'), 'account_number': 55799, 'organization': 'City of Arlington, VA', 'city': 'Arlington, VA', 'country': 'USA', 'region': 'North America', 'c40': None, 'access': 'Public', 'reporting_year': 2017, 'accounting_year': '2012-01-01 - 2012-12-31', 'boundary': 'Administrative boundary of a local government', 'protocol': 'Global Protocol for Community-Scale Greenhouse Gas Emissions Inventories (GPC), (WRI, C40 and ICLEI)', 'protocol_column': 'Arlington updated a previously completed inventory for calendar year 2012 to meeting GPC standards. A new community inventory will be completed for 2016 later in 2017.', 'gases_included': None, 'total_emissions_metric_tonnes_co2e': 2550886.0, 'scopes_included_': 'Total Scope 1, Scope 2 and Waste Scope 3 (Total BASIC emissions)', 'total_scope_1_emissions_metric_tonnes_co2e': 1239302.0, 'total_scope_2_emissions_metric_tonnes_co2e': 1273559.0, 'comment': None, 'increase/decrease_from_last_year': 'Other: new method', 'reason_for_increase/decrease_in_emissions': 'This is our first year of calculation using the GPC method. A comparison will be available later in 2017 when a 2016 inventory is completed.', 'population': 220400, 'population_year': 2016, 'gdp': 18871919000.0, 'gdp_currency': 'USD     US Dollar', 'gdp_year': 2014.0, 'gdp_source': 'US Dept of Commerce Bureau of Economic Analysis', 'average_annual_temperature_in_celsius\\u200b': 14.5, '\\u200baverage_altitude_m': 83.0, '\\u200bland_area_in_square_km': 67.0, 'city_location': '(37.226486, -76.002594)', 'country_location': '(37.09024, -95.712891)'}, {'_id': ObjectId('65fc951cecc75b1bd8d14e7e'), 'account_number': 62864, 'organization': 'City of Lancaster, PA', 'city': 'Lancaster, PA', 'country': 'USA', 'region': 'North America', 'c40': None, 'access': 'Public', 'reporting_year': 2017, 'accounting_year': '2016-01-01 - 2016-12-31', 'boundary': 'Administrative boundary of a local government', 'protocol': 'International Emissions Analysis Protocol (ICLEI)', 'protocol_column': None, 'gases_included': 'CO2; CH4; N2O', 'total_emissions_metric_tonnes_co2e': 364181.0, 'scopes_included_': 'Total Scope 1 and Scope 2', 'total_scope_1_emissions_metric_tonnes_co2e': 364183.0, 'total_scope_2_emissions_metric_tonnes_co2e': 214442.0, 'comment': 'This inventory is only about 75% complete, and the data that is included needs to be vetted still. The transportation data is especially lacking and major stationary sources (other than natural gas) have not been included yet.', 'increase/decrease_from_last_year': 'Other:', 'reason_for_increase/decrease_in_emissions': 'All GHG calculations are form 2015 data except the transportation emissions, which are 2014. We are still using 2015 data for this reporting.', 'population': 60000, 'population_year': 2016, 'gdp': nan, 'gdp_currency': None, 'gdp_year': nan, 'gdp_source': None, 'average_annual_temperature_in_celsius\\u200b': 11.5, '\\u200baverage_altitude_m': 112.0, '\\u200bland_area_in_square_km': 7.3, 'city_location': '(40.037875, -76.305514)', 'country_location': '(37.09024, -95.712891)'}, {'_id': ObjectId('65fc951cecc75b1bd8d14e7f'), 'account_number': 43910, 'organization': 'City of Columbus', 'city': 'Columbus', 'country': 'USA', 'region': 'North America', 'c40': None, 'access': 'Public', 'reporting_year': 2017, 'accounting_year': '2016-01-01 - 2016-12-31', 'boundary': 'Administrative boundary of a local government', 'protocol': 'Global Protocol for Community-Scale Greenhouse Gas Emissions Inventories (GPC), (WRI, C40 and ICLEI)', 'protocol_column': 'Basic Reporting.', 'gases_included': None, 'total_emissions_metric_tonnes_co2e': nan, 'scopes_included_': 'Total Scope 1, Scope 2 and Waste Scope 3 (Total BASIC emissions)', 'total_scope_1_emissions_metric_tonnes_co2e': 5509422.0, 'total_scope_2_emissions_metric_tonnes_co2e': 5592455.0, 'comment': None, 'increase/decrease_from_last_year': 'Decreased', 'reason_for_increase/decrease_in_emissions': 'Greenhouse gas emissions have again increased since our baseline emission inventory of 2013, but decreased since the 2014 inventory.', 'population': 850106, 'population_year': 2016, 'gdp': 108089000000.0, 'gdp_currency': 'USD     US Dollar', 'gdp_year': 2014.0, 'gdp_source': 'https://development.ohio.gov/files/research/E1001.pdf', 'average_annual_temperature_in_celsius\\u200b': 11.6, '\\u200baverage_altitude_m': 275.0, '\\u200bland_area_in_square_km': 563.0, 'city_location': '(39.9611755, -82.9987942)', 'country_location': '(37.09024, -95.712891)'}, {'_id': ObjectId('65fc951cecc75b1bd8d14e80'), 'account_number': 59631, 'organization': 'City of San Leandro, CA', 'city': 'San Leandro, CA', 'country': 'USA', 'region': 'North America', 'c40': None, 'access': 'Public', 'reporting_year': 2017, 'accounting_year': '2015-01-01 - 2015-12-31', 'boundary': 'Administrative boundary of a local government', 'protocol': 'Global Protocol for Community-Scale Greenhouse Gas Emissions Inventories (GPC), (WRI, C40 and ICLEI)', 'protocol_column': \"Used ClearPath to report all data. Community-scale emissions were received from local agencies. Energy data is from local energy provider PG&E.On-road transportation comes from models by MTC (Metropolitan Transit Organization for the Bay). BART emissions come from ridership surveys. Boats and marine transit data comes from the harbormaster. Wastewater data comes from two sources: San Leandro's own wastewater treatment plant and Oro Loma Sanitary District's wastewater treatment plant. Solid Waste data is based on City of San Leandro Sanitary District (Alameda County Industries) and Oro Loma Sanitary District (Waste Management) reports on waste disposal and CalRecycle.\", 'gases_included': None, 'total_emissions_metric_tonnes_co2e': 633905.0, 'scopes_included_': 'Total Scope 1, Scope 2 and Waste Scope 3 (Total BASIC emissions)', 'total_scope_1_emissions_metric_tonnes_co2e': 511195.0, 'total_scope_2_emissions_metric_tonnes_co2e': 102335.0, 'comment': None, 'increase/decrease_from_last_year': 'Decreased', 'reason_for_increase/decrease_in_emissions': 'Our emissions have decreased from the 2005 baseline of 675,800 metric tons of co2e. \\n\\nWhile emissions from transit have increased as the municipal and regional population has increased dramatically, other sectors have decreased significantly. \\n\\nResidential energy use has decreased by 15,000 metric tons of co2e in large part due to shifts in energy sourcing from PG&E. \\n\\nCountywide efforts to decrease land-filled waste have helped cut co2e from waste more than in half (from about 47,000 tons CO2e to only 20,105) with further reductions planned for the future. \\n\\nCommercial energy, which also shows a drop, is anomalous.  While the shift in PG&E sourcing has undoubtedly reduced the amount of GHG emissions, the so-called 15/15 Rule prohibits us from seeing exact industrial natural gas emissions. Instead we modeled usage based on historical data which may or not may reflect current usage due to current economic growth in comparison to the years used (2009-2013) when the economy was recovering for the recession.', 'population': 88441, 'population_year': 2015, 'gdp': 5980612000.0, 'gdp_currency': 'USD     US Dollar', 'gdp_year': 2012.0, 'gdp_source': 'Bureau of Economic Analysis, US Department of Commerce (estimated from GDP/capital statistic for SF metropolitan area)', 'average_annual_temperature_in_celsius\\u200b': 15.0, '\\u200baverage_altitude_m': 15.0, '\\u200bland_area_in_square_km': 40.0, 'city_location': '(37.72493, -122.156077)', 'country_location': '(37.09024, -95.712891)'}, {'_id': ObjectId('65fc951cecc75b1bd8d14e81'), 'account_number': 42178, 'organization': 'Distrito Metropolitano de Quito', 'city': 'Quito', 'country': 'Ecuador', 'region': 'Latin America', 'c40': 'C40', 'access': 'Public', 'reporting_year': 2017, 'accounting_year': '2015-01-01 - 2015-12-31', 'boundary': 'A metropolitan area', 'protocol': 'Global Protocol for Community-Scale Greenhouse Gas Emissions Inventories (GPC), (WRI, C40 and ICLEI)', 'protocol_column': None, 'gases_included': None, 'total_emissions_metric_tonnes_co2e': 5759189.0, 'scopes_included_': 'Total Scope 1, Scope 2 and Waste Scope 3 (Total BASIC emissions)', 'total_scope_1_emissions_metric_tonnes_co2e': 5036124.0, 'total_scope_2_emissions_metric_tonnes_co2e': 1022269.0, 'comment': None, 'increase/decrease_from_last_year': 'Increased', 'reason_for_increase/decrease_in_emissions': 'The GHGs emissions in 2015, have increased  10% in comparison to the 2011 GHGs emissions inventory. Nonetheless the increase is less to what it was projected.', 'population': 2239191, 'population_year': 2010, 'gdp': 22997319000.0, 'gdp_currency': 'USD     US Dollar', 'gdp_year': 2014.0, 'gdp_source': 'Ecuador Central Bank', 'average_annual_temperature_in_celsius\\u200b': 22.0, '\\u200baverage_altitude_m': 2815.0, '\\u200bland_area_in_square_km': 4232.0, 'city_location': '(-0.2333, -78.5167)', 'country_location': '(-1.831239, -78.183406)'}, {'_id': ObjectId('65fc951cecc75b1bd8d14e82'), 'account_number': 53921, 'organization': 'City of Tempe, AZ', 'city': 'Tempe, AZ', 'country': 'USA', 'region': 'North America', 'c40': None, 'access': 'Public', 'reporting_year': 2017, 'accounting_year': '2015-01-01 - 2016-01-01', 'boundary': 'Administrative boundary of a local government', 'protocol': 'Global Protocol for Community-Scale Greenhouse Gas Emissions Inventories (GPC), (WRI, C40 and ICLEI)', 'protocol_column': None, 'gases_included': None, 'total_emissions_metric_tonnes_co2e': 3187650.72, 'scopes_included_': 'Total Scope 1, Scope 2 and Waste Scope 3 (Total BASIC emissions)', 'total_scope_1_emissions_metric_tonnes_co2e': 1285662.84, 'total_scope_2_emissions_metric_tonnes_co2e': 1144463.69, 'comment': None, 'increase/decrease_from_last_year': 'This is our first year of calculation', 'reason_for_increase/decrease_in_emissions': None, 'population': 175826, 'population_year': 2015, 'gdp': 198000000000.0, 'gdp_currency': 'USD     US Dollar', 'gdp_year': 2014.0, 'gdp_source': '* For Metro Phoenix. US Bureau of Economic Analysis', 'average_annual_temperature_in_celsius\\u200b': 21.8, '\\u200baverage_altitude_m': 335.0, '\\u200bland_area_in_square_km': 39.5, 'city_location': '(33.42551, -111.940005)', 'country_location': '(37.09024, -95.712891)'}, {'_id': ObjectId('65fc951cecc75b1bd8d14e83'), 'account_number': 36263, 'organization': 'Comune di Ravenna', 'city': 'Ravenna', 'country': 'Italy', 'region': 'Europe', 'c40': None, 'access': 'Public', 'reporting_year': 2017, 'accounting_year': '2016-01-01 - 2016-09-30', 'boundary': 'Administrative boundary of a local government', 'protocol': '2006 IPCC Guidelines for National Greenhouse Gas Inventories', 'protocol_column': 'The Emission Inventory (MEI)  is updated within the Sustainable Energy Action Plan. It is based on the methodology and toolkit developed by ARPA ER (Environmental Protection Agency of Emilia-Romagna Region) within the instrument IPSI (Inventory of greenhouse gas emissions for the Covenant of Mayors - Italian version). The methodology was improved and adapted by a specific working group “Climate Plan”  at regional level including the main cities and Provinces. The background knowledge is based on the Regional Greenhouse Gas Emissions Inventory realized by the Region with the support of ARPA ER, following standard estimation methodologies, internationally recognized (IPCC, CORINAIR). The MEI includes: direct emissions of the Municipality considered as an organization with its own consumptions; indirect emissions, generated by activities within the Municipal area estimated by ARPA ER as a breakdown of the regional inventory. According to the European and Regional methodology, activities within ETS (Emissions Trade System) are not taken into account.', 'gases_included': 'CO2', 'total_emissions_metric_tonnes_co2e': 9326.0, 'scopes_included_': 'Total Scope 1 and Scope 2', 'total_scope_1_emissions_metric_tonnes_co2e': 9242.0, 'total_scope_2_emissions_metric_tonnes_co2e': 84.0, 'comment': None, 'increase/decrease_from_last_year': 'Decreased', 'reason_for_increase/decrease_in_emissions': 'According to the Convenant of Mayors a series of actions have been implemented and are still on going in order to reach the goal of a reduction of CO2 emissions by at least 20% by 2020.', 'population': 391414, 'population_year': 2016, 'gdp': nan, 'gdp_currency': None, 'gdp_year': nan, 'gdp_source': None, 'average_annual_temperature_in_celsius\\u200b': 14.1, '\\u200baverage_altitude_m': 4.0, '\\u200bland_area_in_square_km': 683.0, 'city_location': '(41.913028, 12.518037)', 'country_location': '(41.87194, 12.56738)'}, {'_id': ObjectId('65fc951cecc75b1bd8d14e84'), 'account_number': 59545, 'organization': 'City of Charlottesville, VA', 'city': 'Charlottesville, VA', 'country': 'USA', 'region': 'North America', 'c40': None, 'access': 'Public', 'reporting_year': 2017, 'accounting_year': '2011-01-01 - 2011-12-31', 'boundary': 'Administrative boundary of a local government', 'protocol': 'U.S. Community Protocol for Accounting and Reporting of Greenhouse Gas Emissions (ICLEI)', 'protocol_column': '2012 Charlottesville Emissions Report Update (An update of the 2000 Baseline Report with energy and GHG emissions data and analysis for the years 2009 and 2011)', 'gases_included': 'CO2; CH4; N2O', 'total_emissions_metric_tonnes_co2e': 720870.0, 'scopes_included_': 'Total Scope 1 and Scope 2', 'total_scope_1_emissions_metric_tonnes_co2e': 720870.0, 'total_scope_2_emissions_metric_tonnes_co2e': nan, 'comment': \"Electricity and Natural Gas consumption are measured values however transportation figures are based on Virginia DOT's Vehicle Miles Traveled studies and estimates which may not be entirely accurate.\", 'increase/decrease_from_last_year': 'Increased', 'reason_for_increase/decrease_in_emissions': 'There has been a 7% increase in community-wide emissions between 2000 (baseline) and 2011 (latest inventory year).  The largest increase was in the commercial/institutional sector (a reflection of significant expansion by the University of Virginia during that period), followed by the residential section (a reflection of population growth).', 'population': 48210, 'population_year': 2010, 'gdp': nan, 'gdp_currency': 'USD     US Dollar', 'gdp_year': nan, 'gdp_source': 'This data is not available for the City alone.  the 2014 GDP for the Charlottesville MSA is 11,734,000,000 (U.S. Bureau of Economic Analysis)', 'average_annual_temperature_in_celsius\\u200b': 13.9, '\\u200baverage_altitude_m': 181.0, '\\u200bland_area_in_square_km': 26.9, 'city_location': '(38.0293, -78.4767)', 'country_location': '(37.09024, -95.712891)'}, {'_id': ObjectId('65fc951cecc75b1bd8d14e85'), 'account_number': 1093, 'organization': 'City of Atlanta', 'city': 'Atlanta', 'country': 'USA', 'region': 'North America', 'c40': None, 'access': 'Public', 'reporting_year': 2017, 'accounting_year': '2015-01-01 - 2015-12-31', 'boundary': 'Administrative boundary of a local government', 'protocol': 'Global Protocol for Community-Scale Greenhouse Gas Emissions Inventories (GPC), (WRI, C40 and ICLEI)', 'protocol_column': 'The Atlanta Mayor’s Office of Sustainability uses the Global Protocol for Community-Scale Greenhouse Gas Emission Inventories (GPC) as the framework for its annual citywide greenhouse gas (GHG) reports, which is consistent with international standards. The GPC level selected for the 2013 reports was BASIC. This level will serve as a baseline for more comprehensive reports in the future. This report included emissions from electricity and natural gas consumption, vehicles, city-owned landfills, municipal solid waste (MSW) generated inside the city but sent to landfills outside city limits, and emissions from wastewater treatment plants (WWTP), the Metropolitan Atlanta Rapid Transit Authority (MARTA), and the Hartsfield-Jackson Atlanta International Airport (excluding aviation fuel emissions). All these emitting sources are in compliance with the GPC protocol.', 'gases_included': None, 'total_emissions_metric_tonnes_co2e': 9139286.0, 'scopes_included_': 'Total Scope 1, Scope 2 and Waste Scope 3 (Total BASIC emissions)', 'total_scope_1_emissions_metric_tonnes_co2e': 4033867.0, 'total_scope_2_emissions_metric_tonnes_co2e': 4855798.0, 'comment': None, 'increase/decrease_from_last_year': 'Increased', 'reason_for_increase/decrease_in_emissions': 'Factors for the increase in emissions are: a growth in the construction market, the construction of a new international terminal at the airport, and cheap prices of oil', 'population': 443775, 'population_year': 2013, 'gdp': 260000000000.0, 'gdp_currency': 'USD     US Dollar', 'gdp_year': 2013.0, 'gdp_source': 'http://www.atlantaga.gov/modules/showdocument.aspx?documentid=12107', 'average_annual_temperature_in_celsius\\u200b': 16.9, '\\u200baverage_altitude_m': 272.0, '\\u200bland_area_in_square_km': 343.0, 'city_location': '(33.7489954, -84.3879824)', 'country_location': '(37.09024, -95.712891)'}, {'_id': ObjectId('65fc951cecc75b1bd8d14e86'), 'account_number': 31170, 'organization': 'Metropolitan Municipality of Lima', 'city': 'Lima', 'country': 'Peru', 'region': 'Latin America', 'c40': 'C40', 'access': 'Public', 'reporting_year': 2017, 'accounting_year': '2015-01-01 - 2015-12-31', 'boundary': 'Administrative boundary of a local government', 'protocol': 'Global Protocol for Community-Scale Greenhouse Gas Emissions Inventories (GPC), (WRI, C40 and ICLEI)', 'protocol_column': 'Nos adecuamos a los requerimientos del Protocolo.', 'gases_included': None, 'total_emissions_metric_tonnes_co2e': 15789438.0, 'scopes_included_': 'Total Scope 1, Scope 2 and Waste Scope 3 (Total BASIC emissions)', 'total_scope_1_emissions_metric_tonnes_co2e': 12688756.0, 'total_scope_2_emissions_metric_tonnes_co2e': 3919620.0, 'comment': None, 'increase/decrease_from_last_year': 'Increased', 'reason_for_increase/decrease_in_emissions': 'Han aumentado puesto que no se ha trabajado en proyectos o programas que tengan gran potencial de reducción en gases con efecto invernadero.', 'population': 8755262, 'population_year': 2014, 'gdp': nan, 'gdp_currency': 'PEN     Nuevo Sol', 'gdp_year': 2016.0, 'gdp_source': 'INEI', 'average_annual_temperature_in_celsius\\u200b': 18.0, '\\u200baverage_altitude_m': 154.0, '\\u200bland_area_in_square_km': 2672.0, 'city_location': '(-12.046374, -77.042793)', 'country_location': '(-9.189967, -75.015152)'}, {'_id': ObjectId('65fc951cecc75b1bd8d14e87'), 'account_number': 3422, 'organization': 'Greater London Authority', 'city': 'London ', 'country': 'United Kingdom', 'region': 'Europe', 'c40': 'C40', 'access': 'Public', 'reporting_year': 2017, 'accounting_year': '2014-01-01 - 2014-12-31', 'boundary': 'Other: Admistrative boundary of the Greater London Authority', 'protocol': 'Global Protocol for Community-Scale Greenhouse Gas Emissions Inventories (GPC), (WRI, C40 and ICLEI)', 'protocol_column': \"London's inventory is in line with the GPC. The values in table C1.9a below are predominantly for data from 2014. 2015 GHG data is still being finalised, for publication later in 2017.Stationary - Published central government datasets used for energy consumption and CO2 emissions from homes (residential buildings) and workplaces (commercial, industrial and government buildings and facilities).Mobile - The London Atmospheric Emissions Inventory (in-house model) is used to calculate distances travelled from transport of people and goods by  road, railways, water-borne navigation, aviation, and off-road surface transport. National emissions factors are applied.\", 'gases_included': None, 'total_emissions_metric_tonnes_co2e': 40096000.0, 'scopes_included_': 'Total Scope 1, Scope 2 and Waste Scope 3 (Total BASIC emissions)', 'total_scope_1_emissions_metric_tonnes_co2e': 19430000.0, 'total_scope_2_emissions_metric_tonnes_co2e': 18400000.0, 'comment': None, 'increase/decrease_from_last_year': 'Decreased', 'reason_for_increase/decrease_in_emissions': \"London's CO2 emissions decreased between 2013 and 2014. As of 2014 they are 16% lower than 1990 levels and expected to reach a 20% reduction in the 2015 GHG assessment (currently being finalised for publication later in 2017). This decline is due to decarbonisation of the national electricity grid, with a reduction in coal use and an increase in renewables share of the national energy mix. Gas usage has also decreased, due to energy efficiency improvements in homes and workplaces (including the roll-out of more efficient gas fired boilers) and a reduction in industrial activity within London. London's population continues to increase year on year and as of 2014 London's per capita emissions remain the UK's lowest at 4.4 tonnes.\", 'population': 8600000, 'population_year': 2015, 'gdp': 491550000000.0, 'gdp_currency': 'GBP     Pound Sterling', 'gdp_year': 2014.0, 'gdp_source': \"London measures GVA rather than GDP.•In 2015, London’s total nominal GVA was over £378 billion, up 3.2 per cent on 2014.  An indicative value for London's GDP has been estimated from 2014 per capita data ($57,157) published by Brookings (http://www.brookings.edu/research/reports2/2015/01/22-global-metro-monitor)\", 'average_annual_temperature_in_celsius\\u200b': 11.0, '\\u200baverage_altitude_m': 35.0, '\\u200bland_area_in_square_km': 1572.0, 'city_location': '(51.504858, -0.078689)', 'country_location': '(55.378051, -3.435973)'}, {'_id': ObjectId('65fc951cecc75b1bd8d14e88'), 'account_number': 60419, 'organization': 'Municipalidad de Rio Grande', 'city': 'Rio Grande', 'country': 'Argentina', 'region': 'Latin America', 'c40': None, 'access': 'Public', 'reporting_year': 2017, 'accounting_year': '2015-01-01 - 2015-12-31', 'boundary': 'Administrative boundary of a local government', 'protocol': 'Global Protocol for Community-Scale Greenhouse Gas Emissions Inventories (GPC), (WRI, C40 and ICLEI)', 'protocol_column': None, 'gases_included': None, 'total_emissions_metric_tonnes_co2e': 810086.0, 'scopes_included_': 'Total Scope 1, Scope 2 and Waste Scope 3 (Total BASIC emissions)', 'total_scope_1_emissions_metric_tonnes_co2e': 981954.0, 'total_scope_2_emissions_metric_tonnes_co2e': nan, 'comment': None, 'increase/decrease_from_last_year': 'This is our first year of calculation', 'reason_for_increase/decrease_in_emissions': 'El año 2015 es nuestro primer año reporte de inventario de gases de efecto invernadero.', 'population': 79765, 'population_year': 2015, 'gdp': 35124.0, 'gdp_currency': 'ARS     Argentine Peso', 'gdp_year': 2015.0, 'gdp_source': 'Dato estimado a partir de datos del: INDEC, Serie histórica, Oferta y Demanda Globales, años 2004-2016 Ministerio de Economía y Finanzas Públicas, Subsecretaría de Planificación Económica, Fichas provinciales, Provincia de Tierra del Fuego AeIAS, octubre 2015  y aclará que es un dato provisorio, porque el Indec todavía no publicó los datos definitivos para el 2015/ Observatorio Estadistico Municipio de Río Grande', 'average_annual_temperature_in_celsius\\u200b': 6.0, '\\u200baverage_altitude_m': 18.0, '\\u200bland_area_in_square_km': 938.0, 'city_location': '(-53.786, -67.7002)', 'country_location': '(-38.416097, -63.616672)'}, {'_id': ObjectId('65fc951cecc75b1bd8d14e89'), 'account_number': 35877, 'organization': 'City of Pittsburgh', 'city': 'Pittsburgh', 'country': 'USA', 'region': 'North America', 'c40': None, 'access': 'Public', 'reporting_year': 2017, 'accounting_year': '2013-01-01 - 2013-12-31', 'boundary': 'Administrative boundary of a local government', 'protocol': 'U.S. Community Protocol for Accounting and Reporting of Greenhouse Gas Emissions (ICLEI)', 'protocol_column': None, 'gases_included': 'CO2; CH4; N2O', 'total_emissions_metric_tonnes_co2e': 4851452.0, 'scopes_included_': 'Total Scope 1 and Scope 2', 'total_scope_1_emissions_metric_tonnes_co2e': nan, 'total_scope_2_emissions_metric_tonnes_co2e': 2729490.0, 'comment': None, 'increase/decrease_from_last_year': 'Decreased', 'reason_for_increase/decrease_in_emissions': 'There has been significant variation in the way that data was collected an reported, and Pittsburgh had about 30,000 fewer residents in 2013 compared to 2003. Recalculating 2003 and 2008 inventories to compare to the 2013 inventory shows that emissions have decreased by about 4% since the 2008 inventory, but have still increased by 10% since 2003. Several exogenous factors reduced emissions - such as lower electricity emission factors due to a cleaner electric grid, and better fuel efficiency and lower tailpipe emission factors for cleaner vehicles. However, Pittsburgh did see reductions in the tonnage of solid waste sent to landfill and a reduction in vehicle miles traveled. The industrial sector used less electricity in 2013 than in 2003, and less natural gas in 2013 than in 2008. The commercial sector used less electricity in 2013 than in 2008, but used significantly more natural gas. The residential sector increased electricity use and substantially increased natural gas use. The increase in natural gas is likely due to improved data quality, but seems to also correlate to the rise of hydraulic fracturing in the region. Natural gas emissions increased almost three-fold since 2003.', 'population': 305704, 'population_year': 2016, 'gdp': 135662.0, 'gdp_currency': 'USD     US Dollar', 'gdp_year': 2014.0, 'gdp_source': 'http://www.pittsburghtoday.org/view_GDP2.html', 'average_annual_temperature_in_celsius\\u200b': 11.1, '\\u200baverage_altitude_m': 293.0, '\\u200bland_area_in_square_km': 151.0, 'city_location': '(40.4406248, -79.9958864)', 'country_location': '(37.09024, -95.712891)'}, {'_id': ObjectId('65fc951cecc75b1bd8d14e8a'), 'account_number': 31117, 'organization': 'City of Toronto', 'city': 'Toronto', 'country': 'Canada', 'region': 'North America', 'c40': 'C40', 'access': 'Public', 'reporting_year': 2017, 'accounting_year': '2014-01-01 - 2014-12-31', 'boundary': 'Administrative boundary of a local government', 'protocol': 'Global Protocol for Community-Scale Greenhouse Gas Emissions Inventories (GPC), (WRI, C40 and ICLEI)', 'protocol_column': 'Currently, Toronto’s emissions calculations are sector based and focus on our major emissions sources – energy (heating and cooling), transportation (mobile sources), and waste.a. Energy Heating and Cooling:The City of Toronto’s emissions factors for electricity and natural gas are updated annually and based on the National Inventory Reports (Environment Canada); however, the City of Toronto adds a 10% transmission loss to the NIR figure and a attributes a fugitive emission factor to natural gas from losses in the distribution system. Additionally, data is acquired from Toronto Hydro and Enbridge Gas on the electricity and natural gas consumption of the entire city, including residential, industrial, commercial, institutional etc.b. Transportation: Data are collected and standardized only for car and truck traffic through the City using four main sources: - truck traffic counts of over 2,000 intersections throughout the city from the City of Toronto’s Transportation Services Division- accumulated traffic count data from years 1987 to 2009 from the City of Toronto’s Transportation Services Division- a Canadian standard developed by a Canadian consultantThe above traffic data is then used to calculate “vehicle kilometers traveled” (VKT) and emissions factors for vehicle types are applied to calculate total emissions from mobile sources.c. Waste: Tonnages of waste and approximate waste compositions are used in mass balance equations in the calculation of emissions from landfills.  Additionally, wastewater solids treatment is accounted for using ICLEI equations.', 'gases_included': None, 'total_emissions_metric_tonnes_co2e': 20043240.0, 'scopes_included_': 'Total Scope 1, Scope 2 and Waste Scope 3 (Total BASIC emissions)', 'total_scope_1_emissions_metric_tonnes_co2e': 8804364.0, 'total_scope_2_emissions_metric_tonnes_co2e': 1293287.0, 'comment': None, 'increase/decrease_from_last_year': 'Other:', 'reason_for_increase/decrease_in_emissions': 'Changed to the GPC Reporting Tool Method', 'population': 2753100, 'population_year': 2011, 'gdp': 157300000000000.0, 'gdp_currency': 'CAD     Canadian Dollar', 'gdp_year': 2013.0, 'gdp_source': 'http://www1.toronto.ca/wps/portal/contentonly?vgnextoid=41e067b42d853410VgnVCM10000071d60f89RCRD&vgnextchannel=57a12cc817453410VgnVCM10000071d60f89RCRD', 'average_annual_temperature_in_celsius\\u200b': 8.0, '\\u200baverage_altitude_m': 77.0, '\\u200bland_area_in_square_km': 634.0, 'city_location': '(43.653226, -79.3831843)', 'country_location': '(56.130366, -106.346771)'}, {'_id': ObjectId('65fc951cecc75b1bd8d14e8b'), 'account_number': 43926, 'organization': 'City of Mannheim', 'city': 'Mannheim', 'country': 'Germany', 'region': 'Europe', 'c40': None, 'access': 'Public', 'reporting_year': 2017, 'accounting_year': '2012-01-01 - 2012-12-31', 'boundary': 'Administrative boundary of a local government', 'protocol': 'Other: BISKO', 'protocol_column': 'BISKO-Inventory system for municipalities Germany: the BISKO method is based on the GPC and has been modified for Germanysource: www.ifeu.de/energie/pdf/Bilanzierungs-Systematik Kommunal Kurzfassung.pdfmethod: end energy use based territorial CO2-inventory', 'gases_included': 'CO2', 'total_emissions_metric_tonnes_co2e': 3806000.0, 'scopes_included_': 'Total Scope 1 and Scope 2', 'total_scope_1_emissions_metric_tonnes_co2e': nan, 'total_scope_2_emissions_metric_tonnes_co2e': 3806000.0, 'comment': 'Most data are at a high quality based on real energy consumption in the sectors, some data are calculated on provided regional or national data sources.', 'increase/decrease_from_last_year': 'Decreased', 'reason_for_increase/decrease_in_emissions': 'improvement of the emission factors of the district heating system with optimized combined heat and power technology', 'population': 312722, 'population_year': 2015, 'gdp': 17975.0, 'gdp_currency': 'EUR     Euro', 'gdp_year': 2014.0, 'gdp_source': 'www.statistik-bw.de', 'average_annual_temperature_in_celsius\\u200b': 10.9, '\\u200baverage_altitude_m': 104.0, '\\u200bland_area_in_square_km': 145.0, 'city_location': '(49.487459, 8.466039)', 'country_location': '(51.165691, 10.451526)'}, {'_id': ObjectId('65fc951cecc75b1bd8d14e8c'), 'account_number': 52897, 'organization': 'City of Aspen and Pitkin County', 'city': 'Aspen and Pitkin County', 'country': 'USA', 'region': 'North America', 'c40': None, 'access': 'Public', 'reporting_year': 2017, 'accounting_year': '2011-01-14 - 2014-12-31', 'boundary': 'A metropolitan area', 'protocol': 'U.S. Community Protocol for Accounting and Reporting of Greenhouse Gas Emissions (ICLEI)', 'protocol_column': 'Created a GPC version of inventory for Compact/Covenant reporting which was done via Carbonn', 'gases_included': 'CO2; CH4; N2O', 'total_emissions_metric_tonnes_co2e': 394341.0, 'scopes_included_': 'Total Scope 1 and Scope 2', 'total_scope_1_emissions_metric_tonnes_co2e': 341208.0, 'total_scope_2_emissions_metric_tonnes_co2e': 136413.0, 'comment': 'Performed inventory in house', 'increase/decrease_from_last_year': 'Decreased', 'reason_for_increase/decrease_in_emissions': 'Aggregate emissions: -7.4% between 2004 and 2014.\\nRes. Energy: +5%\\nComm. Energy: -26%\\nVehicles: - 13%\\nAirport: +15%\\nWaste:=2%', 'population': 8427, 'population_year': 2010, 'gdp': 566889555.0, 'gdp_currency': 'USD     US Dollar', 'gdp_year': 2013.0, 'gdp_source': 'City of Aspen - Finance Dept (Liz Woods)', 'average_annual_temperature_in_celsius\\u200b': 6.0, '\\u200baverage_altitude_m': 2405.0, '\\u200bland_area_in_square_km': 20.0, 'city_location': '(39.195, -106.837)', 'country_location': '(37.09024, -95.712891)'}, {'_id': ObjectId('65fc951cecc75b1bd8d14e8d'), 'account_number': 43928, 'organization': 'Canberra', 'city': 'Canberra', 'country': 'Australia', 'region': 'South Asia and Oceania', 'c40': None, 'access': 'Public', 'reporting_year': 2017, 'accounting_year': '2015-07-01 - 2016-06-30', 'boundary': 'Administrative boundary of a local government', 'protocol': '2006 IPCC Guidelines for National Greenhouse Gas Inventories', 'protocol_column': 'The ACT Government receives disaggregated national data each year from the Australian Government which is consistent with the IPCC guidelines. However, the ACT Government is required to record its own electricity, gas and transport data as this is not provided by the national government at the ACT scale. For a more accurate inventory waste data is also counted more specifically to what’s recorded in the national data.', 'gases_included': 'CO2; CH4; SF6; N2O; HFCs', 'total_emissions_metric_tonnes_co2e': 4047600.0, 'scopes_included_': 'Total Scope 1 and Scope 2', 'total_scope_1_emissions_metric_tonnes_co2e': 1813300.0, 'total_scope_2_emissions_metric_tonnes_co2e': 2234200.0, 'comment': 'Prepared by independent entity with high professional standing in GHG accounting.', 'increase/decrease_from_last_year': 'Increased', 'reason_for_increase/decrease_in_emissions': 'ACT emissions have remained relatively stable since the last inventory, with less than a 1% increase reported. This is due to 20GwH of new large scale renewables coming on line, balancing an increase in demand for electricity, and a 5% decrease in natural gas use. These reductions offset a growth in transport fuel use by 4%.', 'population': 400000, 'population_year': 2016, 'gdp': 36225000000.0, 'gdp_currency': 'AUD     Australian Dollar', 'gdp_year': 2016.0, 'gdp_source': 'ABS, 2016', 'average_annual_temperature_in_celsius\\u200b': 13.5, '\\u200baverage_altitude_m': 578.0, '\\u200bland_area_in_square_km': 2358.0, 'city_location': '(-35.3075, 149.1244)', 'country_location': '(-25.274398, 133.775136)'}, {'_id': ObjectId('65fc951cecc75b1bd8d14e8e'), 'account_number': 50369, 'organization': 'Ayuntamiento de San Luis Potosí', 'city': 'San Luis Potosí', 'country': 'Mexico', 'region': 'Latin America', 'c40': None, 'access': 'Public', 'reporting_year': 2017, 'accounting_year': '2015-01-01 - 2015-12-31', 'boundary': 'A metropolitan area', 'protocol': '2006 IPCC Guidelines for National Greenhouse Gas Inventories', 'protocol_column': 'the IPCC methodology was followed , implementing all the criteria therein following the classification.', 'gases_included': 'CO2; CH4; N2O', 'total_emissions_metric_tonnes_co2e': 27548711.0, 'scopes_included_': 'Total Scope 1 and Scope 2', 'total_scope_1_emissions_metric_tonnes_co2e': 23042142.54, 'total_scope_2_emissions_metric_tonnes_co2e': 4700087.01, 'comment': 'It corresponds to the City of San Luis Potosí', 'increase/decrease_from_last_year': 'Increased', 'reason_for_increase/decrease_in_emissions': 'Because in recent years the city has seen a high degree of interest of foreign companies for the installation of new industrial plants, thus the demand for jobs and resources increases, having a greater number of companies, workers they need transportation that is often itself.', 'population': 824229, 'population_year': 2015, 'gdp': 183992.0, 'gdp_currency': 'MXN     Mexican Peso', 'gdp_year': 2015.0, 'gdp_source': 'INEGI', 'average_annual_temperature_in_celsius\\u200b': 21.0, '\\u200baverage_altitude_m': 1998.0, '\\u200bland_area_in_square_km': 1482.0, 'city_location': '(22.173333, -100.97005)', 'country_location': '(23.634501, -102.552784)'}, {'_id': ObjectId('65fc951cecc75b1bd8d14e8f'), 'account_number': 35879, 'organization': 'City of Minneapolis', 'city': 'Minneapolis', 'country': 'USA', 'region': 'North America', 'c40': None, 'access': 'Public', 'reporting_year': 2017, 'accounting_year': '2014-01-01 - 2014-12-31', 'boundary': 'Administrative boundary of a local government', 'protocol': 'Global Protocol for Community-Scale Greenhouse Gas Emissions Inventories (GPC), (WRI, C40 and ICLEI)', 'protocol_column': 'Our inventory has been updated in this report to further comply with the GPC.', 'gases_included': None, 'total_emissions_metric_tonnes_co2e': 4758487.0, 'scopes_included_': 'Total Scope 1, Scope 2 and Waste Scope 3 (Total BASIC emissions)', 'total_scope_1_emissions_metric_tonnes_co2e': 3377382.0, 'total_scope_2_emissions_metric_tonnes_co2e': 1783580.0, 'comment': None, 'increase/decrease_from_last_year': 'Other:', 'reason_for_increase/decrease_in_emissions': \"Our 2014 GHG inventory is reported both this year and last year. This year's reporting of the 2014 inventory includes updated calculations to further comply with the GPC. We expect to release our 2015 inventory in June 2017.\", 'population': 410939, 'population_year': 2015, 'gdp': 235733000000.0, 'gdp_currency': 'USD     US Dollar', 'gdp_year': 2015.0, 'gdp_source': 'https://www.bea.gov/newsreleases/regional/gdp_metro/2016/pdf/gdp_metro0916.pdf', 'average_annual_temperature_in_celsius\\u200b': 7.9, '\\u200baverage_altitude_m': 265.0, '\\u200bland_area_in_square_km': 139.8, 'city_location': '(44.983334, -93.26667)', 'country_location': '(37.09024, -95.712891)'}, {'_id': ObjectId('65fc951cecc75b1bd8d14e90'), 'account_number': 31151, 'organization': 'Basel-Stadt', 'city': 'Basel-Stadt', 'country': 'Switzerland', 'region': 'Europe', 'c40': 'C40', 'access': 'Public', 'reporting_year': 2017, 'accounting_year': '2016-01-01 - 2016-12-31', 'boundary': 'Administrative boundary of a local government', 'protocol': 'Global Protocol for Community-Scale Greenhouse Gas Emissions Inventories (GPC), (WRI, C40 and ICLEI)', 'protocol_column': 'Basel is member of the Compact of Mayors', 'gases_included': None, 'total_emissions_metric_tonnes_co2e': 825704.0, 'scopes_included_': 'Total Scope 1, Scope 2 and Waste Scope 3 (Total BASIC emissions)', 'total_scope_1_emissions_metric_tonnes_co2e': 783932.0, 'total_scope_2_emissions_metric_tonnes_co2e': 321821.0, 'comment': None, 'increase/decrease_from_last_year': 'This is our first year of calculation', 'reason_for_increase/decrease_in_emissions': None, 'population': 198206, 'population_year': 2016, 'gdp': 30990000000.0, 'gdp_currency': 'CHF     Swiss Franc', 'gdp_year': 2013.0, 'gdp_source': 'Federal Statistical Office', 'average_annual_temperature_in_celsius\\u200b': 12.0, '\\u200baverage_altitude_m': 260.0, '\\u200bland_area_in_square_km': 37.0, 'city_location': '(47.5619, 7.5928)', 'country_location': '(46.818188, 8.227512)'}, {'_id': ObjectId('65fc951cecc75b1bd8d14e91'), 'account_number': 31112, 'organization': 'Kaohsiung City Government', 'city': 'Kaohsiung', 'country': 'Taiwan', 'region': 'East Asia', 'c40': None, 'access': 'Public', 'reporting_year': 2017, 'accounting_year': '2015-01-01 - 2015-12-31', 'boundary': 'Administrative boundary of a local government', 'protocol': 'Other: GHG Inventory Accounting Guideline for Local City (EPA)', 'protocol_column': 'Our country in order to assist local cities to handle emissions baseline, and make sure it follows the standard of MRV, so referring to related international GHG inventory guidelines for local cities, including IEAP published in 2009, to develop our city GHG inventory guideline.', 'gases_included': None, 'total_emissions_metric_tonnes_co2e': nan, 'scopes_included_': 'Total Scope 1 and Scope 2', 'total_scope_1_emissions_metric_tonnes_co2e': 68545601.0, 'total_scope_2_emissions_metric_tonnes_co2e': 15358577.0, 'comment': 'In activity data selection, the area analysis number occupied 65.1% and local analysis number occupied 26.51%, so there is 90% that city selected middle or low error activity data; In emissions coefficient, city almost used national level coefficient, so there is 98.75% emissions were calculated by middle error level emissions coefficient.', 'increase/decrease_from_last_year': 'Decreased', 'reason_for_increase/decrease_in_emissions': \"The city's community GHGs emission compared with 2014, is 1.4% decreased. And the city is actively working on promoting action in industrial and transportation section, which are the main source in city. In industry, there is rule for limiting factory emission and also promoting energy-saved actions, also, the city constructs public transport to reduce daily vehicles' emission.\", 'population': 2779371, 'population_year': 2016, 'gdp': 529700000.0, 'gdp_currency': 'USD     US Dollar', 'gdp_year': 2016.0, 'gdp_source': 'Ministry of Economic Affairs', 'average_annual_temperature_in_celsius\\u200b': 25.1, '\\u200baverage_altitude_m': 50.0, '\\u200bland_area_in_square_km': 2947.6, 'city_location': '(22.629705, 120.343804)', 'country_location': '(23.69781, 120.960515)'}, {'_id': ObjectId('65fc951cecc75b1bd8d14e92'), 'account_number': 58488, 'organization': 'Sonderborg Kommune', 'city': 'Sonderborg', 'country': 'Denmark', 'region': 'Europe', 'c40': None, 'access': 'Public', 'reporting_year': 2017, 'accounting_year': '2015-01-01 - 2015-12-31', 'boundary': 'Administrative boundary of a local government', 'protocol': 'Global Protocol for Community-Scale Greenhouse Gas Emissions Inventories (GPC), (WRI, C40 and ICLEI)', 'protocol_column': None, 'gases_included': None, 'total_emissions_metric_tonnes_co2e': 1806679.0, 'scopes_included_': 'Total Scope 1, Scope 2 and Waste Scope 3 (Total BASIC emissions)', 'total_scope_1_emissions_metric_tonnes_co2e': 423379.0, 'total_scope_2_emissions_metric_tonnes_co2e': 1435937.0, 'comment': None, 'increase/decrease_from_last_year': 'Decreased', 'reason_for_increase/decrease_in_emissions': 'A sustained fall in energy consumption (a fall of 1.6 %)  \\n-  Continued conversion to district heating and a fall in the consumption of natural gas for individual \\nheating that corresponded to 11 %      \\n-  A lower emission factor on grid supplied energy carriers (electricity and heat)', 'population': 74801, 'population_year': 2017, 'gdp': 2357007058.0, 'gdp_currency': 'USD     US Dollar', 'gdp_year': 2013.0, 'gdp_source': None, 'average_annual_temperature_in_celsius\\u200b': 9.6, '\\u200baverage_altitude_m': nan, '\\u200bland_area_in_square_km': 496.6, 'city_location': '(54.913811, 9.792178)', 'country_location': '(56.26392, 9.501785)'}, {'_id': ObjectId('65fc951cecc75b1bd8d14e93'), 'account_number': 35898, 'organization': 'Greater Manchester', 'city': 'Manchester', 'country': 'United Kingdom', 'region': 'Europe', 'c40': None, 'access': 'Public', 'reporting_year': 2017, 'accounting_year': '2014-01-01 - 2014-12-31', 'boundary': 'A metropolitan area', 'protocol': 'Global Protocol for Community-Scale Greenhouse Gas Emissions Inventories (GPC), (WRI, C40 and ICLEI)', 'protocol_column': 'A GPC Compliant dataset has been established for Greater Manchester, including primary data from 2013. This work has been undertaken by Anthesis, who also support the World Resources Institute in the development of Carbon Reduction and emissions reporting and trajectory methodologies and reporting tools.', 'gases_included': None, 'total_emissions_metric_tonnes_co2e': 16892757.0, 'scopes_included_': 'Total Scope 1, Scope 2 and Waste Scope 3 (Total BASIC emissions)', 'total_scope_1_emissions_metric_tonnes_co2e': 10630853.0, 'total_scope_2_emissions_metric_tonnes_co2e': 6694801.0, 'comment': None, 'increase/decrease_from_last_year': 'Decreased', 'reason_for_increase/decrease_in_emissions': 'Emissions decreased from is 18.1 to 17.9 million tonnes between 2013 and 2014. This represents a change from our GHG emissions tonnage figure reported to CDP in 2015 and a slight decrease in the first 2013 Global GHC protocol compliant Baseline Emissions inventory.  Repeating the reasons for the change - between emissions reported in 2015 submission and now (due to move to a compliant BEI process), this is due to inclusion of scope 3 emissions included in the Basic/Basic+ element of the inventory which GM commissioned which is now compliant with the Global Protocol for Community-Scale Greenhouse Gas Emissions Inventories (GPC), (WRI, C40 and ICLEI).  Previous submissions to CDP only included scope 1 and 2 emissions which drew directly from the national government DECC Local and Regional CO2 Emissions Estimates for 2005-2012 which used similar but not identical methodologies. This is part of a longer trend of decreasing emissions, punctuated with occasional increase years. Primary factors which determine the performance are the use of coal in any one year for grid electricity generation, and weather conditions during spring and autumn, where an extended heating season can occur if these are cold. A decline in total energy consumption is the most significant long term trend factor, due to the uptake of more energy efficient appliances, home adaptations, goods, services and transport', 'population': 2762000, 'population_year': 2014, 'gdp': 58000000000.0, 'gdp_currency': 'GBP     Pound Sterling', 'gdp_year': 2015.0, 'gdp_source': \"this is GVA (NOT GDP which is GVA+taxes-subsidies but this isn't available to us).  this is the Oxford Economics figure which has been deflated to 2013 prices and is the most used figure in policy documents.\", 'average_annual_temperature_in_celsius\\u200b': 9.5, '\\u200baverage_altitude_m': 250.0, '\\u200bland_area_in_square_km': 1277.0, 'city_location': '(53.4575955, -2.1578377)', 'country_location': '(55.378051, -3.435973)'}, {'_id': ObjectId('65fc951cecc75b1bd8d14e94'), 'account_number': 54461, 'organization': 'Gemeente Groningen', 'city': 'Groningen', 'country': 'Netherlands', 'region': 'Europe', 'c40': None, 'access': 'Public', 'reporting_year': 2017, 'accounting_year': '2017-01-01 - 2017-12-31', 'boundary': 'Administrative boundary of a local government', 'protocol': 'Other', 'protocol_column': 'European Protocol Monitoring Renewable Energy', 'gases_included': 'CO2', 'total_emissions_metric_tonnes_co2e': 859000.0, 'scopes_included_': 'Total Scope 1 and Scope 2', 'total_scope_1_emissions_metric_tonnes_co2e': 1325000.0, 'total_scope_2_emissions_metric_tonnes_co2e': 1325000.0, 'comment': 'see: http://energiemonitor.groningen.nl/ (document too big to attach)', 'increase/decrease_from_last_year': 'Decreased', 'reason_for_increase/decrease_in_emissions': 'Main reason is warmer winters, with a reduced need for heating.', 'population': 200500, 'population_year': 2016, 'gdp': nan, 'gdp_currency': None, 'gdp_year': nan, 'gdp_source': None, 'average_annual_temperature_in_celsius\\u200b': 9.0, '\\u200baverage_altitude_m': 3.0, '\\u200bland_area_in_square_km': 83.0, 'city_location': '(53.232386, 6.551335)', 'country_location': '(52.132633, 5.291266)'}, {'_id': ObjectId('65fc951cecc75b1bd8d14e95'), 'account_number': 46514, 'organization': 'City of Porto', 'city': 'Porto', 'country': 'Portugal', 'region': 'Europe', 'c40': None, 'access': 'Public', 'reporting_year': 2017, 'accounting_year': '2015-01-01 - 2015-12-31', 'boundary': 'Administrative boundary of a local government', 'protocol': 'Other: Metodology developed for the specific purpose and context', 'protocol_column': 'The GHG emissions inventory was developed through the energy supply and demand data by the Portuguese Directorate-General for Energy and Geology (www.dgeg.pt) and the National Statistics Institute (www.ine.pt). The Transports sector was estimated through a separate and specific mobility needs model.', 'gases_included': None, 'total_emissions_metric_tonnes_co2e': 960656.0, 'scopes_included_': 'Total Scope 1 and Scope 2', 'total_scope_1_emissions_metric_tonnes_co2e': nan, 'total_scope_2_emissions_metric_tonnes_co2e': nan, 'comment': 'The level of confidence is high since the source of all data comes from oficial government institutes. However, some of the data are still provisional and will be reviewed in the near future.', 'increase/decrease_from_last_year': 'Decreased', 'reason_for_increase/decrease_in_emissions': 'Porto Energy Agency has already calculated GHG emissions for 2004 , 2009 and 2012 and 2015 (this last one with non definite or mature data). The 2004 GHG emissions were the basis for the Sustainable Action Plan development. The 2009 and 2015 GHG emissions balance, point to a decrease in the emissions (by 22% and 26% respectively) - which indicates that Porto is half way of his ambitious target to 2020 – and these results are mainly  because of the decrease in the demand of fossil fuels (in mobility due to the Metro expansion) and “greener” national grid electricity.', 'population': 238954, 'population_year': 2011, 'gdp': nan, 'gdp_currency': None, 'gdp_year': nan, 'gdp_source': None, 'average_annual_temperature_in_celsius\\u200b': 15.2, '\\u200baverage_altitude_m': 83.0, '\\u200bland_area_in_square_km': 42.0, 'city_location': '(41.1579438, -8.6291053)', 'country_location': '(39.399872, -8.224454)'}, {'_id': ObjectId('65fc951cecc75b1bd8d14e96'), 'account_number': 59669, 'organization': 'City of North Vancouver', 'city': 'North Vancouver', 'country': 'Canada', 'region': 'North America', 'c40': None, 'access': 'Public', 'reporting_year': 2017, 'accounting_year': '2015-01-01 - 2015-12-31', 'boundary': 'Administrative boundary of a local government', 'protocol': 'Other: ICLEI Partners for Climate Protection', 'protocol_column': 'Partners for Climate Protection - Canadian Supplement to the International Emissions Analysis Protocol', 'gases_included': 'CO2; CH4', 'total_emissions_metric_tonnes_co2e': 187055.0, 'scopes_included_': 'Total Scope 1 and Scope 2', 'total_scope_1_emissions_metric_tonnes_co2e': 182896.0, 'total_scope_2_emissions_metric_tonnes_co2e': 4159.0, 'comment': 'Emissions data comes from multiple sources and the City relies on other agencies, such as privately owned utility companies to provide consumption data. As a result, the City cannot comment on the accuracy of the data.', 'increase/decrease_from_last_year': 'Other: 2015 data reported as 2016 data not available', 'reason_for_increase/decrease_in_emissions': \"Comparisons are not possible at this time, as the next year's data (2016) are not yet available.  We are thus still reporting 2015 data as before (note that our emissions data submitted April 2016 - for the year 2010 - were updated for the Compact of Mayors module submitted in December 2016 - for the year 2015).  However, due to limitations associated with the data, year to year comparisons must be made with caution.   \\n\\nIn general, emissions over the past few years appear to be staying the same or potentially decreasing slightly despite population increases.  This is likely due to more efficient building construction, reduction in solid waste tonnages, increased recycling and organics diversion, and increased fuel efficiency standards.\", 'population': 52898, 'population_year': 2016, 'gdp': nan, 'gdp_currency': 'CAD     Canadian Dollar', 'gdp_year': 2015.0, 'gdp_source': None, 'average_annual_temperature_in_celsius\\u200b': 11.0, '\\u200baverage_altitude_m': 90.0, '\\u200bland_area_in_square_km': 11.8, 'city_location': '(49.32, -123.0724)', 'country_location': '(56.130366, -106.346771)'}, {'_id': ObjectId('65fc951cecc75b1bd8d14e97'), 'account_number': 35993, 'organization': 'Singapore Government', 'city': 'Singapore ', 'country': 'Singapore', 'region': 'South Asia and Oceania', 'c40': 'C40', 'access': 'Public', 'reporting_year': 2017, 'accounting_year': '2012-01-01 - 2012-12-31', 'boundary': 'Other: Nation-wide', 'protocol': '2006 IPCC Guidelines for National Greenhouse Gas Inventories', 'protocol_column': None, 'gases_included': 'CO2; PFCs; CH4; SF6; N2O; HFCs', 'total_emissions_metric_tonnes_co2e': 48094650.0, 'scopes_included_': 'Total Scope 1 and Scope 2', 'total_scope_1_emissions_metric_tonnes_co2e': 48094650.0, 'total_scope_2_emissions_metric_tonnes_co2e': nan, 'comment': 'Inventory is compiled in accordance with IPCC guidelines', 'increase/decrease_from_last_year': None, 'reason_for_increase/decrease_in_emissions': None, 'population': 5600000, 'population_year': 2016, 'gdp': 410300000000.0, 'gdp_currency': None, 'gdp_year': 2016.0, 'gdp_source': 'Singapore Statistics (official)', 'average_annual_temperature_in_celsius\\u200b': 27.0, '\\u200baverage_altitude_m': 5.0, '\\u200bland_area_in_square_km': 719.0, 'city_location': '(1.352083, 103.819836)', 'country_location': '(1.352083, 103.819836)'}, {'_id': ObjectId('65fc951cecc75b1bd8d14e98'), 'account_number': 58610, 'organization': 'Municipality of Hjørring', 'city': 'Hjørring', 'country': 'Denmark', 'region': 'Europe', 'c40': None, 'access': 'Public', 'reporting_year': 2017, 'accounting_year': '2014-01-01 - 2014-12-31', 'boundary': 'Other: Energy plan for Hjoerring Municipality', 'protocol': 'Other: Not determined.', 'protocol_column': None, 'gases_included': 'CO2', 'total_emissions_metric_tonnes_co2e': 417000.0, 'scopes_included_': 'Total Scope 1 and Scope 2', 'total_scope_1_emissions_metric_tonnes_co2e': 289000.0, 'total_scope_2_emissions_metric_tonnes_co2e': 128000.0, 'comment': None, 'increase/decrease_from_last_year': 'Decreased', 'reason_for_increase/decrease_in_emissions': 'Collective supply: decrease in fuel consumption, especially from fossil fuels. Electricity production has decreased substantially.\\nIndustry: Large decrease in fuel consumption, especially from fossil fuels.', 'population': 65308, 'population_year': 2016, 'gdp': 19088026316.0, 'gdp_currency': 'DKK     Danish Krone', 'gdp_year': nan, 'gdp_source': 'http://www.danskbyggeri.dk/media/7648/regional-oversigt-over-bnp-i-kommunerne.pdf', 'average_annual_temperature_in_celsius\\u200b': 7.5, '\\u200baverage_altitude_m': 22.0, '\\u200bland_area_in_square_km': 7.5, 'city_location': '(57.4568, 9.9958)', 'country_location': '(56.26392, 9.501785)'}, {'_id': ObjectId('65fc951cecc75b1bd8d14e99'), 'account_number': 49334, 'organization': 'City of Richmond, VA', 'city': 'Richmond, VA', 'country': 'USA', 'region': 'North America', 'c40': None, 'access': 'Public', 'reporting_year': 2017, 'accounting_year': '2015-01-01 - 2015-12-31', 'boundary': 'Administrative boundary of a local government', 'protocol': 'Global Protocol for Community-Scale Greenhouse Gas Emissions Inventories (GPC), (WRI, C40 and ICLEI)', 'protocol_column': 'Collected data over a 1 year period with the help of many public and governmental organizations as well as private utility company.', 'gases_included': None, 'total_emissions_metric_tonnes_co2e': nan, 'scopes_included_': 'Total Scope 1, Scope 2 and Waste Scope 3 (Total BASIC emissions)', 'total_scope_1_emissions_metric_tonnes_co2e': 1367962.0, 'total_scope_2_emissions_metric_tonnes_co2e': 1422200.0, 'comment': None, 'increase/decrease_from_last_year': 'Decreased', 'reason_for_increase/decrease_in_emissions': 'Emissions decreased slightly from 2014 due to a decrease in natural gas usage for most sectors and a decrease in electricity usage in the industrial sector.', 'population': 220289, 'population_year': 2015, 'gdp': 74109000000.0, 'gdp_currency': 'USD     US Dollar', 'gdp_year': 2015.0, 'gdp_source': 'https://www.bea.gov/iTable/iTable.cfm?reqid=70&step=1&isuri=1&acrdn=3#reqid=70&step=10&isuri=1&7003=200&7035=-1&7004=naics&7005=-1&7006=40060&7036=-1&7001=2200&7002=2&7090=70&7007=2015&7093=levels (this is metro area and not city specific)', 'average_annual_temperature_in_celsius\\u200b': 15.0, '\\u200baverage_altitude_m': 49.0, '\\u200bland_area_in_square_km': 162.0, 'city_location': '(37.540725, -77.436048)', 'country_location': '(37.09024, -95.712891)'}, {'_id': ObjectId('65fc951cecc75b1bd8d14e9a'), 'account_number': 62855, 'organization': 'Egedal Municipality', 'city': 'Egedal', 'country': 'Denmark', 'region': 'Europe', 'c40': None, 'access': 'Public', 'reporting_year': 2017, 'accounting_year': '2014-01-01 - 2014-12-31', 'boundary': 'Administrative boundary of a local government', 'protocol': 'Global Protocol for Community-Scale Greenhouse Gas Emissions Inventories (GPC), (WRI, C40 and ICLEI)', 'protocol_column': None, 'gases_included': None, 'total_emissions_metric_tonnes_co2e': 179535.0, 'scopes_included_': 'Total Scope 1, Scope 2 and Waste Scope 3 (Total BASIC emissions)', 'total_scope_1_emissions_metric_tonnes_co2e': nan, 'total_scope_2_emissions_metric_tonnes_co2e': nan, 'comment': None, 'increase/decrease_from_last_year': 'This is our first year of calculation', 'reason_for_increase/decrease_in_emissions': None, 'population': 42000, 'population_year': 2015, 'gdp': 17000000000.0, 'gdp_currency': 'DKK     Danish Krone', 'gdp_year': 2015.0, 'gdp_source': None, 'average_annual_temperature_in_celsius\\u200b': 8.0, '\\u200baverage_altitude_m': 29.0, '\\u200bland_area_in_square_km': 126.0, 'city_location': '(55.795045, 12.238733)', 'country_location': '(56.26392, 9.501785)'}, {'_id': ObjectId('65fc951cecc75b1bd8d14e9b'), 'account_number': 35863, 'organization': 'City of Durban', 'city': 'Durban', 'country': 'South Africa', 'region': 'Africa', 'c40': 'C40', 'access': 'Public', 'reporting_year': 2017, 'accounting_year': '2015-01-01 - 2015-12-31', 'boundary': 'Administrative boundary of a local government', 'protocol': 'Global Protocol for Community-Scale Greenhouse Gas Emissions Inventories (GPC), (WRI, C40 and ICLEI)', 'protocol_column': None, 'gases_included': None, 'total_emissions_metric_tonnes_co2e': 22154154.0, 'scopes_included_': 'Total Scope 1, Scope 2 and Waste Scope 3 (Total BASIC emissions)', 'total_scope_1_emissions_metric_tonnes_co2e': 11605283.0, 'total_scope_2_emissions_metric_tonnes_co2e': 9459527.0, 'comment': None, 'increase/decrease_from_last_year': 'Decreased', 'reason_for_increase/decrease_in_emissions': 'Fluctuating data availability', 'population': 3700000, 'population_year': 2016, 'gdp': 3300000000.0, 'gdp_currency': 'ZAR     South African Rand', 'gdp_year': 2016.0, 'gdp_source': None, 'average_annual_temperature_in_celsius\\u200b': 24.0, '\\u200baverage_altitude_m': 426.0, '\\u200bland_area_in_square_km': 2555.0, 'city_location': '(-29.8586804, 31.0218404)', 'country_location': '(-30.559482, 22.937506)'}, {'_id': ObjectId('65fc951cecc75b1bd8d14e9c'), 'account_number': 54078, 'organization': 'City of Hayward', 'city': 'Hayward', 'country': 'USA', 'region': 'North America', 'c40': None, 'access': 'Public', 'reporting_year': 2017, 'accounting_year': '2015-01-01 - 2015-12-31', 'boundary': 'Administrative boundary of a local government', 'protocol': 'U.S. Community Protocol for Accounting and Reporting of Greenhouse Gas Emissions (ICLEI)', 'protocol_column': 'The City of Hayward uses SEEC ClearPath to conduct its greenhouse gas emissions inventories. ClearPath generates GPC Scopes for easy transfer of data to the GPC reporting platform.', 'gases_included': 'CO2; CH4; N2O', 'total_emissions_metric_tonnes_co2e': 1103977.0, 'scopes_included_': 'Total Scope 1 and Scope 2', 'total_scope_1_emissions_metric_tonnes_co2e': 915123.58, 'total_scope_2_emissions_metric_tonnes_co2e': 188853.0, 'comment': 'This inventory, including its methodology and calculations has been reviewed for accuracy. Some records underwent multiple reviews and recalculations. However, please note that for a couple records the most up-to-date and accurate data was not available.', 'increase/decrease_from_last_year': 'Stayed the same', 'reason_for_increase/decrease_in_emissions': 'Comparing 2010 to 2015, overall community-wide emissions increased slightly (<1%). However, some differing methodology and the unavailability of the most accurate and up to date data influenced this trend.', 'population': 158985, 'population_year': 2016, 'gdp': 431704.0, 'gdp_currency': 'USD     US Dollar', 'gdp_year': 2015.0, 'gdp_source': 'U.S. Bureau of Economic Analysis (regional data)', 'average_annual_temperature_in_celsius\\u200b': 11.8, '\\u200baverage_altitude_m': 32.0, '\\u200bland_area_in_square_km': 117.0, 'city_location': '(37.6689, -122.0808)', 'country_location': '(37.09024, -95.712891)'}, {'_id': ObjectId('65fc951cecc75b1bd8d14e9d'), 'account_number': 54356, 'organization': 'City of Parañaque', 'city': 'Parañaque', 'country': 'Philippines', 'region': 'South Asia and Oceania', 'c40': None, 'access': 'Public', 'reporting_year': 2017, 'accounting_year': '2010-01-01 - 2010-12-31', 'boundary': 'Administrative boundary of a local government', 'protocol': '2006 IPCC Guidelines for National Greenhouse Gas Inventories', 'protocol_column': 'The report was completed primarily in accordance with the guidance from the World Resources Institute’s (WRI) Greenhouse Gas Protocol, the current international standard for corporate greenhouse gas inventories, the 2006 IPCC Guidelines for National GHG inventories, and Tracking Greenhouse Gases: An Inventory Manual published by the Department of Environment and Natural Resources (DENR).', 'gases_included': 'CO2; CH4; N2O', 'total_emissions_metric_tonnes_co2e': 788108.0, 'scopes_included_': 'Total Scope 1 and Scope 2', 'total_scope_1_emissions_metric_tonnes_co2e': 320044.14, 'total_scope_2_emissions_metric_tonnes_co2e': 468064.0, 'comment': None, 'increase/decrease_from_last_year': 'This is our first year of calculation', 'reason_for_increase/decrease_in_emissions': None, 'population': 665822, 'population_year': 2015, 'gdp': nan, 'gdp_currency': 'PHP     Philippine Peso', 'gdp_year': nan, 'gdp_source': None, 'average_annual_temperature_in_celsius\\u200b': 34.4, '\\u200baverage_altitude_m': 12.0, '\\u200bland_area_in_square_km': 46.6, 'city_location': '(14.479309, 121.019823)', 'country_location': '(12.879721, 121.774017)'}, {'_id': ObjectId('65fc951cecc75b1bd8d14e9e'), 'account_number': 31166, 'organization': 'Jakarta City Government', 'city': 'Jakarta ', 'country': 'Indonesia', 'region': 'South Asia and Oceania', 'c40': 'C40', 'access': 'Public', 'reporting_year': 2017, 'accounting_year': '2014-01-01 - 2014-12-31', 'boundary': 'Administrative boundary of a local government', 'protocol': '2006 IPCC Guidelines for National Greenhouse Gas Inventories', 'protocol_column': 'Identify GHG emissions from potential sector, such energy using, transportation, solid waste, waste water, and industrial.Inventory GHG emissions and transportation as potential source.Identify mitigaton action through define criteria and scoringMethod of calculation:Emission / absorption of GHG = AD x EFAD: The data generated from the construction activities and human activitiesEF: The amount of emissions per uptake per unit', 'gases_included': None, 'total_emissions_metric_tonnes_co2e': 27780000.0, 'scopes_included_': 'Total Scope 1 and Scope 2', 'total_scope_1_emissions_metric_tonnes_co2e': nan, 'total_scope_2_emissions_metric_tonnes_co2e': nan, 'comment': None, 'increase/decrease_from_last_year': 'Decreased', 'reason_for_increase/decrease_in_emissions': '- Commitment to Reduce the Greenhouse Gas Emissions \\n\\n- Jakarta’s commitment to reduce greenhouse gas     emissions, the target to cut emissions by 30% by 2030  will be applied. The greenhouse gas emisions target is based upon the base line of emision in ', 'population': 10155902, 'population_year': 2017, 'gdp': 174824110.0, 'gdp_currency': 'IDR     Rupiah', 'gdp_year': 2017.0, 'gdp_source': 'Central Statistics Agency (BPS)', 'average_annual_temperature_in_celsius\\u200b': 29.0, '\\u200baverage_altitude_m': nan, '\\u200bland_area_in_square_km': 662.0, 'city_location': '(-6.1751, 106.865)', 'country_location': '(-0.7893, -113.9213)'}, {'_id': ObjectId('65fc951cecc75b1bd8d14e9f'), 'account_number': 56276, 'organization': 'New Taipei City Government', 'city': 'New Taipei ', 'country': 'Taiwan', 'region': 'East Asia', 'c40': None, 'access': 'Public', 'reporting_year': 2017, 'accounting_year': '2015-01-01 - 2015-12-31', 'boundary': 'Administrative boundary of a local government', 'protocol': 'Global Protocol for Community-Scale Greenhouse Gas Emissions Inventories (GPC), (WRI, C40 and ICLEI)', 'protocol_column': 'We inventoried GHG by using the method of GPC, we also inventoried Guideline of GHG accounting and inventory issued by Taiwan EPA, which mainly refer to the \"International Emissions Analysis Protocol (ICLEI)\" and \"2006 IPCC Guidelines for National Greenhouse Gas Inventories\".', 'gases_included': None, 'total_emissions_metric_tonnes_co2e': 18235086.0, 'scopes_included_': 'Total Scope 1, Scope 2 and Waste Scope 3 (Total BASIC emissions)', 'total_scope_1_emissions_metric_tonnes_co2e': 2719315.0, 'total_scope_2_emissions_metric_tonnes_co2e': 10560750.0, 'comment': None, 'increase/decrease_from_last_year': 'Decreased', 'reason_for_increase/decrease_in_emissions': 'Saving energy and reducing GHGs emission efficiently.', 'population': 3970644, 'population_year': 2016, 'gdp': 529676000000.0, 'gdp_currency': 'USD     US Dollar', 'gdp_year': 2016.0, 'gdp_source': 'Gross Domestic Product by Expenditures, National Statistics, R.O.C (Taiwan) (2016)', 'average_annual_temperature_in_celsius\\u200b': 21.0, '\\u200baverage_altitude_m': nan, '\\u200bland_area_in_square_km': 2052.0, 'city_location': '(25.0111, 121.4458)', 'country_location': '(23.69781, 120.960515)'}, {'_id': ObjectId('65fc951cecc75b1bd8d14ea0'), 'account_number': 50671, 'organization': 'Fafe', 'city': 'Fafe', 'country': 'Portugal', 'region': 'Europe', 'c40': None, 'access': 'Public', 'reporting_year': 2017, 'accounting_year': '2013-01-01 - 2013-12-31', 'boundary': 'Administrative boundary of a local government', 'protocol': '2006 IPCC Guidelines for National Greenhouse Gas Inventories', 'protocol_column': 'Determination of CO2 emissions methodology is based on IPCC principles. Presented data is determined by applying emission factors to the data resulting from energy baseline emissions. The energy baseline emissions are calculated using a mathematical model that is based on local energy consumption and macroeconomic and demographic variables.', 'gases_included': 'CO2', 'total_emissions_metric_tonnes_co2e': 163838.0, 'scopes_included_': 'Total Scope 1 and Scope 2', 'total_scope_1_emissions_metric_tonnes_co2e': 163412.0, 'total_scope_2_emissions_metric_tonnes_co2e': 426.0, 'comment': 'The methodology used to calculate GHG emissions of Fafe municipality is based in the guidelines of Joint Research Centre of the European Commission for SEAP development and the calculations were are based on relevant socio-economic and energetic information provided by official statistics at municipal level. These results were already approved by Covenant of Mayors initiative.', 'increase/decrease_from_last_year': 'Decreased', 'reason_for_increase/decrease_in_emissions': 'The municipality of Fafe has been implementing its SEAP achieving very positive results, namely achieving reductions of energy consumptions. Changes in the electricity mix also contributed to the community emissions reduction, allowing to the achievement in 2013 of the commitments for 2020.', 'population': 49351, 'population_year': 2015, 'gdp': 517000000.0, 'gdp_currency': 'EUR     Euro', 'gdp_year': 2015.0, 'gdp_source': 'Energy baseline emissions. This value was estimated. Official statistics of GDP at the municipal level are not available. The estimation was based on relevant economic and financial information provided by official statistics at municipal and regional level.', 'average_annual_temperature_in_celsius\\u200b': 14.0, '\\u200baverage_altitude_m': 350.0, '\\u200bland_area_in_square_km': 219.0, 'city_location': '(41.4508217, -8.1728619)', 'country_location': '(39.399872, -8.224454)'}, {'_id': ObjectId('65fc951cecc75b1bd8d14ea1'), 'account_number': 36154, 'organization': 'Vilnius City Municipality', 'city': 'Vilnius ', 'country': 'Lithuania', 'region': 'Europe', 'c40': None, 'access': 'Public', 'reporting_year': 2017, 'accounting_year': '2014-01-01 - 2014-12-31', 'boundary': 'Administrative boundary of a local government', 'protocol': '2006 IPCC Guidelines for National Greenhouse Gas Inventories', 'protocol_column': 'Inventory report is prepared in accordance with the methodology recommended by the Intergovernmental Panel on Climate Change (IPCC) publications:1.\\tRevised 1996 Guidelines for National Greenhouse Gas Inventories, IPCC, 1997;2.\\tGood Practice Guidance and Uncertainty Management in National Greenhouse Gas Inventories, IPCC, 2000;3.\\t2006 IPCC Guidelines for National Greenhouse Gas Inventories, IPCC, 2006GHG emissions were calculated from activity levels in the different sectors that are in accordance with the IPCC publications.', 'gases_included': 'CO2; PFCs; CH4; N2O; HFCs', 'total_emissions_metric_tonnes_co2e': 1944330.0, 'scopes_included_': 'Total Scope 1 and Scope 2', 'total_scope_1_emissions_metric_tonnes_co2e': 1944329.0, 'total_scope_2_emissions_metric_tonnes_co2e': nan, 'comment': 'Tier 1 method as described in Good Practice Guidance and Uncertainty Management in National Greenhouse Gas Inventories (IPCC, 2000) for uncertainty evaluation has been applied. Individual uncertainty levels for emission factors and most other parameters have been applied with reference to either Lithuania’s NIR or IPCC recommendations. Uncertainty of activity levels has been evaluated based on expert judgement and in most cases it coincides with that evaluated in Lithuania’s NIR.The combined uncertainty level of the inventory (12.7 %) is close to that of Lithuania’s NIR (11.5 % excluding LULUCF) and may be considered acceptable. It is recommended to evaluate trend uncertainty with further emission inventories. As Road Transportation category emissions yielded high uncertainty levels it is recommended to address this issue in the future inventories and develop more transparent and comprehensive methodologies for evaluation of activity levels.', 'increase/decrease_from_last_year': 'Decreased', 'reason_for_increase/decrease_in_emissions': 'Increased wooden biomass utilization in Energy sector for the central heating.', 'population': 542626, 'population_year': 2015, 'gdp': nan, 'gdp_currency': None, 'gdp_year': nan, 'gdp_source': None, 'average_annual_temperature_in_celsius\\u200b': 6.7, '\\u200baverage_altitude_m': 98.0, '\\u200bland_area_in_square_km': 401.0, 'city_location': '(54.687156, 25.279651)', 'country_location': '(55.169438, 23.881275)'}, {'_id': ObjectId('65fc951cecc75b1bd8d14ea2'), 'account_number': 1184, 'organization': 'City of Austin', 'city': 'Austin', 'country': 'USA', 'region': 'North America', 'c40': 'C40', 'access': 'Public', 'reporting_year': 2017, 'accounting_year': '2013-01-01 - 2013-12-31', 'boundary': 'Combination of administrative divisions', 'protocol': 'Global Protocol for Community-Scale Greenhouse Gas Emissions Inventories (GPC), (WRI, C40 and ICLEI)', 'protocol_column': None, 'gases_included': None, 'total_emissions_metric_tonnes_co2e': 13001831.0, 'scopes_included_': 'Total Scope 1, Scope 2 and Waste Scope 3 (Total BASIC emissions)', 'total_scope_1_emissions_metric_tonnes_co2e': 7009751.0, 'total_scope_2_emissions_metric_tonnes_co2e': 6580445.0, 'comment': None, 'increase/decrease_from_last_year': 'Decreased', 'reason_for_increase/decrease_in_emissions': 'increased renewable energy in our electricity generation', 'population': 912791, 'population_year': 2016, 'gdp': 119949000000.0, 'gdp_currency': 'USD     US Dollar', 'gdp_year': 2015.0, 'gdp_source': 'https://www.bea.gov/newsreleases/regional/gdp_metro/gdp_metro_newsrelease.htm', 'average_annual_temperature_in_celsius\\u200b': 20.0, '\\u200baverage_altitude_m': 149.0, '\\u200bland_area_in_square_km': 704.0, 'city_location': '(30.2672, -97.7431)', 'country_location': '(37.09024, -95.712891)'}, {'_id': ObjectId('65fc951cecc75b1bd8d14ea3'), 'account_number': 54104, 'organization': 'City of Boulder', 'city': 'Boulder', 'country': 'USA', 'region': 'North America', 'c40': None, 'access': 'Public', 'reporting_year': 2017, 'accounting_year': '2015-01-01 - 2015-12-31', 'boundary': 'Administrative boundary of a local government', 'protocol': 'Global Protocol for Community-Scale Greenhouse Gas Emissions Inventories (GPC), (WRI, C40 and ICLEI)', 'protocol_column': 'This protocol was adopted for the 2015 inventory to meet the inventory requirements for the Covenant of Mayors. Our baseline inventory of 2005 was completed under a different protocol, which must be accounted for when reviewing trends and comparisons against the baseline.', 'gases_included': None, 'total_emissions_metric_tonnes_co2e': 1701551.0, 'scopes_included_': 'Total Scope 1, Scope 2 and Waste Scope 3 (Total BASIC emissions)', 'total_scope_1_emissions_metric_tonnes_co2e': 768209.0, 'total_scope_2_emissions_metric_tonnes_co2e': 913410.0, 'comment': None, 'increase/decrease_from_last_year': 'Decreased', 'reason_for_increase/decrease_in_emissions': 'Emissions have decreased 5.2% since the 2005 baseline and 1.2% since the last inventory, which was conducted in 2012. The most significant emission reductions occurred in commercial and industrial energy use, aviation, and wastewater treatment. Implementation of emissions reduction projects and programs, as well as a cleaner grid mix, contributed to this decrease.', 'population': 107167, 'population_year': 2015, 'gdp': 23414000000.0, 'gdp_currency': 'USD     US Dollar', 'gdp_year': 2015.0, 'gdp_source': 'Bureau of Economic Analysis, Dept. of Commerce', 'average_annual_temperature_in_celsius\\u200b': 10.9, '\\u200baverage_altitude_m': 1655.0, '\\u200bland_area_in_square_km': 67.0, 'city_location': '(40.0274, -105.2519)', 'country_location': '(37.09024, -95.712891)'}, {'_id': ObjectId('65fc951cecc75b1bd8d14ea4'), 'account_number': 10894, 'organization': 'City of Los Angeles', 'city': 'Los Angeles', 'country': 'USA', 'region': 'North America', 'c40': 'C40', 'access': 'Public', 'reporting_year': 2017, 'accounting_year': '2013-01-01 - 2013-12-31', 'boundary': 'Administrative boundary of a local government', 'protocol': 'Global Protocol for Community-Scale Greenhouse Gas Emissions Inventories (GPC), (WRI, C40 and ICLEI)', 'protocol_column': None, 'gases_included': None, 'total_emissions_metric_tonnes_co2e': 28922796.0, 'scopes_included_': 'Total Scope 1, Scope 2 and Waste Scope 3 (Total BASIC emissions)', 'total_scope_1_emissions_metric_tonnes_co2e': 19936349.0, 'total_scope_2_emissions_metric_tonnes_co2e': 9506208.0, 'comment': None, 'increase/decrease_from_last_year': 'Decreased', 'reason_for_increase/decrease_in_emissions': 'Two primary reasons for the slight reduction are reduction in GHG intensity of electricity system and increased fuel economy of light duty vehicles. From 1990, the decline of manufacturing withing LA city limits also contributed to the decline.', 'population': 4030904, 'population_year': 2016, 'gdp': 930817000000.0, 'gdp_currency': 'USD     US Dollar', 'gdp_year': 2015.0, 'gdp_source': 'US Dept of Commerce (LA Metro Area)', 'average_annual_temperature_in_celsius\\u200b': 18.0, '\\u200baverage_altitude_m': 95.0, '\\u200bland_area_in_square_km': 1215.0, 'city_location': '(34.0522342, -118.2436849)', 'country_location': '(37.09024, -95.712891)'}, {'_id': ObjectId('65fc951cecc75b1bd8d14ea5'), 'account_number': 58671, 'organization': 'Elsinore Municipality', 'city': 'Elsinore', 'country': 'Denmark', 'region': 'Europe', 'c40': None, 'access': 'Public', 'reporting_year': 2017, 'accounting_year': '2015-01-01 - 2015-12-31', 'boundary': 'Administrative boundary of a local government', 'protocol': '2006 IPCC Guidelines for National Greenhouse Gas Inventories', 'protocol_column': None, 'gases_included': 'CO2; CH4; N2O', 'total_emissions_metric_tonnes_co2e': 294549.0, 'scopes_included_': 'Total Scope 1 and Scope 2', 'total_scope_1_emissions_metric_tonnes_co2e': nan, 'total_scope_2_emissions_metric_tonnes_co2e': nan, 'comment': 'The CO2 mapping was conducted externally by a consultancy.', 'increase/decrease_from_last_year': 'Decreased', 'reason_for_increase/decrease_in_emissions': '#NAME?', 'population': 61632, 'population_year': 2015, 'gdp': 1985000000.0, 'gdp_currency': 'DKK     Danish Krone', 'gdp_year': 2015.0, 'gdp_source': 'The Ministry of Finance', 'average_annual_temperature_in_celsius\\u200b': 8.5, '\\u200baverage_altitude_m': 8.0, '\\u200bland_area_in_square_km': 119.0, 'city_location': '(56.0308, 12.5921)', 'country_location': '(56.2639, 9.5018)'}, {'_id': ObjectId('65fc951cecc75b1bd8d14ea6'), 'account_number': 31155, 'organization': 'City of Buenos Aires', 'city': 'Buenos Aires', 'country': 'Argentina', 'region': 'Latin America', 'c40': 'C40', 'access': 'Public', 'reporting_year': 2017, 'accounting_year': '2015-01-01 - 2015-12-31', 'boundary': 'Administrative boundary of a local government', 'protocol': 'Global Protocol for Community-Scale Greenhouse Gas Emissions Inventories (GPC), (WRI, C40 and ICLEI)', 'protocol_column': 'The GHG emissions are calculated by the Buenos Aires EPA Climate Change team using, primarily, IPCC methodology and reporting based on the city-induced framework of the GCP protocol. The city has already completed the BASIC approach.', 'gases_included': None, 'total_emissions_metric_tonnes_co2e': 13193864.0, 'scopes_included_': 'Total Scope 1, Scope 2 and Waste Scope 3 (Total BASIC emissions)', 'total_scope_1_emissions_metric_tonnes_co2e': 16338506.0, 'total_scope_2_emissions_metric_tonnes_co2e': 4252960.0, 'comment': None, 'increase/decrease_from_last_year': 'Increased', 'reason_for_increase/decrease_in_emissions': 'The increase is a result of three factors: a) A small increment of the stationary energy emission factor b) a small raise in the amount of GHG emissions related to stationary energy and c) an increase in the amount of GHG emissions related to motorized vehicles.', 'population': 3059122, 'population_year': 2016, 'gdp': 107287000.0, 'gdp_currency': 'ARS     Argentine Peso', 'gdp_year': 2016.0, 'gdp_source': 'Treasury Secretariat, Buenos Aires City Government', 'average_annual_temperature_in_celsius\\u200b': 18.0, '\\u200baverage_altitude_m': 25.0, '\\u200bland_area_in_square_km': 202.0, 'city_location': '(-34.6037232, -58.3815931)', 'country_location': '(-38.416097, -63.616672)'}, {'_id': ObjectId('65fc951cecc75b1bd8d14ea7'), 'account_number': 54497, 'organization': 'City of Wroclaw', 'city': 'Wroclaw', 'country': 'Poland', 'region': 'Europe', 'c40': None, 'access': 'Public', 'reporting_year': 2017, 'accounting_year': '2015-01-01 - 2015-12-31', 'boundary': 'Administrative boundary of a local government', 'protocol': 'Global Protocol for Community-Scale Greenhouse Gas Emissions Inventories (GPC), (WRI, C40 and ICLEI)', 'protocol_column': 'Global Protocol for Community-Scale Greenhouse Gas Emission Inventories', 'gases_included': None, 'total_emissions_metric_tonnes_co2e': 4065219.0, 'scopes_included_': 'Total Scope 1, Scope 2 and Waste Scope 3 (Total BASIC emissions)', 'total_scope_1_emissions_metric_tonnes_co2e': nan, 'total_scope_2_emissions_metric_tonnes_co2e': nan, 'comment': None, 'increase/decrease_from_last_year': 'Increased', 'reason_for_increase/decrease_in_emissions': 'Increased electricity consumption', 'population': 635759, 'population_year': 2015, 'gdp': 1789700000000.0, 'gdp_currency': 'PLN     Zloty', 'gdp_year': 2015.0, 'gdp_source': 'Central Statistical Office', 'average_annual_temperature_in_celsius\\u200b': 11.0, '\\u200baverage_altitude_m': 119.0, '\\u200bland_area_in_square_km': 283.3, 'city_location': '(51.107885, 17.038538)', 'country_location': '(51.919438, 19.145136)'}, {'_id': ObjectId('65fc951cecc75b1bd8d14ea8'), 'account_number': 54057, 'organization': 'City of Lancaster', 'city': 'Lancaster', 'country': 'USA', 'region': 'North America', 'c40': None, 'access': 'Public', 'reporting_year': 2017, 'accounting_year': '2015-01-01 - 2015-12-31', 'boundary': 'Administrative boundary of a local government', 'protocol': 'U.S. Community Protocol for Accounting and Reporting of Greenhouse Gas Emissions (ICLEI)', 'protocol_column': '2012 U.S. Community Protocol for Accounting and Reporting of Greenhouse Gas Emission', 'gases_included': 'CO2; PFCs; CH4; SF6; N2O; NF3; HFCs', 'total_emissions_metric_tonnes_co2e': 885210.0, 'scopes_included_': 'Total Scope 1 and Scope 2', 'total_scope_1_emissions_metric_tonnes_co2e': nan, 'total_scope_2_emissions_metric_tonnes_co2e': nan, 'comment': None, 'increase/decrease_from_last_year': 'Decreased', 'reason_for_increase/decrease_in_emissions': 'Community-wide GHG emissions declined by 107,860 MTCO2e, or 12%, between 2010 and\\n2015. Emissions from the treatment and delivery of water saw the largest reduction with a 47%\\ndecrease. This reduction is mostly likely a result of more intense drought conditions and water\\nregulations. The reduced consumption in water also led to a reduction in wastewater with a 35%\\ndecrease. A slowdown in construction growth also lead to a 40% decrease in lawn and garden\\nand construction sectors (collectively referred to as off-road equipment). Emissions from\\ntransportation decreased 17%. While certain factors, such as increased walkability, may have\\ncontributed to this decrease, no definitive explanation has been established. Commercial and\\nindustrial energy use is the only sector that saw a slight increase of approximately 880 MTCO2e', 'population': 161000, 'population_year': 2015, 'gdp': 7600000000.0, 'gdp_currency': 'USD     US Dollar', 'gdp_year': 2012.0, 'gdp_source': 'City of Lancaster Finance Department; U.S. Census Bureau, 2012 Economic Census, 2012 Economic Census of Island Areas, and 2012 Nonemployer Statistics.', 'average_annual_temperature_in_celsius\\u200b': 16.7, '\\u200baverage_altitude_m': 2000.0, '\\u200bland_area_in_square_km': 94.5, 'city_location': '(40.0379, -76.3055)', 'country_location': '(37.09024, -95.712891)'}, {'_id': ObjectId('65fc951cecc75b1bd8d14ea9'), 'account_number': 31149, 'organization': 'City of Athens', 'city': 'Athens', 'country': 'Greece', 'region': 'Europe', 'c40': 'C40', 'access': 'Public', 'reporting_year': 2017, 'accounting_year': '2015-01-01 - 2015-12-31', 'boundary': 'Administrative boundary of a local government', 'protocol': 'Global Protocol for Community-Scale Greenhouse Gas Emissions Inventories (GPC), (WRI, C40 and ICLEI)', 'protocol_column': None, 'gases_included': None, 'total_emissions_metric_tonnes_co2e': 5053422.0, 'scopes_included_': 'Total Scope 1, Scope 2 and Waste Scope 3 (Total BASIC emissions)', 'total_scope_1_emissions_metric_tonnes_co2e': 1364941.0, 'total_scope_2_emissions_metric_tonnes_co2e': 3360563.0, 'comment': None, 'increase/decrease_from_last_year': 'Decreased', 'reason_for_increase/decrease_in_emissions': \"The small decrease is due: a) to lower grid-supplied electricity consumption by the commercial and industrial sector attributed to the lower economic activities as a result of the country's financial crisis, b) to lower energy use in private transportation as the sales of fuels in the city have significantly decreased due to the rising in gasoline prices which led the citizens to prefer public transportation than using their own private vehicles\", 'population': 664046, 'population_year': 2011, 'gdp': 19857903168.0, 'gdp_currency': 'EUR     Euro', 'gdp_year': 2014.0, 'gdp_source': 'www.statistics.gr', 'average_annual_temperature_in_celsius\\u200b': 17.5, '\\u200baverage_altitude_m': 208.0, '\\u200bland_area_in_square_km': 39.0, 'city_location': '(37.98381, 23.727539)', 'country_location': '(39.074208, 21.824312)'}, {'_id': ObjectId('65fc951cecc75b1bd8d14eaa'), 'account_number': 55415, 'organization': 'City of Columbia, SC', 'city': 'Columbia, SC', 'country': 'USA', 'region': 'North America', 'c40': None, 'access': 'Public', 'reporting_year': 2017, 'accounting_year': '2015-01-01 - 2015-12-31', 'boundary': 'Administrative boundary of a local government', 'protocol': 'International Emissions Analysis Protocol (ICLEI)', 'protocol_column': \"We participated in ICELI's Fall Session Training, and recently completed our inventory. It is in  the review process now.\", 'gases_included': 'CO2; CH4; N2O', 'total_emissions_metric_tonnes_co2e': 1848635.0, 'scopes_included_': 'Total Scope 1 and Scope 2', 'total_scope_1_emissions_metric_tonnes_co2e': 858704.0, 'total_scope_2_emissions_metric_tonnes_co2e': 980622.0, 'comment': None, 'increase/decrease_from_last_year': 'This is our first year of calculation', 'reason_for_increase/decrease_in_emissions': 'This year is the first of our community inventory. Previously, we did City government only.', 'population': 133358, 'population_year': 2015, 'gdp': 36358000000.0, 'gdp_currency': 'USD     US Dollar', 'gdp_year': 2014.0, 'gdp_source': 'City of Columbia Office of Economic Development', 'average_annual_temperature_in_celsius\\u200b': 32.0, '\\u200baverage_altitude_m': 292.0, '\\u200bland_area_in_square_km': 132.0, 'city_location': '(34.0007, -81.0348)', 'country_location': '(37.09024, -95.712891)'}, {'_id': ObjectId('65fc951cecc75b1bd8d14eab'), 'account_number': 64014, 'organization': 'City of Cupertino', 'city': 'Cupertino', 'country': 'USA', 'region': 'North America', 'c40': None, 'access': 'Public', 'reporting_year': 2017, 'accounting_year': '2010-01-01 - 2010-12-31', 'boundary': 'Administrative boundary of a local government', 'protocol': 'U.S. Community Protocol for Accounting and Reporting of Greenhouse Gas Emissions (ICLEI)', 'protocol_column': None, 'gases_included': 'CO2; CH4; N2O', 'total_emissions_metric_tonnes_co2e': 296048.0, 'scopes_included_': 'Total Scope 1 and Scope 2', 'total_scope_1_emissions_metric_tonnes_co2e': 210597.0, 'total_scope_2_emissions_metric_tonnes_co2e': 85451.0, 'comment': 'Inventory includes a mix of primary and secondary sources as well as estimates based on models or scaling. See Cupertino Climate Action Plan, Chapter 2, pages 33-62 for Community and LGO inventories.', 'increase/decrease_from_last_year': 'This is our first year of calculation', 'reason_for_increase/decrease_in_emissions': None, 'population': 60572, 'population_year': 2015, 'gdp': 7207409711.0, 'gdp_currency': 'USD     US Dollar', 'gdp_year': 2015.0, 'gdp_source': 'Reflects current-dollar GDP for Cupertino, scaled down from metro area GDP of San Jose-Sunnyvale-Santa Clara, CA. Source: U.S. Dept. of Commerce Bureau of Economic Analysis, \"Gross Domestic Product by Metropolitan Area, 2015\"', 'average_annual_temperature_in_celsius\\u200b': 16.1, '\\u200baverage_altitude_m': 112.0, '\\u200bland_area_in_square_km': 29.3, 'city_location': '(37.322998, -122.032182)', 'country_location': '(37.09024, -95.712891)'}, {'_id': ObjectId('65fc951cecc75b1bd8d14eac'), 'account_number': 54443, 'organization': 'Landeshauptstadt Magdeburg', 'city': 'Magdeburg', 'country': 'Germany', 'region': 'Europe', 'c40': None, 'access': 'Public', 'reporting_year': 2017, 'accounting_year': '2012-01-01 - 2012-12-31', 'boundary': 'A metropolitan area', 'protocol': 'Other', 'protocol_column': 'Software ECORegion smart from theClimate Alliance', 'gases_included': 'CO2', 'total_emissions_metric_tonnes_co2e': 1400000.0, 'scopes_included_': 'Total Scope 1 and Scope 2', 'total_scope_1_emissions_metric_tonnes_co2e': nan, 'total_scope_2_emissions_metric_tonnes_co2e': nan, 'comment': None, 'increase/decrease_from_last_year': None, 'reason_for_increase/decrease_in_emissions': None, 'population': 238000, 'population_year': 2015, 'gdp': nan, 'gdp_currency': None, 'gdp_year': nan, 'gdp_source': None, 'average_annual_temperature_in_celsius\\u200b': 9.7, '\\u200baverage_altitude_m': 56.0, '\\u200bland_area_in_square_km': 201.8, 'city_location': '(52.1205, 11.6276)', 'country_location': '(51.165691, 10.451526)'}, {'_id': ObjectId('65fc951cecc75b1bd8d14ead'), 'account_number': 31159, 'organization': 'Alcaldía Metropolitana de Caracas', 'city': 'Caracas', 'country': 'Venezuela', 'region': 'Latin America', 'c40': 'C40', 'access': 'Public', 'reporting_year': 2017, 'accounting_year': '2015-01-01 - 2015-12-31', 'boundary': 'A metropolitan area', 'protocol': '2006 IPCC Guidelines for National Greenhouse Gas Inventories', 'protocol_column': 'We used only one methodology: the 2006 IPCC Guidelines for National Greenhouse Gas Inventory. Data was collected or estimated from official sources.', 'gases_included': 'CO2; CH4; N2O', 'total_emissions_metric_tonnes_co2e': 17774776.0, 'scopes_included_': 'Total Scope 1 and Scope 2', 'total_scope_1_emissions_metric_tonnes_co2e': 14364103.0, 'total_scope_2_emissions_metric_tonnes_co2e': 3410672.0, 'comment': 'Total solid wastes and waste water was extrapolated from measurements made that were assumed as representative of the whole city population', 'increase/decrease_from_last_year': 'Increased', 'reason_for_increase/decrease_in_emissions': 'Emissions have increased slightly mainly due to the increase electricity consumption and waste generation due to population growth. Emissions from the transport sector practically have not increased, reflecting the limited increase of the automotive park in 2015.', 'population': 3518590, 'population_year': 2015, 'gdp': 54000000000.0, 'gdp_currency': None, 'gdp_year': 2015.0, 'gdp_source': 'Estimated from Venezuelan Central Bank figures', 'average_annual_temperature_in_celsius\\u200b': 25.0, '\\u200baverage_altitude_m': 950.0, '\\u200bland_area_in_square_km': 776.0, 'city_location': '(10.4696404, -66.8037185)', 'country_location': '(6.42375, -66.58973)'}, {'_id': ObjectId('65fc951cecc75b1bd8d14eae'), 'account_number': 50392, 'organization': 'Prefeitura de Vitória', 'city': 'Vitória', 'country': 'Brazil', 'region': 'Latin America', 'c40': None, 'access': 'Public', 'reporting_year': 2017, 'accounting_year': '2015-07-15 - 2017-12-30', 'boundary': 'A metropolitan area', 'protocol': 'Global Protocol for Community-Scale Greenhouse Gas Emissions Inventories (GPC), (WRI, C40 and ICLEI)', 'protocol_column': None, 'gases_included': None, 'total_emissions_metric_tonnes_co2e': 2798291.17, 'scopes_included_': 'Total Scope 1, Scope 2 and Waste Scope 3 (Total BASIC emissions)', 'total_scope_1_emissions_metric_tonnes_co2e': 2424305.24, 'total_scope_2_emissions_metric_tonnes_co2e': 367108.66, 'comment': None, 'increase/decrease_from_last_year': 'This is our first year of calculation', 'reason_for_increase/decrease_in_emissions': 'Only now it was possible to carry out the inventory from institutional partnerships.', 'population': 359555, 'population_year': 2016, 'gdp': 9421016.0, 'gdp_currency': None, 'gdp_year': 2016.0, 'gdp_source': 'SEGES/PMV  & BGE; IJSN (2013).', 'average_annual_temperature_in_celsius\\u200b': 25.0, '\\u200baverage_altitude_m': 3.0, '\\u200bland_area_in_square_km': 98194.0, 'city_location': '(-20.333764, -40.377582)', 'country_location': '(-14.235004, -51.92528)'}, {'_id': ObjectId('65fc951cecc75b1bd8d14eaf'), 'account_number': 54623, 'organization': 'Prefeitura de Betim', 'city': 'Betim', 'country': 'Brazil', 'region': 'Latin America', 'c40': None, 'access': 'Public', 'reporting_year': 2017, 'accounting_year': '2013-01-01 - 2013-12-31', 'boundary': 'Administrative boundary of a local government', 'protocol': 'Global Protocol for Community-Scale Greenhouse Gas Emissions Inventories (GPC), (WRI, C40 and ICLEI)', 'protocol_column': 'A elaboração do primeiro inventário de emissões de GEE de Betim para os anos de 2012 e 2013 teve como base as metodologias propostas pelo Global Protocol for Community-Scale Greenhouse Gas Emission Inventories¹ (GPC).   Os setores reportados foram Energia Estacionária, Transporte e Resíduos. Para que a relatoria dos dados esteja adequada aos requisitos estabelecidos pela metodologia, os cálculos e a elaboração deste inventário estão em consonância com as orientações de 2006 do IPCC para inventários nacionais de GEE.Os princípios elencados na metodologia e respeitados na elaboração foram: relevância, abrangência, consistência, transparência e exatidão.', 'gases_included': None, 'total_emissions_metric_tonnes_co2e': 1763018.0, 'scopes_included_': 'Total Scope 1, Scope 2 and Waste Scope 3 (Total BASIC emissions)', 'total_scope_1_emissions_metric_tonnes_co2e': nan, 'total_scope_2_emissions_metric_tonnes_co2e': nan, 'comment': None, 'increase/decrease_from_last_year': 'Increased', 'reason_for_increase/decrease_in_emissions': 'Comparado ao ano base 2012, as emissões totais aumentaram em 2013, levando-se em conta as mesmas bases de cálculos e fontes de  dados utilizados. No processo de verificação, realizado somente para o ano de 2013, foram identificadas e corrigidas inconsistências. As emissões do setor de energia e transporte apresentaram redução e do setor Resíduos apresentaram aumento, conforme aba comparação do documento anexo à questão C1.9b desta relatoria.', 'population': 378089, 'population_year': 2010, 'gdp': 16409537.0, 'gdp_currency': 'BRL     Brazilian Real', 'gdp_year': 2013.0, 'gdp_source': 'IBGE', 'average_annual_temperature_in_celsius\\u200b': 20.0, '\\u200baverage_altitude_m': 860.0, '\\u200bland_area_in_square_km': 346.0, 'city_location': '(-19.967308, -44.20119)', 'country_location': '(-14.235004, -51.92528)'}, {'_id': ObjectId('65fc951cecc75b1bd8d14eb0'), 'account_number': 54092, 'organization': 'City of Ann Arbor', 'city': 'Ann Arbor', 'country': 'USA', 'region': 'North America', 'c40': None, 'access': 'Public', 'reporting_year': 2017, 'accounting_year': '2015-01-01 - 2016-01-01', 'boundary': 'A metropolitan area', 'protocol': 'International Emissions Analysis Protocol (ICLEI)', 'protocol_column': None, 'gases_included': 'CO2; CH4; N2O', 'total_emissions_metric_tonnes_co2e': 1420000.0, 'scopes_included_': 'Total Scope 1 and Scope 2', 'total_scope_1_emissions_metric_tonnes_co2e': 1420000.0, 'total_scope_2_emissions_metric_tonnes_co2e': nan, 'comment': \"Number doesn't include University of Michigan reported emissions\", 'increase/decrease_from_last_year': 'Decreased', 'reason_for_increase/decrease_in_emissions': 'Renewable Portfolio Standard for Michigan', 'population': 117770, 'population_year': 2015, 'gdp': 17000000000.0, 'gdp_currency': 'USD     US Dollar', 'gdp_year': 2012.0, 'gdp_source': 'https://www.brookings.edu/wp-content/uploads/2016/07/annarbor.pdf', 'average_annual_temperature_in_celsius\\u200b': 10.0, '\\u200baverage_altitude_m': 256.0, '\\u200bland_area_in_square_km': 74.0, 'city_location': '(42.2808, -83.743)', 'country_location': '(37.09024, -95.712891)'}, {'_id': ObjectId('65fc951cecc75b1bd8d14eb1'), 'account_number': 35393, 'organization': 'City of St Louis', 'city': 'St Louis', 'country': 'USA', 'region': 'North America', 'c40': None, 'access': 'Public', 'reporting_year': 2017, 'accounting_year': '2015-01-01 - 2015-12-31', 'boundary': 'Administrative boundary of a local government', 'protocol': 'Global Protocol for Community-Scale Greenhouse Gas Emissions Inventories (GPC), (WRI, C40 and ICLEI)', 'protocol_column': 'US Protocol, 4th edition, also used as a reference', 'gases_included': None, 'total_emissions_metric_tonnes_co2e': 7203267.0, 'scopes_included_': 'Total Scope 1, Scope 2 and Waste Scope 3 (Total BASIC emissions)', 'total_scope_1_emissions_metric_tonnes_co2e': 2853424.0, 'total_scope_2_emissions_metric_tonnes_co2e': 4239250.0, 'comment': None, 'increase/decrease_from_last_year': 'Increased', 'reason_for_increase/decrease_in_emissions': 'The City has encouraged and facilitated numerous sustainability initiatives in the past several years, however, growth in economic activity caused increases in the commercial sector since 2013.', 'population': 319294, 'population_year': 2010, 'gdp': 149900000000.0, 'gdp_currency': 'USD     US Dollar', 'gdp_year': 2014.0, 'gdp_source': 'https://www.stlouis-mo.gov/government/departments/budget/documents/upload/FY15-AOP-Summary-Overview-and-charts-S-1-to-S-82.pdf', 'average_annual_temperature_in_celsius\\u200b': 13.9, '\\u200baverage_altitude_m': 142.0, '\\u200bland_area_in_square_km': 170.9, 'city_location': '(38.627, -90.1994)', 'country_location': '(37.09024, -95.712891)'}, {'_id': ObjectId('65fc951cecc75b1bd8d14eb2'), 'account_number': 50673, 'organization': 'Faro', 'city': 'Faro', 'country': 'Portugal', 'region': 'Europe', 'c40': None, 'access': 'Public', 'reporting_year': 2017, 'accounting_year': '2014-01-01 - 2014-12-31', 'boundary': 'Administrative boundary of a local government', 'protocol': 'Other', 'protocol_column': 'Irradiare Science of evolution', 'gases_included': 'CO2', 'total_emissions_metric_tonnes_co2e': 246.0, 'scopes_included_': 'Total Scope 1 and Scope 2', 'total_scope_1_emissions_metric_tonnes_co2e': 104.0, 'total_scope_2_emissions_metric_tonnes_co2e': 143.0, 'comment': 'The data was collected in 2014, page 72, frame 21', 'increase/decrease_from_last_year': 'Decreased', 'reason_for_increase/decrease_in_emissions': 'The data was collected in 2014 show that the emissions decreased in scope1 and increased in scope2. But in general the emissions decreased', 'population': 61019, 'population_year': 2015, 'gdp': 13231.0, 'gdp_currency': 'EUR     Euro', 'gdp_year': 2013.0, 'gdp_source': 'INE(2013) Estudo do poder de compra', 'average_annual_temperature_in_celsius\\u200b': 17.8, '\\u200baverage_altitude_m': 200.0, '\\u200bland_area_in_square_km': 203.0, 'city_location': '(37.019355, -7.93044)', 'country_location': '(39.399872, -8.224454)'}, {'_id': ObjectId('65fc951cecc75b1bd8d14eb3'), 'account_number': 36045, 'organization': 'Santiago de Guayaquil', 'city': 'Santiago de Guayaquil', 'country': 'Ecuador', 'region': 'Latin America', 'c40': None, 'access': 'Public', 'reporting_year': 2017, 'accounting_year': '2014-01-01 - 2014-12-31', 'boundary': 'Administrative boundary of a local government', 'protocol': 'Other: ISO 14064', 'protocol_column': 'Data generating activity Greenhouse Gas (GHG) multiplied by the emission factor (EF) or removal of GHG.Eg = Da x EFaWhere, Eg = corresponds to the emission of GHG.Da = corresponds to the data of GHG generating activity.EFa = corresponds to emission factor generating activity.', 'gases_included': 'CO2; CH4; N2O', 'total_emissions_metric_tonnes_co2e': 6787374.0, 'scopes_included_': 'Total Scope 1 and Scope 2', 'total_scope_1_emissions_metric_tonnes_co2e': 5429899.0, 'total_scope_2_emissions_metric_tonnes_co2e': 1357475.0, 'comment': None, 'increase/decrease_from_last_year': 'This is our first year of calculation', 'reason_for_increase/decrease_in_emissions': None, 'population': 2644891, 'population_year': 2017, 'gdp': 3187000000.0, 'gdp_currency': 'USD     US Dollar', 'gdp_year': 2016.0, 'gdp_source': 'Banco Central del Ecuador, INEC (2010), Municipio de Guayaquil', 'average_annual_temperature_in_celsius\\u200b': 26.0, '\\u200baverage_altitude_m': 4.0, '\\u200bland_area_in_square_km': 5047.0, 'city_location': '(-2.170998, -79.922359)', 'country_location': '(-1.831239, -78.183406)'}, {'_id': ObjectId('65fc951cecc75b1bd8d14eb4'), 'account_number': 59158, 'organization': 'Moroni City', 'city': 'Moroni', 'country': 'Comoros', 'region': 'Africa', 'c40': None, 'access': 'Public', 'reporting_year': 2017, 'accounting_year': '2016-01-01 - 2016-12-31', 'boundary': 'Administrative boundary of a local government', 'protocol': 'Global Protocol for Community-Scale Greenhouse Gas Emissions Inventories (GPC), (WRI, C40 and ICLEI)', 'protocol_column': 'Les données pour la compilation cet inventaire sont obtenues à partir de plusieurs sources. Une initiale revue littéraire a donné lieu à un certain nombre de documents qui ont fourni des données sur le contexte local et quelques ressources sur l’émission des gaz dans la ville.Une visite de trois jours de la ville, par le consultant, et grâce à des entretiens avec différentes parties prenantes, a fourni plus des informations et des données sur les activités locales responsables d’émission de GES. L’examen initial, avec les consultations et certaines données recueillies par le point focal du projet, a fourni un mélange de données complètes et incomplètes.Plusieurs hypothèses ont été faites là où les données sont incomplètes, et à défauts le GIEC a été utilisé en particulier pour déterminer les principaux facteurs d’émissions et les données proxy ont été utilisées pour les sources d’émission des GES là où les informations locales ne sont pas disponibles ou sont incomplètes.', 'gases_included': None, 'total_emissions_metric_tonnes_co2e': 49285.0, 'scopes_included_': 'Total Scope 1, Scope 2 and Waste Scope 3 (Total BASIC emissions)', 'total_scope_1_emissions_metric_tonnes_co2e': 33277.0, 'total_scope_2_emissions_metric_tonnes_co2e': 13340.0, 'comment': None, 'increase/decrease_from_last_year': 'This is our first year of calculation', 'reason_for_increase/decrease_in_emissions': None, 'population': 55541, 'population_year': 2016, 'gdp': 86740506.0, 'gdp_currency': 'USD     US Dollar', 'gdp_year': 2016.0, 'gdp_source': \"Le PIB, en Millions de dollars US (PPC 2016), est estimé par le capteur de données du total national du cahier de la CIA en fonction de la proportion de la population des Comores qui habitent Moroni (Notes_1). Le chiffre réel est probablement plus élevé, selon le cahier de l'enquête de la CIA, 50% de l'économie concerne l’agriculture et que les activités agricoles sont limitées à Moroni, ce qui est probablement un contributeur majeur à la fraction de 40% (Services) du PIB total (1259 milliards de dollars US ) Étant donné qu'il s'agit de la capitale avec un grand port.\", 'average_annual_temperature_in_celsius\\u200b': 23.0, '\\u200baverage_altitude_m': 19.0, '\\u200bland_area_in_square_km': 30.0, 'city_location': '(-11.717216, 43.247315)', 'country_location': '(-11.6455, 43.3333)'}, {'_id': ObjectId('65fc951cecc75b1bd8d14eb5'), 'account_number': 58609, 'organization': 'City of Ærøskøbing', 'city': 'Ærøskøbing', 'country': 'Denmark', 'region': 'Europe', 'c40': None, 'access': 'Public', 'reporting_year': 2017, 'accounting_year': '2016-01-01 - 2016-12-31', 'boundary': 'Administrative boundary of a local government', 'protocol': 'Other', 'protocol_column': None, 'gases_included': 'CO2', 'total_emissions_metric_tonnes_co2e': 185.0, 'scopes_included_': 'Total Scope 1 and Scope 2', 'total_scope_1_emissions_metric_tonnes_co2e': nan, 'total_scope_2_emissions_metric_tonnes_co2e': nan, 'comment': None, 'increase/decrease_from_last_year': 'Decreased', 'reason_for_increase/decrease_in_emissions': 'More renewable energi.', 'population': 6180, 'population_year': 2017, 'gdp': nan, 'gdp_currency': None, 'gdp_year': nan, 'gdp_source': None, 'average_annual_temperature_in_celsius\\u200b': 10.0, '\\u200baverage_altitude_m': 10.0, '\\u200bland_area_in_square_km': 88.0, 'city_location': '(54.891456, 10.404684)', 'country_location': '(56.26392, 9.501785)'}, {'_id': ObjectId('65fc951cecc75b1bd8d14eb6'), 'account_number': 31113, 'organization': 'City of Yokohama', 'city': 'Yokohama', 'country': 'Japan', 'region': 'East Asia', 'c40': 'C40', 'access': 'Public', 'reporting_year': 2017, 'accounting_year': '2014-04-01 - 2015-03-31', 'boundary': 'Administrative boundary of a local government', 'protocol': 'Other', 'protocol_column': \"Yokohama determines levels of greenhouse gas (GHG) emissions, promotes their reduction, and manages the progress of plans to this end. These activities are in accordance with the provisions of the Act on Promotion of Global Warming Countermeasures, and based on two adhoc action plans (Yokohama City Action Plan for Global Warming Countermeasures), one for the entire city, and the other for city operations and works (prepared by City Hall). The former one was revised, the latter one was made in 2014. The Cabinet Secretariat(Cabinet Office has held since January, 2015) assesses and releases information on the progress of plans in the city as a whole, because Yokohama is one of the country's environmental model cities.\", 'gases_included': 'CO2; PFCs; CH4; SF6; N2O; NF3', 'total_emissions_metric_tonnes_co2e': 20375000.0, 'scopes_included_': 'Total Scope 1 and Scope 2', 'total_scope_1_emissions_metric_tonnes_co2e': 11557000.0, 'total_scope_2_emissions_metric_tonnes_co2e': 8818000.0, 'comment': 'Almost of the data is calculated by hearing by businesses but some data is calculated by propotional division of statistics', 'increase/decrease_from_last_year': 'Decreased', 'reason_for_increase/decrease_in_emissions': 'Reducing of energy consumption and impronemnt of emission factor by power generation', 'population': 3731096, 'population_year': 2017, 'gdp': 12341800000000.0, 'gdp_currency': 'JPY     Japanese yen', 'gdp_year': 2014.0, 'gdp_source': 'The calculation of citizen economy in Yokohama, 2014, (issued in 2016)', 'average_annual_temperature_in_celsius\\u200b': 16.7, '\\u200baverage_altitude_m': 39.0, '\\u200bland_area_in_square_km': 435.0, 'city_location': '(35.4437078, 139.6380256)', 'country_location': '(36.204824, 138.252924)'}, {'_id': ObjectId('65fc951cecc75b1bd8d14eb7'), 'account_number': 31185, 'organization': 'City of Warsaw', 'city': 'Warsaw', 'country': 'Poland', 'region': 'Europe', 'c40': 'C40', 'access': 'Public', 'reporting_year': 2017, 'accounting_year': '2014-01-01 - 2014-12-31', 'boundary': 'Administrative boundary of a local government', 'protocol': 'Other', 'protocol_column': 'Covenant of Mayors', 'gases_included': 'CO2', 'total_emissions_metric_tonnes_co2e': 11721774.0, 'scopes_included_': 'Total Scope 1 and Scope 2', 'total_scope_1_emissions_metric_tonnes_co2e': 7930452.0, 'total_scope_2_emissions_metric_tonnes_co2e': 3791322.0, 'comment': None, 'increase/decrease_from_last_year': 'Decreased', 'reason_for_increase/decrease_in_emissions': 'Reduction of CO2 emission was caused by lower consumption of heat and electricity for buildings which may have been caused by investments in thermal retrofitting of buildings, reduction of energy use due to higher social awareness (due to SEAP educational campaigns) and warmer winter.', 'population': 1629037, 'population_year': 2016, 'gdp': 226356000000.0, 'gdp_currency': 'PLN     Zloty', 'gdp_year': 2014.0, 'gdp_source': 'Central Statistical Office of Poland', 'average_annual_temperature_in_celsius\\u200b': 8.0, '\\u200baverage_altitude_m': 103.0, '\\u200bland_area_in_square_km': 517.0, 'city_location': '(52.2296756, 21.0122287)', 'country_location': '(51.919438, 19.145136)'}, {'_id': ObjectId('65fc951cecc75b1bd8d14eb8'), 'account_number': 54100, 'organization': 'City of Columbia, MO', 'city': 'Columbia, MO', 'country': 'USA', 'region': 'North America', 'c40': None, 'access': 'Public', 'reporting_year': 2017, 'accounting_year': '2015-01-01 - 2015-12-31', 'boundary': 'Administrative boundary of a local government', 'protocol': 'International Emissions Analysis Protocol (ICLEI)', 'protocol_column': 'We are using the Clear Path calculator to calculate our emissions.', 'gases_included': 'CO2; CH4; N2O', 'total_emissions_metric_tonnes_co2e': 3247578.0, 'scopes_included_': 'Total Scope 1 and Scope 2', 'total_scope_1_emissions_metric_tonnes_co2e': 251378.0, 'total_scope_2_emissions_metric_tonnes_co2e': 2996154.0, 'comment': 'Some sections are more accurate than others. Energy is perhaps the most accurate section. The inventory is not yet complete because we are yet to calculate life cycle emissions of materials that pass through the city and upstream consumption activities,', 'increase/decrease_from_last_year': 'Other:', 'reason_for_increase/decrease_in_emissions': 'We are yet to complete our inventory so we cannot say at this point. We hope to complete our inventory by July 2017. The incomplete section is the transportation section for which we are waiting for federal highway statistics data in order to estimate our VMT.', 'population': 119098, 'population_year': 2017, 'gdp': 8025000000.0, 'gdp_currency': 'USD     US Dollar', 'gdp_year': 2014.0, 'gdp_source': 'Missouri Economy Research and Information Center', 'average_annual_temperature_in_celsius\\u200b': 12.6, '\\u200baverage_altitude_m': 231.0, '\\u200bland_area_in_square_km': 163.4, 'city_location': '(38.951705, -92.334072)', 'country_location': '(37.09024, -95.712891)'}, {'_id': ObjectId('65fc951cecc75b1bd8d14eb9'), 'account_number': 13067, 'organization': 'City of New Orleans', 'city': 'New Orleans', 'country': 'USA', 'region': 'North America', 'c40': 'C40', 'access': 'Public', 'reporting_year': 2017, 'accounting_year': '2014-01-01 - 2014-12-31', 'boundary': 'Administrative boundary of a local government', 'protocol': 'Global Protocol for Community-Scale Greenhouse Gas Emissions Inventories (GPC), (WRI, C40 and ICLEI)', 'protocol_column': None, 'gases_included': None, 'total_emissions_metric_tonnes_co2e': 3606199.0, 'scopes_included_': 'Total Scope 1, Scope 2 and Waste Scope 3 (Total BASIC emissions)', 'total_scope_1_emissions_metric_tonnes_co2e': 3519969.0, 'total_scope_2_emissions_metric_tonnes_co2e': 1140961.0, 'comment': None, 'increase/decrease_from_last_year': 'Decreased', 'reason_for_increase/decrease_in_emissions': 'We submitted our 2014 baseline inventory last year as we had just completed. However, we subsequently learned more about our electricity mix and realized that our mix was not reflective of the eGrid mix and had much more nuclear and must less natural gas. We adjusted the inventory to reflect the right electricity emissions factor and that is the source of our decreased total inventory.', 'population': 391495, 'population_year': 2017, 'gdp': 78478000000.0, 'gdp_currency': 'USD     US Dollar', 'gdp_year': 2015.0, 'gdp_source': 'Bureau of Economic Analysis', 'average_annual_temperature_in_celsius\\u200b': 20.9, '\\u200baverage_altitude_m': -1.0, '\\u200bland_area_in_square_km': 468.0, 'city_location': '(29.9511, -90.0715)', 'country_location': '(37.09024, -95.712891)'}, {'_id': ObjectId('65fc951cecc75b1bd8d14eba'), 'account_number': 50672, 'organization': 'Santarém', 'city': 'Santarém', 'country': 'Portugal', 'region': 'Europe', 'c40': None, 'access': 'Public', 'reporting_year': 2017, 'accounting_year': '2014-01-01 - 2014-12-31', 'boundary': 'Administrative boundary of a local government', 'protocol': '2006 IPCC Guidelines for National Greenhouse Gas Inventories', 'protocol_column': None, 'gases_included': 'CO2', 'total_emissions_metric_tonnes_co2e': 245886.0, 'scopes_included_': 'Total Scope 1 and Scope 2', 'total_scope_1_emissions_metric_tonnes_co2e': nan, 'total_scope_2_emissions_metric_tonnes_co2e': 60896.0, 'comment': 'The methodology used to calculate GHG emissions of Santarém municipality is based in the guidelines of Joint Research Centre of the European Commission for SEAP development and the calculations are based on relevant socio-economic and energetic information provided by official statistics at municipal level.These results were already approved by Covenant of Mayors initiative.', 'increase/decrease_from_last_year': None, 'reason_for_increase/decrease_in_emissions': None, 'population': 61752, 'population_year': 2011, 'gdp': nan, 'gdp_currency': None, 'gdp_year': nan, 'gdp_source': None, 'average_annual_temperature_in_celsius\\u200b': 16.0, '\\u200baverage_altitude_m': 108.0, '\\u200bland_area_in_square_km': 553.0, 'city_location': '(39.236669, -8.685994)', 'country_location': '(39.399872, -8.224454)'}, {'_id': ObjectId('65fc951cecc75b1bd8d14ebb'), 'account_number': 50650, 'organization': 'City of Gibraltar', 'city': 'Gibraltar', 'country': 'Gibraltar', 'region': 'Europe', 'c40': None, 'access': 'Public', 'reporting_year': 2017, 'accounting_year': '2015-01-01 - 2015-12-31', 'boundary': 'Administrative boundary of a local government', 'protocol': 'Global Protocol for Community-Scale Greenhouse Gas Emissions Inventories (GPC), (WRI, C40 and ICLEI)', 'protocol_column': \"'Global Protocol for Community-Scale Greenhouse Gas Emissions (GPC)’. Following IPCC 2006 Guidelines for most emission sources.\", 'gases_included': None, 'total_emissions_metric_tonnes_co2e': 263352.0, 'scopes_included_': 'Total Scope 1, Scope 2 and Waste Scope 3 (Total BASIC emissions)', 'total_scope_1_emissions_metric_tonnes_co2e': 286131.0, 'total_scope_2_emissions_metric_tonnes_co2e': 158441.0, 'comment': None, 'increase/decrease_from_last_year': 'Decreased', 'reason_for_increase/decrease_in_emissions': 'In comparison to the 2013 inventory , the emissions from Gibraltar are largely unchanged for scope 1. As in 2013, the scope 1 emissions are dominated by transport emissions, which have remained fairly constant across the period, demonstrating a 5kt increase. This change is largely due to increases in estimates in private marine fuel consumption after the use of more detailed, disaggregated fuel import data, as described in Section 4.2.1 of the inventory report. IPPU emissions remain a significant source of scope 1 emissions, and have also increased by 1kt in comparison to 2013. Emissions in this sector are estimated using population as a proxy, and therefore population growth within Gibraltar will have somewhat influenced the calculated increase in scope 1 emissions. Improved data has also been used to calculate IPPU emissions in Gibraltar; for example, activity data regarding MDIs and N2O use has been provided by the Gibraltar Health Authority, rather than relying on scaling UK data. \\nWhen scope 2 emissions are considered, there is a 30kt decline in total emissions. A reduction in consumed gas oil used for electricity generation and an apparent improvement of the implied emission factor cause a decline in emissions from residential, and commercial, industrial, and government buildings and facilities. This is largely responsible for this trend.\\nWaterborne navigation emissions have declined due to a methodology change within the calculation of emissions from shipping. As outlined in Section 4.2.3 of the inventory report, the definition of shipping attributable to Gibraltar on the basis of the recorded ‘purpose of call’ has undergone significant changes, and as a result, the emissions from scope 3 are largely reduced in 2015. \\nBecause of a large number of method changes, an updated reporting approach using the now-finalised GPC, and data for the 2015 inventory method not being available for updating the 2013 inventory, it is not possible to confidently identify how much change in emissions is due to changing method versus changing activity. Future years will seek to ensure that the time series is revised where possible to allow such comparisons to be made.', 'population': 33528, 'population_year': 2015, 'gdp': 1637750000.0, 'gdp_currency': 'GIP     Gibraltar pound', 'gdp_year': 2015.0, 'gdp_source': 'https://www.gibraltar.gov.gi/new/sites/default/files/HMGoG_Documents/Abstract%202014.pdf', 'average_annual_temperature_in_celsius\\u200b': 18.0, '\\u200baverage_altitude_m': nan, '\\u200bland_area_in_square_km': 6.6, 'city_location': '(36.1407734, -5.3535994)', 'country_location': '(36.140751, -5.353585)'}, {'_id': ObjectId('65fc951cecc75b1bd8d14ebc'), 'account_number': 60433, 'organization': 'City of Hvidovre', 'city': 'Hvidovre', 'country': 'Denmark', 'region': 'Europe', 'c40': None, 'access': 'Public', 'reporting_year': 2017, 'accounting_year': '2014-01-01 - 2014-12-31', 'boundary': 'Administrative boundary of a local government', 'protocol': 'Global Protocol for Community-Scale Greenhouse Gas Emissions Inventories (GPC), (WRI, C40 and ICLEI)', 'protocol_column': 'calculations made by web based tool provided by the Danish Government', 'gases_included': None, 'total_emissions_metric_tonnes_co2e': 219396.0, 'scopes_included_': 'Total Scope 1, Scope 2 and Waste Scope 3 (Total BASIC emissions)', 'total_scope_1_emissions_metric_tonnes_co2e': 118724.0, 'total_scope_2_emissions_metric_tonnes_co2e': 100672.0, 'comment': None, 'increase/decrease_from_last_year': 'This is our first year of calculation', 'reason_for_increase/decrease_in_emissions': 'We only account the emissions from the municipal buildings. Here the emissions are decreasing.', 'population': 52831, 'population_year': 2016, 'gdp': 18709027233.0, 'gdp_currency': 'DKK     Danish Krone', 'gdp_year': 2015.0, 'gdp_source': 'Based on population and national GDP 2014', 'average_annual_temperature_in_celsius\\u200b': 7.7, '\\u200baverage_altitude_m': 10.0, '\\u200bland_area_in_square_km': 25.0, 'city_location': '(55.642522, 12.475386)', 'country_location': '(56.26392, 9.501785)'}, {'_id': ObjectId('65fc951cecc75b1bd8d14ebd'), 'account_number': 57347, 'organization': 'Pingtung County Government', 'city': 'Pingtung ', 'country': 'Taiwan', 'region': 'East Asia', 'c40': None, 'access': 'Public', 'reporting_year': 2017, 'accounting_year': '2013-01-01 - 2013-12-31', 'boundary': 'Administrative boundary of a local government', 'protocol': 'Global Protocol for Community-Scale Greenhouse Gas Emissions Inventories (GPC), (WRI, C40 and ICLEI)', 'protocol_column': None, 'gases_included': None, 'total_emissions_metric_tonnes_co2e': 4662549.56, 'scopes_included_': 'Total Scope 1, Scope 2 and Waste Scope 3 (Total BASIC emissions)', 'total_scope_1_emissions_metric_tonnes_co2e': 2412301.23, 'total_scope_2_emissions_metric_tonnes_co2e': 2200856.14, 'comment': None, 'increase/decrease_from_last_year': 'Increased', 'reason_for_increase/decrease_in_emissions': 'The main increased department are energy, industry, and waste', 'population': 835792, 'population_year': 2016, 'gdp': 529700000000.0, 'gdp_currency': 'USD     US Dollar', 'gdp_year': 2016.0, 'gdp_source': 'Ministry of Economic Affairs', 'average_annual_temperature_in_celsius\\u200b': 25.0, '\\u200baverage_altitude_m': 500.0, '\\u200bland_area_in_square_km': 2775.0, 'city_location': '(22.6558, 120.4703)', 'country_location': '(23.69781, 120.960515)'}, {'_id': ObjectId('65fc951cecc75b1bd8d14ebe'), 'account_number': 50555, 'organization': 'City of Hamilton', 'city': 'Hamilton', 'country': 'Canada', 'region': 'North America', 'c40': None, 'access': 'Public', 'reporting_year': 2017, 'accounting_year': '2015-01-01 - 2015-12-31', 'boundary': 'Administrative boundary of a local government', 'protocol': 'Global Protocol for Community-Scale Greenhouse Gas Emissions Inventories (GPC), (WRI, C40 and ICLEI)', 'protocol_column': \"Waste information directly from Public Works and reports to Ministry of Environment re: energy capture of methane control at landfill Transportation and Agriculture data from Statistics Canada Census Industrial (Steel Sector) GHG emissions data reported directly to Canada's National Pollutants Release Inventory (NPRI)  Commercial, Residential, Industrial (not Steel) from local electricity and natural gas utilities.\", 'gases_included': None, 'total_emissions_metric_tonnes_co2e': nan, 'scopes_included_': 'Total Scope 1, Scope 2 and Waste Scope 3 (Total BASIC emissions)', 'total_scope_1_emissions_metric_tonnes_co2e': 16831295.0, 'total_scope_2_emissions_metric_tonnes_co2e': 1622420.0, 'comment': None, 'increase/decrease_from_last_year': 'Decreased', 'reason_for_increase/decrease_in_emissions': 'Total tonnes of CO2 equivalent has decreased from baseline year of 2006 by approximately 22% and decreased 7% from 2014 inventory year. This can be attributed to Province of Ontario phasing out coal for electricity generation and the unusually cold winters in 2013 and 2014.', 'population': 550700, 'population_year': 2015, 'gdp': 22228328.0, 'gdp_currency': 'CAD     Canadian Dollar', 'gdp_year': 2014.0, 'gdp_source': 'The Conference Board of Canada – Metropolitan Outlook 1: Winter 2015', 'average_annual_temperature_in_celsius\\u200b': 8.2, '\\u200baverage_altitude_m': 75.0, '\\u200bland_area_in_square_km': 1117.0, 'city_location': '(43.250021, -79.866091)', 'country_location': '(56.130366, -106.346771)'}, {'_id': ObjectId('65fc951cecc75b1bd8d14ebf'), 'account_number': 31181, 'organization': 'City of Philadelphia', 'city': 'Philadelphia', 'country': 'USA', 'region': 'North America', 'c40': 'C40', 'access': 'Public', 'reporting_year': 2017, 'accounting_year': '2014-01-01 - 2014-12-31', 'boundary': 'Administrative boundary of a local government', 'protocol': 'Global Protocol for Community-Scale Greenhouse Gas Emissions Inventories (GPC), (WRI, C40 and ICLEI)', 'protocol_column': None, 'gases_included': None, 'total_emissions_metric_tonnes_co2e': 17355479.0, 'scopes_included_': 'Total Scope 1, Scope 2 and Waste Scope 3 (Total BASIC emissions)', 'total_scope_1_emissions_metric_tonnes_co2e': 13245864.0, 'total_scope_2_emissions_metric_tonnes_co2e': 5578123.0, 'comment': None, 'increase/decrease_from_last_year': 'Decreased', 'reason_for_increase/decrease_in_emissions': 'See www.phila.gov/green for Greenworks: A Vision for a Sustainable Philadelphia, which describes progress on carbon reductions to date. Philadelphia will be releasing a citywide energy vision document later in 2017 with more details on the expected trajectory of emissions in the city and strategies for meeting our 80 by 50 commitment.', 'population': 1555072, 'population_year': 2015, 'gdp': 411161000000.0, 'gdp_currency': 'USD     US Dollar', 'gdp_year': 2015.0, 'gdp_source': 'Bureau of Economic Analysis', 'average_annual_temperature_in_celsius\\u200b': 13.3, '\\u200baverage_altitude_m': 12.0, '\\u200bland_area_in_square_km': 367.0, 'city_location': '(39.952335, -75.163789)', 'country_location': '(37.09024, -95.712891)'}, {'_id': ObjectId('65fc951cecc75b1bd8d14ec0'), 'account_number': 35872, 'organization': 'Municipality of Recife', 'city': 'Recife', 'country': 'Brazil', 'region': 'Latin America', 'c40': None, 'access': 'Public', 'reporting_year': 2017, 'accounting_year': '2015-01-01 - 2015-12-31', 'boundary': 'Administrative boundary of a local government', 'protocol': 'Global Protocol for Community-Scale Greenhouse Gas Emissions Inventories (GPC), (WRI, C40 and ICLEI)', 'protocol_column': None, 'gases_included': None, 'total_emissions_metric_tonnes_co2e': 2329792.0, 'scopes_included_': 'Total Scope 1, Scope 2 and Waste Scope 3 (Total BASIC emissions)', 'total_scope_1_emissions_metric_tonnes_co2e': 1333830.0, 'total_scope_2_emissions_metric_tonnes_co2e': 371415.0, 'comment': None, 'increase/decrease_from_last_year': 'Decreased', 'reason_for_increase/decrease_in_emissions': \"The reason why the emissions from Recife has decreased was the change on methodology to calculate it. According to that, biofuels aren't considered carbon emitter anymore.\", 'population': 1625583, 'population_year': 2016, 'gdp': 50688395.0, 'gdp_currency': 'BRL     Brazilian Real', 'gdp_year': 2014.0, 'gdp_source': 'IBGE', 'average_annual_temperature_in_celsius\\u200b': 26.0, '\\u200baverage_altitude_m': 4.0, '\\u200bland_area_in_square_km': 218.0, 'city_location': '(-8.057838, -34.882897)', 'country_location': '(-14.235004, -51.92528)'}, {'_id': ObjectId('65fc951cecc75b1bd8d14ec1'), 'account_number': 61753, 'organization': 'Yilan County Government', 'city': 'Yilan County', 'country': 'Taiwan', 'region': 'East Asia', 'c40': None, 'access': 'Public', 'reporting_year': 2017, 'accounting_year': '2014-01-01 - 2014-12-31', 'boundary': 'Administrative boundary of a local government', 'protocol': '2006 IPCC Guidelines for National Greenhouse Gas Inventories', 'protocol_column': None, 'gases_included': 'CO2; PFCs; CH4; SF6; N2O; NF3; HFCs', 'total_emissions_metric_tonnes_co2e': 8691225.0, 'scopes_included_': 'Total Scope 1 and Scope 2', 'total_scope_1_emissions_metric_tonnes_co2e': 6957473.31, 'total_scope_2_emissions_metric_tonnes_co2e': 1733751.73, 'comment': None, 'increase/decrease_from_last_year': 'Stayed the same', 'reason_for_increase/decrease_in_emissions': None, 'population': 458117, 'population_year': 2015, 'gdp': nan, 'gdp_currency': None, 'gdp_year': nan, 'gdp_source': None, 'average_annual_temperature_in_celsius\\u200b': 22.3, '\\u200baverage_altitude_m': 20.0, '\\u200bland_area_in_square_km': 2143.0, 'city_location': '(24.730918, 121.763222)', 'country_location': '(23.6978, 120.9605)'}, {'_id': ObjectId('65fc951cecc75b1bd8d14ec2'), 'account_number': 58395, 'organization': 'Bærum Kommune', 'city': 'Bærum', 'country': 'Norway', 'region': 'Europe', 'c40': None, 'access': 'Public', 'reporting_year': 2017, 'accounting_year': '2015-01-01 - 2015-12-31', 'boundary': 'Administrative boundary of a local government', 'protocol': 'Other', 'protocol_column': 'Statistics Norway is delivering GHG-statistics for Norwegian counties, including Bærum. They are  the main contributer to this inventory. For more information see www.ssb.no/en/klimagassn', 'gases_included': 'CO2; CH4; N2O', 'total_emissions_metric_tonnes_co2e': 227962.0, 'scopes_included_': 'Total Scope 1 and Scope 2', 'total_scope_1_emissions_metric_tonnes_co2e': nan, 'total_scope_2_emissions_metric_tonnes_co2e': nan, 'comment': 'Statistics Norway is delivering GHG-statistics for Norwegian counties, including Bærum. They are  the main contributer to this inventory. For more information see www.ssb.no/en/klimagassn', 'increase/decrease_from_last_year': 'Decreased', 'reason_for_increase/decrease_in_emissions': 'The total emissions has decreased due to phasing out fossile fuels for heating of buildings.', 'population': 122660, 'population_year': 2016, 'gdp': 72600000000.0, 'gdp_currency': 'NOK     Norwegian Krone', 'gdp_year': 2016.0, 'gdp_source': 'ssb.no', 'average_annual_temperature_in_celsius\\u200b': 5.7, '\\u200baverage_altitude_m': 15.0, '\\u200bland_area_in_square_km': 192.0, 'city_location': '(59.920545, 10.593765)', 'country_location': '(60.472024, 8.468946)'}, {'_id': ObjectId('65fc951cecc75b1bd8d14ec3'), 'account_number': 36159, 'organization': 'City of Lisbon', 'city': 'Lisbon', 'country': 'Portugal', 'region': 'Europe', 'c40': None, 'access': 'Public', 'reporting_year': 2017, 'accounting_year': '2014-01-01 - 2014-12-31', 'boundary': 'Administrative boundary of a local government', 'protocol': 'Other', 'protocol_column': 'The data for the final energy use in the city of Lisbon was obtained from the Portuguese Directorate-General for Energy and Geology (www.dgeg.pt). To estimate the emissions from fuel use (scope 1), the emission factors from the 2006 IPCC Guidelines for National Greenhouse Gas Inventories were used. To estimate the emissions from electricity use (scope 2), the emission factor of the Portuguese electric system was obtained from National Energy Balance  from the Portuguese Directorate-General for Energy and Geology (www.dgeg.pt). The latest value was used, which refers to 2014 conditions.', 'gases_included': 'CO2', 'total_emissions_metric_tonnes_co2e': 1934361.0, 'scopes_included_': 'Total Scope 1 and Scope 2', 'total_scope_1_emissions_metric_tonnes_co2e': 1023910.0, 'total_scope_2_emissions_metric_tonnes_co2e': 910451.0, 'comment': 'Value obtained by energy matrix analisys', 'increase/decrease_from_last_year': 'Decreased', 'reason_for_increase/decrease_in_emissions': 'The decrease in electricity emissions is related with increase of renewables in the national electricity generation mix. The decrease in diesel and gasoline is related with a correction of national statistics of energy for the period 2009-2012, where this figures were overestimated for Lisbon. The 2013 and 2014 values are now correct. Fuel-oil consumption also decreased by conversion to natural gas. Natural gas consumption increased.', 'population': 547773, 'population_year': 2011, 'gdp': 68133192.0, 'gdp_currency': None, 'gdp_year': 2010.0, 'gdp_source': 'http://www.portugalglobal.pt/EN/InvestInPortugal/WhyPortugal/Lisbon/Documents/DatasheetNUTIII_Grande_Lisboa.pdf', 'average_annual_temperature_in_celsius\\u200b': 18.1, '\\u200baverage_altitude_m': 50.0, '\\u200bland_area_in_square_km': 85.0, 'city_location': '(38.7222524, -9.1393366)', 'country_location': '(39.399872, -8.224454)'}, {'_id': ObjectId('65fc951cecc75b1bd8d14ec4'), 'account_number': 35862, 'organization': 'City of Detroit', 'city': 'Detroit', 'country': 'USA', 'region': 'North America', 'c40': None, 'access': 'Public', 'reporting_year': 2017, 'accounting_year': '2012-01-01 - 2012-12-31', 'boundary': 'Administrative boundary of a local government', 'protocol': 'U.S. Community Protocol for Accounting and Reporting of Greenhouse Gas Emissions (ICLEI)', 'protocol_column': None, 'gases_included': 'CO2; CH4; N2O', 'total_emissions_metric_tonnes_co2e': 10329322.0, 'scopes_included_': 'Total Scope 1 and Scope 2', 'total_scope_1_emissions_metric_tonnes_co2e': 5520240.0, 'total_scope_2_emissions_metric_tonnes_co2e': 4809082.0, 'comment': None, 'increase/decrease_from_last_year': 'Stayed the same', 'reason_for_increase/decrease_in_emissions': 'This is the only inventory we have done.  The data has not been updated', 'population': 688701, 'population_year': 2013, 'gdp': 186000000000.0, 'gdp_currency': 'USD     US Dollar', 'gdp_year': 2010.0, 'gdp_source': 'BEA, BLS, Brookings', 'average_annual_temperature_in_celsius\\u200b': 9.0, '\\u200baverage_altitude_m': 192.0, '\\u200bland_area_in_square_km': 359.0, 'city_location': '(42.331427, -83.0457538)', 'country_location': '(37.09024, -95.712891)'}, {'_id': ObjectId('65fc951cecc75b1bd8d14ec5'), 'account_number': 3203, 'organization': 'City of Chicago', 'city': 'Chicago', 'country': 'USA', 'region': 'North America', 'c40': 'C40', 'access': 'Public', 'reporting_year': 2017, 'accounting_year': '2015-01-01 - 2015-12-31', 'boundary': 'Administrative boundary of a local government', 'protocol': 'Global Protocol for Community-Scale Greenhouse Gas Emissions Inventories (GPC), (WRI, C40 and ICLEI)', 'protocol_column': 'Chicago conducted a 2016 city-wide GHG inventory in line with the Global Protocol for Community-Scale Greenhouse Gas Emissions Inventories. The Inventory was compliant at the GPC BASIC Level, with some emissions from the PLUS level also calculated.', 'gases_included': None, 'total_emissions_metric_tonnes_co2e': 30955862.0, 'scopes_included_': 'Total Scope 1, Scope 2 and Waste Scope 3 (Total BASIC emissions)', 'total_scope_1_emissions_metric_tonnes_co2e': 16951471.0, 'total_scope_2_emissions_metric_tonnes_co2e': 12967223.0, 'comment': None, 'increase/decrease_from_last_year': 'Decreased', 'reason_for_increase/decrease_in_emissions': 'Chicago conducted a preliminary comparison using the existing 2010 and 2015 data to evaluate how community emissions have changed over the last five years. \\n\\nResults of this preliminary analysis of 2010 and 2015 GHG emissions reveals Chicago continued to reduce total GHG emissions through 2015 in the stationary and waste sectors resulting in a greater than 7 percent reduction in GHG emissions over the last five years. During that time, Chicago’s population grew by approximately 1 percent while the region’s GRP grew by more than 12 percent. Growth coupled with reduction in total emissions resulted in a greater than 8 percent decrease in per capita emissions in the City.\\n\\nBetween 2010 and 2015, the majority of MT CO2e reductions occurred in the stationary energy sector, followed by waste. When considering percent reductions, the waste sector experienced the greatest reduction (30 percent) which included a 35 percent emissions reduction in the solid waste disposal sub-sector. This reduction in the solid waste sector is likely driven by a decrease in the total amount of solid waste sent to landfills and an improvement in the solid waste treatment technologies at those landfills. The City expanded its residential curbside recycling pilot program to now serve over 400,000, or approximately 33 percent, of additional City houeholds.Because of the program’s expansion the City experienced a significant increase in the number of tons collected for recycling, from 58,000 in 2010 to 97,000 in 2015.\\n\\nThe stationary energy sector overall saw a 10 percent drop in emissions, including 11, 12 and 8 percent emissions reductions in the residential, commercial and institutional buildings and facilities, and manufacturing industries and construction sub-sectors, respectively. Stationary energy sector GHG emissions reductions are likely driven by a general trend in the building industry to improve energy efficiency of buildings as well as a regional shift in energy generation towards renewable energy sources. The City has also implemented the Energy Benchmarking Ordinance, Retrofit Chicago, and the Chicago Solar Express to encourage increasing energy efficiency and renewable energy generation and consumption within the city.', 'population': 2720546, 'population_year': 2015, 'gdp': 563188000000.0, 'gdp_currency': None, 'gdp_year': 2014.0, 'gdp_source': 'Brookings Institution', 'average_annual_temperature_in_celsius\\u200b': 9.4, '\\u200baverage_altitude_m': 181.0, '\\u200bland_area_in_square_km': 606.0, 'city_location': '(41.8781136, -87.6297982)', 'country_location': '(37.09024, -95.712891)'}, {'_id': ObjectId('65fc951cecc75b1bd8d14ec6'), 'account_number': 31115, 'organization': 'City of Johannesburg', 'city': 'Johannesburg', 'country': 'South Africa', 'region': 'Africa', 'c40': 'C40', 'access': 'Public', 'reporting_year': 2017, 'accounting_year': '2014-01-01 - 2014-12-31', 'boundary': 'Administrative boundary of a local government', 'protocol': 'Global Protocol for Community-Scale Greenhouse Gas Emissions Inventories (GPC), (WRI, C40 and ICLEI)', 'protocol_column': 'The City of Johannesburg 2014 inventory is the first GPC compliant inventory compiled for the City. It builds on the pioneering work undertaken by Siemens who compiled the first inventory for the City for the 2007 calendar year. Siemens prepared the initial report under an arrangement with C40 in 2012, and analyses the high-level changes between the two inventory years.', 'gases_included': None, 'total_emissions_metric_tonnes_co2e': 24716713.0, 'scopes_included_': 'Total Scope 1, Scope 2 and Waste Scope 3 (Total BASIC emissions)', 'total_scope_1_emissions_metric_tonnes_co2e': 9068358.0, 'total_scope_2_emissions_metric_tonnes_co2e': 15661031.0, 'comment': None, 'increase/decrease_from_last_year': 'Decreased', 'reason_for_increase/decrease_in_emissions': 'This decrease could be attributed to a number of reasons, for example there seems to be a correlation between it and the drop in electricity consumption. This drop in electricity consumption is mirrored in all the major municipalities in South Africa. There may well be data deficiency\\nartefacts. The real reasons for this decrease and/or other trend that becomes apparent,will become clear as we become more thorough in quality data collection methods. Furthermore, to enhance our understand we will do bottom up data collection at a project level.', 'population': 4900000, 'population_year': 2016, 'gdp': 337000000000.0, 'gdp_currency': 'USD     US Dollar', 'gdp_year': 2015.0, 'gdp_source': 'http://www.bsivjoburg.co.za/bsivjoburg/index.cfm/economic-overview/joburg-economic-overview/', 'average_annual_temperature_in_celsius\\u200b': 20.0, '\\u200baverage_altitude_m': 1645.0, '\\u200bland_area_in_square_km': 1645.0, 'city_location': '(-26.2041028, 28.0473051)', 'country_location': '(-30.559482, 22.937506)'}, {'_id': ObjectId('65fc951cecc75b1bd8d14ec7'), 'account_number': 43911, 'organization': 'City of Ottawa', 'city': 'Ottawa', 'country': 'Canada', 'region': 'North America', 'c40': None, 'access': 'Public', 'reporting_year': 2017, 'accounting_year': '2012-01-01 - 2012-12-31', 'boundary': 'Administrative boundary of a local government', 'protocol': 'International Emissions Analysis Protocol (ICLEI)', 'protocol_column': None, 'gases_included': 'CO2; CH4; N2O', 'total_emissions_metric_tonnes_co2e': 5420000.0, 'scopes_included_': 'Total Scope 1 and Scope 2', 'total_scope_1_emissions_metric_tonnes_co2e': nan, 'total_scope_2_emissions_metric_tonnes_co2e': nan, 'comment': 'At the time, the City could not obtain data from the local utilities for the building sector, i.e. residential, commercial, and institutional buildings.  As a result, staff used provincial data and prorated it to a local level to determine emissions from the building sector.  To ensure greater accuracy for the next inventory, staff will work to obtain data from the local utilities.', 'increase/decrease_from_last_year': 'Decreased', 'reason_for_increase/decrease_in_emissions': 'The City undertakes a community inventory every 4 years, and so far have completed inventories for the years 2004, 2008, and 2012.  Starting in 2007, the province of Ontario began phasing out all coal facilities across the province, with the last coal plant closing in 2014.  This initiative was considerable in making a cleaner electrical grid, and reduce the electricity intensity factor from 170 gCO2/kWh to 97 gCO2/kWh.  As such, there was a considerable decrease in emissions in the building sector solely due to this initiative.', 'population': 934243, 'population_year': 2016, 'gdp': nan, 'gdp_currency': 'CAD     Canadian Dollar', 'gdp_year': nan, 'gdp_source': None, 'average_annual_temperature_in_celsius\\u200b': 6.0, '\\u200baverage_altitude_m': 70.0, '\\u200bland_area_in_square_km': 2796.0, 'city_location': '(45.42153, -75.697193)', 'country_location': '(56.130366, -106.346771)'}, {'_id': ObjectId('65fc951cecc75b1bd8d14ec8'), 'account_number': 14088, 'organization': 'City of Oslo', 'city': 'Oslo', 'country': 'Norway', 'region': 'Europe', 'c40': 'C40', 'access': 'Public', 'reporting_year': 2017, 'accounting_year': '2015-01-01 - 2015-12-01', 'boundary': 'Administrative boundary of a local government', 'protocol': 'Other', 'protocol_column': 'Oslo gets most of the GHG-data from the national bureau of statistics, Statistics Norway. It has been further developed to make it compliant with the GPC-protocol. The GPC- reporting was approved september 2015. Statistics Norway published a new numbers in march 2017, but these last numbers have not been updated according to the GPC-protocol. The methodology of Statistics Norway follows the same principles for the City Inventory as for the national inventory. It is to a large extent overlapping with the methodology of the protocol for cities, the GPC-protocol.', 'gases_included': 'CO2; CH4; N2O', 'total_emissions_metric_tonnes_co2e': 1233.0, 'scopes_included_': 'Total Scope 1 and Scope 2', 'total_scope_1_emissions_metric_tonnes_co2e': nan, 'total_scope_2_emissions_metric_tonnes_co2e': nan, 'comment': 'Emission factors: The emission factors are updated, but some are national, not local. Level of confidence: High/mediumActivity data: Based on fuel sales, traffic counts and some top-down anlyses, like waste water handling. Level of confidence: Medium/highAverage score: medium/high', 'increase/decrease_from_last_year': 'Decreased', 'reason_for_increase/decrease_in_emissions': 'The main reason for decreased GHG-emissions is that emissions from stationary energy use in residential, commercial and institutional buildings have been significantly reduced. The success is partly due to national and local support schemes to convert from fossil heating oil to renewables and also adaptions to a warned ban on fossil heating oil.', 'population': 658390, 'population_year': 2016, 'gdp': 458449000000.0, 'gdp_currency': 'NOK     Norwegian Krone', 'gdp_year': 2013.0, 'gdp_source': 'Statistics Norway', 'average_annual_temperature_in_celsius\\u200b': 5.7, '\\u200baverage_altitude_m': 94.0, '\\u200bland_area_in_square_km': 454.0, 'city_location': '(59.9138688, 10.7522454)', 'country_location': '(60.472024, 8.468946)'}, {'_id': ObjectId('65fc951cecc75b1bd8d14ec9'), 'account_number': 54108, 'organization': 'City of Durham', 'city': 'Durham', 'country': 'USA', 'region': 'North America', 'c40': None, 'access': 'Public', 'reporting_year': 2017, 'accounting_year': '2015-07-01 - 2016-06-30', 'boundary': 'Administrative boundary of a local government', 'protocol': 'U.S. Community Protocol for Accounting and Reporting of Greenhouse Gas Emissions (ICLEI)', 'protocol_column': None, 'gases_included': 'CO2; CH4; N2O', 'total_emissions_metric_tonnes_co2e': 4681117.0, 'scopes_included_': 'Total Scope 1 and Scope 2', 'total_scope_1_emissions_metric_tonnes_co2e': 2720107.0, 'total_scope_2_emissions_metric_tonnes_co2e': 1976634.0, 'comment': 'The data on transportation is the area in which I have the least confidence.', 'increase/decrease_from_last_year': 'Increased', 'reason_for_increase/decrease_in_emissions': 'scope 1 increased due to a large, unexplained jump in diesel VMT. This may be due to a change in the model. Scope 2 emissions actually decreased, but it was mostly due to cleaner energy production rather than reduction in energy use.', 'population': 250815, 'population_year': 2015, 'gdp': nan, 'gdp_currency': None, 'gdp_year': nan, 'gdp_source': None, 'average_annual_temperature_in_celsius\\u200b': 15.0, '\\u200baverage_altitude_m': nan, '\\u200bland_area_in_square_km': 277.0, 'city_location': '(35.994, -78.8986)', 'country_location': '(37.09024, -95.712891)'}, {'_id': ObjectId('65fc951cecc75b1bd8d14eca'), 'account_number': 60374, 'organization': 'Alcaldía de Ibagué', 'city': 'Ibagué', 'country': 'Colombia', 'region': 'Latin America', 'c40': None, 'access': 'Public', 'reporting_year': 2017, 'accounting_year': '2014-01-01 - 2014-12-31', 'boundary': 'Administrative boundary of a local government', 'protocol': 'Global Protocol for Community-Scale Greenhouse Gas Emissions Inventories (GPC), (WRI, C40 and ICLEI)', 'protocol_column': 'Siguiendo las directrices del IPCC del 2006', 'gases_included': None, 'total_emissions_metric_tonnes_co2e': 2330487.0, 'scopes_included_': 'Total Scope 1, Scope 2 and Waste Scope 3 (Total BASIC emissions)', 'total_scope_1_emissions_metric_tonnes_co2e': nan, 'total_scope_2_emissions_metric_tonnes_co2e': 108197.0, 'comment': None, 'increase/decrease_from_last_year': 'Increased', 'reason_for_increase/decrease_in_emissions': 'En comparación al informe del año 2011 se evidencia un aumento en las emisiones de GEI', 'population': 564077, 'population_year': 2017, 'gdp': 4.0, 'gdp_currency': 'COP     Colombian Peso', 'gdp_year': 2012.0, 'gdp_source': 'DANE', 'average_annual_temperature_in_celsius\\u200b': 31.0, '\\u200baverage_altitude_m': 1170.0, '\\u200bland_area_in_square_km': 1439.0, 'city_location': '(4.448517, -75.239965)', 'country_location': '(4.5709, -74.2973)'}, {'_id': ObjectId('65fc951cecc75b1bd8d14ecb'), 'account_number': 60602, 'organization': 'Town of Ajax, ON', 'city': 'Ajax, ON', 'country': 'Canada', 'region': 'North America', 'c40': None, 'access': 'Public', 'reporting_year': 2017, 'accounting_year': '2015-01-01 - 2015-12-31', 'boundary': 'Administrative boundary of a local government', 'protocol': 'International Emissions Analysis Protocol (ICLEI)', 'protocol_column': 'PCP Protocol method', 'gases_included': 'CO2', 'total_emissions_metric_tonnes_co2e': 1234211.0, 'scopes_included_': 'Total Scope 1 and Scope 2', 'total_scope_1_emissions_metric_tonnes_co2e': nan, 'total_scope_2_emissions_metric_tonnes_co2e': nan, 'comment': 'Currently being updated to 2015, plan for 2013 can also be found here: https://www.ajax.ca/en/livinginajax/community-sustainability-plan.asp', 'increase/decrease_from_last_year': 'Increased', 'reason_for_increase/decrease_in_emissions': 'Emission increase can be attributed to population increase of 22% increase from 2006 to 2011', 'population': 109600, 'population_year': 2011, 'gdp': nan, 'gdp_currency': 'CAD     Canadian Dollar', 'gdp_year': nan, 'gdp_source': None, 'average_annual_temperature_in_celsius\\u200b': 7.8, '\\u200baverage_altitude_m': 90.0, '\\u200bland_area_in_square_km': 67.1, 'city_location': '(43.850855, -79.020373)', 'country_location': '(56.130366, -106.346771)'}, {'_id': ObjectId('65fc951cecc75b1bd8d14ecc'), 'account_number': 35886, 'organization': 'Comune di Torino', 'city': 'Torino', 'country': 'Italy', 'region': 'Europe', 'c40': None, 'access': 'Public', 'reporting_year': 2017, 'accounting_year': '2014-01-01 - 2014-12-31', 'boundary': 'Other: Our  emission inventory takes in account the City of Turin  and its boundary, following the instruction of the JRC methodology (\"How to develope a sustainable energy action plan\") setted up for the Covenant of Mayors initiative.', 'protocol': 'Other: The city of Turin used, for its emission inventory, the methodology suggested by JRC (\"How to develope a sustainable energy action plan\") for the Covenant of Mayors initiative.', 'protocol_column': 'The methodology consists in the collection of data about yearly energy consumption (MWh/year) from different sources (electricity, natural gas, diesel, liquid gas, biomass, pv, solar thermal, wind…). Following methodology of covenant of mayors , by considering different emission coefficients (Ton CO2/MWh) for all different suorces – is possible to obtain the total CO2 emission (Ton/year).', 'gases_included': 'CO2', 'total_emissions_metric_tonnes_co2e': 3496156.0, 'scopes_included_': 'Total Scope 1 and Scope 2', 'total_scope_1_emissions_metric_tonnes_co2e': nan, 'total_scope_2_emissions_metric_tonnes_co2e': nan, 'comment': 'The data provided refers to the inventory of emissions for 2014.', 'increase/decrease_from_last_year': 'Decreased', 'reason_for_increase/decrease_in_emissions': 'Last updated in 2014. \\nSince the last inventory performed a reduction of 22% in CO2 emissions compared to the base year (1991).', 'population': 892276, 'population_year': 2015, 'gdp': 26933203382.0, 'gdp_currency': None, 'gdp_year': 2013.0, 'gdp_source': 'http://www.centroestero.org/FTP/opploc/TorinoUrbanProfile2013.pdf', 'average_annual_temperature_in_celsius\\u200b': 14.0, '\\u200baverage_altitude_m': 239.0, '\\u200bland_area_in_square_km': 130.0, 'city_location': '(45.1006374, 7.6680046)', 'country_location': '(41.87194, 12.56738)'}, {'_id': ObjectId('65fc951cecc75b1bd8d14ecd'), 'account_number': 35449, 'organization': 'Stadt Zürich', 'city': 'Zürich', 'country': 'Switzerland', 'region': 'Europe', 'c40': None, 'access': 'Public', 'reporting_year': 2017, 'accounting_year': '2014-01-01 - 2014-12-31', 'boundary': 'Administrative boundary of a local government', 'protocol': 'Other: 2000-Watt society Methodology', 'protocol_column': 'The 2000-Watt society methodology is a concept of sustainable development that uses two indicators: Primary energy demand and greenhouse gas emissions. The methodology is based on the final energy demand. Primary energy factors and GHG emission coefficients are according to the ecoinvent database (database with consistent and transparent, up-to-date Life Cycle Inventory (LCI) data – www.ecoinvent.org/database/). The grey energy of net imported other goods and services is not included in the methodology used by the city of Zurich as there is no specific data available. The methodology does not include emissions from non-energetic sources (e.g. landfills, waste water treatment).Primary energy, final energy and effective energy: The 2000-watt methodology defines primary energy as the total energy present in the original energy source, plus its grey energy. The energy that reaches the customer, after all conversion and transmission losses, is called final energy. In turn, only a part of this is actually used: the effective energy. The rest is lost as waste heat. Basis for all calculations is the final energy demand.Territorial principle: Basis of the methodology is the territorial principle. It refers to the energy consumed in the city area and the emissions which occur there. The energy sources grey energy and grey emissions are also taken into account. The grey energy of net imported other goods and service is not included in the 2000 watt society methodology (lack of specific data). However, the aim is to separately calculate and indicate the gray energy of net imported other goods and services.All calculations in regards to primary energy demand and greenhouse gas emissions are made with the balancing program ECORegion (http://www.ecospeed.ch/).', 'gases_included': 'CO2; PFCs; CH4; SF6; N2O; NF3; HFCs', 'total_emissions_metric_tonnes_co2e': 1822367.0, 'scopes_included_': 'Total Scope 1 and Scope 2', 'total_scope_1_emissions_metric_tonnes_co2e': nan, 'total_scope_2_emissions_metric_tonnes_co2e': nan, 'comment': '2000-Watt society Methodology', 'increase/decrease_from_last_year': 'Other: No change', 'reason_for_increase/decrease_in_emissions': 'The course of greenhouse gas emissions since 2008 is more or less constant. We assume that the positive effects of modernizing insulation of buildings are mostly compensated  by increased demands for comfort (e.g. higher room temperatures, larger living spaces, longer heating periods).', 'population': 415682, 'population_year': 2016, 'gdp': 69037000000.0, 'gdp_currency': 'CHF     Swiss Franc', 'gdp_year': 2015.0, 'gdp_source': 'www.stadt-zuerich.ch/statistik', 'average_annual_temperature_in_celsius\\u200b': 8.8, '\\u200baverage_altitude_m': 408.0, '\\u200bland_area_in_square_km': 92.0, 'city_location': '(47.3686498, 8.5391825)', 'country_location': '(46.818188, 8.227512)'}, {'_id': ObjectId('65fc951cecc75b1bd8d14ece'), 'account_number': 32550, 'organization': 'City of Denver', 'city': 'Denver', 'country': 'USA', 'region': 'North America', 'c40': None, 'access': 'Public', 'reporting_year': 2017, 'accounting_year': '2015-01-01 - 2015-12-31', 'boundary': 'Administrative boundary of a local government', 'protocol': 'Global Protocol for Community-Scale Greenhouse Gas Emissions Inventories (GPC), (WRI, C40 and ICLEI)', 'protocol_column': \"This is Denver's first year reporting via the GPC protocol and changes in sector and overall emissions compared to previous years should not be used as increases or decreases as we have yet to modify base year inventories to the same protocol.\", 'gases_included': None, 'total_emissions_metric_tonnes_co2e': 943176.0, 'scopes_included_': 'Total Scope 1, Scope 2 and Waste Scope 3 (Total BASIC emissions)', 'total_scope_1_emissions_metric_tonnes_co2e': 4315084.0, 'total_scope_2_emissions_metric_tonnes_co2e': 4565580.0, 'comment': None, 'increase/decrease_from_last_year': 'Stayed the same', 'reason_for_increase/decrease_in_emissions': 'This is our first year conducting a GHG inventory with the GPC protocol.  Using the same method as previous years, our emissions stayed about the same due to and Emissions Factor in electricity that stayed roughly the same.', 'population': 682545, 'population_year': 2015, 'gdp': 193972000000.0, 'gdp_currency': 'USD     US Dollar', 'gdp_year': 2015.0, 'gdp_source': 'BEA Denver Metro Area', 'average_annual_temperature_in_celsius\\u200b': 10.1, '\\u200baverage_altitude_m': 1609.0, '\\u200bland_area_in_square_km': 401.0, 'city_location': '(39.737567, -104.9847179)', 'country_location': '(37.09024, -95.712891)'}, {'_id': ObjectId('65fc951cecc75b1bd8d14ecf'), 'account_number': 62180, 'organization': 'Communauté urbaine du Grand Nancy', 'city': 'Nancy', 'country': 'France', 'region': 'Europe', 'c40': None, 'access': 'Public', 'reporting_year': 2017, 'accounting_year': '2016-01-01 - 2016-12-31', 'boundary': 'A metropolitan area', 'protocol': 'Other', 'protocol_column': 'http://www.citepa.org/fr/activites/inventaires-des-emissions/secten', 'gases_included': 'CO2; PFCs; CH4; SF6; N2O; HFCs', 'total_emissions_metric_tonnes_co2e': 2150000.0, 'scopes_included_': 'Total Scope 1 and Scope 2', 'total_scope_1_emissions_metric_tonnes_co2e': nan, 'total_scope_2_emissions_metric_tonnes_co2e': nan, 'comment': None, 'increase/decrease_from_last_year': None, 'reason_for_increase/decrease_in_emissions': None, 'population': 265000, 'population_year': 2014, 'gdp': nan, 'gdp_currency': 'EUR     Euro', 'gdp_year': 2015.0, 'gdp_source': None, 'average_annual_temperature_in_celsius\\u200b': 10.5, '\\u200baverage_altitude_m': 212.0, '\\u200bland_area_in_square_km': 142.3, 'city_location': '(48.692054, 6.184417)', 'country_location': '(46.227638, 2.213749)'}, {'_id': ObjectId('65fc951cecc75b1bd8d14ed0'), 'account_number': 63999, 'organization': 'City of Miami Beach, FL', 'city': 'Miami Beach, FL', 'country': 'USA', 'region': 'North America', 'c40': None, 'access': 'Public', 'reporting_year': 2017, 'accounting_year': '2013-01-01 - 2014-12-31', 'boundary': 'Administrative boundary of a local government', 'protocol': 'Global Protocol for Community-Scale Greenhouse Gas Emissions Inventories (GPC), (WRI, C40 and ICLEI)', 'protocol_column': 'The inventory was compiled using the ICLEI ClearPath software using the IPCC 4th Assessment to calculate the Global Warming Potential of the greenhouse gases.', 'gases_included': None, 'total_emissions_metric_tonnes_co2e': 1207364.0, 'scopes_included_': 'Total Scope 1, Scope 2 and Waste Scope 3 (Total BASIC emissions)', 'total_scope_1_emissions_metric_tonnes_co2e': 292567.0, 'total_scope_2_emissions_metric_tonnes_co2e': 825822.0, 'comment': None, 'increase/decrease_from_last_year': 'This is our first year of calculation', 'reason_for_increase/decrease_in_emissions': None, 'population': 91732, 'population_year': 2014, 'gdp': 8475831683.0, 'gdp_currency': 'USD     US Dollar', 'gdp_year': 2014.0, 'gdp_source': 'Department of Tourism, Culture, and Economic Development', 'average_annual_temperature_in_celsius\\u200b': 23.9, '\\u200baverage_altitude_m': nan, '\\u200bland_area_in_square_km': 18.1, 'city_location': '_\\n(25.790654, -80.130045)', 'country_location': '(37.09024, -95.712891)'}, {'_id': ObjectId('65fc951cecc75b1bd8d14ed1'), 'account_number': 50383, 'organization': 'Prefeitura de Sorocaba', 'city': 'Sorocaba', 'country': 'Brazil', 'region': 'Latin America', 'c40': None, 'access': 'Public', 'reporting_year': 2017, 'accounting_year': '2012-01-01 - 2012-12-31', 'boundary': 'Administrative boundary of a local government', 'protocol': '2006 IPCC Guidelines for National Greenhouse Gas Inventories', 'protocol_column': 'This inventory were considered for calculating the following greenhouse gases ( GHG ) : Carbon Dioxide ( CO2 ), methane ( CH4 ) , nitrous oxide ( N2O ) , Hydrochlorofluorocarbons ( HFC \" s ) , Perclorofluorcarbonos ( PFC \" s ) and hexafluoride Sulfur ( SF6 ) . , 2000 IPCC Good Practice Guidance and Management in Natural Uncertanty Greenhouse Gas Inventories ; 2006 IPCC Guidelines for National , Greenhouse Gas Inventories ISO 14064-1/2006 : To estimate GHG emissions in Sorocaba , the following references were used : Greenhouse Gases , ISO 14064-2/2007 : Greenhouse Gases , Global Protocol for Community - Scale Greenhouse Gas Emissions ( GPC ) 2012. Potential GHG Global Warming was used , according to the Second Assessment Report of the IPCC (1995 ) . The sectors analyzed were : agriculture, forestry and land use ( rice planting in irrigated systems , liming the soil , herd management and animal manure management , agricultural soil management , agricultural waste burning and land use change ) , energy ( mobile combustion , stationary combustion and electricity consumption ) ; industry , and waste ( landfill and sewage treatment ) . Databases respected in the country , as the IBGE and SEADE were used , in addition to consulting the ANP ( National Petroleum Agency ) , municipal government information , agencies and agriculture companies .', 'gases_included': 'CO2; PFCs; CH4; SF6; N2O; HFCs', 'total_emissions_metric_tonnes_co2e': 1113971.0, 'scopes_included_': 'Total Scope 1 and Scope 2', 'total_scope_1_emissions_metric_tonnes_co2e': 980290.8, 'total_scope_2_emissions_metric_tonnes_co2e': 133680.5, 'comment': None, 'increase/decrease_from_last_year': 'Other: not rated yet', 'reason_for_increase/decrease_in_emissions': 'There is only an elaborate inventory, so we can not compare emissions', 'population': 652481, 'population_year': 2016, 'gdp': 32600000000.0, 'gdp_currency': 'BRL     Brazilian Real', 'gdp_year': 2014.0, 'gdp_source': 'IBGE', 'average_annual_temperature_in_celsius\\u200b': 20.8, '\\u200baverage_altitude_m': 601.0, '\\u200bland_area_in_square_km': 450.0, 'city_location': '(-23.4774899, -47.4220615)', 'country_location': '(-14.235004, -51.92528)'}, {'_id': ObjectId('65fc951cecc75b1bd8d14ed2'), 'account_number': 50560, 'organization': 'City of Oakland', 'city': 'Oakland', 'country': 'USA', 'region': 'North America', 'c40': None, 'access': 'Public', 'reporting_year': 2017, 'accounting_year': '2015-01-01 - 2015-12-31', 'boundary': 'Administrative boundary of a local government', 'protocol': 'Other: ICLEI Community Protocol', 'protocol_column': '(ICLEI / The Climate Registry / California Climate Action Registry / California Air Resource Board)', 'gases_included': 'CO2; CH4; N2O', 'total_emissions_metric_tonnes_co2e': 1745827.0, 'scopes_included_': 'Total Scope 1 and Scope 2', 'total_scope_1_emissions_metric_tonnes_co2e': 956414.0, 'total_scope_2_emissions_metric_tonnes_co2e': 789413.0, 'comment': 'Energy data is high confidence, Transportation data is partially simulated (medium) partially fuel consumption (high), and materials use is medium-high (waste composition data is thorough but not collected frequently enough)', 'increase/decrease_from_last_year': 'Decreased', 'reason_for_increase/decrease_in_emissions': 'In comparison to the 2015 report, emissions have decreased in both Scope 1 and Scope 2 emissions.', 'population': 419000, 'population_year': 2015, 'gdp': 431704000000.0, 'gdp_currency': 'USD     US Dollar', 'gdp_year': 2015.0, 'gdp_source': 'US Bureau of Economic Analysis San Francisco-Oakland-Hayward Metropolitan area', 'average_annual_temperature_in_celsius\\u200b': 15.1, '\\u200baverage_altitude_m': 13.0, '\\u200bland_area_in_square_km': 144.0, 'city_location': '(37.8044, -122.2708)', 'country_location': '(37.09024, -95.712891)'}, {'_id': ObjectId('65fc951cecc75b1bd8d14ed3'), 'account_number': 50371, 'organization': 'Municipalidad de  Córdoba', 'city': 'Córdoba', 'country': 'Argentina', 'region': 'Latin America', 'c40': None, 'access': 'Public', 'reporting_year': 2017, 'accounting_year': '2014-01-01 - 2014-12-31', 'boundary': 'Administrative boundary of a local government', 'protocol': 'Global Protocol for Community-Scale Greenhouse Gas Emissions Inventories (GPC), (WRI, C40 and ICLEI)', 'protocol_column': None, 'gases_included': None, 'total_emissions_metric_tonnes_co2e': 5099175.0, 'scopes_included_': 'Total Scope 1, Scope 2 and Waste Scope 3 (Total BASIC emissions)', 'total_scope_1_emissions_metric_tonnes_co2e': nan, 'total_scope_2_emissions_metric_tonnes_co2e': nan, 'comment': None, 'increase/decrease_from_last_year': None, 'reason_for_increase/decrease_in_emissions': None, 'population': 1560900, 'population_year': 2015, 'gdp': 12302882987.0, 'gdp_currency': 'ARS     Argentine Peso', 'gdp_year': 2016.0, 'gdp_source': 'DIRECCIÓN GENERAL DE ESTADÍSTICAS Y CENSOS, GOBINERNO DE LA PROVINCIA DE CÓRDOBA', 'average_annual_temperature_in_celsius\\u200b': 17.7, '\\u200baverage_altitude_m': 390.0, '\\u200bland_area_in_square_km': 576.0, 'city_location': '(-31.4201, -64.1888)', 'country_location': '(-38.416097, -63.616672)'}, {'_id': ObjectId('65fc951cecc75b1bd8d14ed4'), 'account_number': 19233, 'organization': 'Torres Vedras Municipality', 'city': 'Torres Vedras ', 'country': 'Portugal', 'region': 'Europe', 'c40': None, 'access': 'Public', 'reporting_year': 2017, 'accounting_year': '2014-01-01 - 2014-12-31', 'boundary': 'Administrative boundary of a local government', 'protocol': 'International Emissions Analysis Protocol (ICLEI)', 'protocol_column': 'ICLEI - CCP Protocol (Cities for Climate Protection).', 'gases_included': 'CO2', 'total_emissions_metric_tonnes_co2e': 275646.0, 'scopes_included_': 'Total Scope 1 and Scope 2', 'total_scope_1_emissions_metric_tonnes_co2e': nan, 'total_scope_2_emissions_metric_tonnes_co2e': nan, 'comment': None, 'increase/decrease_from_last_year': 'Decreased', 'reason_for_increase/decrease_in_emissions': 'The city has done a emission inventory in 2009 and another in 2014, the results indicate that the emissions has decreased (the changes are due to emissions redution actions  foreseen in sustainable energy action plan and to the national economic crises).', 'population': 79465, 'population_year': 2011, 'gdp': nan, 'gdp_currency': None, 'gdp_year': nan, 'gdp_source': None, 'average_annual_temperature_in_celsius\\u200b': 15.0, '\\u200baverage_altitude_m': 75.0, '\\u200bland_area_in_square_km': 407.0, 'city_location': '(38.763669, -9.30148)', 'country_location': '(39.399872, -8.224454)'}, {'_id': ObjectId('65fc951cecc75b1bd8d14ed5'), 'account_number': 60273, 'organization': 'Prefeitura de Extrema', 'city': 'Extrema', 'country': 'Brazil', 'region': 'Latin America', 'c40': None, 'access': 'Public', 'reporting_year': 2017, 'accounting_year': '2014-01-01 - 2014-12-31', 'boundary': 'Administrative boundary of a local government', 'protocol': 'Global Protocol for Community-Scale Greenhouse Gas Emissions Inventories (GPC), (WRI, C40 and ICLEI)', 'protocol_column': 'Para o primeiro inventário de emissões de gases de efeito estufa de Extrema/MG foi utilizado o formato BASIC da metodologia proposta pelo GPC, comumente utilizado para os inventários da maioria das cidades brasileiras, que considera as emissões provenientes de energia estacionária, transportes e resíduos, Para os próximos anos, vislumbra-se especialmente o reporte do setor de AFOLU - Agricultura, Florestas e Outros Usos da Terra, uma vez que Extrema tem obtido resultados expressivos na recuperação florestal de áreas degradadas dentro dos seus limites geográficos.', 'gases_included': None, 'total_emissions_metric_tonnes_co2e': 131931.0, 'scopes_included_': 'Total Scope 1, Scope 2 and Waste Scope 3 (Total BASIC emissions)', 'total_scope_1_emissions_metric_tonnes_co2e': 115719.73, 'total_scope_2_emissions_metric_tonnes_co2e': 16201.19, 'comment': None, 'increase/decrease_from_last_year': 'This is our first year of calculation', 'reason_for_increase/decrease_in_emissions': 'As emissões reportadas nesta plataforma são provenientes do primeiro Inventário de Emissões de Gases de Efeito Estufa da Cidade de Extrema/MG - Ano Base 2014, publicado em 2016.', 'population': 33729, 'population_year': 2016, 'gdp': 4676285000.0, 'gdp_currency': 'BRL     Brazilian Real', 'gdp_year': 2014.0, 'gdp_source': 'IBGE', 'average_annual_temperature_in_celsius\\u200b': 17.7, '\\u200baverage_altitude_m': 973.0, '\\u200bland_area_in_square_km': 243.1, 'city_location': '(-22.840262, -46.328)', 'country_location': '(-14.235004, -51.92528)'}, {'_id': ObjectId('65fc951cecc75b1bd8d14ed6'), 'account_number': 31148, 'organization': 'City of Amsterdam', 'city': 'Amsterdam', 'country': 'Netherlands', 'region': 'Europe', 'c40': 'C40', 'access': 'Public', 'reporting_year': 2017, 'accounting_year': '2015-12-01 - 2016-12-31', 'boundary': 'Administrative boundary of a local government', 'protocol': 'Other', 'protocol_column': 'Local standard based on electricity, gas, district heat en local transportation.', 'gases_included': 'CO2; N2O', 'total_emissions_metric_tonnes_co2e': 4138000.0, 'scopes_included_': 'Total Scope 1 and Scope 2', 'total_scope_1_emissions_metric_tonnes_co2e': nan, 'total_scope_2_emissions_metric_tonnes_co2e': 2460000.0, 'comment': 'Figures of Electricity, gas and district heat are obtained from utilities and are reliable. Traffic emissions are calculated with a model and are therefore less accurate. Smaller sources of emissons are omitted.', 'increase/decrease_from_last_year': 'Decreased', 'reason_for_increase/decrease_in_emissions': 'The decrease is very strong (10%) The reason for this is the exclution of emissions related to transport on national roads. Due to a new calculation model of the traffic department of the city these roads are no longer included in the vehicle movement calculation of the city.', 'population': 834713, 'population_year': 2016, 'gdp': 64500000000.0, 'gdp_currency': 'EUR     Euro', 'gdp_year': 2016.0, 'gdp_source': 'https://public.tableau.com/profile/gemeente.amsterdam.economie#!/vizhome/EconomischeVerkenningenMRA2017_0/Kerncijfers', 'average_annual_temperature_in_celsius\\u200b': 10.9, '\\u200baverage_altitude_m': 2.0, '\\u200bland_area_in_square_km': 219.0, 'city_location': '(52.370216, 4.895168)', 'country_location': '(52.132633, 5.291266)'}, {'_id': ObjectId('65fc951cecc75b1bd8d14ed7'), 'account_number': 54119, 'organization': 'City of Palo Alto', 'city': 'Palo Alto', 'country': 'USA', 'region': 'North America', 'c40': None, 'access': 'Public', 'reporting_year': 2017, 'accounting_year': '2016-01-01 - 2016-12-31', 'boundary': 'Administrative boundary of a local government', 'protocol': 'U.S. Community Protocol for Accounting and Reporting of Greenhouse Gas Emissions (ICLEI)', 'protocol_column': 'TCR/LGOP', 'gases_included': 'CO2; CH4; N2O', 'total_emissions_metric_tonnes_co2e': 153948.0, 'scopes_included_': 'Total Scope 1 and Scope 2', 'total_scope_1_emissions_metric_tonnes_co2e': 153948.0, 'total_scope_2_emissions_metric_tonnes_co2e': nan, 'comment': 'High for utilities (data from municipally owned utility), lower for transportation (modeled by consultants). NOTE: This is combined City+Community data', 'increase/decrease_from_last_year': 'Decreased', 'reason_for_increase/decrease_in_emissions': 'Combined City Municipal Operations and Palo Alto community emissions continue to decline. In 2016, overall City and Palo Alto GHG emissions were reduced an estimated 37% from 1990 levels, just under an additional 2% beyond 2015 reductions. Estimated City and community transportation related emissions declined an additional 5% from 2015 reductions, due to both a decrease in Vehicle Miles Travelled and changes in fleet composition. Natural gas emissions increased slightly from 2015, by approximately 1%, due in part to a colder fall and winter in 2016 than in 2015, which was warmer than average. Palo Alto Landfill Fugitive Emissions and Wastewater Process Emissions decreased due to efficiency measures.', 'population': 66478, 'population_year': 2017, 'gdp': nan, 'gdp_currency': 'USD     US Dollar', 'gdp_year': nan, 'gdp_source': 'City GDP data is not available', 'average_annual_temperature_in_celsius\\u200b': 15.0, '\\u200baverage_altitude_m': 7.0, '\\u200bland_area_in_square_km': 67.0, 'city_location': '(37.4419, -122.143)', 'country_location': '(37.09024, -95.712891)'}, {'_id': ObjectId('65fc951cecc75b1bd8d14ed8'), 'account_number': 35859, 'organization': 'City of Cleveland', 'city': 'Cleveland', 'country': 'USA', 'region': 'North America', 'c40': None, 'access': 'Public', 'reporting_year': 2017, 'accounting_year': '2015-01-01 - 2015-12-31', 'boundary': 'Administrative boundary of a local government', 'protocol': 'Global Protocol for Community-Scale Greenhouse Gas Emissions Inventories (GPC), (WRI, C40 and ICLEI)', 'protocol_column': 'This inventory was assembled through the collection and analysis of data with City of Cleveland staff as well as other city stakeholders such as utilities, regional coordinating agencies, local organizations and large emitters.The inventory was updated using the Global Protocol for Community Greenhouse Gas Emissions Inventories (GPC), (WRI, C40 and ICLEI). The U.S. Environmental Protection Agency (EPA) also referenced. Tools - Inventory Management System:Most of the calculations used to develop this inventory were carried out in an Information Management System (IMS), a Microsoft Excel-based spreadsheet that collects into one tool the original data, methodology applied, emission factors selected and a summary of GHG emission results. The IMS also provides charting, forecasting and benchmarking capabilities.', 'gases_included': None, 'total_emissions_metric_tonnes_co2e': 7688447.0, 'scopes_included_': 'Total Scope 1, Scope 2 and Waste Scope 3 (Total BASIC emissions)', 'total_scope_1_emissions_metric_tonnes_co2e': 8460598.0, 'total_scope_2_emissions_metric_tonnes_co2e': 3280096.0, 'comment': None, 'increase/decrease_from_last_year': 'Decreased', 'reason_for_increase/decrease_in_emissions': \"From the baseline inventory in 2010 to this year to this reporting year overall emissions have been reduced from 12.7 million tons CO2e to 12.2 million tons CO2e. The 2010 baseline inventory was re-evaluated to account for changes associated with the GPC inventory methodology as well as changes in source data methodologies if any.\\n\\nNote that the City reduced emissions from 2010 to 2015 in almost every category, except for industrial process emissions - primarily from the Arcelor Mittal steel plant, which increased by more than 500,000 MTCO2e due to increased economic activity and output. Arcelor's emisisons/ton continues to decrease from 2010 - 2015, however.\", 'population': 396815, 'population_year': 2010, 'gdp': 128448000000.0, 'gdp_currency': 'USD     US Dollar', 'gdp_year': 2015.0, 'gdp_source': 'U.S. Bureau of Economic Analysis; U.S. Bureau of Labor Statistics (Gross Regional Product for Cleveland-Elyria Metropolitan Service Area)', 'average_annual_temperature_in_celsius\\u200b': 10.4, '\\u200baverage_altitude_m': 199.0, '\\u200bland_area_in_square_km': 201.0, 'city_location': '(41.4993, -81.6944)', 'country_location': '(37.09024, -95.712891)'}]\n"
     ]
    }
   ],
   "source": [
    "# 7. Data Related to Cities' Community-wide Emissions for 2017\n",
    "\n",
    "community_wide_2017 = db.citiesCommunityWideEmissions.find({\"reporting_year\": 2017})\n",
    "print(list(community_wide_2017))"
   ]
  },
  {
   "cell_type": "code",
   "execution_count": 31,
   "id": "90f092e9-6068-4105-a9ab-329d9acb3fb8",
   "metadata": {},
   "outputs": [
    {
     "name": "stdout",
     "output_type": "stream",
     "text": [
      "[]\n"
     ]
    }
   ],
   "source": [
    "# First, find cities from the climate risk assessment collection\n",
    "climate_risk_cities = db.citiesClimateRiskAndVulnerability.distinct(\"city\")\n",
    "\n",
    "# Then, query the emissions reduction targets collection for those cities\n",
    "cities_with_both = db.citiesEmissionsReductionTargets2017.find({\"city\": {\"$in\": climate_risk_cities}})\n",
    "print(list(cities_with_both))\n"
   ]
  },
  {
   "cell_type": "code",
   "execution_count": 32,
   "id": "4be2cd08-d744-4f51-857f-f1e90950ee76",
   "metadata": {},
   "outputs": [
    {
     "name": "stdout",
     "output_type": "stream",
     "text": [
      "[]\n"
     ]
    }
   ],
   "source": [
    "# 9. Cities with Emissions Baseline Years but No Specific Reduction Targets\n",
    "\n",
    "cities_no_targets = db.citiesEmissionsReductionTargets2017.find({\"percentage_reduction_target\": {\"$exists\": False}, \"baseline_year\": {\"$exists\": True}}, {\"_id\": 0, \"city\": 1})\n",
    "print(list(cities_no_targets))"
   ]
  },
  {
   "cell_type": "code",
   "execution_count": 33,
   "id": "81c06bd6-9f94-4247-90c5-9ed438596d46",
   "metadata": {},
   "outputs": [
    {
     "name": "stdout",
     "output_type": "stream",
     "text": [
      "[]\n"
     ]
    }
   ],
   "source": [
    "# 10. Countries Most Represented in Climate Risk and Vulnerability Assessments\n",
    "\n",
    "countries_most_represented = db.citiesClimateRiskAndVulnerability.aggregate([\n",
    "    {\"$group\": {\"_id\": \"$country\", \"count\": {\"$sum\": 1}}},\n",
    "    {\"$sort\": {\"count\": -1}},\n",
    "    {\"$limit\": 5}\n",
    "])\n",
    "print(list(countries_most_represented))"
   ]
  },
  {
   "cell_type": "markdown",
   "id": "d4fed48e-6e8f-4960-8d92-aaef428b23ce",
   "metadata": {},
   "source": [
    "Task 6: Scaling Model"
   ]
  },
  {
   "cell_type": "markdown",
   "id": "7c99295d-37fe-42d2-9a66-b26ce0fe3df6",
   "metadata": {},
   "source": [
    "Connect to MongoDB Cluster\n",
    "This example shows how to connect to a MongoDB cluster from a Jupyter Notebook. Replace your_cluster_url with your actual MongoDB Atlas cluster URL or your sharded cluster connection string."
   ]
  },
  {
   "cell_type": "code",
   "execution_count": 1,
   "id": "e1d461fb-b3a7-44b8-82cc-b4f1a3e8269b",
   "metadata": {},
   "outputs": [],
   "source": [
    "from pymongo import MongoClient\n",
    "\n",
    "# Connect to your MongoDB cluster\n",
    "cluster_url = 'your_cluster_url'\n",
    "client = MongoClient(cluster_url)\n",
    "\n",
    "# Select your database\n",
    "db = client['OLA2_DB']\n",
    "\n",
    "# Select a collection\n",
    "collection = db['your_collection_name']\n"
   ]
  },
  {
   "cell_type": "markdown",
   "id": "6f872fa1-781a-4df5-97cb-554f98b7c919",
   "metadata": {},
   "source": [
    "Basic CRUD Operations Example"
   ]
  },
  {
   "cell_type": "code",
   "execution_count": null,
   "id": "21931fbf-aa2b-46e9-853f-50638b805fa9",
   "metadata": {},
   "outputs": [],
   "source": [
    "# Create or insert a document\n",
    "new_document = {\"name\": \"New City\", \"data\": \"Sample data\"}\n",
    "collection.insert_one(new_document)\n",
    "\n",
    "# Read or query documents\n",
    "for doc in collection.find({\"name\": \"New City\"}):\n",
    "    print(doc)\n",
    "\n",
    "# Update a document\n",
    "collection.update_one({\"name\": \"New City\"}, {\"$set\": {\"data\": \"Updated data\"}})\n",
    "\n",
    "# Delete a document\n",
    "collection.delete_one({\"name\": \"New City\"})\n"
   ]
  },
  {
   "cell_type": "markdown",
   "id": "f764eb40-0372-4c3e-804d-ea28f0d4b5b7",
   "metadata": {},
   "source": [
    "Simulate a Transaction\n",
    "MongoDB supports multi-document transactions. This example demonstrates how to use a session to perform transactions. Transactions are supported on replica sets (MongoDB 4.0+) and sharded clusters (MongoDB 4.2+)."
   ]
  },
  {
   "cell_type": "code",
   "execution_count": null,
   "id": "7635456d-a195-4346-a5d4-48426782f45e",
   "metadata": {},
   "outputs": [],
   "source": [
    "from pymongo import WriteConcern, ReadConcern, read_concern, read_preference\n",
    "from pymongo.read_preferences import ReadPreference\n",
    "\n",
    "# Start a session\n",
    "with client.start_session() as session:\n",
    "    session.start_transaction(read_concern=ReadConcern(\"local\"),\n",
    "                              write_concern=WriteConcern(\"majority\"),\n",
    "                              read_preference=ReadPreference.PRIMARY)\n",
    "    \n",
    "    try:\n",
    "        # Perform operations inside the transaction\n",
    "        collection.update_one({\"name\": \"City A\"}, {\"$set\": {\"data\": \"Updated in transaction\"}}, session=session)\n",
    "        collection.insert_one({\"name\": \"City B\", \"data\": \"Added in transaction\"}, session=session)\n",
    "        \n",
    "        # Commit the transaction\n",
    "        session.commit_transaction()\n",
    "    except Exception as e:\n",
    "        print(f\"Transaction aborted due to an error: {e}\")\n",
    "        session.abort_transaction()\n"
   ]
  },
  {
   "cell_type": "markdown",
   "id": "b9f44aa1-bf78-4990-8f2c-e4c53949c43e",
   "metadata": {},
   "source": [
    "Important Considerations\n",
    "Sharding and Replica Sets Setup: Setting up sharding and configuring replica sets involve operations that must be performed in the MongoDB environment, typically through the command line or MongoDB's cloud interface (e.g., MongoDB Atlas). The setup process includes choosing shard keys, initializing and configuring replica sets, and adding shards to the cluster, which cannot be executed directly from a Jupyter Notebook.\n",
    "\n",
    "Transactions: Ensure that your MongoDB deployment supports transactions. Use transactions for operations that need atomicity across multiple documents.\n",
    "\n",
    "These code examples provide a starting point for interacting with a MongoDB database from a Jupyter Notebook, simulating basic operations and transactions. For detailed setup and scaling operations like sharding and replica sets configuration, refer to MongoDB's official documentation and perform those operations in the appropriate environment."
   ]
  },
  {
   "cell_type": "markdown",
   "id": "cd1a16e2-2221-4fce-a2b7-2012a4c3f933",
   "metadata": {},
   "source": [
    "Setting Up MongoDB with Docker for Scaling - Step 1: Pull MongoDB Docker Image\r\n",
    "First, ensure you have Docker installed on your system. Then, pull the official MongoDB Docker image."
   ]
  },
  {
   "cell_type": "code",
   "execution_count": null,
   "id": "9f1c27c0-ba57-4a75-b07e-64ef34e2b835",
   "metadata": {},
   "outputs": [],
   "source": [
    "import subprocess\n",
    "\n",
    "def run_command(command):\n",
    "    process = subprocess.Popen(command, shell=True, stdout=subprocess.PIPE, stderr=subprocess.PIPE)\n",
    "    stdout, stderr = process.communicate()\n",
    "    if process.returncode == 0:\n",
    "        print(\"Success:\\n\", stdout.decode())\n",
    "    else:\n",
    "        print(\"Error:\\n\", stderr.decode())\n",
    "\n",
    "# Pull the MongoDB image\n",
    "run_command(\"docker pull mongo\")\n"
   ]
  },
  {
   "cell_type": "markdown",
   "id": "8f9108a7-6bd5-47d3-ac29-d69a258d99a9",
   "metadata": {},
   "source": [
    "Step 2: Start a Single MongoDB Instance\n",
    "This is a basic step before we get into replication and sharding."
   ]
  },
  {
   "cell_type": "code",
   "execution_count": null,
   "id": "b2dfc098-af34-4b2c-92e3-4a03c2f7121d",
   "metadata": {},
   "outputs": [],
   "source": [
    "# Run a MongoDB container\n",
    "run_command(\"docker run --name mongodb-single -d mongo\")\n"
   ]
  },
  {
   "cell_type": "markdown",
   "id": "c9a01fe1-609a-4bcc-9a05-35cb2b9b14f2",
   "metadata": {},
   "source": [
    "Step 3: Set Up a MongoDB Replica Set with Docker\n",
    "Setting up a replica set involves starting multiple MongoDB instances in Docker containers and configuring them to work as a replica set."
   ]
  },
  {
   "cell_type": "code",
   "execution_count": null,
   "id": "e9022339-6694-4b90-9e62-63e6a3c8158f",
   "metadata": {},
   "outputs": [],
   "source": [
    "# Start MongoDB instances\n",
    "run_command(\"docker run --name mongodb-replica1 -d mongo --replSet 'rs0'\")\n",
    "run_command(\"docker run --name mongodb-replica2 -d mongo --replSet 'rs0'\")\n",
    "run_command(\"docker run --name mongodb-replica3 -d mongo --replSet 'rs0'\")\n",
    "\n",
    "# Initiate the replica set\n",
    "# You might need to wait a few seconds before initiating the replica set to ensure all instances are ready\n",
    "initiate_rs = \"\"\"\n",
    "docker exec mongodb-replica1 mongo --eval \\\"\n",
    "rs.initiate({\n",
    "  _id: 'rs0',\n",
    "  members: [\n",
    "    { _id: 0, host: 'mongodb-replica1:27017' },\n",
    "    { _id: 1, host: 'mongodb-replica2:27017' },\n",
    "    { _id: 2, host: 'mongodb-replica3:27017' }\n",
    "  ]\n",
    "})\\\"\n",
    "\"\"\"\n",
    "run_command(initiate_rs)\n"
   ]
  },
  {
   "cell_type": "markdown",
   "id": "e48390d0-dcc3-40d5-90e5-7ffeec7c9dde",
   "metadata": {},
   "source": [
    "Docker Setup for MongoDB\n",
    "Dockerfile\n",
    "\n",
    "You might not need a custom Dockerfile for running a basic MongoDB instance since the official MongoDB Docker image can be used directly. However, if you need to customize your MongoDB environment (e.g., setting up initial scripts or configurations), you can create a Dockerfile like so:"
   ]
  },
  {
   "cell_type": "code",
   "execution_count": 3,
   "id": "4ba67f29-3ae3-4b8e-a4e2-c559a9b3f556",
   "metadata": {},
   "outputs": [
    {
     "ename": "SyntaxError",
     "evalue": "invalid syntax (194853889.py, line 1)",
     "output_type": "error",
     "traceback": [
      "\u001b[1;36m  Cell \u001b[1;32mIn[3], line 1\u001b[1;36m\u001b[0m\n\u001b[1;33m    FROM mongo:latest\u001b[0m\n\u001b[1;37m         ^\u001b[0m\n\u001b[1;31mSyntaxError\u001b[0m\u001b[1;31m:\u001b[0m invalid syntax\n"
     ]
    }
   ],
   "source": [
    "FROM mongo:latest\n",
    "ENV MONGO_INITDB_ROOT_USERNAME=mongoadmin\n",
    "ENV MONGO_INITDB_ROOT_PASSWORD=secret\n",
    "ENV MONGO_INITDB_DATABASE=OLA2_DB\n",
    "COPY setup.js /docker-entrypoint-initdb.d/\n"
   ]
  },
  {
   "cell_type": "markdown",
   "id": "2b9e6e68-77bc-4227-ad2c-090dfe56ba3c",
   "metadata": {},
   "source": [
    "This Dockerfile uses the official MongoDB image, sets environment variables for the root user, password, and the database name. The COPY command is optional and would be used to copy a setup script into the container (for instance, to create initial collections or indexes)."
   ]
  },
  {
   "cell_type": "markdown",
   "id": "4c3b9106-057d-49e2-bc0d-3a9d72f39370",
   "metadata": {},
   "source": [
    "Docker Compose\n",
    "\n",
    "For managing your MongoDB container, Docker Compose is a convenient tool. Here’s an example docker-compose.yml that defines a service for your MongoDB database:"
   ]
  },
  {
   "cell_type": "code",
   "execution_count": null,
   "id": "ad7010c6-4dbe-4fe3-9961-62999abdc999",
   "metadata": {},
   "outputs": [],
   "source": [
    "version: '3.8'\n",
    "services:\n",
    "  mongodb:\n",
    "    image: mongo:latest\n",
    "    container_name: mongodb_OLA2_DB\n",
    "    environment:\n",
    "      MONGO_INITDB_ROOT_USERNAME: mongoadmin\n",
    "      MONGO_INITDB_ROOT_PASSWORD: secret\n",
    "      MONGO_INITDB_DATABASE: OLA2_DB\n",
    "    ports:\n",
    "      - \"27017:27017\"\n",
    "    volumes:\n",
    "      - mongodb_data:/data/db\n",
    "      - ./setup.js:/docker-entrypoint-initdb.d/setup.js # Optional: For initial setup\n",
    "    networks:\n",
    "      - mongo_net\n",
    "networks:\n",
    "  mongo_net:\n",
    "    driver: bridge\n",
    "volumes:\n",
    "  mongodb_data:\n"
   ]
  },
  {
   "cell_type": "markdown",
   "id": "5f4b1b98-ada4-4a9f-a7c7-93d68fbad8c0",
   "metadata": {},
   "source": [
    "This Compose file creates a MongoDB service, sets the root username and password through environment variables, and maps the default MongoDB port to the same port on the host. It also defines a volume for persisting the database data and optionally includes a setup script."
   ]
  },
  {
   "cell_type": "markdown",
   "id": "f324916d-e596-4c29-b869-54e3b0095b2c",
   "metadata": {},
   "source": [
    "MongoDB Setup Script (Optional)\n",
    "\n",
    "If you need to perform initial setup tasks when the container starts (like creating collections or setting up users other than the root), you can create a JavaScript file (e.g., setup.js) and copy it into the container:"
   ]
  },
  {
   "cell_type": "code",
   "execution_count": null,
   "id": "18ed1be6-90e6-46c0-994c-cf38f49aa1c0",
   "metadata": {},
   "outputs": [],
   "source": [
    "db.createUser({\n",
    "  user: 'user',\n",
    "  pwd: 'password',\n",
    "  roles: [\n",
    "    {\n",
    "      role: 'readWrite',\n",
    "      db: 'OLA2_DB',\n",
    "    },\n",
    "  ],\n",
    "});\n"
   ]
  },
  {
   "cell_type": "markdown",
   "id": "82796323-5329-4572-ae34-ab8ddfcb6f3f",
   "metadata": {},
   "source": [
    "Running Your Setup\n",
    "Build and Start: If you have a custom Dockerfile, build your image first. Otherwise, you can directly start your services using Docker Compose:"
   ]
  },
  {
   "cell_type": "code",
   "execution_count": null,
   "id": "8abe453a-e243-4313-9d05-57e5c1c4ed79",
   "metadata": {},
   "outputs": [],
   "source": [
    "docker-compose up -d\n"
   ]
  },
  {
   "cell_type": "markdown",
   "id": "fbabc90b-0ea8-4cfd-90ee-68419ef6e775",
   "metadata": {},
   "source": [
    "Verify: Ensure MongoDB is running and accessible:"
   ]
  },
  {
   "cell_type": "code",
   "execution_count": null,
   "id": "1f9aafb1-8c4f-4407-8e38-e68e80dd6708",
   "metadata": {},
   "outputs": [],
   "source": [
    "docker ps\n"
   ]
  },
  {
   "cell_type": "markdown",
   "id": "94a88683-676a-46f7-a642-19b8b4aa0f73",
   "metadata": {},
   "source": [
    "Connect: Connect to your MongoDB instance using the MongoDB shell or a GUI tool like MongoDB Compass with the credentials specified.\n",
    "\n",
    "This setup provides a basic environment for your MongoDB database in Docker, suitable for development and testing. For production environments, especially when scaling and high availability are considerations, you would look into more complex configurations involving replication, sharding, and possibly Kubernetes for orchestration."
   ]
  },
  {
   "cell_type": "markdown",
   "id": "fcae0741-747e-4541-994f-4641baa6d805",
   "metadata": {},
   "source": [
    "Task 7: Validation and Testing"
   ]
  },
  {
   "cell_type": "markdown",
   "id": "70ecf354-b08d-415a-85b0-689bd9e99f9a",
   "metadata": {},
   "source": [
    "Setup and Schema Validation\n",
    "First, let's create the collection with the specified validation schema:\n",
    "To validate and test your MongoDB setup according to the specified requirements, we'll create a schema validation rule for your EmissionsReductionTargets collection, demonstrate CRUD operations, and enforce the data types and conditions for each field as described. The following examples assume you're working with MongoDB from a Jupyter Notebook using the pymongo library."
   ]
  },
  {
   "cell_type": "code",
   "execution_count": 5,
   "id": "8c81a1a9-adbc-4358-867d-2a739eb4da82",
   "metadata": {},
   "outputs": [
    {
     "name": "stdout",
     "output_type": "stream",
     "text": [
      "Validation rules applied to existing collection 'citiesEmissionsReductionTargets2017'.\n"
     ]
    }
   ],
   "source": [
    "collection_name = 'citiesEmissionsReductionTargets2017'\n",
    "\n",
    "# Define the schema validation rules\n",
    "validator = {\n",
    "    # ... (your $jsonSchema definition)\n",
    "}\n",
    "\n",
    "# Apply the validation rules to the existing collection\n",
    "try:\n",
    "    db.command('collMod', collection_name, validator=validator, validationLevel='moderate')\n",
    "    print(f\"Validation rules applied to existing collection '{collection_name}'.\")\n",
    "except Exception as e:\n",
    "    print(f\"An error occurred: {e}\")\n"
   ]
  },
  {
   "cell_type": "code",
   "execution_count": 7,
   "id": "f85aba84-1bed-48e1-a853-b60f41ebed66",
   "metadata": {},
   "outputs": [
    {
     "name": "stdout",
     "output_type": "stream",
     "text": [
      "Schema validation rules applied successfully.\n"
     ]
    }
   ],
   "source": [
    "from pymongo import MongoClient\n",
    "from bson.json_util import dumps\n",
    "\n",
    "# Connect to MongoDB\n",
    "client = MongoClient('mongodb://localhost:27017/')\n",
    "db = client['OLA2_DB']\n",
    "\n",
    "# Define the schema validation rules\n",
    "validator = {\n",
    "    '$jsonSchema': {\n",
    "        'bsonType': 'object',\n",
    "        'required': ['organisation', 'country', 'city', 'sector', 'baseline_year'],\n",
    "        'properties': {\n",
    "            'organisation': {\n",
    "                'bsonType': 'string',\n",
    "                'description': 'must be a string and is required'\n",
    "            },\n",
    "            'country': {\n",
    "                'bsonType': 'string',\n",
    "                'description': 'must be a string and is required'\n",
    "            },\n",
    "            'city': {\n",
    "                'bsonType': 'string',\n",
    "                'description': 'must be a string and is required'\n",
    "            },\n",
    "            'sector': {\n",
    "                'bsonType': 'string',\n",
    "                'description': 'must be a string and is required'\n",
    "            },\n",
    "            'baseline_year': {\n",
    "                'bsonType': 'string',\n",
    "                'description': 'must be a string and is required'\n",
    "            },\n",
    "            'account_no': {\n",
    "                'bsonType': 'int',\n",
    "                'description': 'must be an integer and is optional'\n",
    "            },\n",
    "            'reporting_year': {\n",
    "                'bsonType': 'int',\n",
    "                'description': 'must be an integer and is optional'\n",
    "            },\n",
    "            'baseline_emissions': {\n",
    "                'bsonType': 'double',\n",
    "                'description': 'must be a double and is optional'\n",
    "            },\n",
    "            'percentage_reduction_target': {\n",
    "                'bsonType': 'double',\n",
    "                'description': 'must be a double and is optional'\n",
    "            },\n",
    "            'target_date': {\n",
    "                'bsonType': 'int',\n",
    "                'description': 'must be an integer and is optional'\n",
    "            },\n",
    "            'c40': {\n",
    "                'bsonType': 'string',\n",
    "                'description': 'optional'\n",
    "            },\n",
    "            'target_boundary': {\n",
    "                'bsonType': 'string',\n",
    "                'description': 'optional'\n",
    "            },\n",
    "            'comment': {\n",
    "                'bsonType': 'string',\n",
    "                'description': 'optional'\n",
    "            },\n",
    "            'city_location': {\n",
    "                'bsonType': 'string',\n",
    "                'description': 'optional'\n",
    "            },\n",
    "            'country_location': {\n",
    "                'bsonType': 'string',\n",
    "                'description': 'optional'\n",
    "            },\n",
    "        }\n",
    "    }\n",
    "}\n",
    "\n",
    "# Apply the validation rules to the collection\n",
    "db.command('collMod', 'citiesEmissionsReductionTargets2017', validator=validator, validationLevel='moderate')\n",
    "\n",
    "print(\"Schema validation rules applied successfully.\")\n"
   ]
  },
  {
   "cell_type": "markdown",
   "id": "25126421-fa50-426a-815f-db0858ced584",
   "metadata": {},
   "source": [
    "CRUD Operations\n",
    "Create (Insert)\n",
    "\n",
    "Insert a new record into the EmissionsReductionTargets collection:"
   ]
  },
  {
   "cell_type": "code",
   "execution_count": 8,
   "id": "ae50105b-1258-4b1a-98a6-6d465d01405f",
   "metadata": {},
   "outputs": [
    {
     "name": "stdout",
     "output_type": "stream",
     "text": [
      "Inserted record with id 65fdc579da0bac2deaa880a7\n"
     ]
    }
   ],
   "source": [
    "record = {\n",
    "    \"organisation\": \"Test City Council\",\n",
    "    \"country\": \"Testland\",\n",
    "    \"city\": \"Test City\",\n",
    "    \"sector\": \"Transportation\",\n",
    "    \"baseline_year\": \"2010\",\n",
    "    \"account_no\": 123456,\n",
    "    \"reporting_year\": 2017,\n",
    "    \"baseline_emissions\": 50000.0,\n",
    "    \"percentage_reduction_target\": 25.0,\n",
    "    \"target_date\": 2030\n",
    "}\n",
    "\n",
    "result = db.citiesEmissionsReductionTargets2017.insert_one(record)\n",
    "print(f\"Inserted record with id {result.inserted_id}\")\n"
   ]
  },
  {
   "cell_type": "markdown",
   "id": "812f57ab-c971-48b1-9575-695dc78d8a75",
   "metadata": {},
   "source": [
    "Read (Query)\n",
    "Query records from the citiesEmissionsReductionTargets2017\r\n",
    "\r\n",
    "\r\n",
    " collection:"
   ]
  },
  {
   "cell_type": "code",
   "execution_count": 12,
   "id": "008d96b6-f6b3-462e-9002-34bf32fee1ac",
   "metadata": {},
   "outputs": [
    {
     "name": "stdout",
     "output_type": "stream",
     "text": [
      "{\n",
      "  \"_id\": {\n",
      "    \"$oid\": \"65fdc579da0bac2deaa880a7\"\n",
      "  },\n",
      "  \"organisation\": \"Test City Council\",\n",
      "  \"country\": \"Testland\",\n",
      "  \"city\": \"Test City\",\n",
      "  \"sector\": \"Transportation\",\n",
      "  \"baseline_year\": \"2010\",\n",
      "  \"account_no\": 123456,\n",
      "  \"reporting_year\": 2017,\n",
      "  \"baseline_emissions\": 50000.0,\n",
      "  \"percentage_reduction_target\": 25.0,\n",
      "  \"target_date\": 2030\n",
      "}\n"
     ]
    }
   ],
   "source": [
    "from bson.objectid import ObjectId\n",
    "from bson.json_util import dumps\n",
    "\n",
    "collection = db.citiesEmissionsReductionTargets2017\n",
    "\n",
    "try:\n",
    "    document_id = ObjectId('65fdc579da0bac2deaa880a7')\n",
    "    doc = collection.find_one({'_id': document_id})\n",
    "    print(dumps(doc, indent=2))\n",
    "except Exception as e:\n",
    "    print(f\"An error occurred: {e}\")\n"
   ]
  },
  {
   "cell_type": "markdown",
   "id": "06e3ca44-91b3-43e5-a011-67941e140ae5",
   "metadata": {},
   "source": [
    "Update\n",
    "Update records in the collection:"
   ]
  },
  {
   "cell_type": "code",
   "execution_count": 13,
   "id": "d4a02dfc-86e0-4f2d-8c5c-4faef80b21dd",
   "metadata": {},
   "outputs": [
    {
     "name": "stdout",
     "output_type": "stream",
     "text": [
      "Documents updated: 1\n"
     ]
    }
   ],
   "source": [
    "from bson.objectid import ObjectId\n",
    "\n",
    "collection = db.citiesEmissionsReductionTargets2017\n",
    "\n",
    "document_id = ObjectId('65fdc579da0bac2deaa880a7')\n",
    "\n",
    "try:\n",
    "    update_result = collection.update_one(\n",
    "        {\"_id\": document_id},\n",
    "        {\"$set\": {\"percentage_reduction_target\": 30.0}}\n",
    "    )\n",
    "    print(f\"Documents updated: {update_result.modified_count}\")\n",
    "except Exception as e:\n",
    "    print(f\"An error occurred: {e}\")\n"
   ]
  },
  {
   "cell_type": "markdown",
   "id": "09349fac-2cb9-4a91-9d8d-452bc7d21fe8",
   "metadata": {},
   "source": [
    "Delete\n",
    "Delete a record from the collection:"
   ]
  },
  {
   "cell_type": "code",
   "execution_count": null,
   "id": "bed74897-294b-4ca5-8959-031c19837970",
   "metadata": {},
   "outputs": [],
   "source": [
    "from bson.objectid import ObjectId\n",
    "\n",
    "collection = db.citiesEmissionsReductionTargets2017\n",
    "\n",
    "#ObjectId string you want to delete\n",
    "document_id = ObjectId('65fdc579da0bac2deaa880a7')\n",
    "\n",
    "# Delete the document with the specified ObjectId\n",
    "delete_result = collection.delete_one({'_id': document_id})\n",
    "print(f\"Documents deleted: {delete_result.deleted_count}\")\n"
   ]
  },
  {
   "cell_type": "markdown",
   "id": "5dc69977-0f19-486a-91ac-c969f2bccbd1",
   "metadata": {},
   "source": [
    "Testing the Validation\n",
    "To test the schema validation, try inserting a record that does not conform to the schema, such as missing a required field or having a wrong data type:"
   ]
  },
  {
   "cell_type": "code",
   "execution_count": 11,
   "id": "82ddb1e1-f3f7-4d4d-b1af-2fe109faefe0",
   "metadata": {},
   "outputs": [
    {
     "name": "stdout",
     "output_type": "stream",
     "text": [
      "Error: Document failed validation, full error: {'index': 0, 'code': 121, 'errmsg': 'Document failed validation', 'errInfo': {'failingDocumentId': ObjectId('65fdc66cda0bac2deaa880a8'), 'details': {'operatorName': '$jsonSchema', 'schemaRulesNotSatisfied': [{'operatorName': 'required', 'specifiedAs': {'required': ['organisation', 'country', 'city', 'sector', 'baseline_year']}, 'missingProperties': ['baseline_year', 'city', 'country', 'sector']}]}}}\n"
     ]
    }
   ],
   "source": [
    "try:\n",
    "    db.citiesEmissionsReductionTargets2017.insert_one({\"organisation\": \"Invalid Record\"})\n",
    "except Exception as e:\n",
    "    print(f\"Error: {e}\")"
   ]
  },
  {
   "cell_type": "markdown",
   "id": "1425bcab-691c-4fa4-a2fa-b0bdb6896175",
   "metadata": {},
   "source": [
    "Task 8: Performance Evaluation"
   ]
  },
  {
   "cell_type": "markdown",
   "id": "2b6927b5-964e-41d5-8d98-fe22e59c4dab",
   "metadata": {},
   "source": [
    "To evaluate the performance of queries in MongoDB, you can use the explain method. This method provides information about how MongoDB executes a query, including whether indexes were used, the number of documents scanned, and various timing details.\n",
    "\n",
    "Below is an example of how to use explain in a Jupyter Notebook for a simple query and how to create indexes based on the findings:\n",
    "\n",
    "Using explain to Evaluate a Query"
   ]
  },
  {
   "cell_type": "code",
   "execution_count": 14,
   "id": "62e755f4-88c3-4a26-93c4-98418febfada",
   "metadata": {},
   "outputs": [
    {
     "name": "stdout",
     "output_type": "stream",
     "text": [
      "{\n",
      "  \"explainVersion\": \"1\",\n",
      "  \"queryPlanner\": {\n",
      "    \"namespace\": \"OLA2_DB.citiesEmissionsReductionTargets2017\",\n",
      "    \"indexFilterSet\": false,\n",
      "    \"parsedQuery\": {\n",
      "      \"country\": {\n",
      "        \"$eq\": \"Denmark\"\n",
      "      }\n",
      "    },\n",
      "    \"queryHash\": \"B752FA80\",\n",
      "    \"planCacheKey\": \"B752FA80\",\n",
      "    \"maxIndexedOrSolutionsReached\": false,\n",
      "    \"maxIndexedAndSolutionsReached\": false,\n",
      "    \"maxScansToExplodeReached\": false,\n",
      "    \"winningPlan\": {\n",
      "      \"stage\": \"COLLSCAN\",\n",
      "      \"filter\": {\n",
      "        \"country\": {\n",
      "          \"$eq\": \"Denmark\"\n",
      "        }\n",
      "      },\n",
      "      \"direction\": \"forward\"\n",
      "    },\n",
      "    \"rejectedPlans\": []\n",
      "  },\n",
      "  \"executionStats\": {\n",
      "    \"executionSuccess\": true,\n",
      "    \"nReturned\": 21,\n",
      "    \"executionTimeMillis\": 3,\n",
      "    \"totalKeysExamined\": 0,\n",
      "    \"totalDocsExamined\": 407,\n",
      "    \"executionStages\": {\n",
      "      \"stage\": \"COLLSCAN\",\n",
      "      \"filter\": {\n",
      "        \"country\": {\n",
      "          \"$eq\": \"Denmark\"\n",
      "        }\n",
      "      },\n",
      "      \"nReturned\": 21,\n",
      "      \"executionTimeMillisEstimate\": 2,\n",
      "      \"works\": 408,\n",
      "      \"advanced\": 21,\n",
      "      \"needTime\": 386,\n",
      "      \"needYield\": 0,\n",
      "      \"saveState\": 0,\n",
      "      \"restoreState\": 0,\n",
      "      \"isEOF\": 1,\n",
      "      \"direction\": \"forward\",\n",
      "      \"docsExamined\": 407\n",
      "    },\n",
      "    \"allPlansExecution\": []\n",
      "  },\n",
      "  \"command\": {\n",
      "    \"find\": \"citiesEmissionsReductionTargets2017\",\n",
      "    \"filter\": {\n",
      "      \"country\": \"Denmark\"\n",
      "    },\n",
      "    \"$db\": \"OLA2_DB\"\n",
      "  },\n",
      "  \"serverInfo\": {\n",
      "    \"host\": \"Jeffrey\",\n",
      "    \"port\": 27017,\n",
      "    \"version\": \"7.0.6\",\n",
      "    \"gitVersion\": \"66cdc1f28172cb33ff68263050d73d4ade73b9a4\"\n",
      "  },\n",
      "  \"serverParameters\": {\n",
      "    \"internalQueryFacetBufferSizeBytes\": 104857600,\n",
      "    \"internalQueryFacetMaxOutputDocSizeBytes\": 104857600,\n",
      "    \"internalLookupStageIntermediateDocumentMaxSizeBytes\": 104857600,\n",
      "    \"internalDocumentSourceGroupMaxMemoryBytes\": 104857600,\n",
      "    \"internalQueryMaxBlockingSortMemoryUsageBytes\": 104857600,\n",
      "    \"internalQueryProhibitBlockingMergeOnMongoS\": 0,\n",
      "    \"internalQueryMaxAddToSetBytes\": 104857600,\n",
      "    \"internalDocumentSourceSetWindowFieldsMaxMemoryBytes\": 104857600,\n",
      "    \"internalQueryFrameworkControl\": \"trySbeRestricted\"\n",
      "  },\n",
      "  \"ok\": 1.0\n",
      "}\n"
     ]
    }
   ],
   "source": [
    "from bson.json_util import dumps\n",
    "\n",
    "# Sample query with explain\n",
    "query = {\"country\": \"Denmark\"}\n",
    "explanation = db.citiesEmissionsReductionTargets2017.find(query).explain()\n",
    "print(dumps(explanation, indent=2))\n"
   ]
  },
  {
   "cell_type": "markdown",
   "id": "2611a3d2-9613-4aef-83b4-c26fb72ed2eb",
   "metadata": {},
   "source": [
    "Creating an Index\n",
    "If you find that your queries are not using an index, or if the explain output shows that the query is scanning a large number of documents, you might want to create an index to improve performance. Here's an example of how to create an index on the country field:"
   ]
  },
  {
   "cell_type": "code",
   "execution_count": 15,
   "id": "dd15d4b3-ee7b-43ab-8d90-209bcc273dd2",
   "metadata": {},
   "outputs": [
    {
     "name": "stdout",
     "output_type": "stream",
     "text": [
      "Index created on 'country' field.\n"
     ]
    }
   ],
   "source": [
    "# Create an index on the 'country' field to improve query performance\n",
    "db.citiesEmissionsReductionTargets2017.create_index([(\"country\", 1)])\n",
    "print(\"Index created on 'country' field.\")\n"
   ]
  },
  {
   "cell_type": "markdown",
   "id": "5a1f3e9b-ae73-454f-aec2-45df30b4a293",
   "metadata": {},
   "source": [
    "Monitoring Query Execution Times\n",
    "You can measure how long a query takes to execute by using Python's time module:"
   ]
  },
  {
   "cell_type": "code",
   "execution_count": 16,
   "id": "7a699dd9-de6c-43e8-867c-8842ac0136a3",
   "metadata": {},
   "outputs": [
    {
     "name": "stdout",
     "output_type": "stream",
     "text": [
      "Query executed in 0.014147043228149414 seconds\n"
     ]
    }
   ],
   "source": [
    "import time\n",
    "\n",
    "# Measure the execution time of a query\n",
    "start_time = time.time()\n",
    "list(db.citiesEmissionsReductionTargets2017.find(query))\n",
    "end_time = time.time()\n",
    "\n",
    "print(f\"Query executed in {end_time - start_time} seconds\")\n"
   ]
  },
  {
   "cell_type": "markdown",
   "id": "d6b1390f-5721-4d6e-b940-742eca6fc091",
   "metadata": {},
   "source": [
    "Evaluating Index Usage\n",
    "After creating an index, you can re-run the explain command to see if the query now uses the index:"
   ]
  },
  {
   "cell_type": "code",
   "execution_count": 17,
   "id": "e2c24b9e-9a40-405c-9c01-bc95429e5f15",
   "metadata": {},
   "outputs": [
    {
     "name": "stdout",
     "output_type": "stream",
     "text": [
      "{\n",
      "  \"explainVersion\": \"1\",\n",
      "  \"queryPlanner\": {\n",
      "    \"namespace\": \"OLA2_DB.citiesEmissionsReductionTargets2017\",\n",
      "    \"indexFilterSet\": false,\n",
      "    \"parsedQuery\": {\n",
      "      \"country\": {\n",
      "        \"$eq\": \"Denmark\"\n",
      "      }\n",
      "    },\n",
      "    \"queryHash\": \"B752FA80\",\n",
      "    \"planCacheKey\": \"AD016A77\",\n",
      "    \"maxIndexedOrSolutionsReached\": false,\n",
      "    \"maxIndexedAndSolutionsReached\": false,\n",
      "    \"maxScansToExplodeReached\": false,\n",
      "    \"winningPlan\": {\n",
      "      \"stage\": \"FETCH\",\n",
      "      \"inputStage\": {\n",
      "        \"stage\": \"IXSCAN\",\n",
      "        \"keyPattern\": {\n",
      "          \"country\": 1\n",
      "        },\n",
      "        \"indexName\": \"country_1\",\n",
      "        \"isMultiKey\": false,\n",
      "        \"multiKeyPaths\": {\n",
      "          \"country\": []\n",
      "        },\n",
      "        \"isUnique\": false,\n",
      "        \"isSparse\": false,\n",
      "        \"isPartial\": false,\n",
      "        \"indexVersion\": 2,\n",
      "        \"direction\": \"forward\",\n",
      "        \"indexBounds\": {\n",
      "          \"country\": [\n",
      "            \"[\\\"Denmark\\\", \\\"Denmark\\\"]\"\n",
      "          ]\n",
      "        }\n",
      "      }\n",
      "    },\n",
      "    \"rejectedPlans\": []\n",
      "  },\n",
      "  \"executionStats\": {\n",
      "    \"executionSuccess\": true,\n",
      "    \"nReturned\": 21,\n",
      "    \"executionTimeMillis\": 0,\n",
      "    \"totalKeysExamined\": 21,\n",
      "    \"totalDocsExamined\": 21,\n",
      "    \"executionStages\": {\n",
      "      \"stage\": \"FETCH\",\n",
      "      \"nReturned\": 21,\n",
      "      \"executionTimeMillisEstimate\": 0,\n",
      "      \"works\": 22,\n",
      "      \"advanced\": 21,\n",
      "      \"needTime\": 0,\n",
      "      \"needYield\": 0,\n",
      "      \"saveState\": 0,\n",
      "      \"restoreState\": 0,\n",
      "      \"isEOF\": 1,\n",
      "      \"docsExamined\": 21,\n",
      "      \"alreadyHasObj\": 0,\n",
      "      \"inputStage\": {\n",
      "        \"stage\": \"IXSCAN\",\n",
      "        \"nReturned\": 21,\n",
      "        \"executionTimeMillisEstimate\": 0,\n",
      "        \"works\": 22,\n",
      "        \"advanced\": 21,\n",
      "        \"needTime\": 0,\n",
      "        \"needYield\": 0,\n",
      "        \"saveState\": 0,\n",
      "        \"restoreState\": 0,\n",
      "        \"isEOF\": 1,\n",
      "        \"keyPattern\": {\n",
      "          \"country\": 1\n",
      "        },\n",
      "        \"indexName\": \"country_1\",\n",
      "        \"isMultiKey\": false,\n",
      "        \"multiKeyPaths\": {\n",
      "          \"country\": []\n",
      "        },\n",
      "        \"isUnique\": false,\n",
      "        \"isSparse\": false,\n",
      "        \"isPartial\": false,\n",
      "        \"indexVersion\": 2,\n",
      "        \"direction\": \"forward\",\n",
      "        \"indexBounds\": {\n",
      "          \"country\": [\n",
      "            \"[\\\"Denmark\\\", \\\"Denmark\\\"]\"\n",
      "          ]\n",
      "        },\n",
      "        \"keysExamined\": 21,\n",
      "        \"seeks\": 1,\n",
      "        \"dupsTested\": 0,\n",
      "        \"dupsDropped\": 0\n",
      "      }\n",
      "    },\n",
      "    \"allPlansExecution\": []\n",
      "  },\n",
      "  \"command\": {\n",
      "    \"find\": \"citiesEmissionsReductionTargets2017\",\n",
      "    \"filter\": {\n",
      "      \"country\": \"Denmark\"\n",
      "    },\n",
      "    \"$db\": \"OLA2_DB\"\n",
      "  },\n",
      "  \"serverInfo\": {\n",
      "    \"host\": \"Jeffrey\",\n",
      "    \"port\": 27017,\n",
      "    \"version\": \"7.0.6\",\n",
      "    \"gitVersion\": \"66cdc1f28172cb33ff68263050d73d4ade73b9a4\"\n",
      "  },\n",
      "  \"serverParameters\": {\n",
      "    \"internalQueryFacetBufferSizeBytes\": 104857600,\n",
      "    \"internalQueryFacetMaxOutputDocSizeBytes\": 104857600,\n",
      "    \"internalLookupStageIntermediateDocumentMaxSizeBytes\": 104857600,\n",
      "    \"internalDocumentSourceGroupMaxMemoryBytes\": 104857600,\n",
      "    \"internalQueryMaxBlockingSortMemoryUsageBytes\": 104857600,\n",
      "    \"internalQueryProhibitBlockingMergeOnMongoS\": 0,\n",
      "    \"internalQueryMaxAddToSetBytes\": 104857600,\n",
      "    \"internalDocumentSourceSetWindowFieldsMaxMemoryBytes\": 104857600,\n",
      "    \"internalQueryFrameworkControl\": \"trySbeRestricted\"\n",
      "  },\n",
      "  \"ok\": 1.0\n",
      "}\n"
     ]
    }
   ],
   "source": [
    "# Evaluate the same query again with explain to check if the index is used\n",
    "explanation_after_indexing = db.citiesEmissionsReductionTargets2017.find(query).explain()\n",
    "print(dumps(explanation_after_indexing, indent=2))\n"
   ]
  },
  {
   "cell_type": "markdown",
   "id": "727db3e5-8a64-4be9-bea1-69aa1bdfc19e",
   "metadata": {},
   "source": [
    "Note\n",
    "The .explain() method in MongoDB can have different verbosity levels: queryPlanner, executionStats, and allPlansExecution. The default is queryPlanner, which provides information on the chosen plan but does not include execution statistics.\n",
    "Creating indexes can slow down write operations because the indexes also need to be updated. Therefore, you should create indexes thoughtfully, based on your most common and performance-critical query patterns.\n",
    "It is important to regularly monitor your MongoDB performance as your application's usage patterns may evolve over time, possibly necessitating new indexes or adjustments to existing ones."
   ]
  },
  {
   "cell_type": "markdown",
   "id": "311244d5-3af7-4dcd-b129-d9f94765d567",
   "metadata": {},
   "source": [
    "Task 9: Documentation"
   ]
  },
  {
   "cell_type": "markdown",
   "id": "8d0190fe-b7e8-4487-99a4-c13815f8e494",
   "metadata": {},
   "source": [
    "Task 10: Conclusions and Recommendations"
   ]
  },
  {
   "cell_type": "markdown",
   "id": "91f45cd7-8a4b-4989-b10b-6ece25fa7107",
   "metadata": {},
   "source": [
    "Conclusions:\n",
    "Database Schema: The database OLA2_DB is structured into various collections such as citiesEmissionsReductionTargets2017, citiesCommunityWideEmissions, and citiesClimateRiskAndVulnerabilityAssessments2023, each tailored to store specific information relating to cities' emissions data, community-wide emissions data, and climate risk assessments respectively. The schema for each collection has been designed with required fields like organisation, country, city, and sector, ensuring that data stored is consistent and reliable.\n",
    "\n",
    "Scalability Strategy: The initial setup using Docker containers facilitates easy scaling and deployment. For horizontal scaling, sharding and replica sets were discussed as a strategy to distribute data across multiple servers, allowing the database to grow beyond the limits of a single server and providing high availability.\n",
    "\n",
    "Performance Evaluation: Using the explain method for queries provided insights into the execution plans and helped in understanding the need for indexes. Indexes were created based on frequent query patterns, such as on the country field, which helped improve query performance significantly.\n",
    "\n",
    "Recommendations:\n",
    "Indexing Strategy Improvements:\n",
    "\n",
    "Continuously monitor slow queries using MongoDB's built-in tools or third-party monitoring solutions and adjust indexing strategies accordingly.\n",
    "Consider implementing text indexes if search capabilities become a requirement.\n",
    "Evaluate the use of compound indexes for common multi-field queries to reduce the number of scanned documents and improve response times.\n",
    "Schema Optimization:\n",
    "\n",
    "Regularly review the schema design to ensure it aligns with the current and future needs of the application. As the application evolves, so might the access patterns, which could necessitate schema changes.\n",
    "Consider embedding versus referencing based on query patterns and update frequency. If many-to-many relationships become more complex, it might warrant a review of the schema to avoid extensive $lookup operations.\n",
    "Query Pattern Efficiency:\n",
    "\n",
    "Audit application code to ensure it uses the most efficient query patterns possible. Utilize projection to return only the necessary fields from documents, reducing network overhead.\n",
    "Implement pagination for large datasets to improve user experience and reduce the load on the database.\n",
    "Scaling Out:\n",
    "\n",
    "As the dataset grows, monitor the database's performance and storage. If there are signs of reaching the capacity limits of the current setup, consider sharding to distribute the data load across multiple machines.\n",
    "For high availability and disaster recovery purposes, ensure that the replica sets are geographically distributed if the application has a global user base.\n",
    "Backup and Recovery Plan:\n",
    "\n",
    "Ensure that there is a solid backup and recovery plan in place. Regularly test backups to ensure they can be restored successfully.\n",
    "Security Considerations:\n",
    "\n",
    "Review and enhance security measures regularly. This includes securing database access, encrypting sensitive data, and keeping the MongoDB server and all dependencies up to date with the latest security patches.\n",
    "Documentation and Knowledge Sharing:\n",
    "\n",
    "Keep the database documentation up to date and make it readily available to the team. Encourage knowledge sharing sessions to ensure the team is aware of the database structure, querying techniques, and performance considerations.\n",
    "These conclusions and recommendations form a strategic guide for maintaining and improving the OLA2_DB MongoDB database as it scales with your application's growth."
   ]
  }
 ],
 "metadata": {
  "kernelspec": {
   "display_name": "Python 3 (ipykernel)",
   "language": "python",
   "name": "python3"
  },
  "language_info": {
   "codemirror_mode": {
    "name": "ipython",
    "version": 3
   },
   "file_extension": ".py",
   "mimetype": "text/x-python",
   "name": "python",
   "nbconvert_exporter": "python",
   "pygments_lexer": "ipython3",
   "version": "3.12.1"
  }
 },
 "nbformat": 4,
 "nbformat_minor": 5
}
